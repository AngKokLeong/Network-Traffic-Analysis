{
 "cells": [
  {
   "cell_type": "markdown",
   "metadata": {},
   "source": [
    "# Network Traffic Classification using Machine Learning Techniques"
   ]
  },
  {
   "cell_type": "markdown",
   "metadata": {},
   "source": [
    "# Overview\n",
    "\n",
    "Develop classification models using Python programming to analyze a network-related dataset. \n",
    "\n",
    "The primary goal is to explore the dataset, preprocess it, create and evaluate different classification models, and report your findings. \n",
    "\n",
    "This assignment will enhance your understanding of machine learning techniques, data preprocessing, and model evaluation while applying them to a practical problem related to network security."
   ]
  },
  {
   "cell_type": "markdown",
   "metadata": {},
   "source": [
    "# Dataset"
   ]
  },
  {
   "cell_type": "markdown",
   "metadata": {},
   "source": [
    "This is a real-world dataset created by collecting network data from Universidad Del Cauca, Popayn, Colombia over six days (April 26, 27, 28 and May 9, 11 and 15) of 2017 using multiple packet capturing tools and data extracting tools. \n",
    "\n",
    "This dataset is consisting of 3,577,296 instances and 87 features and originally designed for application classification. Each row represents a traffic flow from a source to a destination and each column represents features of the traffic data.\n",
    "\n",
    "This dataset is downloaded from Kaggle \"IP Network Traffic Flows, Labeled with 75 Apps.\""
   ]
  },
  {
   "cell_type": "markdown",
   "metadata": {},
   "source": [
    "# Purpose"
   ]
  },
  {
   "cell_type": "markdown",
   "metadata": {},
   "source": [
    "This test attempts to test on the dataset to determine which application does the configuration belongs to based on the prediction.\n",
    "\n",
    "The other analysis would be to use KDD'99 dataset to provide a label on this dataset to classify if there is any potential network intrusion."
   ]
  },
  {
   "cell_type": "markdown",
   "metadata": {},
   "source": [
    "# Literature Review"
   ]
  },
  {
   "cell_type": "markdown",
   "metadata": {},
   "source": []
  },
  {
   "cell_type": "markdown",
   "metadata": {},
   "source": [
    "# Assumption Made"
   ]
  },
  {
   "cell_type": "markdown",
   "metadata": {},
   "source": []
  },
  {
   "cell_type": "markdown",
   "metadata": {},
   "source": [
    "# Origin of CICFlowMeter"
   ]
  },
  {
   "cell_type": "markdown",
   "metadata": {},
   "source": [
    "https://www.unb.ca/cic/research/applications.html#CICFlowMeter\n",
    "\n",
    "https://www.kaggle.com/datasets/jsrojas/ip-network-traffic-flows-labeled-with-87-apps \n",
    "\n",
    "https://www.ntop.org/products/traffic-analysis/ntop/"
   ]
  },
  {
   "cell_type": "markdown",
   "metadata": {},
   "source": [
    "# Environment Setup"
   ]
  },
  {
   "cell_type": "code",
   "execution_count": 1,
   "metadata": {},
   "outputs": [],
   "source": [
    "#%pip install --upgrade pip\n",
    "#%pip install setuptools -U\n",
    "#%pip install pandas -U\n",
    "#%pip install -U scikit-learn\n",
    "#%pip install kagglehub -U\n",
    "\n",
    "#%pip install matplotlib -U\n",
    "#%pip install seaborn -U"
   ]
  },
  {
   "cell_type": "code",
   "execution_count": 2,
   "metadata": {},
   "outputs": [],
   "source": [
    "#%pip install ipywidgets -U"
   ]
  },
  {
   "cell_type": "code",
   "execution_count": 3,
   "metadata": {},
   "outputs": [],
   "source": [
    "#%pip install fireducks -U"
   ]
  },
  {
   "cell_type": "code",
   "execution_count": 4,
   "metadata": {},
   "outputs": [],
   "source": [
    "import kagglehub\n",
    "import pandas\n",
    "import numpy\n",
    "\n",
    "import matplotlib\n",
    "import seaborn\n",
    "\n",
    "%load_ext fireducks.pandas\n",
    "import pandas"
   ]
  },
  {
   "cell_type": "markdown",
   "metadata": {},
   "source": [
    "# Data Retrieval"
   ]
  },
  {
   "cell_type": "markdown",
   "metadata": {},
   "source": [
    "Retrieving data using kagglehub package to simplify the data retrieval process"
   ]
  },
  {
   "cell_type": "code",
   "execution_count": 5,
   "metadata": {},
   "outputs": [],
   "source": [
    "#path = kagglehub.dataset_download(\"jsrojas/ip-network-traffic-flows-labeled-with-87-apps\")"
   ]
  },
  {
   "cell_type": "code",
   "execution_count": 6,
   "metadata": {},
   "outputs": [],
   "source": [
    "#print(path)"
   ]
  },
  {
   "cell_type": "markdown",
   "metadata": {},
   "source": [
    "# Data Loading into DataFrame"
   ]
  },
  {
   "cell_type": "markdown",
   "metadata": {},
   "source": [
    "* Load and explore the dataset."
   ]
  },
  {
   "cell_type": "markdown",
   "metadata": {},
   "source": [
    "Attempting to load the data into pandas dataframe for the data exploration"
   ]
  },
  {
   "cell_type": "code",
   "execution_count": 7,
   "metadata": {},
   "outputs": [],
   "source": [
    "network_traffic_analysis_dataframe: pandas.DataFrame = pandas.read_csv(\"Dataset-Unicauca-Version2-87Atts.csv\")"
   ]
  },
  {
   "cell_type": "code",
   "execution_count": 8,
   "metadata": {},
   "outputs": [
    {
     "data": {
      "text/html": [
       "<div>\n",
       "<style scoped>\n",
       "    .dataframe tbody tr th:only-of-type {\n",
       "        vertical-align: middle;\n",
       "    }\n",
       "\n",
       "    .dataframe tbody tr th {\n",
       "        vertical-align: top;\n",
       "    }\n",
       "\n",
       "    .dataframe thead th {\n",
       "        text-align: right;\n",
       "    }\n",
       "</style>\n",
       "<table border=\"1\" class=\"dataframe\">\n",
       "  <thead>\n",
       "    <tr style=\"text-align: right;\">\n",
       "      <th></th>\n",
       "      <th>Flow.ID</th>\n",
       "      <th>Source.IP</th>\n",
       "      <th>Source.Port</th>\n",
       "      <th>Destination.IP</th>\n",
       "      <th>Destination.Port</th>\n",
       "      <th>Protocol</th>\n",
       "      <th>Timestamp</th>\n",
       "      <th>Flow.Duration</th>\n",
       "      <th>Total.Fwd.Packets</th>\n",
       "      <th>Total.Backward.Packets</th>\n",
       "      <th>...</th>\n",
       "      <th>Active.Std</th>\n",
       "      <th>Active.Max</th>\n",
       "      <th>Active.Min</th>\n",
       "      <th>Idle.Mean</th>\n",
       "      <th>Idle.Std</th>\n",
       "      <th>Idle.Max</th>\n",
       "      <th>Idle.Min</th>\n",
       "      <th>Label</th>\n",
       "      <th>L7Protocol</th>\n",
       "      <th>ProtocolName</th>\n",
       "    </tr>\n",
       "  </thead>\n",
       "  <tbody>\n",
       "    <tr>\n",
       "      <th>0</th>\n",
       "      <td>172.19.1.46-10.200.7.7-52422-3128-6</td>\n",
       "      <td>172.19.1.46</td>\n",
       "      <td>52422</td>\n",
       "      <td>10.200.7.7</td>\n",
       "      <td>3128</td>\n",
       "      <td>6</td>\n",
       "      <td>26/04/201711:11:17</td>\n",
       "      <td>45523</td>\n",
       "      <td>22</td>\n",
       "      <td>55</td>\n",
       "      <td>...</td>\n",
       "      <td>0.0</td>\n",
       "      <td>0.0</td>\n",
       "      <td>0.0</td>\n",
       "      <td>0.0</td>\n",
       "      <td>0.0</td>\n",
       "      <td>0.0</td>\n",
       "      <td>0.0</td>\n",
       "      <td>BENIGN</td>\n",
       "      <td>131</td>\n",
       "      <td>HTTP_PROXY</td>\n",
       "    </tr>\n",
       "    <tr>\n",
       "      <th>1</th>\n",
       "      <td>172.19.1.46-10.200.7.7-52422-3128-6</td>\n",
       "      <td>10.200.7.7</td>\n",
       "      <td>3128</td>\n",
       "      <td>172.19.1.46</td>\n",
       "      <td>52422</td>\n",
       "      <td>6</td>\n",
       "      <td>26/04/201711:11:17</td>\n",
       "      <td>1</td>\n",
       "      <td>2</td>\n",
       "      <td>0</td>\n",
       "      <td>...</td>\n",
       "      <td>0.0</td>\n",
       "      <td>0.0</td>\n",
       "      <td>0.0</td>\n",
       "      <td>0.0</td>\n",
       "      <td>0.0</td>\n",
       "      <td>0.0</td>\n",
       "      <td>0.0</td>\n",
       "      <td>BENIGN</td>\n",
       "      <td>131</td>\n",
       "      <td>HTTP_PROXY</td>\n",
       "    </tr>\n",
       "    <tr>\n",
       "      <th>2</th>\n",
       "      <td>10.200.7.217-50.31.185.39-38848-80-6</td>\n",
       "      <td>50.31.185.39</td>\n",
       "      <td>80</td>\n",
       "      <td>10.200.7.217</td>\n",
       "      <td>38848</td>\n",
       "      <td>6</td>\n",
       "      <td>26/04/201711:11:17</td>\n",
       "      <td>1</td>\n",
       "      <td>3</td>\n",
       "      <td>0</td>\n",
       "      <td>...</td>\n",
       "      <td>0.0</td>\n",
       "      <td>0.0</td>\n",
       "      <td>0.0</td>\n",
       "      <td>0.0</td>\n",
       "      <td>0.0</td>\n",
       "      <td>0.0</td>\n",
       "      <td>0.0</td>\n",
       "      <td>BENIGN</td>\n",
       "      <td>7</td>\n",
       "      <td>HTTP</td>\n",
       "    </tr>\n",
       "    <tr>\n",
       "      <th>3</th>\n",
       "      <td>10.200.7.217-50.31.185.39-38848-80-6</td>\n",
       "      <td>50.31.185.39</td>\n",
       "      <td>80</td>\n",
       "      <td>10.200.7.217</td>\n",
       "      <td>38848</td>\n",
       "      <td>6</td>\n",
       "      <td>26/04/201711:11:17</td>\n",
       "      <td>217</td>\n",
       "      <td>1</td>\n",
       "      <td>3</td>\n",
       "      <td>...</td>\n",
       "      <td>0.0</td>\n",
       "      <td>0.0</td>\n",
       "      <td>0.0</td>\n",
       "      <td>0.0</td>\n",
       "      <td>0.0</td>\n",
       "      <td>0.0</td>\n",
       "      <td>0.0</td>\n",
       "      <td>BENIGN</td>\n",
       "      <td>7</td>\n",
       "      <td>HTTP</td>\n",
       "    </tr>\n",
       "    <tr>\n",
       "      <th>4</th>\n",
       "      <td>192.168.72.43-10.200.7.7-55961-3128-6</td>\n",
       "      <td>192.168.72.43</td>\n",
       "      <td>55961</td>\n",
       "      <td>10.200.7.7</td>\n",
       "      <td>3128</td>\n",
       "      <td>6</td>\n",
       "      <td>26/04/201711:11:17</td>\n",
       "      <td>78068</td>\n",
       "      <td>5</td>\n",
       "      <td>0</td>\n",
       "      <td>...</td>\n",
       "      <td>0.0</td>\n",
       "      <td>0.0</td>\n",
       "      <td>0.0</td>\n",
       "      <td>0.0</td>\n",
       "      <td>0.0</td>\n",
       "      <td>0.0</td>\n",
       "      <td>0.0</td>\n",
       "      <td>BENIGN</td>\n",
       "      <td>131</td>\n",
       "      <td>HTTP_PROXY</td>\n",
       "    </tr>\n",
       "    <tr>\n",
       "      <th>...</th>\n",
       "      <td>...</td>\n",
       "      <td>...</td>\n",
       "      <td>...</td>\n",
       "      <td>...</td>\n",
       "      <td>...</td>\n",
       "      <td>...</td>\n",
       "      <td>...</td>\n",
       "      <td>...</td>\n",
       "      <td>...</td>\n",
       "      <td>...</td>\n",
       "      <td>...</td>\n",
       "      <td>...</td>\n",
       "      <td>...</td>\n",
       "      <td>...</td>\n",
       "      <td>...</td>\n",
       "      <td>...</td>\n",
       "      <td>...</td>\n",
       "      <td>...</td>\n",
       "      <td>...</td>\n",
       "      <td>...</td>\n",
       "      <td>...</td>\n",
       "    </tr>\n",
       "    <tr>\n",
       "      <th>3577291</th>\n",
       "      <td>10.200.7.199-98.138.79.73-42135-443-6</td>\n",
       "      <td>98.138.79.73</td>\n",
       "      <td>443</td>\n",
       "      <td>10.200.7.199</td>\n",
       "      <td>42135</td>\n",
       "      <td>6</td>\n",
       "      <td>15/05/201705:43:40</td>\n",
       "      <td>2290821</td>\n",
       "      <td>5</td>\n",
       "      <td>4</td>\n",
       "      <td>...</td>\n",
       "      <td>0.0</td>\n",
       "      <td>0.0</td>\n",
       "      <td>0.0</td>\n",
       "      <td>0.0</td>\n",
       "      <td>0.0</td>\n",
       "      <td>0.0</td>\n",
       "      <td>0.0</td>\n",
       "      <td>BENIGN</td>\n",
       "      <td>91</td>\n",
       "      <td>SSL</td>\n",
       "    </tr>\n",
       "    <tr>\n",
       "      <th>3577292</th>\n",
       "      <td>10.200.7.217-98.138.79.73-51546-443-6</td>\n",
       "      <td>98.138.79.73</td>\n",
       "      <td>443</td>\n",
       "      <td>10.200.7.217</td>\n",
       "      <td>51546</td>\n",
       "      <td>6</td>\n",
       "      <td>15/05/201705:46:10</td>\n",
       "      <td>24</td>\n",
       "      <td>5</td>\n",
       "      <td>0</td>\n",
       "      <td>...</td>\n",
       "      <td>0.0</td>\n",
       "      <td>0.0</td>\n",
       "      <td>0.0</td>\n",
       "      <td>0.0</td>\n",
       "      <td>0.0</td>\n",
       "      <td>0.0</td>\n",
       "      <td>0.0</td>\n",
       "      <td>BENIGN</td>\n",
       "      <td>91</td>\n",
       "      <td>SSL</td>\n",
       "    </tr>\n",
       "    <tr>\n",
       "      <th>3577293</th>\n",
       "      <td>10.200.7.218-98.138.79.73-44366-443-6</td>\n",
       "      <td>98.138.79.73</td>\n",
       "      <td>443</td>\n",
       "      <td>10.200.7.218</td>\n",
       "      <td>44366</td>\n",
       "      <td>6</td>\n",
       "      <td>15/05/201705:45:39</td>\n",
       "      <td>2591653</td>\n",
       "      <td>6</td>\n",
       "      <td>5</td>\n",
       "      <td>...</td>\n",
       "      <td>0.0</td>\n",
       "      <td>0.0</td>\n",
       "      <td>0.0</td>\n",
       "      <td>0.0</td>\n",
       "      <td>0.0</td>\n",
       "      <td>0.0</td>\n",
       "      <td>0.0</td>\n",
       "      <td>BENIGN</td>\n",
       "      <td>91</td>\n",
       "      <td>SSL</td>\n",
       "    </tr>\n",
       "    <tr>\n",
       "      <th>3577294</th>\n",
       "      <td>10.200.7.195-98.138.79.73-52341-443-6</td>\n",
       "      <td>98.138.79.73</td>\n",
       "      <td>443</td>\n",
       "      <td>10.200.7.195</td>\n",
       "      <td>52341</td>\n",
       "      <td>6</td>\n",
       "      <td>15/05/201705:45:59</td>\n",
       "      <td>2622421</td>\n",
       "      <td>4</td>\n",
       "      <td>3</td>\n",
       "      <td>...</td>\n",
       "      <td>0.0</td>\n",
       "      <td>0.0</td>\n",
       "      <td>0.0</td>\n",
       "      <td>0.0</td>\n",
       "      <td>0.0</td>\n",
       "      <td>0.0</td>\n",
       "      <td>0.0</td>\n",
       "      <td>BENIGN</td>\n",
       "      <td>91</td>\n",
       "      <td>SSL</td>\n",
       "    </tr>\n",
       "    <tr>\n",
       "      <th>3577295</th>\n",
       "      <td>10.200.7.196-98.138.79.73-34188-443-6</td>\n",
       "      <td>98.138.79.73</td>\n",
       "      <td>443</td>\n",
       "      <td>10.200.7.196</td>\n",
       "      <td>34188</td>\n",
       "      <td>6</td>\n",
       "      <td>15/05/201705:46:05</td>\n",
       "      <td>2009138</td>\n",
       "      <td>3</td>\n",
       "      <td>2</td>\n",
       "      <td>...</td>\n",
       "      <td>0.0</td>\n",
       "      <td>0.0</td>\n",
       "      <td>0.0</td>\n",
       "      <td>0.0</td>\n",
       "      <td>0.0</td>\n",
       "      <td>0.0</td>\n",
       "      <td>0.0</td>\n",
       "      <td>BENIGN</td>\n",
       "      <td>91</td>\n",
       "      <td>SSL</td>\n",
       "    </tr>\n",
       "  </tbody>\n",
       "</table>\n",
       "<p>3577296 rows x 87 columns</p>\n",
       "</div>"
      ]
     },
     "metadata": {},
     "output_type": "display_data"
    }
   ],
   "source": [
    "network_traffic_analysis_dataframe"
   ]
  },
  {
   "cell_type": "markdown",
   "metadata": {},
   "source": [
    "# Basic Data Exploration"
   ]
  },
  {
   "cell_type": "markdown",
   "metadata": {},
   "source": [
    "\n",
    "* Handle missing data and outliers.\n",
    "* Perform data visualization to gain insights into the dataset."
   ]
  },
  {
   "cell_type": "markdown",
   "metadata": {},
   "source": [
    "### Data Type for all columns in the dataset"
   ]
  },
  {
   "cell_type": "code",
   "execution_count": 9,
   "metadata": {},
   "outputs": [
    {
     "name": "stdout",
     "output_type": "stream",
     "text": [
      "Flow.ID                         object\n",
      "Source.IP                       object\n",
      "Source.Port                      int64\n",
      "Destination.IP                  object\n",
      "Destination.Port                 int64\n",
      "Protocol                         int64\n",
      "Timestamp                       object\n",
      "Flow.Duration                    int64\n",
      "Total.Fwd.Packets                int64\n",
      "Total.Backward.Packets           int64\n",
      "Total.Length.of.Fwd.Packets      int64\n",
      "Total.Length.of.Bwd.Packets    float64\n",
      "Fwd.Packet.Length.Max            int64\n",
      "Fwd.Packet.Length.Min            int64\n",
      "Fwd.Packet.Length.Mean         float64\n",
      "Fwd.Packet.Length.Std          float64\n",
      "Bwd.Packet.Length.Max            int64\n",
      "Bwd.Packet.Length.Min            int64\n",
      "Bwd.Packet.Length.Mean         float64\n",
      "Bwd.Packet.Length.Std          float64\n",
      "dtype: object\n"
     ]
    }
   ],
   "source": [
    "print(network_traffic_analysis_dataframe.dtypes[:20])"
   ]
  },
  {
   "cell_type": "code",
   "execution_count": 10,
   "metadata": {},
   "outputs": [
    {
     "name": "stdout",
     "output_type": "stream",
     "text": [
      "Flow.Packets.s    float64\n",
      "Flow.IAT.Mean     float64\n",
      "Flow.IAT.Std      float64\n",
      "Flow.IAT.Max      float64\n",
      "Flow.IAT.Min        int64\n",
      "Fwd.IAT.Total     float64\n",
      "Fwd.IAT.Mean      float64\n",
      "Fwd.IAT.Std       float64\n",
      "Fwd.IAT.Max       float64\n",
      "Fwd.IAT.Min       float64\n",
      "Bwd.IAT.Total     float64\n",
      "Bwd.IAT.Mean      float64\n",
      "Bwd.IAT.Std       float64\n",
      "Bwd.IAT.Max       float64\n",
      "Bwd.IAT.Min       float64\n",
      "Fwd.PSH.Flags       int64\n",
      "Bwd.PSH.Flags       int64\n",
      "Fwd.URG.Flags       int64\n",
      "Bwd.URG.Flags       int64\n",
      "dtype: object\n"
     ]
    }
   ],
   "source": [
    "print(network_traffic_analysis_dataframe.dtypes[21:40])"
   ]
  },
  {
   "cell_type": "code",
   "execution_count": 11,
   "metadata": {},
   "outputs": [
    {
     "name": "stdout",
     "output_type": "stream",
     "text": [
      "Bwd.Header.Length           int64\n",
      "Fwd.Packets.s             float64\n",
      "Bwd.Packets.s             float64\n",
      "Min.Packet.Length           int64\n",
      "Max.Packet.Length           int64\n",
      "Packet.Length.Mean        float64\n",
      "Packet.Length.Std         float64\n",
      "Packet.Length.Variance    float64\n",
      "FIN.Flag.Count              int64\n",
      "SYN.Flag.Count              int64\n",
      "RST.Flag.Count              int64\n",
      "PSH.Flag.Count              int64\n",
      "ACK.Flag.Count              int64\n",
      "URG.Flag.Count              int64\n",
      "CWE.Flag.Count              int64\n",
      "ECE.Flag.Count              int64\n",
      "Down.Up.Ratio               int64\n",
      "Average.Packet.Size       float64\n",
      "Avg.Fwd.Segment.Size      float64\n",
      "dtype: object\n"
     ]
    }
   ],
   "source": [
    "print(network_traffic_analysis_dataframe.dtypes[41:60])"
   ]
  },
  {
   "cell_type": "code",
   "execution_count": 12,
   "metadata": {},
   "outputs": [
    {
     "name": "stdout",
     "output_type": "stream",
     "text": [
      "Subflow.Bwd.Bytes            int64\n",
      "Init_Win_bytes_forward       int64\n",
      "Init_Win_bytes_backward      int64\n",
      "act_data_pkt_fwd             int64\n",
      "min_seg_size_forward         int64\n",
      "Active.Mean                float64\n",
      "Active.Std                 float64\n",
      "Active.Max                 float64\n",
      "Active.Min                 float64\n",
      "Idle.Mean                  float64\n",
      "Idle.Std                   float64\n",
      "Idle.Max                   float64\n",
      "Idle.Min                   float64\n",
      "Label                       object\n",
      "L7Protocol                   int64\n",
      "ProtocolName                object\n",
      "dtype: object\n"
     ]
    }
   ],
   "source": [
    "print(network_traffic_analysis_dataframe.dtypes[71:])"
   ]
  },
  {
   "cell_type": "markdown",
   "metadata": {},
   "source": [
    "### Feature and its description"
   ]
  },
  {
   "cell_type": "markdown",
   "metadata": {},
   "source": [
    "- Flow duration\t\t\n",
    "    - Duration of the flow in Microsecond\n",
    "- total Fwd Packet\t\t\n",
    "    - Total packets in the forward direction\n",
    "- total Bwd packets\t\t\n",
    "    - Total packets in the backward direction\n",
    "- total Length of Fwd Packet\t\n",
    "    - Total size of packet in forward direction\n",
    "- total Length of Bwd Packet\t\n",
    "    - Total size of packet in backward direction\n",
    "- Fwd Packet Length Min \t\t\n",
    "    - Minimum size of packet in forward direction\n",
    "- Fwd Packet Length Max \t\t\n",
    "    - Maximum size of packet in forward direction\n",
    "- Fwd Packet Length Mean\t\t\n",
    "    - Mean size of packet in forward direction\n",
    "- Fwd Packet Length Std\t\t\n",
    "    - Standard deviation size of packet in forward direction\n",
    "- Bwd Packet Length Min\t\t\n",
    "    - Minimum size of packet in backward direction\n",
    "- Bwd Packet Length Max\t\t\n",
    "    - Maximum size of packet in backward direction\n",
    "- Bwd Packet Length Mean\t\t\n",
    "    - Mean size of packet in backward direction\n",
    "- Bwd Packet Length Std\t\t\n",
    "    - Standard deviation size of packet in backward direction\n",
    "- Flow Byte/s\t\t\t\n",
    "    - Number of flow packets per second\n",
    "- Flow Packets/s\t\t\t\n",
    "    - Number of flow bytes per second \n",
    "- Flow IAT Mean\t\t\t\n",
    "    - Mean time between two packets sent in the flow\n",
    "- Flow IAT Std\t\t\t\n",
    "    - Standard deviation time between two packets sent in the flow\n",
    "- Flow IAT Max\t\t\t\n",
    "    - Maximum time between two packets sent in the flow\n",
    "- Flow IAT Min\t\t\t\n",
    "    - Minimum time between two packets sent in the flow\n",
    "- Fwd IAT Min\t\t\t\n",
    "    - Minimum time between two packets sent in the forward direction\n",
    "- Fwd IAT Max\t\t\t\n",
    "    - Maximum time between two packets sent in the forward direction\n",
    "- Fwd IAT Mean\t\t\t\n",
    "    - Mean time between two packets sent in the forward direction\n",
    "- Fwd IAT Std\t\t\t\n",
    "    - Standard deviation time between two packets sent in the forward direction\n",
    "- Fwd IAT Total   \t\t\n",
    "    - Total time between two packets sent in the forward direction\n",
    "- Bwd IAT Min\t\t\t\n",
    "    - Minimum time between two packets sent in the backward direction\n",
    "- Bwd IAT Max\t\t\t\n",
    "    - Maximum time between two packets sent in the backward direction\n",
    "- Bwd IAT Mean\t\t\t\n",
    "    - Mean time between two packets sent in the backward direction\n",
    "- Bwd IAT Std\t\t\t\n",
    "    - Standard deviation time between two packets sent in the backward direction\n",
    "- Bwd IAT Total\t\t\t\n",
    "    - Total time between two packets sent in the backward direction\n",
    "- Fwd PSH flag\t\t\t\n",
    "    - Number of times the PSH flag was set in packets travelling in the forward direction (0 for UDP)\n",
    "- Bwd PSH Flag\t\t\t\n",
    "    - Number of times the PSH flag was set in packets travelling in the backward direction (0 for UDP)\n",
    "- Fwd URG Flag\t\t\t\n",
    "    - Number of times the URG flag was set in packets travelling in the forward direction (0 for UDP)\n",
    "- Bwd URG Flag\t\t\t\n",
    "    - Number of times the URG flag was set in packets travelling in the backward direction (0 for UDP)\n",
    "- Fwd Header Length\t\t\n",
    "    - Total bytes used for headers in the forward direction\n",
    "- Bwd Header Length\t\t\n",
    "    - Total bytes used for headers in the backward direction\n",
    "- FWD Packets/s\t\t\t\n",
    "    - Number of forward packets per second\n",
    "- Bwd Packets/s\t\t\t\n",
    "    - Number of backward packets per second\n",
    "- Min Packet Length \t\t\n",
    "    - Minimum length of a packet\n",
    "- Max Packet Length \t\t\n",
    "    - Maximum length of a packet\n",
    "- Packet Length Mean \t\t\n",
    "    - Mean length of a packet\n",
    "- Packet Length Std\t\t\n",
    "    - Standard deviation length of a packet\n",
    "- Packet Length Variance  \t\n",
    "    - Variance length of a packet\n",
    "- FIN Flag Count \t\t\t\n",
    "    - Number of packets with FIN\n",
    "- SYN Flag Count \t\t\t\n",
    "    - Number of packets with SYN\n",
    "- RST Flag Count \t\t\t\n",
    "    - Number of packets with RST\n",
    "- PSH Flag Count \t\t\t\n",
    "    - Number of packets with PUSH\n",
    "- ACK Flag Count \t\t\t\n",
    "    - Number of packets with ACK\n",
    "- URG Flag Count \t\t\t\n",
    "    - Number of packets with URG\n",
    "- CWR Flag Count \t\t\t\n",
    "    - Number of packets with CWE\n",
    "- ECE Flag Count \t\t\t\n",
    "    - Number of packets with ECE\n",
    "- down/Up Ratio\t\t\t\n",
    "    - Download and upload ratio\n",
    "- Average Packet Size \t\t\n",
    "    - Average size of packet\n",
    "- Avg Fwd Segment Size \t\t\n",
    "    - Average size observed in the forward direction\n",
    "- AVG Bwd Segment Size \t\t\n",
    "    - Average number of bytes bulk rate in the backward direction\n",
    "- Fwd Header Length\t\t\n",
    "    - Length of the forward packet header\n",
    "- Fwd Avg Bytes/Bulk\t\t\n",
    "    - Average number of bytes bulk rate in the forward direction\n",
    "- Fwd AVG Packet/Bulk \t\t\n",
    "    - Average number of packets bulk rate in the forward direction\n",
    "- Fwd AVG Bulk Rate \t\t\n",
    "    - Average number of bulk rate in the forward direction\n",
    "- Bwd Avg Bytes/Bulk\t\t\n",
    "    - Average number of bytes bulk rate in the backward direction\n",
    "- Bwd AVG Packet/Bulk \t\t\n",
    "    - Average number of packets bulk rate in the backward direction\n",
    "- Bwd AVG Bulk Rate \t\t\n",
    "    - Average number of bulk rate in the backward direction\n",
    "- Subflow Fwd Packets\t\t\n",
    "    - The average number of packets in a sub flow in the forward direction\n",
    "- Subflow Fwd Bytes\t\t\n",
    "    - The average number of bytes in a sub flow in the forward direction\n",
    "- Subflow Bwd Packets\t\t\n",
    "    - The average number of packets in a sub flow in the backward direction\n",
    "- Subflow Bwd Bytes\t\t\n",
    "    - The average number of bytes in a sub flow in the backward direction\n",
    "- Init_Win_bytes_forward\t\t\n",
    "    - The total number of bytes sent in initial window in the forward direction\n",
    "- Init_Win_bytes_backward\t\t\n",
    "    - The total number of bytes sent in initial window in the backward direction\n",
    "- Act_data_pkt_forward\t\t\n",
    "    - Count of packets with at least 1 byte of TCP data payload in the forward direction\n",
    "- min_seg_size_forward\t\t\n",
    "    - Minimum segment size observed in the forward direction\n",
    "- Active Min\t\t\t\n",
    "    - Minimum time a flow was active before becoming idle\n",
    "- Active Mean\t\t\t\n",
    "    - Mean time a flow was active before becoming idle\n",
    "- Active Max\t\t\t\n",
    "    - Maximum time a flow was active before becoming idle\n",
    "- Active Std\t\t\t\n",
    "    - Standard deviation time a flow was active before becoming idle\n",
    "- Idle Min\t\t\t\n",
    "    - Minimum time a flow was idle before becoming active\n",
    "- Idle Mean\t\t\t\n",
    "    - Mean time a flow was idle before becoming active\n",
    "- Idle Max\t\t\t\n",
    "    - Maximum time a flow was idle before becoming active\n",
    "- Idle Std\t\t\t\n",
    "    - Standard deviation time a flow was idle before becoming active"
   ]
  },
  {
   "cell_type": "markdown",
   "metadata": {},
   "source": [
    "### Dataset Information"
   ]
  },
  {
   "cell_type": "code",
   "execution_count": 13,
   "metadata": {},
   "outputs": [
    {
     "name": "stdout",
     "output_type": "stream",
     "text": [
      "<class 'pandas.core.frame.DataFrame'>\n",
      "RangeIndex: 3577296 entries, 0 to 3577295\n",
      "Data columns (total 87 columns):\n",
      " #   Column                       Dtype  \n",
      "---  ------                       -----  \n",
      " 0   Flow.ID                      object \n",
      " 1   Source.IP                    object \n",
      " 2   Source.Port                  int64  \n",
      " 3   Destination.IP               object \n",
      " 4   Destination.Port             int64  \n",
      " 5   Protocol                     int64  \n",
      " 6   Timestamp                    object \n",
      " 7   Flow.Duration                int64  \n",
      " 8   Total.Fwd.Packets            int64  \n",
      " 9   Total.Backward.Packets       int64  \n",
      " 10  Total.Length.of.Fwd.Packets  int64  \n",
      " 11  Total.Length.of.Bwd.Packets  float64\n",
      " 12  Fwd.Packet.Length.Max        int64  \n",
      " 13  Fwd.Packet.Length.Min        int64  \n",
      " 14  Fwd.Packet.Length.Mean       float64\n",
      " 15  Fwd.Packet.Length.Std        float64\n",
      " 16  Bwd.Packet.Length.Max        int64  \n",
      " 17  Bwd.Packet.Length.Min        int64  \n",
      " 18  Bwd.Packet.Length.Mean       float64\n",
      " 19  Bwd.Packet.Length.Std        float64\n",
      " 20  Flow.Bytes.s                 float64\n",
      " 21  Flow.Packets.s               float64\n",
      " 22  Flow.IAT.Mean                float64\n",
      " 23  Flow.IAT.Std                 float64\n",
      " 24  Flow.IAT.Max                 float64\n",
      " 25  Flow.IAT.Min                 int64  \n",
      " 26  Fwd.IAT.Total                float64\n",
      " 27  Fwd.IAT.Mean                 float64\n",
      " 28  Fwd.IAT.Std                  float64\n",
      " 29  Fwd.IAT.Max                  float64\n",
      " 30  Fwd.IAT.Min                  float64\n",
      " 31  Bwd.IAT.Total                float64\n",
      " 32  Bwd.IAT.Mean                 float64\n",
      " 33  Bwd.IAT.Std                  float64\n",
      " 34  Bwd.IAT.Max                  float64\n",
      " 35  Bwd.IAT.Min                  float64\n",
      " 36  Fwd.PSH.Flags                int64  \n",
      " 37  Bwd.PSH.Flags                int64  \n",
      " 38  Fwd.URG.Flags                int64  \n",
      " 39  Bwd.URG.Flags                int64  \n",
      " 40  Fwd.Header.Length            int64  \n",
      " 41  Bwd.Header.Length            int64  \n",
      " 42  Fwd.Packets.s                float64\n",
      " 43  Bwd.Packets.s                float64\n",
      " 44  Min.Packet.Length            int64  \n",
      " 45  Max.Packet.Length            int64  \n",
      " 46  Packet.Length.Mean           float64\n",
      " 47  Packet.Length.Std            float64\n",
      " 48  Packet.Length.Variance       float64\n",
      " 49  FIN.Flag.Count               int64  \n",
      " 50  SYN.Flag.Count               int64  \n",
      " 51  RST.Flag.Count               int64  \n",
      " 52  PSH.Flag.Count               int64  \n",
      " 53  ACK.Flag.Count               int64  \n",
      " 54  URG.Flag.Count               int64  \n",
      " 55  CWE.Flag.Count               int64  \n",
      " 56  ECE.Flag.Count               int64  \n",
      " 57  Down.Up.Ratio                int64  \n",
      " 58  Average.Packet.Size          float64\n",
      " 59  Avg.Fwd.Segment.Size         float64\n",
      " 60  Avg.Bwd.Segment.Size         float64\n",
      " 61  Fwd.Header.Length.1          int64  \n",
      " 62  Fwd.Avg.Bytes.Bulk           int64  \n",
      " 63  Fwd.Avg.Packets.Bulk         int64  \n",
      " 64  Fwd.Avg.Bulk.Rate            int64  \n",
      " 65  Bwd.Avg.Bytes.Bulk           int64  \n",
      " 66  Bwd.Avg.Packets.Bulk         int64  \n",
      " 67  Bwd.Avg.Bulk.Rate            int64  \n",
      " 68  Subflow.Fwd.Packets          int64  \n",
      " 69  Subflow.Fwd.Bytes            int64  \n",
      " 70  Subflow.Bwd.Packets          int64  \n",
      " 71  Subflow.Bwd.Bytes            int64  \n",
      " 72  Init_Win_bytes_forward       int64  \n",
      " 73  Init_Win_bytes_backward      int64  \n",
      " 74  act_data_pkt_fwd             int64  \n",
      " 75  min_seg_size_forward         int64  \n",
      " 76  Active.Mean                  float64\n",
      " 77  Active.Std                   float64\n",
      " 78  Active.Max                   float64\n",
      " 79  Active.Min                   float64\n",
      " 80  Idle.Mean                    float64\n",
      " 81  Idle.Std                     float64\n",
      " 82  Idle.Max                     float64\n",
      " 83  Idle.Min                     float64\n",
      " 84  Label                        object \n",
      " 85  L7Protocol                   int64  \n",
      " 86  ProtocolName                 object \n",
      "dtypes: float64(36), int64(45), object(6)\n",
      "memory usage: 2.3+ GB\n"
     ]
    }
   ],
   "source": [
    "network_traffic_analysis_dataframe.info()"
   ]
  },
  {
   "cell_type": "markdown",
   "metadata": {},
   "source": [
    "### Describe the dataset"
   ]
  },
  {
   "cell_type": "code",
   "execution_count": 14,
   "metadata": {},
   "outputs": [
    {
     "data": {
      "text/html": [
       "<div>\n",
       "<style scoped>\n",
       "    .dataframe tbody tr th:only-of-type {\n",
       "        vertical-align: middle;\n",
       "    }\n",
       "\n",
       "    .dataframe tbody tr th {\n",
       "        vertical-align: top;\n",
       "    }\n",
       "\n",
       "    .dataframe thead th {\n",
       "        text-align: right;\n",
       "    }\n",
       "</style>\n",
       "<table border=\"1\" class=\"dataframe\">\n",
       "  <thead>\n",
       "    <tr style=\"text-align: right;\">\n",
       "      <th></th>\n",
       "      <th>Source.Port</th>\n",
       "      <th>Destination.Port</th>\n",
       "      <th>Protocol</th>\n",
       "      <th>Flow.Duration</th>\n",
       "      <th>Total.Fwd.Packets</th>\n",
       "      <th>Total.Backward.Packets</th>\n",
       "    </tr>\n",
       "  </thead>\n",
       "  <tbody>\n",
       "    <tr>\n",
       "      <th>count</th>\n",
       "      <td>3.577296e+06</td>\n",
       "      <td>3.577296e+06</td>\n",
       "      <td>3.577296e+06</td>\n",
       "      <td>3.577296e+06</td>\n",
       "      <td>3.577296e+06</td>\n",
       "      <td>3.577296e+06</td>\n",
       "    </tr>\n",
       "    <tr>\n",
       "      <th>mean</th>\n",
       "      <td>3.799938e+04</td>\n",
       "      <td>1.204246e+04</td>\n",
       "      <td>6.005508e+00</td>\n",
       "      <td>2.544247e+07</td>\n",
       "      <td>6.237799e+01</td>\n",
       "      <td>6.534083e+01</td>\n",
       "    </tr>\n",
       "    <tr>\n",
       "      <th>std</th>\n",
       "      <td>2.201713e+04</td>\n",
       "      <td>2.044916e+04</td>\n",
       "      <td>3.274574e-01</td>\n",
       "      <td>4.014430e+07</td>\n",
       "      <td>1.094086e+03</td>\n",
       "      <td>1.108092e+03</td>\n",
       "    </tr>\n",
       "    <tr>\n",
       "      <th>min</th>\n",
       "      <td>0.000000e+00</td>\n",
       "      <td>0.000000e+00</td>\n",
       "      <td>0.000000e+00</td>\n",
       "      <td>1.000000e+00</td>\n",
       "      <td>1.000000e+00</td>\n",
       "      <td>0.000000e+00</td>\n",
       "    </tr>\n",
       "    <tr>\n",
       "      <th>25%</th>\n",
       "      <td>3.697000e+03</td>\n",
       "      <td>4.430000e+02</td>\n",
       "      <td>6.000000e+00</td>\n",
       "      <td>6.280000e+02</td>\n",
       "      <td>2.000000e+00</td>\n",
       "      <td>1.000000e+00</td>\n",
       "    </tr>\n",
       "    <tr>\n",
       "      <th>50%</th>\n",
       "      <td>4.937700e+04</td>\n",
       "      <td>3.128000e+03</td>\n",
       "      <td>6.000000e+00</td>\n",
       "      <td>5.847295e+05</td>\n",
       "      <td>6.000000e+00</td>\n",
       "      <td>5.000000e+00</td>\n",
       "    </tr>\n",
       "    <tr>\n",
       "      <th>75%</th>\n",
       "      <td>5.379900e+04</td>\n",
       "      <td>3.128000e+03</td>\n",
       "      <td>6.000000e+00</td>\n",
       "      <td>4.500153e+07</td>\n",
       "      <td>1.500000e+01</td>\n",
       "      <td>1.500000e+01</td>\n",
       "    </tr>\n",
       "    <tr>\n",
       "      <th>max</th>\n",
       "      <td>6.553400e+04</td>\n",
       "      <td>6.553400e+04</td>\n",
       "      <td>1.700000e+01</td>\n",
       "      <td>1.200000e+08</td>\n",
       "      <td>4.531900e+05</td>\n",
       "      <td>5.421960e+05</td>\n",
       "    </tr>\n",
       "  </tbody>\n",
       "</table>\n",
       "</div>"
      ]
     },
     "metadata": {},
     "output_type": "display_data"
    }
   ],
   "source": [
    "network_traffic_analysis_dataframe.iloc[:,:10].describe()"
   ]
  },
  {
   "cell_type": "code",
   "execution_count": 15,
   "metadata": {},
   "outputs": [
    {
     "data": {
      "text/html": [
       "<div>\n",
       "<style scoped>\n",
       "    .dataframe tbody tr th:only-of-type {\n",
       "        vertical-align: middle;\n",
       "    }\n",
       "\n",
       "    .dataframe tbody tr th {\n",
       "        vertical-align: top;\n",
       "    }\n",
       "\n",
       "    .dataframe thead th {\n",
       "        text-align: right;\n",
       "    }\n",
       "</style>\n",
       "<table border=\"1\" class=\"dataframe\">\n",
       "  <thead>\n",
       "    <tr style=\"text-align: right;\">\n",
       "      <th></th>\n",
       "      <th>Total.Length.of.Bwd.Packets</th>\n",
       "      <th>Fwd.Packet.Length.Max</th>\n",
       "      <th>Fwd.Packet.Length.Min</th>\n",
       "      <th>Fwd.Packet.Length.Mean</th>\n",
       "      <th>Fwd.Packet.Length.Std</th>\n",
       "      <th>Bwd.Packet.Length.Max</th>\n",
       "      <th>Bwd.Packet.Length.Min</th>\n",
       "      <th>Bwd.Packet.Length.Mean</th>\n",
       "      <th>Bwd.Packet.Length.Std</th>\n",
       "    </tr>\n",
       "  </thead>\n",
       "  <tbody>\n",
       "    <tr>\n",
       "      <th>count</th>\n",
       "      <td>3.577296e+06</td>\n",
       "      <td>3.577296e+06</td>\n",
       "      <td>3.577296e+06</td>\n",
       "      <td>3.577296e+06</td>\n",
       "      <td>3.577296e+06</td>\n",
       "      <td>3.577296e+06</td>\n",
       "      <td>3.577296e+06</td>\n",
       "      <td>3.577296e+06</td>\n",
       "      <td>3.577296e+06</td>\n",
       "    </tr>\n",
       "    <tr>\n",
       "      <th>mean</th>\n",
       "      <td>8.445742e+04</td>\n",
       "      <td>5.123645e+02</td>\n",
       "      <td>9.340408e+00</td>\n",
       "      <td>1.149212e+02</td>\n",
       "      <td>1.520501e+02</td>\n",
       "      <td>1.103231e+03</td>\n",
       "      <td>1.113491e+01</td>\n",
       "      <td>2.547845e+02</td>\n",
       "      <td>2.898878e+02</td>\n",
       "    </tr>\n",
       "    <tr>\n",
       "      <th>std</th>\n",
       "      <td>2.124319e+06</td>\n",
       "      <td>1.039319e+03</td>\n",
       "      <td>8.299983e+01</td>\n",
       "      <td>2.464707e+02</td>\n",
       "      <td>2.404702e+02</td>\n",
       "      <td>2.352374e+03</td>\n",
       "      <td>1.055422e+02</td>\n",
       "      <td>5.060731e+02</td>\n",
       "      <td>4.853004e+02</td>\n",
       "    </tr>\n",
       "    <tr>\n",
       "      <th>min</th>\n",
       "      <td>0.000000e+00</td>\n",
       "      <td>0.000000e+00</td>\n",
       "      <td>0.000000e+00</td>\n",
       "      <td>0.000000e+00</td>\n",
       "      <td>0.000000e+00</td>\n",
       "      <td>0.000000e+00</td>\n",
       "      <td>0.000000e+00</td>\n",
       "      <td>0.000000e+00</td>\n",
       "      <td>0.000000e+00</td>\n",
       "    </tr>\n",
       "    <tr>\n",
       "      <th>25%</th>\n",
       "      <td>0.000000e+00</td>\n",
       "      <td>6.000000e+00</td>\n",
       "      <td>0.000000e+00</td>\n",
       "      <td>6.000000e+00</td>\n",
       "      <td>0.000000e+00</td>\n",
       "      <td>0.000000e+00</td>\n",
       "      <td>0.000000e+00</td>\n",
       "      <td>0.000000e+00</td>\n",
       "      <td>0.000000e+00</td>\n",
       "    </tr>\n",
       "    <tr>\n",
       "      <th>50%</th>\n",
       "      <td>2.080000e+02</td>\n",
       "      <td>2.060000e+02</td>\n",
       "      <td>0.000000e+00</td>\n",
       "      <td>4.657143e+01</td>\n",
       "      <td>7.421124e+01</td>\n",
       "      <td>8.100000e+01</td>\n",
       "      <td>0.000000e+00</td>\n",
       "      <td>3.014286e+01</td>\n",
       "      <td>3.242474e+01</td>\n",
       "    </tr>\n",
       "    <tr>\n",
       "      <th>75%</th>\n",
       "      <td>3.629000e+03</td>\n",
       "      <td>6.130000e+02</td>\n",
       "      <td>6.000000e+00</td>\n",
       "      <td>1.225000e+02</td>\n",
       "      <td>2.079035e+02</td>\n",
       "      <td>1.366000e+03</td>\n",
       "      <td>0.000000e+00</td>\n",
       "      <td>2.567500e+02</td>\n",
       "      <td>4.232105e+02</td>\n",
       "    </tr>\n",
       "    <tr>\n",
       "      <th>max</th>\n",
       "      <td>1.345796e+09</td>\n",
       "      <td>3.283200e+04</td>\n",
       "      <td>1.606000e+04</td>\n",
       "      <td>1.606000e+04</td>\n",
       "      <td>6.225487e+03</td>\n",
       "      <td>3.764800e+04</td>\n",
       "      <td>1.303200e+04</td>\n",
       "      <td>1.303200e+04</td>\n",
       "      <td>8.434804e+03</td>\n",
       "    </tr>\n",
       "  </tbody>\n",
       "</table>\n",
       "</div>"
      ]
     },
     "metadata": {},
     "output_type": "display_data"
    }
   ],
   "source": [
    "network_traffic_analysis_dataframe.iloc[:,11:20].describe()"
   ]
  },
  {
   "cell_type": "code",
   "execution_count": 16,
   "metadata": {},
   "outputs": [
    {
     "data": {
      "text/html": [
       "<div>\n",
       "<style scoped>\n",
       "    .dataframe tbody tr th:only-of-type {\n",
       "        vertical-align: middle;\n",
       "    }\n",
       "\n",
       "    .dataframe tbody tr th {\n",
       "        vertical-align: top;\n",
       "    }\n",
       "\n",
       "    .dataframe thead th {\n",
       "        text-align: right;\n",
       "    }\n",
       "</style>\n",
       "<table border=\"1\" class=\"dataframe\">\n",
       "  <thead>\n",
       "    <tr style=\"text-align: right;\">\n",
       "      <th></th>\n",
       "      <th>Flow.Packets.s</th>\n",
       "      <th>Flow.IAT.Mean</th>\n",
       "      <th>Flow.IAT.Std</th>\n",
       "      <th>Flow.IAT.Max</th>\n",
       "      <th>Flow.IAT.Min</th>\n",
       "      <th>Fwd.IAT.Total</th>\n",
       "      <th>Fwd.IAT.Mean</th>\n",
       "      <th>Fwd.IAT.Std</th>\n",
       "      <th>Fwd.IAT.Max</th>\n",
       "    </tr>\n",
       "  </thead>\n",
       "  <tbody>\n",
       "    <tr>\n",
       "      <th>count</th>\n",
       "      <td>3.577296e+06</td>\n",
       "      <td>3.577296e+06</td>\n",
       "      <td>3.577296e+06</td>\n",
       "      <td>3.577296e+06</td>\n",
       "      <td>3.577296e+06</td>\n",
       "      <td>3.577296e+06</td>\n",
       "      <td>3.577296e+06</td>\n",
       "      <td>3.577296e+06</td>\n",
       "      <td>3.577296e+06</td>\n",
       "    </tr>\n",
       "    <tr>\n",
       "      <th>mean</th>\n",
       "      <td>8.896338e+04</td>\n",
       "      <td>1.422201e+06</td>\n",
       "      <td>3.365395e+06</td>\n",
       "      <td>1.285020e+07</td>\n",
       "      <td>8.870201e+04</td>\n",
       "      <td>2.418796e+07</td>\n",
       "      <td>3.124467e+06</td>\n",
       "      <td>3.649620e+06</td>\n",
       "      <td>1.209624e+07</td>\n",
       "    </tr>\n",
       "    <tr>\n",
       "      <th>std</th>\n",
       "      <td>4.027620e+05</td>\n",
       "      <td>3.550414e+06</td>\n",
       "      <td>6.260959e+06</td>\n",
       "      <td>2.076518e+07</td>\n",
       "      <td>1.605272e+06</td>\n",
       "      <td>3.962563e+07</td>\n",
       "      <td>8.358652e+06</td>\n",
       "      <td>7.390979e+06</td>\n",
       "      <td>2.049180e+07</td>\n",
       "    </tr>\n",
       "    <tr>\n",
       "      <th>min</th>\n",
       "      <td>1.666667e-02</td>\n",
       "      <td>2.000000e-01</td>\n",
       "      <td>0.000000e+00</td>\n",
       "      <td>1.000000e+00</td>\n",
       "      <td>0.000000e+00</td>\n",
       "      <td>0.000000e+00</td>\n",
       "      <td>0.000000e+00</td>\n",
       "      <td>0.000000e+00</td>\n",
       "      <td>0.000000e+00</td>\n",
       "    </tr>\n",
       "    <tr>\n",
       "      <th>25%</th>\n",
       "      <td>1.128096e+00</td>\n",
       "      <td>4.150000e+02</td>\n",
       "      <td>8.485281e+00</td>\n",
       "      <td>5.700000e+02</td>\n",
       "      <td>0.000000e+00</td>\n",
       "      <td>7.000000e+00</td>\n",
       "      <td>5.000000e+00</td>\n",
       "      <td>0.000000e+00</td>\n",
       "      <td>6.000000e+00</td>\n",
       "    </tr>\n",
       "    <tr>\n",
       "      <th>50%</th>\n",
       "      <td>3.393752e+01</td>\n",
       "      <td>3.320238e+04</td>\n",
       "      <td>6.836444e+04</td>\n",
       "      <td>2.812395e+05</td>\n",
       "      <td>1.000000e+00</td>\n",
       "      <td>3.892645e+05</td>\n",
       "      <td>3.700679e+04</td>\n",
       "      <td>4.717596e+04</td>\n",
       "      <td>2.076290e+05</td>\n",
       "    </tr>\n",
       "    <tr>\n",
       "      <th>75%</th>\n",
       "      <td>4.214963e+03</td>\n",
       "      <td>9.366576e+05</td>\n",
       "      <td>3.980748e+06</td>\n",
       "      <td>2.391546e+07</td>\n",
       "      <td>3.300000e+01</td>\n",
       "      <td>4.001161e+07</td>\n",
       "      <td>1.549711e+06</td>\n",
       "      <td>2.932647e+06</td>\n",
       "      <td>1.926976e+07</td>\n",
       "    </tr>\n",
       "    <tr>\n",
       "      <th>max</th>\n",
       "      <td>6.000000e+06</td>\n",
       "      <td>1.200000e+08</td>\n",
       "      <td>8.485273e+07</td>\n",
       "      <td>1.200000e+08</td>\n",
       "      <td>1.200000e+08</td>\n",
       "      <td>1.200000e+08</td>\n",
       "      <td>1.200000e+08</td>\n",
       "      <td>8.485256e+07</td>\n",
       "      <td>1.200000e+08</td>\n",
       "    </tr>\n",
       "  </tbody>\n",
       "</table>\n",
       "</div>"
      ]
     },
     "metadata": {},
     "output_type": "display_data"
    }
   ],
   "source": [
    "network_traffic_analysis_dataframe.iloc[:,21:30].describe()"
   ]
  },
  {
   "cell_type": "code",
   "execution_count": 17,
   "metadata": {},
   "outputs": [
    {
     "data": {
      "text/html": [
       "<div>\n",
       "<style scoped>\n",
       "    .dataframe tbody tr th:only-of-type {\n",
       "        vertical-align: middle;\n",
       "    }\n",
       "\n",
       "    .dataframe tbody tr th {\n",
       "        vertical-align: top;\n",
       "    }\n",
       "\n",
       "    .dataframe thead th {\n",
       "        text-align: right;\n",
       "    }\n",
       "</style>\n",
       "<table border=\"1\" class=\"dataframe\">\n",
       "  <thead>\n",
       "    <tr style=\"text-align: right;\">\n",
       "      <th></th>\n",
       "      <th>Bwd.IAT.Total</th>\n",
       "      <th>Bwd.IAT.Mean</th>\n",
       "      <th>Bwd.IAT.Std</th>\n",
       "      <th>Bwd.IAT.Max</th>\n",
       "      <th>Bwd.IAT.Min</th>\n",
       "      <th>Fwd.PSH.Flags</th>\n",
       "      <th>Bwd.PSH.Flags</th>\n",
       "      <th>Fwd.URG.Flags</th>\n",
       "      <th>Bwd.URG.Flags</th>\n",
       "    </tr>\n",
       "  </thead>\n",
       "  <tbody>\n",
       "    <tr>\n",
       "      <th>count</th>\n",
       "      <td>3.577296e+06</td>\n",
       "      <td>3.577296e+06</td>\n",
       "      <td>3.577296e+06</td>\n",
       "      <td>3.577296e+06</td>\n",
       "      <td>3.577296e+06</td>\n",
       "      <td>3.577296e+06</td>\n",
       "      <td>3577296.0</td>\n",
       "      <td>3577296.0</td>\n",
       "      <td>3577296.0</td>\n",
       "    </tr>\n",
       "    <tr>\n",
       "      <th>mean</th>\n",
       "      <td>2.110451e+07</td>\n",
       "      <td>2.476877e+06</td>\n",
       "      <td>2.932460e+06</td>\n",
       "      <td>9.830803e+06</td>\n",
       "      <td>8.889991e+05</td>\n",
       "      <td>1.720414e-01</td>\n",
       "      <td>0.0</td>\n",
       "      <td>0.0</td>\n",
       "      <td>0.0</td>\n",
       "    </tr>\n",
       "    <tr>\n",
       "      <th>std</th>\n",
       "      <td>3.862634e+07</td>\n",
       "      <td>7.578111e+06</td>\n",
       "      <td>6.666650e+06</td>\n",
       "      <td>1.883521e+07</td>\n",
       "      <td>6.231082e+06</td>\n",
       "      <td>3.774165e-01</td>\n",
       "      <td>0.0</td>\n",
       "      <td>0.0</td>\n",
       "      <td>0.0</td>\n",
       "    </tr>\n",
       "    <tr>\n",
       "      <th>min</th>\n",
       "      <td>0.000000e+00</td>\n",
       "      <td>0.000000e+00</td>\n",
       "      <td>0.000000e+00</td>\n",
       "      <td>0.000000e+00</td>\n",
       "      <td>0.000000e+00</td>\n",
       "      <td>0.000000e+00</td>\n",
       "      <td>0.0</td>\n",
       "      <td>0.0</td>\n",
       "      <td>0.0</td>\n",
       "    </tr>\n",
       "    <tr>\n",
       "      <th>25%</th>\n",
       "      <td>0.000000e+00</td>\n",
       "      <td>0.000000e+00</td>\n",
       "      <td>0.000000e+00</td>\n",
       "      <td>0.000000e+00</td>\n",
       "      <td>0.000000e+00</td>\n",
       "      <td>0.000000e+00</td>\n",
       "      <td>0.0</td>\n",
       "      <td>0.0</td>\n",
       "      <td>0.0</td>\n",
       "    </tr>\n",
       "    <tr>\n",
       "      <th>50%</th>\n",
       "      <td>1.815625e+05</td>\n",
       "      <td>1.558765e+04</td>\n",
       "      <td>2.617595e+04</td>\n",
       "      <td>9.518150e+04</td>\n",
       "      <td>0.000000e+00</td>\n",
       "      <td>0.000000e+00</td>\n",
       "      <td>0.0</td>\n",
       "      <td>0.0</td>\n",
       "      <td>0.0</td>\n",
       "    </tr>\n",
       "    <tr>\n",
       "      <th>75%</th>\n",
       "      <td>1.497653e+07</td>\n",
       "      <td>3.342142e+05</td>\n",
       "      <td>7.526342e+05</td>\n",
       "      <td>7.508778e+06</td>\n",
       "      <td>1.000000e+00</td>\n",
       "      <td>0.000000e+00</td>\n",
       "      <td>0.0</td>\n",
       "      <td>0.0</td>\n",
       "      <td>0.0</td>\n",
       "    </tr>\n",
       "    <tr>\n",
       "      <th>max</th>\n",
       "      <td>1.200000e+08</td>\n",
       "      <td>1.199999e+08</td>\n",
       "      <td>8.485275e+07</td>\n",
       "      <td>1.199999e+08</td>\n",
       "      <td>1.199999e+08</td>\n",
       "      <td>1.000000e+00</td>\n",
       "      <td>0.0</td>\n",
       "      <td>0.0</td>\n",
       "      <td>0.0</td>\n",
       "    </tr>\n",
       "  </tbody>\n",
       "</table>\n",
       "</div>"
      ]
     },
     "metadata": {},
     "output_type": "display_data"
    }
   ],
   "source": [
    "network_traffic_analysis_dataframe.iloc[:,31:40].describe()"
   ]
  },
  {
   "cell_type": "code",
   "execution_count": 18,
   "metadata": {},
   "outputs": [
    {
     "data": {
      "text/html": [
       "<div>\n",
       "<style scoped>\n",
       "    .dataframe tbody tr th:only-of-type {\n",
       "        vertical-align: middle;\n",
       "    }\n",
       "\n",
       "    .dataframe tbody tr th {\n",
       "        vertical-align: top;\n",
       "    }\n",
       "\n",
       "    .dataframe thead th {\n",
       "        text-align: right;\n",
       "    }\n",
       "</style>\n",
       "<table border=\"1\" class=\"dataframe\">\n",
       "  <thead>\n",
       "    <tr style=\"text-align: right;\">\n",
       "      <th></th>\n",
       "      <th>Bwd.Header.Length</th>\n",
       "      <th>Fwd.Packets.s</th>\n",
       "      <th>Bwd.Packets.s</th>\n",
       "      <th>Min.Packet.Length</th>\n",
       "      <th>Max.Packet.Length</th>\n",
       "      <th>Packet.Length.Mean</th>\n",
       "      <th>Packet.Length.Std</th>\n",
       "      <th>Packet.Length.Variance</th>\n",
       "      <th>FIN.Flag.Count</th>\n",
       "    </tr>\n",
       "  </thead>\n",
       "  <tbody>\n",
       "    <tr>\n",
       "      <th>count</th>\n",
       "      <td>3.577296e+06</td>\n",
       "      <td>3.577296e+06</td>\n",
       "      <td>3.577296e+06</td>\n",
       "      <td>3.577296e+06</td>\n",
       "      <td>3.577296e+06</td>\n",
       "      <td>3.577296e+06</td>\n",
       "      <td>3.577296e+06</td>\n",
       "      <td>3.577296e+06</td>\n",
       "      <td>3.577296e+06</td>\n",
       "    </tr>\n",
       "    <tr>\n",
       "      <th>mean</th>\n",
       "      <td>1.743621e+03</td>\n",
       "      <td>7.705816e+04</td>\n",
       "      <td>1.190522e+04</td>\n",
       "      <td>3.043745e+00</td>\n",
       "      <td>1.333250e+03</td>\n",
       "      <td>1.988191e+02</td>\n",
       "      <td>3.035190e+02</td>\n",
       "      <td>2.792736e+05</td>\n",
       "      <td>7.037159e-03</td>\n",
       "    </tr>\n",
       "    <tr>\n",
       "      <th>std</th>\n",
       "      <td>3.039190e+04</td>\n",
       "      <td>3.683153e+05</td>\n",
       "      <td>1.080206e+05</td>\n",
       "      <td>4.145472e+01</td>\n",
       "      <td>2.453395e+03</td>\n",
       "      <td>3.327427e+02</td>\n",
       "      <td>4.326083e+02</td>\n",
       "      <td>7.258608e+05</td>\n",
       "      <td>8.359210e-02</td>\n",
       "    </tr>\n",
       "    <tr>\n",
       "      <th>min</th>\n",
       "      <td>0.000000e+00</td>\n",
       "      <td>8.333337e-03</td>\n",
       "      <td>0.000000e+00</td>\n",
       "      <td>0.000000e+00</td>\n",
       "      <td>0.000000e+00</td>\n",
       "      <td>0.000000e+00</td>\n",
       "      <td>0.000000e+00</td>\n",
       "      <td>0.000000e+00</td>\n",
       "      <td>0.000000e+00</td>\n",
       "    </tr>\n",
       "    <tr>\n",
       "      <th>25%</th>\n",
       "      <td>3.200000e+01</td>\n",
       "      <td>5.417242e-01</td>\n",
       "      <td>1.009873e-01</td>\n",
       "      <td>0.000000e+00</td>\n",
       "      <td>6.000000e+00</td>\n",
       "      <td>6.000000e+00</td>\n",
       "      <td>0.000000e+00</td>\n",
       "      <td>0.000000e+00</td>\n",
       "      <td>0.000000e+00</td>\n",
       "    </tr>\n",
       "    <tr>\n",
       "      <th>50%</th>\n",
       "      <td>1.360000e+02</td>\n",
       "      <td>1.563422e+01</td>\n",
       "      <td>2.951696e+00</td>\n",
       "      <td>0.000000e+00</td>\n",
       "      <td>3.550000e+02</td>\n",
       "      <td>6.283333e+01</td>\n",
       "      <td>1.069828e+02</td>\n",
       "      <td>1.144531e+04</td>\n",
       "      <td>0.000000e+00</td>\n",
       "    </tr>\n",
       "    <tr>\n",
       "      <th>75%</th>\n",
       "      <td>4.200000e+02</td>\n",
       "      <td>2.164502e+03</td>\n",
       "      <td>8.344459e+01</td>\n",
       "      <td>6.000000e+00</td>\n",
       "      <td>1.460000e+03</td>\n",
       "      <td>2.500000e+02</td>\n",
       "      <td>4.818125e+02</td>\n",
       "      <td>2.321432e+05</td>\n",
       "      <td>0.000000e+00</td>\n",
       "    </tr>\n",
       "    <tr>\n",
       "      <th>max</th>\n",
       "      <td>1.284440e+07</td>\n",
       "      <td>6.000000e+06</td>\n",
       "      <td>5.000000e+06</td>\n",
       "      <td>7.063000e+03</td>\n",
       "      <td>3.764800e+04</td>\n",
       "      <td>1.070867e+04</td>\n",
       "      <td>9.268781e+03</td>\n",
       "      <td>8.591031e+07</td>\n",
       "      <td>1.000000e+00</td>\n",
       "    </tr>\n",
       "  </tbody>\n",
       "</table>\n",
       "</div>"
      ]
     },
     "metadata": {},
     "output_type": "display_data"
    }
   ],
   "source": [
    "network_traffic_analysis_dataframe.iloc[:,41:50].describe()"
   ]
  },
  {
   "cell_type": "code",
   "execution_count": 19,
   "metadata": {},
   "outputs": [
    {
     "data": {
      "text/html": [
       "<div>\n",
       "<style scoped>\n",
       "    .dataframe tbody tr th:only-of-type {\n",
       "        vertical-align: middle;\n",
       "    }\n",
       "\n",
       "    .dataframe tbody tr th {\n",
       "        vertical-align: top;\n",
       "    }\n",
       "\n",
       "    .dataframe thead th {\n",
       "        text-align: right;\n",
       "    }\n",
       "</style>\n",
       "<table border=\"1\" class=\"dataframe\">\n",
       "  <thead>\n",
       "    <tr style=\"text-align: right;\">\n",
       "      <th></th>\n",
       "      <th>RST.Flag.Count</th>\n",
       "      <th>PSH.Flag.Count</th>\n",
       "      <th>ACK.Flag.Count</th>\n",
       "      <th>URG.Flag.Count</th>\n",
       "      <th>CWE.Flag.Count</th>\n",
       "      <th>ECE.Flag.Count</th>\n",
       "      <th>Down.Up.Ratio</th>\n",
       "      <th>Average.Packet.Size</th>\n",
       "      <th>Avg.Fwd.Segment.Size</th>\n",
       "    </tr>\n",
       "  </thead>\n",
       "  <tbody>\n",
       "    <tr>\n",
       "      <th>count</th>\n",
       "      <td>3.577296e+06</td>\n",
       "      <td>3.577296e+06</td>\n",
       "      <td>3.577296e+06</td>\n",
       "      <td>3.577296e+06</td>\n",
       "      <td>3577296.0</td>\n",
       "      <td>3.577296e+06</td>\n",
       "      <td>3.577296e+06</td>\n",
       "      <td>3.577296e+06</td>\n",
       "      <td>3.577296e+06</td>\n",
       "    </tr>\n",
       "    <tr>\n",
       "      <th>mean</th>\n",
       "      <td>6.655865e-04</td>\n",
       "      <td>4.058210e-01</td>\n",
       "      <td>5.995705e-01</td>\n",
       "      <td>2.773847e-01</td>\n",
       "      <td>0.0</td>\n",
       "      <td>6.566412e-04</td>\n",
       "      <td>9.085471e-01</td>\n",
       "      <td>2.075630e+02</td>\n",
       "      <td>1.149212e+02</td>\n",
       "    </tr>\n",
       "    <tr>\n",
       "      <th>std</th>\n",
       "      <td>2.579038e-02</td>\n",
       "      <td>4.910503e-01</td>\n",
       "      <td>4.899855e-01</td>\n",
       "      <td>4.477080e-01</td>\n",
       "      <td>0.0</td>\n",
       "      <td>2.561660e-02</td>\n",
       "      <td>1.269945e+00</td>\n",
       "      <td>3.432270e+02</td>\n",
       "      <td>2.464707e+02</td>\n",
       "    </tr>\n",
       "    <tr>\n",
       "      <th>min</th>\n",
       "      <td>0.000000e+00</td>\n",
       "      <td>0.000000e+00</td>\n",
       "      <td>0.000000e+00</td>\n",
       "      <td>0.000000e+00</td>\n",
       "      <td>0.0</td>\n",
       "      <td>0.000000e+00</td>\n",
       "      <td>0.000000e+00</td>\n",
       "      <td>0.000000e+00</td>\n",
       "      <td>0.000000e+00</td>\n",
       "    </tr>\n",
       "    <tr>\n",
       "      <th>25%</th>\n",
       "      <td>0.000000e+00</td>\n",
       "      <td>0.000000e+00</td>\n",
       "      <td>0.000000e+00</td>\n",
       "      <td>0.000000e+00</td>\n",
       "      <td>0.0</td>\n",
       "      <td>0.000000e+00</td>\n",
       "      <td>0.000000e+00</td>\n",
       "      <td>9.000000e+00</td>\n",
       "      <td>6.000000e+00</td>\n",
       "    </tr>\n",
       "    <tr>\n",
       "      <th>50%</th>\n",
       "      <td>0.000000e+00</td>\n",
       "      <td>0.000000e+00</td>\n",
       "      <td>1.000000e+00</td>\n",
       "      <td>0.000000e+00</td>\n",
       "      <td>0.0</td>\n",
       "      <td>0.000000e+00</td>\n",
       "      <td>1.000000e+00</td>\n",
       "      <td>6.650000e+01</td>\n",
       "      <td>4.657143e+01</td>\n",
       "    </tr>\n",
       "    <tr>\n",
       "      <th>75%</th>\n",
       "      <td>0.000000e+00</td>\n",
       "      <td>1.000000e+00</td>\n",
       "      <td>1.000000e+00</td>\n",
       "      <td>1.000000e+00</td>\n",
       "      <td>0.0</td>\n",
       "      <td>0.000000e+00</td>\n",
       "      <td>1.000000e+00</td>\n",
       "      <td>2.637184e+02</td>\n",
       "      <td>1.225000e+02</td>\n",
       "    </tr>\n",
       "    <tr>\n",
       "      <th>max</th>\n",
       "      <td>1.000000e+00</td>\n",
       "      <td>1.000000e+00</td>\n",
       "      <td>1.000000e+00</td>\n",
       "      <td>1.000000e+00</td>\n",
       "      <td>0.0</td>\n",
       "      <td>1.000000e+00</td>\n",
       "      <td>2.930000e+02</td>\n",
       "      <td>1.606300e+04</td>\n",
       "      <td>1.606000e+04</td>\n",
       "    </tr>\n",
       "  </tbody>\n",
       "</table>\n",
       "</div>"
      ]
     },
     "metadata": {},
     "output_type": "display_data"
    }
   ],
   "source": [
    "network_traffic_analysis_dataframe.iloc[:,51:60].describe()"
   ]
  },
  {
   "cell_type": "code",
   "execution_count": 20,
   "metadata": {},
   "outputs": [
    {
     "data": {
      "text/html": [
       "<div>\n",
       "<style scoped>\n",
       "    .dataframe tbody tr th:only-of-type {\n",
       "        vertical-align: middle;\n",
       "    }\n",
       "\n",
       "    .dataframe tbody tr th {\n",
       "        vertical-align: top;\n",
       "    }\n",
       "\n",
       "    .dataframe thead th {\n",
       "        text-align: right;\n",
       "    }\n",
       "</style>\n",
       "<table border=\"1\" class=\"dataframe\">\n",
       "  <thead>\n",
       "    <tr style=\"text-align: right;\">\n",
       "      <th></th>\n",
       "      <th>Fwd.Header.Length.1</th>\n",
       "      <th>Fwd.Avg.Bytes.Bulk</th>\n",
       "      <th>Fwd.Avg.Packets.Bulk</th>\n",
       "      <th>Fwd.Avg.Bulk.Rate</th>\n",
       "      <th>Bwd.Avg.Bytes.Bulk</th>\n",
       "      <th>Bwd.Avg.Packets.Bulk</th>\n",
       "      <th>Bwd.Avg.Bulk.Rate</th>\n",
       "      <th>Subflow.Fwd.Packets</th>\n",
       "      <th>Subflow.Fwd.Bytes</th>\n",
       "    </tr>\n",
       "  </thead>\n",
       "  <tbody>\n",
       "    <tr>\n",
       "      <th>count</th>\n",
       "      <td>3.577296e+06</td>\n",
       "      <td>3577296.0</td>\n",
       "      <td>3577296.0</td>\n",
       "      <td>3577296.0</td>\n",
       "      <td>3577296.0</td>\n",
       "      <td>3577296.0</td>\n",
       "      <td>3577296.0</td>\n",
       "      <td>3.577296e+06</td>\n",
       "      <td>3.577296e+06</td>\n",
       "    </tr>\n",
       "    <tr>\n",
       "      <th>mean</th>\n",
       "      <td>1.653339e+03</td>\n",
       "      <td>0.0</td>\n",
       "      <td>0.0</td>\n",
       "      <td>0.0</td>\n",
       "      <td>0.0</td>\n",
       "      <td>0.0</td>\n",
       "      <td>0.0</td>\n",
       "      <td>6.237799e+01</td>\n",
       "      <td>4.683323e+04</td>\n",
       "    </tr>\n",
       "    <tr>\n",
       "      <th>std</th>\n",
       "      <td>3.008890e+04</td>\n",
       "      <td>0.0</td>\n",
       "      <td>0.0</td>\n",
       "      <td>0.0</td>\n",
       "      <td>0.0</td>\n",
       "      <td>0.0</td>\n",
       "      <td>0.0</td>\n",
       "      <td>1.094086e+03</td>\n",
       "      <td>1.816196e+06</td>\n",
       "    </tr>\n",
       "    <tr>\n",
       "      <th>min</th>\n",
       "      <td>0.000000e+00</td>\n",
       "      <td>0.0</td>\n",
       "      <td>0.0</td>\n",
       "      <td>0.0</td>\n",
       "      <td>0.0</td>\n",
       "      <td>0.0</td>\n",
       "      <td>0.0</td>\n",
       "      <td>1.000000e+00</td>\n",
       "      <td>0.000000e+00</td>\n",
       "    </tr>\n",
       "    <tr>\n",
       "      <th>25%</th>\n",
       "      <td>4.000000e+01</td>\n",
       "      <td>0.0</td>\n",
       "      <td>0.0</td>\n",
       "      <td>0.0</td>\n",
       "      <td>0.0</td>\n",
       "      <td>0.0</td>\n",
       "      <td>0.0</td>\n",
       "      <td>2.000000e+00</td>\n",
       "      <td>1.200000e+01</td>\n",
       "    </tr>\n",
       "    <tr>\n",
       "      <th>50%</th>\n",
       "      <td>1.520000e+02</td>\n",
       "      <td>0.0</td>\n",
       "      <td>0.0</td>\n",
       "      <td>0.0</td>\n",
       "      <td>0.0</td>\n",
       "      <td>0.0</td>\n",
       "      <td>0.0</td>\n",
       "      <td>6.000000e+00</td>\n",
       "      <td>4.430000e+02</td>\n",
       "    </tr>\n",
       "    <tr>\n",
       "      <th>75%</th>\n",
       "      <td>3.920000e+02</td>\n",
       "      <td>0.0</td>\n",
       "      <td>0.0</td>\n",
       "      <td>0.0</td>\n",
       "      <td>0.0</td>\n",
       "      <td>0.0</td>\n",
       "      <td>0.0</td>\n",
       "      <td>1.500000e+01</td>\n",
       "      <td>1.769000e+03</td>\n",
       "    </tr>\n",
       "    <tr>\n",
       "      <th>max</th>\n",
       "      <td>1.543950e+07</td>\n",
       "      <td>0.0</td>\n",
       "      <td>0.0</td>\n",
       "      <td>0.0</td>\n",
       "      <td>0.0</td>\n",
       "      <td>0.0</td>\n",
       "      <td>0.0</td>\n",
       "      <td>4.531900e+05</td>\n",
       "      <td>6.780236e+08</td>\n",
       "    </tr>\n",
       "  </tbody>\n",
       "</table>\n",
       "</div>"
      ]
     },
     "metadata": {},
     "output_type": "display_data"
    }
   ],
   "source": [
    "network_traffic_analysis_dataframe.iloc[:,61:70].describe()"
   ]
  },
  {
   "cell_type": "code",
   "execution_count": 21,
   "metadata": {},
   "outputs": [
    {
     "data": {
      "text/html": [
       "<div>\n",
       "<style scoped>\n",
       "    .dataframe tbody tr th:only-of-type {\n",
       "        vertical-align: middle;\n",
       "    }\n",
       "\n",
       "    .dataframe tbody tr th {\n",
       "        vertical-align: top;\n",
       "    }\n",
       "\n",
       "    .dataframe thead th {\n",
       "        text-align: right;\n",
       "    }\n",
       "</style>\n",
       "<table border=\"1\" class=\"dataframe\">\n",
       "  <thead>\n",
       "    <tr style=\"text-align: right;\">\n",
       "      <th></th>\n",
       "      <th>Subflow.Bwd.Bytes</th>\n",
       "      <th>Init_Win_bytes_forward</th>\n",
       "      <th>Init_Win_bytes_backward</th>\n",
       "      <th>act_data_pkt_fwd</th>\n",
       "      <th>min_seg_size_forward</th>\n",
       "      <th>Active.Mean</th>\n",
       "      <th>Active.Std</th>\n",
       "      <th>Active.Max</th>\n",
       "      <th>Active.Min</th>\n",
       "    </tr>\n",
       "  </thead>\n",
       "  <tbody>\n",
       "    <tr>\n",
       "      <th>count</th>\n",
       "      <td>3.577296e+06</td>\n",
       "      <td>3.577296e+06</td>\n",
       "      <td>3.577296e+06</td>\n",
       "      <td>3.577296e+06</td>\n",
       "      <td>3.577296e+06</td>\n",
       "      <td>3.577296e+06</td>\n",
       "      <td>3.577296e+06</td>\n",
       "      <td>3.577296e+06</td>\n",
       "      <td>3.577296e+06</td>\n",
       "    </tr>\n",
       "    <tr>\n",
       "      <th>mean</th>\n",
       "      <td>8.445742e+04</td>\n",
       "      <td>8.984691e+03</td>\n",
       "      <td>2.123489e+03</td>\n",
       "      <td>4.503535e+01</td>\n",
       "      <td>2.569738e+01</td>\n",
       "      <td>2.981990e+05</td>\n",
       "      <td>1.836406e+05</td>\n",
       "      <td>5.229372e+05</td>\n",
       "      <td>1.676336e+05</td>\n",
       "    </tr>\n",
       "    <tr>\n",
       "      <th>std</th>\n",
       "      <td>2.124319e+06</td>\n",
       "      <td>1.410126e+04</td>\n",
       "      <td>7.704789e+03</td>\n",
       "      <td>9.748192e+02</td>\n",
       "      <td>6.025989e+00</td>\n",
       "      <td>2.349390e+06</td>\n",
       "      <td>1.325838e+06</td>\n",
       "      <td>3.266508e+06</td>\n",
       "      <td>2.064219e+06</td>\n",
       "    </tr>\n",
       "    <tr>\n",
       "      <th>min</th>\n",
       "      <td>0.000000e+00</td>\n",
       "      <td>-1.000000e+00</td>\n",
       "      <td>-1.000000e+00</td>\n",
       "      <td>0.000000e+00</td>\n",
       "      <td>-1.000000e+00</td>\n",
       "      <td>0.000000e+00</td>\n",
       "      <td>0.000000e+00</td>\n",
       "      <td>0.000000e+00</td>\n",
       "      <td>0.000000e+00</td>\n",
       "    </tr>\n",
       "    <tr>\n",
       "      <th>25%</th>\n",
       "      <td>0.000000e+00</td>\n",
       "      <td>4.110000e+02</td>\n",
       "      <td>1.800000e+01</td>\n",
       "      <td>0.000000e+00</td>\n",
       "      <td>2.000000e+01</td>\n",
       "      <td>0.000000e+00</td>\n",
       "      <td>0.000000e+00</td>\n",
       "      <td>0.000000e+00</td>\n",
       "      <td>0.000000e+00</td>\n",
       "    </tr>\n",
       "    <tr>\n",
       "      <th>50%</th>\n",
       "      <td>2.080000e+02</td>\n",
       "      <td>5.840000e+03</td>\n",
       "      <td>2.620000e+02</td>\n",
       "      <td>2.000000e+00</td>\n",
       "      <td>2.000000e+01</td>\n",
       "      <td>0.000000e+00</td>\n",
       "      <td>0.000000e+00</td>\n",
       "      <td>0.000000e+00</td>\n",
       "      <td>0.000000e+00</td>\n",
       "    </tr>\n",
       "    <tr>\n",
       "      <th>75%</th>\n",
       "      <td>3.629000e+03</td>\n",
       "      <td>1.460000e+04</td>\n",
       "      <td>6.600000e+02</td>\n",
       "      <td>9.000000e+00</td>\n",
       "      <td>3.200000e+01</td>\n",
       "      <td>4.500000e+01</td>\n",
       "      <td>0.000000e+00</td>\n",
       "      <td>5.700000e+01</td>\n",
       "      <td>2.000000e+00</td>\n",
       "    </tr>\n",
       "    <tr>\n",
       "      <th>max</th>\n",
       "      <td>1.345796e+09</td>\n",
       "      <td>6.553500e+04</td>\n",
       "      <td>6.553500e+04</td>\n",
       "      <td>3.286940e+05</td>\n",
       "      <td>5.230000e+02</td>\n",
       "      <td>1.146950e+08</td>\n",
       "      <td>7.297136e+07</td>\n",
       "      <td>1.146950e+08</td>\n",
       "      <td>1.146950e+08</td>\n",
       "    </tr>\n",
       "  </tbody>\n",
       "</table>\n",
       "</div>"
      ]
     },
     "metadata": {},
     "output_type": "display_data"
    }
   ],
   "source": [
    "network_traffic_analysis_dataframe.iloc[:,71:80].describe()"
   ]
  },
  {
   "cell_type": "code",
   "execution_count": 22,
   "metadata": {},
   "outputs": [
    {
     "data": {
      "text/html": [
       "<div>\n",
       "<style scoped>\n",
       "    .dataframe tbody tr th:only-of-type {\n",
       "        vertical-align: middle;\n",
       "    }\n",
       "\n",
       "    .dataframe tbody tr th {\n",
       "        vertical-align: top;\n",
       "    }\n",
       "\n",
       "    .dataframe thead th {\n",
       "        text-align: right;\n",
       "    }\n",
       "</style>\n",
       "<table border=\"1\" class=\"dataframe\">\n",
       "  <thead>\n",
       "    <tr style=\"text-align: right;\">\n",
       "      <th></th>\n",
       "      <th>Idle.Std</th>\n",
       "      <th>Idle.Max</th>\n",
       "      <th>Idle.Min</th>\n",
       "      <th>L7Protocol</th>\n",
       "    </tr>\n",
       "  </thead>\n",
       "  <tbody>\n",
       "    <tr>\n",
       "      <th>count</th>\n",
       "      <td>3.577296e+06</td>\n",
       "      <td>3.577296e+06</td>\n",
       "      <td>3.577296e+06</td>\n",
       "      <td>3.577296e+06</td>\n",
       "    </tr>\n",
       "    <tr>\n",
       "      <th>mean</th>\n",
       "      <td>1.370991e+06</td>\n",
       "      <td>9.743845e+06</td>\n",
       "      <td>7.252097e+06</td>\n",
       "      <td>1.029508e+02</td>\n",
       "    </tr>\n",
       "    <tr>\n",
       "      <th>std</th>\n",
       "      <td>4.814474e+06</td>\n",
       "      <td>1.888557e+07</td>\n",
       "      <td>1.600754e+07</td>\n",
       "      <td>5.129198e+01</td>\n",
       "    </tr>\n",
       "    <tr>\n",
       "      <th>min</th>\n",
       "      <td>0.000000e+00</td>\n",
       "      <td>0.000000e+00</td>\n",
       "      <td>0.000000e+00</td>\n",
       "      <td>1.000000e+00</td>\n",
       "    </tr>\n",
       "    <tr>\n",
       "      <th>25%</th>\n",
       "      <td>0.000000e+00</td>\n",
       "      <td>0.000000e+00</td>\n",
       "      <td>0.000000e+00</td>\n",
       "      <td>9.100000e+01</td>\n",
       "    </tr>\n",
       "    <tr>\n",
       "      <th>50%</th>\n",
       "      <td>0.000000e+00</td>\n",
       "      <td>0.000000e+00</td>\n",
       "      <td>0.000000e+00</td>\n",
       "      <td>1.260000e+02</td>\n",
       "    </tr>\n",
       "    <tr>\n",
       "      <th>75%</th>\n",
       "      <td>0.000000e+00</td>\n",
       "      <td>8.034389e+06</td>\n",
       "      <td>5.369712e+06</td>\n",
       "      <td>1.300000e+02</td>\n",
       "    </tr>\n",
       "    <tr>\n",
       "      <th>max</th>\n",
       "      <td>7.738746e+07</td>\n",
       "      <td>1.200000e+08</td>\n",
       "      <td>1.200000e+08</td>\n",
       "      <td>2.220000e+02</td>\n",
       "    </tr>\n",
       "  </tbody>\n",
       "</table>\n",
       "</div>"
      ]
     },
     "metadata": {},
     "output_type": "display_data"
    }
   ],
   "source": [
    "network_traffic_analysis_dataframe.iloc[:,81:].describe()"
   ]
  },
  {
   "cell_type": "markdown",
   "metadata": {},
   "source": [
    "# Data Preparation"
   ]
  },
  {
   "cell_type": "markdown",
   "metadata": {},
   "source": [
    "### Detect for any null values in the dataset"
   ]
  },
  {
   "cell_type": "code",
   "execution_count": 18,
   "metadata": {},
   "outputs": [
    {
     "data": {
      "text/plain": [
       "Flow.ID                        0\n",
       "Source.IP                      0\n",
       "Source.Port                    0\n",
       "Destination.IP                 0\n",
       "Destination.Port               0\n",
       "Protocol                       0\n",
       "Timestamp                      0\n",
       "Flow.Duration                  0\n",
       "Total.Fwd.Packets              0\n",
       "Total.Backward.Packets         0\n",
       "Total.Length.of.Fwd.Packets    0\n",
       "Total.Length.of.Bwd.Packets    0\n",
       "Fwd.Packet.Length.Max          0\n",
       "Fwd.Packet.Length.Min          0\n",
       "Fwd.Packet.Length.Mean         0\n",
       "Fwd.Packet.Length.Std          0\n",
       "Bwd.Packet.Length.Max          0\n",
       "Bwd.Packet.Length.Min          0\n",
       "Bwd.Packet.Length.Mean         0\n",
       "Bwd.Packet.Length.Std          0\n",
       "dtype: int64"
      ]
     },
     "execution_count": 18,
     "metadata": {},
     "output_type": "execute_result"
    }
   ],
   "source": [
    "network_traffic_analysis_dataframe.isnull().sum()[:20]"
   ]
  },
  {
   "cell_type": "code",
   "execution_count": 19,
   "metadata": {},
   "outputs": [
    {
     "data": {
      "text/plain": [
       "Flow.Packets.s    0\n",
       "Flow.IAT.Mean     0\n",
       "Flow.IAT.Std      0\n",
       "Flow.IAT.Max      0\n",
       "Flow.IAT.Min      0\n",
       "Fwd.IAT.Total     0\n",
       "Fwd.IAT.Mean      0\n",
       "Fwd.IAT.Std       0\n",
       "Fwd.IAT.Max       0\n",
       "Fwd.IAT.Min       0\n",
       "Bwd.IAT.Total     0\n",
       "Bwd.IAT.Mean      0\n",
       "Bwd.IAT.Std       0\n",
       "Bwd.IAT.Max       0\n",
       "Bwd.IAT.Min       0\n",
       "Fwd.PSH.Flags     0\n",
       "Bwd.PSH.Flags     0\n",
       "Fwd.URG.Flags     0\n",
       "Bwd.URG.Flags     0\n",
       "dtype: int64"
      ]
     },
     "execution_count": 19,
     "metadata": {},
     "output_type": "execute_result"
    }
   ],
   "source": [
    "network_traffic_analysis_dataframe.isnull().sum()[21:40]"
   ]
  },
  {
   "cell_type": "code",
   "execution_count": 20,
   "metadata": {},
   "outputs": [
    {
     "data": {
      "text/plain": [
       "Bwd.Header.Length         0\n",
       "Fwd.Packets.s             0\n",
       "Bwd.Packets.s             0\n",
       "Min.Packet.Length         0\n",
       "Max.Packet.Length         0\n",
       "Packet.Length.Mean        0\n",
       "Packet.Length.Std         0\n",
       "Packet.Length.Variance    0\n",
       "FIN.Flag.Count            0\n",
       "SYN.Flag.Count            0\n",
       "RST.Flag.Count            0\n",
       "PSH.Flag.Count            0\n",
       "ACK.Flag.Count            0\n",
       "URG.Flag.Count            0\n",
       "CWE.Flag.Count            0\n",
       "ECE.Flag.Count            0\n",
       "Down.Up.Ratio             0\n",
       "Average.Packet.Size       0\n",
       "Avg.Fwd.Segment.Size      0\n",
       "dtype: int64"
      ]
     },
     "execution_count": 20,
     "metadata": {},
     "output_type": "execute_result"
    }
   ],
   "source": [
    "network_traffic_analysis_dataframe.isnull().sum()[41:60]"
   ]
  },
  {
   "cell_type": "code",
   "execution_count": 21,
   "metadata": {},
   "outputs": [
    {
     "data": {
      "text/plain": [
       "Fwd.Header.Length.1        0\n",
       "Fwd.Avg.Bytes.Bulk         0\n",
       "Fwd.Avg.Packets.Bulk       0\n",
       "Fwd.Avg.Bulk.Rate          0\n",
       "Bwd.Avg.Bytes.Bulk         0\n",
       "Bwd.Avg.Packets.Bulk       0\n",
       "Bwd.Avg.Bulk.Rate          0\n",
       "Subflow.Fwd.Packets        0\n",
       "Subflow.Fwd.Bytes          0\n",
       "Subflow.Bwd.Packets        0\n",
       "Subflow.Bwd.Bytes          0\n",
       "Init_Win_bytes_forward     0\n",
       "Init_Win_bytes_backward    0\n",
       "act_data_pkt_fwd           0\n",
       "min_seg_size_forward       0\n",
       "Active.Mean                0\n",
       "Active.Std                 0\n",
       "Active.Max                 0\n",
       "Active.Min                 0\n",
       "dtype: int64"
      ]
     },
     "execution_count": 21,
     "metadata": {},
     "output_type": "execute_result"
    }
   ],
   "source": [
    "network_traffic_analysis_dataframe.isnull().sum()[61:80]"
   ]
  },
  {
   "cell_type": "code",
   "execution_count": 22,
   "metadata": {},
   "outputs": [
    {
     "data": {
      "text/plain": [
       "Idle.Std        0\n",
       "Idle.Max        0\n",
       "Idle.Min        0\n",
       "Label           0\n",
       "L7Protocol      0\n",
       "ProtocolName    0\n",
       "dtype: int64"
      ]
     },
     "execution_count": 22,
     "metadata": {},
     "output_type": "execute_result"
    }
   ],
   "source": [
    "network_traffic_analysis_dataframe.isnull().sum()[81:]"
   ]
  },
  {
   "cell_type": "markdown",
   "metadata": {},
   "source": [
    "### Detect for any na values in the dataset"
   ]
  },
  {
   "cell_type": "code",
   "execution_count": 23,
   "metadata": {},
   "outputs": [
    {
     "data": {
      "text/plain": [
       "Flow.ID                        0\n",
       "Source.IP                      0\n",
       "Source.Port                    0\n",
       "Destination.IP                 0\n",
       "Destination.Port               0\n",
       "Protocol                       0\n",
       "Timestamp                      0\n",
       "Flow.Duration                  0\n",
       "Total.Fwd.Packets              0\n",
       "Total.Backward.Packets         0\n",
       "Total.Length.of.Fwd.Packets    0\n",
       "Total.Length.of.Bwd.Packets    0\n",
       "Fwd.Packet.Length.Max          0\n",
       "Fwd.Packet.Length.Min          0\n",
       "Fwd.Packet.Length.Mean         0\n",
       "Fwd.Packet.Length.Std          0\n",
       "Bwd.Packet.Length.Max          0\n",
       "Bwd.Packet.Length.Min          0\n",
       "Bwd.Packet.Length.Mean         0\n",
       "Bwd.Packet.Length.Std          0\n",
       "dtype: int64"
      ]
     },
     "execution_count": 23,
     "metadata": {},
     "output_type": "execute_result"
    }
   ],
   "source": [
    "network_traffic_analysis_dataframe.isna().sum()[:20]"
   ]
  },
  {
   "cell_type": "code",
   "execution_count": 24,
   "metadata": {},
   "outputs": [
    {
     "data": {
      "text/plain": [
       "Flow.Packets.s    0\n",
       "Flow.IAT.Mean     0\n",
       "Flow.IAT.Std      0\n",
       "Flow.IAT.Max      0\n",
       "Flow.IAT.Min      0\n",
       "Fwd.IAT.Total     0\n",
       "Fwd.IAT.Mean      0\n",
       "Fwd.IAT.Std       0\n",
       "Fwd.IAT.Max       0\n",
       "Fwd.IAT.Min       0\n",
       "Bwd.IAT.Total     0\n",
       "Bwd.IAT.Mean      0\n",
       "Bwd.IAT.Std       0\n",
       "Bwd.IAT.Max       0\n",
       "Bwd.IAT.Min       0\n",
       "Fwd.PSH.Flags     0\n",
       "Bwd.PSH.Flags     0\n",
       "Fwd.URG.Flags     0\n",
       "Bwd.URG.Flags     0\n",
       "dtype: int64"
      ]
     },
     "execution_count": 24,
     "metadata": {},
     "output_type": "execute_result"
    }
   ],
   "source": [
    "network_traffic_analysis_dataframe.isna().sum()[21:40]"
   ]
  },
  {
   "cell_type": "code",
   "execution_count": 25,
   "metadata": {},
   "outputs": [
    {
     "data": {
      "text/plain": [
       "Bwd.Header.Length         0\n",
       "Fwd.Packets.s             0\n",
       "Bwd.Packets.s             0\n",
       "Min.Packet.Length         0\n",
       "Max.Packet.Length         0\n",
       "Packet.Length.Mean        0\n",
       "Packet.Length.Std         0\n",
       "Packet.Length.Variance    0\n",
       "FIN.Flag.Count            0\n",
       "SYN.Flag.Count            0\n",
       "RST.Flag.Count            0\n",
       "PSH.Flag.Count            0\n",
       "ACK.Flag.Count            0\n",
       "URG.Flag.Count            0\n",
       "CWE.Flag.Count            0\n",
       "ECE.Flag.Count            0\n",
       "Down.Up.Ratio             0\n",
       "Average.Packet.Size       0\n",
       "Avg.Fwd.Segment.Size      0\n",
       "dtype: int64"
      ]
     },
     "execution_count": 25,
     "metadata": {},
     "output_type": "execute_result"
    }
   ],
   "source": [
    "network_traffic_analysis_dataframe.isna().sum()[41:60]"
   ]
  },
  {
   "cell_type": "code",
   "execution_count": 26,
   "metadata": {},
   "outputs": [
    {
     "data": {
      "text/plain": [
       "Fwd.Header.Length.1        0\n",
       "Fwd.Avg.Bytes.Bulk         0\n",
       "Fwd.Avg.Packets.Bulk       0\n",
       "Fwd.Avg.Bulk.Rate          0\n",
       "Bwd.Avg.Bytes.Bulk         0\n",
       "Bwd.Avg.Packets.Bulk       0\n",
       "Bwd.Avg.Bulk.Rate          0\n",
       "Subflow.Fwd.Packets        0\n",
       "Subflow.Fwd.Bytes          0\n",
       "Subflow.Bwd.Packets        0\n",
       "Subflow.Bwd.Bytes          0\n",
       "Init_Win_bytes_forward     0\n",
       "Init_Win_bytes_backward    0\n",
       "act_data_pkt_fwd           0\n",
       "min_seg_size_forward       0\n",
       "Active.Mean                0\n",
       "Active.Std                 0\n",
       "Active.Max                 0\n",
       "Active.Min                 0\n",
       "dtype: int64"
      ]
     },
     "execution_count": 26,
     "metadata": {},
     "output_type": "execute_result"
    }
   ],
   "source": [
    "network_traffic_analysis_dataframe.isna().sum()[61:80]"
   ]
  },
  {
   "cell_type": "code",
   "execution_count": 27,
   "metadata": {},
   "outputs": [
    {
     "data": {
      "text/plain": [
       "Idle.Std        0\n",
       "Idle.Max        0\n",
       "Idle.Min        0\n",
       "Label           0\n",
       "L7Protocol      0\n",
       "ProtocolName    0\n",
       "dtype: int64"
      ]
     },
     "execution_count": 27,
     "metadata": {},
     "output_type": "execute_result"
    }
   ],
   "source": [
    "network_traffic_analysis_dataframe.isna().sum()[81:]"
   ]
  },
  {
   "cell_type": "markdown",
   "metadata": {},
   "source": [
    "### Determine the classes in data columns that are object data type"
   ]
  },
  {
   "cell_type": "code",
   "execution_count": 28,
   "metadata": {},
   "outputs": [
    {
     "data": {
      "text/plain": [
       "Index(['Flow.ID', 'Source.IP', 'Destination.IP', 'Timestamp', 'Label',\n",
       "       'ProtocolName'],\n",
       "      dtype='object')"
      ]
     },
     "execution_count": 28,
     "metadata": {},
     "output_type": "execute_result"
    }
   ],
   "source": [
    "network_traffic_analysis_dataframe.select_dtypes(\"object\").columns"
   ]
  },
  {
   "cell_type": "markdown",
   "metadata": {},
   "source": [
    "Determine the classes in Label column"
   ]
  },
  {
   "cell_type": "code",
   "execution_count": 29,
   "metadata": {},
   "outputs": [
    {
     "data": {
      "text/plain": [
       "array(['BENIGN'], dtype=object)"
      ]
     },
     "execution_count": 29,
     "metadata": {},
     "output_type": "execute_result"
    }
   ],
   "source": [
    "network_traffic_analysis_dataframe[\"Label\"].unique()"
   ]
  },
  {
   "cell_type": "markdown",
   "metadata": {},
   "source": [
    "### Mapping of L7Protocol and ProtocolName"
   ]
  },
  {
   "cell_type": "code",
   "execution_count": 30,
   "metadata": {},
   "outputs": [],
   "source": [
    "# Create a dictionary based on\n",
    "\n",
    "protocol_name_list: list[str] = network_traffic_analysis_dataframe[\"ProtocolName\"].unique()\n",
    "\n",
    "number_of_data_to_iterate: int = len(network_traffic_analysis_dataframe[\"ProtocolName\"].unique())\n",
    "\n",
    "protocol_index_to_name_mapping: dict[int, str] = {}\n",
    "protocol_name_to_index_mapping: dict[str, int] = {}\n",
    "\n",
    "for index in range(number_of_data_to_iterate):\n",
    "    data = network_traffic_analysis_dataframe[network_traffic_analysis_dataframe[\"ProtocolName\"] == protocol_name_list[index]].head(1)[[\"L7Protocol\", \"ProtocolName\"]]\n",
    "\n",
    "    protocol_index_to_name_mapping[data[\"L7Protocol\"].values[0]] = data[\"ProtocolName\"].values[0]\n",
    "    protocol_name_to_index_mapping[data[\"ProtocolName\"].values[0]] = data[\"L7Protocol\"].values[0]\n",
    "\n",
    "\n"
   ]
  },
  {
   "cell_type": "code",
   "execution_count": 31,
   "metadata": {},
   "outputs": [
    {
     "data": {
      "text/plain": [
       "{np.int64(131): 'HTTP_PROXY',\n",
       " np.int64(7): 'HTTP',\n",
       " np.int64(130): 'HTTP_CONNECT',\n",
       " np.int64(91): 'SSL',\n",
       " np.int64(126): 'GOOGLE',\n",
       " np.int64(124): 'YOUTUBE',\n",
       " np.int64(119): 'FACEBOOK',\n",
       " np.int64(40): 'CONTENT_FLASH',\n",
       " np.int64(121): 'DROPBOX',\n",
       " np.int64(147): 'WINDOWS_UPDATE',\n",
       " np.int64(178): 'AMAZON',\n",
       " np.int64(212): 'MICROSOFT',\n",
       " np.int64(163): 'TOR',\n",
       " np.int64(122): 'GMAIL',\n",
       " np.int64(70): 'YAHOO',\n",
       " np.int64(68): 'MSN',\n",
       " np.int64(64): 'SSL_NO_CERT',\n",
       " np.int64(125): 'SKYPE',\n",
       " np.int64(221): 'MS_ONE_DRIVE',\n",
       " np.int64(114): 'MSSQL',\n",
       " np.int64(120): 'TWITTER',\n",
       " np.int64(143): 'APPLE_ICLOUD',\n",
       " np.int64(220): 'CLOUDFLARE',\n",
       " np.int64(169): 'UBUNTUONE',\n",
       " np.int64(219): 'OFFICE_365',\n",
       " np.int64(176): 'WIKIPEDIA',\n",
       " np.int64(201): 'OPENSIGNAL',\n",
       " np.int64(5): 'DNS',\n",
       " np.int64(60): 'HTTP_DOWNLOAD',\n",
       " np.int64(142): 'WHATSAPP',\n",
       " np.int64(145): 'APPLE_ITUNES',\n",
       " np.int64(175): 'FTP_DATA',\n",
       " np.int64(132): 'CITRIX',\n",
       " np.int64(140): 'APPLE',\n",
       " np.int64(222): 'MQTT',\n",
       " np.int64(211): 'INSTAGRAM',\n",
       " np.int64(179): 'EBAY',\n",
       " np.int64(123): 'GOOGLE_MAPS',\n",
       " np.int64(81): 'IP_ICMP',\n",
       " np.int64(9): 'NTP',\n",
       " np.int64(148): 'TEAMVIEWER',\n",
       " np.int64(156): 'SPOTIFY',\n",
       " np.int64(203): 'EASYTAXI',\n",
       " np.int64(51): 'MAIL_IMAPS',\n",
       " np.int64(195): 'TWITCH',\n",
       " np.int64(133): 'NETFLIX',\n",
       " np.int64(92): 'SSH',\n",
       " np.int64(200): 'SIMET',\n",
       " np.int64(67): 'UNENCRYPED_JABBER',\n",
       " np.int64(135): 'WAZE',\n",
       " np.int64(153): 'UPNP',\n",
       " np.int64(36): 'EDONKEY',\n",
       " np.int64(69): 'OSCAR',\n",
       " np.int64(167): 'ORACLE',\n",
       " np.int64(210): 'DEEZER',\n",
       " np.int64(159): 'OPENVPN',\n",
       " np.int64(170): 'WHOIS_DAS',\n",
       " np.int64(164): 'SKINNY',\n",
       " np.int64(213): 'STARCRAFT',\n",
       " np.int64(11): 'NFS',\n",
       " np.int64(174): 'RTMP',\n",
       " np.int64(162): 'TEAMSPEAK',\n",
       " np.int64(14): 'SNMP',\n",
       " np.int64(202): '99TAXI',\n",
       " np.int64(48): 'QQ',\n",
       " np.int64(185): 'TELEGRAM',\n",
       " np.int64(1): 'FTP_CONTROL',\n",
       " np.int64(150): 'LOTUS_NOTES',\n",
       " np.int64(158): 'H323',\n",
       " np.int64(139): 'CITRIX_ONLINE',\n",
       " np.int64(134): 'LASTFM',\n",
       " np.int64(85): 'IP_OSPF',\n",
       " np.int64(180): 'CNN',\n",
       " np.int64(13): 'BGP',\n",
       " np.int64(146): 'RADIUS',\n",
       " np.int64(172): 'SOCKS',\n",
       " np.int64(37): 'BITTORRENT',\n",
       " np.int64(191): 'TIMMEU'}"
      ]
     },
     "execution_count": 31,
     "metadata": {},
     "output_type": "execute_result"
    }
   ],
   "source": [
    "protocol_index_to_name_mapping"
   ]
  },
  {
   "cell_type": "markdown",
   "metadata": {},
   "source": [
    "### Mapping of Protocol and OSI Model"
   ]
  },
  {
   "cell_type": "code",
   "execution_count": 32,
   "metadata": {},
   "outputs": [
    {
     "data": {
      "text/plain": [
       "array([ 6, 17,  0])"
      ]
     },
     "execution_count": 32,
     "metadata": {},
     "output_type": "execute_result"
    }
   ],
   "source": [
    "# Create a mapping of the number in Protocol column and the OSI model\n",
    "network_traffic_analysis_dataframe[\"Protocol\"].unique()\n"
   ]
  },
  {
   "cell_type": "markdown",
   "metadata": {},
   "source": [
    "https://github.com/CanadianInstituteForCybersecurity/CICFlowMeter/blob/master/src/main/java/cic/cs/unb/ca/jnetpcap/PacketReader.java\n",
    "\n",
    "From Line 401 to 438\n",
    "\n",
    "The code implementation shows, if the protocol is TCP then the protocol number is set to 6\n",
    "If the protocol is UDP then the protocol is set to 17\n"
   ]
  },
  {
   "cell_type": "markdown",
   "metadata": {},
   "source": [
    "https://github.com/CanadianInstituteForCybersecurity/CICFlowMeter/blob/master/src/main/java/cic/cs/unb/ca/jnetpcap/FlowFeature.java\n",
    "\n",
    "From Line 188 to 206 also shows the same implemenatation\n",
    "\n",
    "TCP = 6 \n",
    "UDP = 17\n",
    "\n",
    "Others = 0"
   ]
  },
  {
   "cell_type": "markdown",
   "metadata": {},
   "source": [
    "https://github.com/CanadianInstituteForCybersecurity/CICFlowMeter/blob/master/src/main/java/cic/cs/unb/ca/jnetpcap/BasicFlow.java\n",
    "\n",
    "From line 788 to 795\n",
    "\n",
    "There is a mapping for protocol number to protocol str"
   ]
  },
  {
   "cell_type": "markdown",
   "metadata": {},
   "source": [
    "Therefore the mapping of Protocol to Code will be in this mapping.\n",
    "\n",
    "TCP = 6\n",
    "\n",
    "UDP = 17\n",
    "\n",
    "OTHERS = 0\n"
   ]
  },
  {
   "cell_type": "code",
   "execution_count": 33,
   "metadata": {},
   "outputs": [],
   "source": [
    "TCP: str = \"TCP\"\n",
    "UDP: str = \"UDP\"\n",
    "OTHERS: str = \"OTHERS\""
   ]
  },
  {
   "cell_type": "code",
   "execution_count": 34,
   "metadata": {},
   "outputs": [],
   "source": [
    "TCP_CODE: int = 6\n",
    "UDP_CODE: int = 17\n",
    "OTHER_CODE: int = 0"
   ]
  },
  {
   "cell_type": "code",
   "execution_count": 35,
   "metadata": {},
   "outputs": [],
   "source": [
    "protocol_to_code_mapping: dict = {\n",
    "    TCP: TCP_CODE,\n",
    "    UDP: UDP_CODE,\n",
    "    OTHERS: OTHER_CODE\n",
    "}"
   ]
  },
  {
   "cell_type": "markdown",
   "metadata": {},
   "source": [
    "### Split TimeStamp into 2 different columns (Date and Time)"
   ]
  },
  {
   "cell_type": "code",
   "execution_count": 36,
   "metadata": {},
   "outputs": [],
   "source": [
    "# https://regexr.com/\n",
    "network_traffic_analysis_dataframe[\"Date\"] = network_traffic_analysis_dataframe[\"Timestamp\"].str.extract(r\"(\\d{1,2}\\/\\d{1,2}\\/\\d{2,4})\")\n"
   ]
  },
  {
   "cell_type": "code",
   "execution_count": 37,
   "metadata": {},
   "outputs": [],
   "source": [
    "network_traffic_analysis_dataframe[\"Time\"] = network_traffic_analysis_dataframe[\"Timestamp\"].str.extract(r\"(\\d{1,2}\\:\\d{1,2}\\:\\d{1,2})\")"
   ]
  },
  {
   "cell_type": "code",
   "execution_count": 38,
   "metadata": {},
   "outputs": [
    {
     "data": {
      "text/plain": [
       "0          11:11:17\n",
       "1          11:11:17\n",
       "2          11:11:17\n",
       "3          11:11:17\n",
       "4          11:11:17\n",
       "             ...   \n",
       "3577291    05:43:40\n",
       "3577292    05:46:10\n",
       "3577293    05:45:39\n",
       "3577294    05:45:59\n",
       "3577295    05:46:05\n",
       "Name: Time, Length: 3577296, dtype: object"
      ]
     },
     "execution_count": 38,
     "metadata": {},
     "output_type": "execute_result"
    }
   ],
   "source": [
    "network_traffic_analysis_dataframe[\"Time\"]"
   ]
  },
  {
   "cell_type": "markdown",
   "metadata": {},
   "source": [
    "\n",
    "* Preprocess the data for modeling, including feature scaling and encoding categorical variables."
   ]
  },
  {
   "cell_type": "markdown",
   "metadata": {},
   "source": [
    "### Remove Flow.ID column"
   ]
  },
  {
   "cell_type": "markdown",
   "metadata": {},
   "source": [
    "This is because this column Flow.ID is an identifier for each row. There is no meaning in the data therefore it should be removed."
   ]
  },
  {
   "cell_type": "code",
   "execution_count": 39,
   "metadata": {},
   "outputs": [],
   "source": [
    "network_traffic_analysis_dataframe.drop(labels=\"Flow.ID\", axis=1, inplace=True)"
   ]
  },
  {
   "cell_type": "markdown",
   "metadata": {},
   "source": [
    "### Remove ProtocolName"
   ]
  },
  {
   "cell_type": "code",
   "execution_count": 40,
   "metadata": {},
   "outputs": [],
   "source": [
    "#network_traffic_analysis_dataframe.drop(labels=\"ProtocolName\", axis=1, inplace=True)"
   ]
  },
  {
   "cell_type": "markdown",
   "metadata": {},
   "source": [
    "### Remove Label"
   ]
  },
  {
   "cell_type": "code",
   "execution_count": 41,
   "metadata": {},
   "outputs": [],
   "source": [
    "network_traffic_analysis_dataframe.drop(labels=\"Label\", axis=1, inplace=True)"
   ]
  },
  {
   "cell_type": "markdown",
   "metadata": {},
   "source": [
    "### Remove Timestamp"
   ]
  },
  {
   "cell_type": "code",
   "execution_count": 42,
   "metadata": {},
   "outputs": [],
   "source": [
    "network_traffic_analysis_dataframe.drop(labels=\"Timestamp\", axis=1, inplace=True)"
   ]
  },
  {
   "cell_type": "markdown",
   "metadata": {},
   "source": [
    "### Remove date and time"
   ]
  },
  {
   "cell_type": "code",
   "execution_count": 43,
   "metadata": {},
   "outputs": [],
   "source": [
    "network_traffic_analysis_dataframe_v2 = network_traffic_analysis_dataframe.drop(labels=\"Date\", axis=1)"
   ]
  },
  {
   "cell_type": "code",
   "execution_count": 44,
   "metadata": {},
   "outputs": [],
   "source": [
    "network_traffic_analysis_dataframe_v3 = network_traffic_analysis_dataframe_v2.drop(labels=\"Time\", axis=1)"
   ]
  },
  {
   "cell_type": "markdown",
   "metadata": {},
   "source": [
    "### Remove Source.IP and Destination.IP"
   ]
  },
  {
   "cell_type": "code",
   "execution_count": 45,
   "metadata": {},
   "outputs": [],
   "source": [
    "network_traffic_analysis_dataframe_v4 = network_traffic_analysis_dataframe_v3.drop(labels=\"Source.IP\", axis=1)"
   ]
  },
  {
   "cell_type": "code",
   "execution_count": 46,
   "metadata": {},
   "outputs": [],
   "source": [
    "network_traffic_analysis_dataframe_v5 = network_traffic_analysis_dataframe_v4.drop(labels=\"Destination.IP\", axis=1)"
   ]
  },
  {
   "cell_type": "code",
   "execution_count": 47,
   "metadata": {},
   "outputs": [
    {
     "data": {
      "text/html": [
       "<div>\n",
       "<style scoped>\n",
       "    .dataframe tbody tr th:only-of-type {\n",
       "        vertical-align: middle;\n",
       "    }\n",
       "\n",
       "    .dataframe tbody tr th {\n",
       "        vertical-align: top;\n",
       "    }\n",
       "\n",
       "    .dataframe thead th {\n",
       "        text-align: right;\n",
       "    }\n",
       "</style>\n",
       "<table border=\"1\" class=\"dataframe\">\n",
       "  <thead>\n",
       "    <tr style=\"text-align: right;\">\n",
       "      <th></th>\n",
       "    </tr>\n",
       "  </thead>\n",
       "  <tbody>\n",
       "    <tr>\n",
       "      <th>0</th>\n",
       "    </tr>\n",
       "    <tr>\n",
       "      <th>1</th>\n",
       "    </tr>\n",
       "    <tr>\n",
       "      <th>2</th>\n",
       "    </tr>\n",
       "    <tr>\n",
       "      <th>3</th>\n",
       "    </tr>\n",
       "    <tr>\n",
       "      <th>4</th>\n",
       "    </tr>\n",
       "    <tr>\n",
       "      <th>...</th>\n",
       "    </tr>\n",
       "    <tr>\n",
       "      <th>3577291</th>\n",
       "    </tr>\n",
       "    <tr>\n",
       "      <th>3577292</th>\n",
       "    </tr>\n",
       "    <tr>\n",
       "      <th>3577293</th>\n",
       "    </tr>\n",
       "    <tr>\n",
       "      <th>3577294</th>\n",
       "    </tr>\n",
       "    <tr>\n",
       "      <th>3577295</th>\n",
       "    </tr>\n",
       "  </tbody>\n",
       "</table>\n",
       "<p>3577296 rows × 0 columns</p>\n",
       "</div>"
      ]
     },
     "metadata": {},
     "output_type": "display_data"
    }
   ],
   "source": [
    "network_traffic_analysis_dataframe_v5.select_dtypes([\"object\"])"
   ]
  },
  {
   "cell_type": "code",
   "execution_count": 48,
   "metadata": {},
   "outputs": [
    {
     "data": {
      "text/plain": [
       "array([52422,  3128,    80, ...,  6507, 10192, 10182])"
      ]
     },
     "execution_count": 48,
     "metadata": {},
     "output_type": "execute_result"
    }
   ],
   "source": [
    "#What are the top 20 Source Ports in this dataset?\n",
    "\n",
    "network_traffic_analysis_dataframe[\"Source.Port\"].unique()"
   ]
  },
  {
   "cell_type": "markdown",
   "metadata": {},
   "source": [
    "# Further Data Exploration"
   ]
  },
  {
   "cell_type": "markdown",
   "metadata": {},
   "source": [
    "## Explore the distribution of Application used"
   ]
  },
  {
   "cell_type": "markdown",
   "metadata": {},
   "source": [
    "The L7Protocol and ProtocolName are related where L7Protocol is the unique numerical data that represents the ProtocolName and ProtocolName is the name of the application used to access the internet."
   ]
  },
  {
   "cell_type": "code",
   "execution_count": 25,
   "metadata": {},
   "outputs": [
    {
     "data": {
      "text/plain": [
       "ProtocolName\n",
       "GOOGLE            959110\n",
       "HTTP              683734\n",
       "HTTP_PROXY        623210\n",
       "SSL               404883\n",
       "HTTP_CONNECT      317526\n",
       "YOUTUBE           170781\n",
       "AMAZON             86875\n",
       "MICROSOFT          54710\n",
       "GMAIL              40260\n",
       "WINDOWS_UPDATE     34471\n",
       "SKYPE              30657\n",
       "FACEBOOK           29033\n",
       "DROPBOX            25102\n",
       "YAHOO              21268\n",
       "TWITTER            18259\n",
       "CLOUDFLARE         14737\n",
       "MSN                14478\n",
       "CONTENT_FLASH       8589\n",
       "APPLE               7615\n",
       "OFFICE_365          5941\n",
       "Name: count, dtype: int64"
      ]
     },
     "execution_count": 25,
     "metadata": {},
     "output_type": "execute_result"
    }
   ],
   "source": [
    "network_traffic_analysis_dataframe[\"ProtocolName\"].value_counts().head(20)"
   ]
  },
  {
   "cell_type": "markdown",
   "metadata": {},
   "source": [
    "## Analysis on TCP 3-way handshake in the dataset"
   ]
  },
  {
   "cell_type": "markdown",
   "metadata": {},
   "source": [
    "### Explore the SYN Flag Count distribution"
   ]
  },
  {
   "cell_type": "code",
   "execution_count": 46,
   "metadata": {},
   "outputs": [
    {
     "data": {
      "text/plain": [
       "SYN.Flag.Count\n",
       "0    2961853\n",
       "1     615443\n",
       "Name: count, dtype: int64"
      ]
     },
     "execution_count": 46,
     "metadata": {},
     "output_type": "execute_result"
    }
   ],
   "source": [
    "network_traffic_analysis_dataframe[\"SYN.Flag.Count\"].value_counts()"
   ]
  },
  {
   "cell_type": "code",
   "execution_count": 47,
   "metadata": {},
   "outputs": [
    {
     "data": {
      "text/plain": [
       "array([ 6, 17,  0])"
      ]
     },
     "execution_count": 47,
     "metadata": {},
     "output_type": "execute_result"
    }
   ],
   "source": [
    "network_traffic_analysis_dataframe[network_traffic_analysis_dataframe[\"SYN.Flag.Count\"] == 0][\"Protocol\"].unique()"
   ]
  },
  {
   "cell_type": "code",
   "execution_count": 52,
   "metadata": {},
   "outputs": [
    {
     "data": {
      "text/plain": [
       "np.int64(2957532)"
      ]
     },
     "execution_count": 52,
     "metadata": {},
     "output_type": "execute_result"
    }
   ],
   "source": [
    "network_traffic_analysis_dataframe[(network_traffic_analysis_dataframe[\"SYN.Flag.Count\"] == 0) & (network_traffic_analysis_dataframe[\"Protocol\"] == 6)][\"Protocol\"].count()"
   ]
  },
  {
   "cell_type": "code",
   "execution_count": 53,
   "metadata": {},
   "outputs": [
    {
     "data": {
      "text/plain": [
       "np.int64(4321)"
      ]
     },
     "execution_count": 53,
     "metadata": {},
     "output_type": "execute_result"
    }
   ],
   "source": [
    "network_traffic_analysis_dataframe[(network_traffic_analysis_dataframe[\"SYN.Flag.Count\"] == 0) & (network_traffic_analysis_dataframe[\"Protocol\"] != 6)][\"Protocol\"].count()"
   ]
  },
  {
   "cell_type": "code",
   "execution_count": 48,
   "metadata": {},
   "outputs": [
    {
     "data": {
      "text/plain": [
       "array([6])"
      ]
     },
     "execution_count": 48,
     "metadata": {},
     "output_type": "execute_result"
    }
   ],
   "source": [
    "network_traffic_analysis_dataframe[network_traffic_analysis_dataframe[\"SYN.Flag.Count\"] == 1][\"Protocol\"].unique()"
   ]
  },
  {
   "cell_type": "markdown",
   "metadata": {},
   "source": [
    "TCP connection is initiated with SYN packet and there are higher frequency of TCP flow without SYN packets"
   ]
  },
  {
   "cell_type": "markdown",
   "metadata": {},
   "source": [
    "### Explore RST Flag data distribution"
   ]
  },
  {
   "cell_type": "markdown",
   "metadata": {},
   "source": [
    "https://en.wikipedia.org/wiki/TCP_reset_attack \n",
    "\n",
    "https://www.extrahop.com/blog/tcp-resets-rst-prevent-command-and-control-dos-attacks"
   ]
  },
  {
   "cell_type": "code",
   "execution_count": 55,
   "metadata": {},
   "outputs": [
    {
     "data": {
      "text/plain": [
       "RST.Flag.Count\n",
       "0    3574915\n",
       "1       2381\n",
       "Name: count, dtype: int64"
      ]
     },
     "execution_count": 55,
     "metadata": {},
     "output_type": "execute_result"
    }
   ],
   "source": [
    "network_traffic_analysis_dataframe[\"RST.Flag.Count\"].value_counts()"
   ]
  },
  {
   "cell_type": "code",
   "execution_count": 57,
   "metadata": {},
   "outputs": [
    {
     "data": {
      "text/plain": [
       "Protocol\n",
       "6    2381\n",
       "Name: count, dtype: int64"
      ]
     },
     "execution_count": 57,
     "metadata": {},
     "output_type": "execute_result"
    }
   ],
   "source": [
    "network_traffic_analysis_dataframe[network_traffic_analysis_dataframe[\"RST.Flag.Count\"] == 1][\"Protocol\"].value_counts()"
   ]
  },
  {
   "cell_type": "code",
   "execution_count": 59,
   "metadata": {},
   "outputs": [
    {
     "data": {
      "text/html": [
       "<div>\n",
       "<style scoped>\n",
       "    .dataframe tbody tr th:only-of-type {\n",
       "        vertical-align: middle;\n",
       "    }\n",
       "\n",
       "    .dataframe tbody tr th {\n",
       "        vertical-align: top;\n",
       "    }\n",
       "\n",
       "    .dataframe thead th {\n",
       "        text-align: right;\n",
       "    }\n",
       "</style>\n",
       "<table border=\"1\" class=\"dataframe\">\n",
       "  <thead>\n",
       "    <tr style=\"text-align: right;\">\n",
       "      <th></th>\n",
       "      <th>Flow.ID</th>\n",
       "      <th>Source.IP</th>\n",
       "      <th>Source.Port</th>\n",
       "      <th>Destination.IP</th>\n",
       "      <th>Destination.Port</th>\n",
       "      <th>Protocol</th>\n",
       "      <th>Timestamp</th>\n",
       "      <th>Flow.Duration</th>\n",
       "      <th>Total.Fwd.Packets</th>\n",
       "      <th>Total.Backward.Packets</th>\n",
       "      <th>...</th>\n",
       "      <th>Active.Std</th>\n",
       "      <th>Active.Max</th>\n",
       "      <th>Active.Min</th>\n",
       "      <th>Idle.Mean</th>\n",
       "      <th>Idle.Std</th>\n",
       "      <th>Idle.Max</th>\n",
       "      <th>Idle.Min</th>\n",
       "      <th>Label</th>\n",
       "      <th>L7Protocol</th>\n",
       "      <th>ProtocolName</th>\n",
       "    </tr>\n",
       "  </thead>\n",
       "  <tbody>\n",
       "    <tr>\n",
       "      <th>1900</th>\n",
       "      <td>192.168.32.3-10.200.7.8-50687-3128-6</td>\n",
       "      <td>192.168.32.3</td>\n",
       "      <td>50687</td>\n",
       "      <td>10.200.7.8</td>\n",
       "      <td>3128</td>\n",
       "      <td>6</td>\n",
       "      <td>26/04/201711:11:28</td>\n",
       "      <td>118867</td>\n",
       "      <td>8</td>\n",
       "      <td>14</td>\n",
       "      <td>...</td>\n",
       "      <td>0.000000</td>\n",
       "      <td>0.0</td>\n",
       "      <td>0.0</td>\n",
       "      <td>0.000000e+00</td>\n",
       "      <td>0.000000e+00</td>\n",
       "      <td>0.0</td>\n",
       "      <td>0.0</td>\n",
       "      <td>BENIGN</td>\n",
       "      <td>131</td>\n",
       "      <td>HTTP_PROXY</td>\n",
       "    </tr>\n",
       "    <tr>\n",
       "      <th>1943</th>\n",
       "      <td>192.168.32.3-10.200.7.8-50688-3128-6</td>\n",
       "      <td>192.168.32.3</td>\n",
       "      <td>50688</td>\n",
       "      <td>10.200.7.8</td>\n",
       "      <td>3128</td>\n",
       "      <td>6</td>\n",
       "      <td>26/04/201711:11:28</td>\n",
       "      <td>194774</td>\n",
       "      <td>8</td>\n",
       "      <td>15</td>\n",
       "      <td>...</td>\n",
       "      <td>0.000000</td>\n",
       "      <td>0.0</td>\n",
       "      <td>0.0</td>\n",
       "      <td>0.000000e+00</td>\n",
       "      <td>0.000000e+00</td>\n",
       "      <td>0.0</td>\n",
       "      <td>0.0</td>\n",
       "      <td>BENIGN</td>\n",
       "      <td>131</td>\n",
       "      <td>HTTP_PROXY</td>\n",
       "    </tr>\n",
       "    <tr>\n",
       "      <th>2356</th>\n",
       "      <td>192.168.32.3-10.200.7.8-50699-3128-6</td>\n",
       "      <td>192.168.32.3</td>\n",
       "      <td>50699</td>\n",
       "      <td>10.200.7.8</td>\n",
       "      <td>3128</td>\n",
       "      <td>6</td>\n",
       "      <td>26/04/201711:11:29</td>\n",
       "      <td>445551</td>\n",
       "      <td>10</td>\n",
       "      <td>20</td>\n",
       "      <td>...</td>\n",
       "      <td>0.000000</td>\n",
       "      <td>0.0</td>\n",
       "      <td>0.0</td>\n",
       "      <td>0.000000e+00</td>\n",
       "      <td>0.000000e+00</td>\n",
       "      <td>0.0</td>\n",
       "      <td>0.0</td>\n",
       "      <td>BENIGN</td>\n",
       "      <td>131</td>\n",
       "      <td>HTTP_PROXY</td>\n",
       "    </tr>\n",
       "    <tr>\n",
       "      <th>2858</th>\n",
       "      <td>192.168.32.3-10.200.7.8-50704-3128-6</td>\n",
       "      <td>192.168.32.3</td>\n",
       "      <td>50704</td>\n",
       "      <td>10.200.7.8</td>\n",
       "      <td>3128</td>\n",
       "      <td>6</td>\n",
       "      <td>26/04/201711:11:31</td>\n",
       "      <td>245917</td>\n",
       "      <td>8</td>\n",
       "      <td>14</td>\n",
       "      <td>...</td>\n",
       "      <td>0.000000</td>\n",
       "      <td>0.0</td>\n",
       "      <td>0.0</td>\n",
       "      <td>0.000000e+00</td>\n",
       "      <td>0.000000e+00</td>\n",
       "      <td>0.0</td>\n",
       "      <td>0.0</td>\n",
       "      <td>BENIGN</td>\n",
       "      <td>131</td>\n",
       "      <td>HTTP_PROXY</td>\n",
       "    </tr>\n",
       "    <tr>\n",
       "      <th>3579</th>\n",
       "      <td>192.168.32.3-10.200.7.8-50703-3128-6</td>\n",
       "      <td>192.168.32.3</td>\n",
       "      <td>50703</td>\n",
       "      <td>10.200.7.8</td>\n",
       "      <td>3128</td>\n",
       "      <td>6</td>\n",
       "      <td>26/04/201711:11:31</td>\n",
       "      <td>3466473</td>\n",
       "      <td>16</td>\n",
       "      <td>33</td>\n",
       "      <td>...</td>\n",
       "      <td>0.000000</td>\n",
       "      <td>0.0</td>\n",
       "      <td>0.0</td>\n",
       "      <td>0.000000e+00</td>\n",
       "      <td>0.000000e+00</td>\n",
       "      <td>0.0</td>\n",
       "      <td>0.0</td>\n",
       "      <td>BENIGN</td>\n",
       "      <td>130</td>\n",
       "      <td>HTTP_CONNECT</td>\n",
       "    </tr>\n",
       "    <tr>\n",
       "      <th>...</th>\n",
       "      <td>...</td>\n",
       "      <td>...</td>\n",
       "      <td>...</td>\n",
       "      <td>...</td>\n",
       "      <td>...</td>\n",
       "      <td>...</td>\n",
       "      <td>...</td>\n",
       "      <td>...</td>\n",
       "      <td>...</td>\n",
       "      <td>...</td>\n",
       "      <td>...</td>\n",
       "      <td>...</td>\n",
       "      <td>...</td>\n",
       "      <td>...</td>\n",
       "      <td>...</td>\n",
       "      <td>...</td>\n",
       "      <td>...</td>\n",
       "      <td>...</td>\n",
       "      <td>...</td>\n",
       "      <td>...</td>\n",
       "      <td>...</td>\n",
       "    </tr>\n",
       "    <tr>\n",
       "      <th>3549053</th>\n",
       "      <td>192.168.32.93-10.200.7.9-51666-3128-6</td>\n",
       "      <td>192.168.32.93</td>\n",
       "      <td>51666</td>\n",
       "      <td>10.200.7.9</td>\n",
       "      <td>3128</td>\n",
       "      <td>6</td>\n",
       "      <td>15/05/201705:21:22</td>\n",
       "      <td>431352</td>\n",
       "      <td>14</td>\n",
       "      <td>13</td>\n",
       "      <td>...</td>\n",
       "      <td>0.000000</td>\n",
       "      <td>0.0</td>\n",
       "      <td>0.0</td>\n",
       "      <td>0.000000e+00</td>\n",
       "      <td>0.000000e+00</td>\n",
       "      <td>0.0</td>\n",
       "      <td>0.0</td>\n",
       "      <td>BENIGN</td>\n",
       "      <td>140</td>\n",
       "      <td>APPLE</td>\n",
       "    </tr>\n",
       "    <tr>\n",
       "      <th>3549054</th>\n",
       "      <td>192.168.32.93-10.200.7.8-51642-3128-6</td>\n",
       "      <td>192.168.32.93</td>\n",
       "      <td>51642</td>\n",
       "      <td>10.200.7.8</td>\n",
       "      <td>3128</td>\n",
       "      <td>6</td>\n",
       "      <td>15/05/201705:19:19</td>\n",
       "      <td>90338973</td>\n",
       "      <td>29</td>\n",
       "      <td>30</td>\n",
       "      <td>...</td>\n",
       "      <td>30389.328135</td>\n",
       "      <td>43057.0</td>\n",
       "      <td>80.0</td>\n",
       "      <td>4.514784e+07</td>\n",
       "      <td>6.746577e+04</td>\n",
       "      <td>45195545.0</td>\n",
       "      <td>45100134.0</td>\n",
       "      <td>BENIGN</td>\n",
       "      <td>126</td>\n",
       "      <td>GOOGLE</td>\n",
       "    </tr>\n",
       "    <tr>\n",
       "      <th>3549061</th>\n",
       "      <td>192.168.32.93-10.200.7.8-51645-3128-6</td>\n",
       "      <td>192.168.32.93</td>\n",
       "      <td>51645</td>\n",
       "      <td>10.200.7.8</td>\n",
       "      <td>3128</td>\n",
       "      <td>6</td>\n",
       "      <td>15/05/201705:19:24</td>\n",
       "      <td>90812319</td>\n",
       "      <td>42</td>\n",
       "      <td>29</td>\n",
       "      <td>...</td>\n",
       "      <td>122018.346162</td>\n",
       "      <td>172735.0</td>\n",
       "      <td>175.0</td>\n",
       "      <td>4.531954e+07</td>\n",
       "      <td>3.367999e+05</td>\n",
       "      <td>45557693.0</td>\n",
       "      <td>45081386.0</td>\n",
       "      <td>BENIGN</td>\n",
       "      <td>126</td>\n",
       "      <td>GOOGLE</td>\n",
       "    </tr>\n",
       "    <tr>\n",
       "      <th>3549080</th>\n",
       "      <td>192.168.32.93-10.200.7.8-51665-3128-6</td>\n",
       "      <td>192.168.32.93</td>\n",
       "      <td>51665</td>\n",
       "      <td>10.200.7.8</td>\n",
       "      <td>3128</td>\n",
       "      <td>6</td>\n",
       "      <td>15/05/201705:21:11</td>\n",
       "      <td>315796</td>\n",
       "      <td>42</td>\n",
       "      <td>26</td>\n",
       "      <td>...</td>\n",
       "      <td>0.000000</td>\n",
       "      <td>0.0</td>\n",
       "      <td>0.0</td>\n",
       "      <td>0.000000e+00</td>\n",
       "      <td>0.000000e+00</td>\n",
       "      <td>0.0</td>\n",
       "      <td>0.0</td>\n",
       "      <td>BENIGN</td>\n",
       "      <td>126</td>\n",
       "      <td>GOOGLE</td>\n",
       "    </tr>\n",
       "    <tr>\n",
       "      <th>3574573</th>\n",
       "      <td>192.168.150.5-10.200.7.7-47915-3128-6</td>\n",
       "      <td>192.168.150.5</td>\n",
       "      <td>47915</td>\n",
       "      <td>10.200.7.7</td>\n",
       "      <td>3128</td>\n",
       "      <td>6</td>\n",
       "      <td>15/05/201705:34:32</td>\n",
       "      <td>43992080</td>\n",
       "      <td>116</td>\n",
       "      <td>101</td>\n",
       "      <td>...</td>\n",
       "      <td>537075.915530</td>\n",
       "      <td>1321830.0</td>\n",
       "      <td>365261.0</td>\n",
       "      <td>8.419988e+06</td>\n",
       "      <td>3.776933e+06</td>\n",
       "      <td>12701641.0</td>\n",
       "      <td>5560964.0</td>\n",
       "      <td>BENIGN</td>\n",
       "      <td>7</td>\n",
       "      <td>HTTP</td>\n",
       "    </tr>\n",
       "  </tbody>\n",
       "</table>\n",
       "<p>2381 rows x 87 columns</p>\n",
       "</div>"
      ]
     },
     "metadata": {},
     "output_type": "display_data"
    }
   ],
   "source": [
    "network_traffic_analysis_dataframe[network_traffic_analysis_dataframe[\"RST.Flag.Count\"] == 1]"
   ]
  },
  {
   "cell_type": "code",
   "execution_count": 58,
   "metadata": {},
   "outputs": [
    {
     "data": {
      "text/plain": [
       "Protocol\n",
       "6     3570594\n",
       "17       2684\n",
       "0        1637\n",
       "Name: count, dtype: int64"
      ]
     },
     "execution_count": 58,
     "metadata": {},
     "output_type": "execute_result"
    }
   ],
   "source": [
    "network_traffic_analysis_dataframe[network_traffic_analysis_dataframe[\"RST.Flag.Count\"] == 0][\"Protocol\"].value_counts()"
   ]
  },
  {
   "cell_type": "markdown",
   "metadata": {},
   "source": []
  },
  {
   "cell_type": "markdown",
   "metadata": {},
   "source": [
    "### Explore the FIN Flag Count distribution"
   ]
  },
  {
   "cell_type": "markdown",
   "metadata": {},
   "source": [
    "Based on the documentation of the dataset, the FIN flag is set once the TCP connection ends."
   ]
  },
  {
   "cell_type": "code",
   "execution_count": 31,
   "metadata": {},
   "outputs": [
    {
     "data": {
      "text/plain": [
       "FIN.Flag.Count\n",
       "0    3552122\n",
       "1      25174\n",
       "Name: count, dtype: int64"
      ]
     },
     "execution_count": 31,
     "metadata": {},
     "output_type": "execute_result"
    }
   ],
   "source": [
    "network_traffic_analysis_dataframe[\"FIN.Flag.Count\"].value_counts()"
   ]
  },
  {
   "cell_type": "code",
   "execution_count": 34,
   "metadata": {},
   "outputs": [
    {
     "data": {
      "text/plain": [
       "array([ 6, 17,  0])"
      ]
     },
     "execution_count": 34,
     "metadata": {},
     "output_type": "execute_result"
    }
   ],
   "source": [
    "network_traffic_analysis_dataframe[network_traffic_analysis_dataframe[\"FIN.Flag.Count\"] == 0][\"Protocol\"].unique()"
   ]
  },
  {
   "cell_type": "markdown",
   "metadata": {},
   "source": [
    "According to the documentation of the tools that was used to generate this dataset [https://www.unb.ca/cic/research/applications.html#CICFlowMeter], the TCP flow are usually terminated when there is a connection teardown by the FIN packet.\n",
    "\n",
    "The UDP flows are terminated by flow timeout.\n",
    "\n",
    "The high number of absence FIN packet shows weird occurence and the TCP flow are without FIN packet are abnormally high.\n",
    "\n",
    "There is a mapping done in previous section of the notebook where the index 6 = TCP and 17 = UDP and 0 = other protocol.\n",
    "\n"
   ]
  },
  {
   "cell_type": "markdown",
   "metadata": {},
   "source": [
    "## Explore the Flow Timeout value data"
   ]
  },
  {
   "cell_type": "markdown",
   "metadata": {},
   "source": [
    "In the ReadMe.txt of the CICflowMeter [https://github.com/CanadianInstituteForCybersecurity/CICFlowMeter/blob/master/ReadMe.txt], the Flow duration column is measured in Microseconds."
   ]
  },
  {
   "cell_type": "code",
   "execution_count": 43,
   "metadata": {},
   "outputs": [
    {
     "data": {
      "text/plain": [
       "count    3.577296e+06\n",
       "mean     2.544247e+07\n",
       "std      4.014430e+07\n",
       "min      1.000000e+00\n",
       "25%      6.280000e+02\n",
       "50%      5.847295e+05\n",
       "75%      4.500153e+07\n",
       "max      1.200000e+08\n",
       "Name: Flow.Duration, dtype: float64"
      ]
     },
     "execution_count": 43,
     "metadata": {},
     "output_type": "execute_result"
    }
   ],
   "source": [
    "network_traffic_analysis_dataframe[\"Flow.Duration\"].describe()"
   ]
  },
  {
   "cell_type": "code",
   "execution_count": 44,
   "metadata": {},
   "outputs": [],
   "source": [
    "def transform_microseconds_to_seconds(data: int) -> float:\n",
    "    if data == 0:\n",
    "        return 0.0\n",
    "    \n",
    "    return data / 1000000.0\n"
   ]
  },
  {
   "cell_type": "code",
   "execution_count": 45,
   "metadata": {},
   "outputs": [
    {
     "data": {
      "text/plain": [
       "0          0.045523\n",
       "1          0.000001\n",
       "2          0.000001\n",
       "3          0.000217\n",
       "4          0.078068\n",
       "             ...   \n",
       "3577291    2.290821\n",
       "3577292    0.000024\n",
       "3577293    2.591653\n",
       "3577294    2.622421\n",
       "3577295    2.009138\n",
       "Name: Flow.Duration, Length: 3577296, dtype: float64"
      ]
     },
     "execution_count": 45,
     "metadata": {},
     "output_type": "execute_result"
    }
   ],
   "source": [
    "\n",
    "network_traffic_analysis_dataframe[\"Flow.Duration\"].apply(transform_microseconds_to_seconds)"
   ]
  },
  {
   "cell_type": "markdown",
   "metadata": {},
   "source": [
    "# Model Building"
   ]
  },
  {
   "cell_type": "markdown",
   "metadata": {},
   "source": [
    "* Split the dataset into training and testing sets.\n",
    "* Implement at least three different classification models (e.g., Decision Tree, Random Forest, SVM, etc.).\n",
    "* Train and fine-tune each model using appropriate techniques.\n",
    "* Discuss the choice of hyperparameters and the reasoning behind it"
   ]
  },
  {
   "cell_type": "code",
   "execution_count": 50,
   "metadata": {},
   "outputs": [],
   "source": [
    "sample_dataframe: pandas.DataFrame = network_traffic_analysis_dataframe_v5.sample(n=500000, random_state=11, replace=False)"
   ]
  },
  {
   "cell_type": "code",
   "execution_count": 51,
   "metadata": {},
   "outputs": [
    {
     "data": {
      "text/plain": [
       "Index(['Source.Port', 'Destination.Port', 'Protocol', 'Flow.Duration',\n",
       "       'Total.Fwd.Packets', 'Total.Backward.Packets',\n",
       "       'Total.Length.of.Fwd.Packets', 'Total.Length.of.Bwd.Packets',\n",
       "       'Fwd.Packet.Length.Max', 'Fwd.Packet.Length.Min',\n",
       "       'Fwd.Packet.Length.Mean', 'Fwd.Packet.Length.Std',\n",
       "       'Bwd.Packet.Length.Max', 'Bwd.Packet.Length.Min',\n",
       "       'Bwd.Packet.Length.Mean', 'Bwd.Packet.Length.Std', 'Flow.Bytes.s',\n",
       "       'Flow.Packets.s', 'Flow.IAT.Mean', 'Flow.IAT.Std', 'Flow.IAT.Max',\n",
       "       'Flow.IAT.Min', 'Fwd.IAT.Total', 'Fwd.IAT.Mean', 'Fwd.IAT.Std',\n",
       "       'Fwd.IAT.Max', 'Fwd.IAT.Min', 'Bwd.IAT.Total', 'Bwd.IAT.Mean',\n",
       "       'Bwd.IAT.Std', 'Bwd.IAT.Max', 'Bwd.IAT.Min', 'Fwd.PSH.Flags',\n",
       "       'Bwd.PSH.Flags', 'Fwd.URG.Flags', 'Bwd.URG.Flags', 'Fwd.Header.Length',\n",
       "       'Bwd.Header.Length', 'Fwd.Packets.s', 'Bwd.Packets.s',\n",
       "       'Min.Packet.Length', 'Max.Packet.Length', 'Packet.Length.Mean',\n",
       "       'Packet.Length.Std', 'Packet.Length.Variance', 'FIN.Flag.Count',\n",
       "       'SYN.Flag.Count', 'RST.Flag.Count', 'PSH.Flag.Count', 'ACK.Flag.Count',\n",
       "       'URG.Flag.Count', 'CWE.Flag.Count', 'ECE.Flag.Count', 'Down.Up.Ratio',\n",
       "       'Average.Packet.Size', 'Avg.Fwd.Segment.Size', 'Avg.Bwd.Segment.Size',\n",
       "       'Fwd.Header.Length.1', 'Fwd.Avg.Bytes.Bulk', 'Fwd.Avg.Packets.Bulk',\n",
       "       'Fwd.Avg.Bulk.Rate', 'Bwd.Avg.Bytes.Bulk', 'Bwd.Avg.Packets.Bulk',\n",
       "       'Bwd.Avg.Bulk.Rate', 'Subflow.Fwd.Packets', 'Subflow.Fwd.Bytes',\n",
       "       'Subflow.Bwd.Packets', 'Subflow.Bwd.Bytes', 'Init_Win_bytes_forward',\n",
       "       'Init_Win_bytes_backward', 'act_data_pkt_fwd', 'min_seg_size_forward',\n",
       "       'Active.Mean', 'Active.Std', 'Active.Max', 'Active.Min', 'Idle.Mean',\n",
       "       'Idle.Std', 'Idle.Max', 'Idle.Min', 'L7Protocol'],\n",
       "      dtype='object')"
      ]
     },
     "execution_count": 51,
     "metadata": {},
     "output_type": "execute_result"
    }
   ],
   "source": [
    "sample_dataframe.columns"
   ]
  },
  {
   "cell_type": "markdown",
   "metadata": {},
   "source": [
    "## Creating target column"
   ]
  },
  {
   "cell_type": "code",
   "execution_count": 52,
   "metadata": {},
   "outputs": [],
   "source": [
    "target = sample_dataframe[\"L7Protocol\"]"
   ]
  },
  {
   "cell_type": "code",
   "execution_count": 53,
   "metadata": {},
   "outputs": [],
   "source": [
    "train = sample_dataframe.drop(labels=\"L7Protocol\", axis=1)"
   ]
  },
  {
   "cell_type": "markdown",
   "metadata": {},
   "source": [
    "## Prepare Training dataset and Testing dataset"
   ]
  },
  {
   "cell_type": "code",
   "execution_count": 54,
   "metadata": {},
   "outputs": [],
   "source": [
    "from sklearn.model_selection import train_test_split\n",
    "\n",
    "# Training dataset: 80%\n",
    "# Test Dataset: 20%\n",
    "\n",
    "X_train, X_test, Y_train, Y_test = train_test_split(train, target, test_size=0.20, train_size=0.80, random_state=11, shuffle=True)"
   ]
  },
  {
   "cell_type": "markdown",
   "metadata": {},
   "source": [
    "## Create Validation Dataset from training dataset"
   ]
  },
  {
   "cell_type": "code",
   "execution_count": 55,
   "metadata": {},
   "outputs": [],
   "source": [
    "# Training dataset: 60%\n",
    "# Validation Dataset: 20% (0.25 Current test size to obtain validation dataset * 0.80 Percentage of Train data from original dataset)\n",
    "# Test Dataset: 20%\n",
    "\n",
    "X_train, X_validate, Y_train, Y_validate = train_test_split(X_train, Y_train, test_size=0.25, train_size=0.75, random_state=11, shuffle=True)\n"
   ]
  },
  {
   "cell_type": "markdown",
   "metadata": {},
   "source": [
    "## Decision Tree"
   ]
  },
  {
   "cell_type": "code",
   "execution_count": 56,
   "metadata": {},
   "outputs": [
    {
     "data": {
      "text/html": [
       "<style>#sk-container-id-1 {\n",
       "  /* Definition of color scheme common for light and dark mode */\n",
       "  --sklearn-color-text: #000;\n",
       "  --sklearn-color-text-muted: #666;\n",
       "  --sklearn-color-line: gray;\n",
       "  /* Definition of color scheme for unfitted estimators */\n",
       "  --sklearn-color-unfitted-level-0: #fff5e6;\n",
       "  --sklearn-color-unfitted-level-1: #f6e4d2;\n",
       "  --sklearn-color-unfitted-level-2: #ffe0b3;\n",
       "  --sklearn-color-unfitted-level-3: chocolate;\n",
       "  /* Definition of color scheme for fitted estimators */\n",
       "  --sklearn-color-fitted-level-0: #f0f8ff;\n",
       "  --sklearn-color-fitted-level-1: #d4ebff;\n",
       "  --sklearn-color-fitted-level-2: #b3dbfd;\n",
       "  --sklearn-color-fitted-level-3: cornflowerblue;\n",
       "\n",
       "  /* Specific color for light theme */\n",
       "  --sklearn-color-text-on-default-background: var(--sg-text-color, var(--theme-code-foreground, var(--jp-content-font-color1, black)));\n",
       "  --sklearn-color-background: var(--sg-background-color, var(--theme-background, var(--jp-layout-color0, white)));\n",
       "  --sklearn-color-border-box: var(--sg-text-color, var(--theme-code-foreground, var(--jp-content-font-color1, black)));\n",
       "  --sklearn-color-icon: #696969;\n",
       "\n",
       "  @media (prefers-color-scheme: dark) {\n",
       "    /* Redefinition of color scheme for dark theme */\n",
       "    --sklearn-color-text-on-default-background: var(--sg-text-color, var(--theme-code-foreground, var(--jp-content-font-color1, white)));\n",
       "    --sklearn-color-background: var(--sg-background-color, var(--theme-background, var(--jp-layout-color0, #111)));\n",
       "    --sklearn-color-border-box: var(--sg-text-color, var(--theme-code-foreground, var(--jp-content-font-color1, white)));\n",
       "    --sklearn-color-icon: #878787;\n",
       "  }\n",
       "}\n",
       "\n",
       "#sk-container-id-1 {\n",
       "  color: var(--sklearn-color-text);\n",
       "}\n",
       "\n",
       "#sk-container-id-1 pre {\n",
       "  padding: 0;\n",
       "}\n",
       "\n",
       "#sk-container-id-1 input.sk-hidden--visually {\n",
       "  border: 0;\n",
       "  clip: rect(1px 1px 1px 1px);\n",
       "  clip: rect(1px, 1px, 1px, 1px);\n",
       "  height: 1px;\n",
       "  margin: -1px;\n",
       "  overflow: hidden;\n",
       "  padding: 0;\n",
       "  position: absolute;\n",
       "  width: 1px;\n",
       "}\n",
       "\n",
       "#sk-container-id-1 div.sk-dashed-wrapped {\n",
       "  border: 1px dashed var(--sklearn-color-line);\n",
       "  margin: 0 0.4em 0.5em 0.4em;\n",
       "  box-sizing: border-box;\n",
       "  padding-bottom: 0.4em;\n",
       "  background-color: var(--sklearn-color-background);\n",
       "}\n",
       "\n",
       "#sk-container-id-1 div.sk-container {\n",
       "  /* jupyter's `normalize.less` sets `[hidden] { display: none; }`\n",
       "     but bootstrap.min.css set `[hidden] { display: none !important; }`\n",
       "     so we also need the `!important` here to be able to override the\n",
       "     default hidden behavior on the sphinx rendered scikit-learn.org.\n",
       "     See: https://github.com/scikit-learn/scikit-learn/issues/21755 */\n",
       "  display: inline-block !important;\n",
       "  position: relative;\n",
       "}\n",
       "\n",
       "#sk-container-id-1 div.sk-text-repr-fallback {\n",
       "  display: none;\n",
       "}\n",
       "\n",
       "div.sk-parallel-item,\n",
       "div.sk-serial,\n",
       "div.sk-item {\n",
       "  /* draw centered vertical line to link estimators */\n",
       "  background-image: linear-gradient(var(--sklearn-color-text-on-default-background), var(--sklearn-color-text-on-default-background));\n",
       "  background-size: 2px 100%;\n",
       "  background-repeat: no-repeat;\n",
       "  background-position: center center;\n",
       "}\n",
       "\n",
       "/* Parallel-specific style estimator block */\n",
       "\n",
       "#sk-container-id-1 div.sk-parallel-item::after {\n",
       "  content: \"\";\n",
       "  width: 100%;\n",
       "  border-bottom: 2px solid var(--sklearn-color-text-on-default-background);\n",
       "  flex-grow: 1;\n",
       "}\n",
       "\n",
       "#sk-container-id-1 div.sk-parallel {\n",
       "  display: flex;\n",
       "  align-items: stretch;\n",
       "  justify-content: center;\n",
       "  background-color: var(--sklearn-color-background);\n",
       "  position: relative;\n",
       "}\n",
       "\n",
       "#sk-container-id-1 div.sk-parallel-item {\n",
       "  display: flex;\n",
       "  flex-direction: column;\n",
       "}\n",
       "\n",
       "#sk-container-id-1 div.sk-parallel-item:first-child::after {\n",
       "  align-self: flex-end;\n",
       "  width: 50%;\n",
       "}\n",
       "\n",
       "#sk-container-id-1 div.sk-parallel-item:last-child::after {\n",
       "  align-self: flex-start;\n",
       "  width: 50%;\n",
       "}\n",
       "\n",
       "#sk-container-id-1 div.sk-parallel-item:only-child::after {\n",
       "  width: 0;\n",
       "}\n",
       "\n",
       "/* Serial-specific style estimator block */\n",
       "\n",
       "#sk-container-id-1 div.sk-serial {\n",
       "  display: flex;\n",
       "  flex-direction: column;\n",
       "  align-items: center;\n",
       "  background-color: var(--sklearn-color-background);\n",
       "  padding-right: 1em;\n",
       "  padding-left: 1em;\n",
       "}\n",
       "\n",
       "\n",
       "/* Toggleable style: style used for estimator/Pipeline/ColumnTransformer box that is\n",
       "clickable and can be expanded/collapsed.\n",
       "- Pipeline and ColumnTransformer use this feature and define the default style\n",
       "- Estimators will overwrite some part of the style using the `sk-estimator` class\n",
       "*/\n",
       "\n",
       "/* Pipeline and ColumnTransformer style (default) */\n",
       "\n",
       "#sk-container-id-1 div.sk-toggleable {\n",
       "  /* Default theme specific background. It is overwritten whether we have a\n",
       "  specific estimator or a Pipeline/ColumnTransformer */\n",
       "  background-color: var(--sklearn-color-background);\n",
       "}\n",
       "\n",
       "/* Toggleable label */\n",
       "#sk-container-id-1 label.sk-toggleable__label {\n",
       "  cursor: pointer;\n",
       "  display: flex;\n",
       "  width: 100%;\n",
       "  margin-bottom: 0;\n",
       "  padding: 0.5em;\n",
       "  box-sizing: border-box;\n",
       "  text-align: center;\n",
       "  align-items: start;\n",
       "  justify-content: space-between;\n",
       "  gap: 0.5em;\n",
       "}\n",
       "\n",
       "#sk-container-id-1 label.sk-toggleable__label .caption {\n",
       "  font-size: 0.6rem;\n",
       "  font-weight: lighter;\n",
       "  color: var(--sklearn-color-text-muted);\n",
       "}\n",
       "\n",
       "#sk-container-id-1 label.sk-toggleable__label-arrow:before {\n",
       "  /* Arrow on the left of the label */\n",
       "  content: \"▸\";\n",
       "  float: left;\n",
       "  margin-right: 0.25em;\n",
       "  color: var(--sklearn-color-icon);\n",
       "}\n",
       "\n",
       "#sk-container-id-1 label.sk-toggleable__label-arrow:hover:before {\n",
       "  color: var(--sklearn-color-text);\n",
       "}\n",
       "\n",
       "/* Toggleable content - dropdown */\n",
       "\n",
       "#sk-container-id-1 div.sk-toggleable__content {\n",
       "  max-height: 0;\n",
       "  max-width: 0;\n",
       "  overflow: hidden;\n",
       "  text-align: left;\n",
       "  /* unfitted */\n",
       "  background-color: var(--sklearn-color-unfitted-level-0);\n",
       "}\n",
       "\n",
       "#sk-container-id-1 div.sk-toggleable__content.fitted {\n",
       "  /* fitted */\n",
       "  background-color: var(--sklearn-color-fitted-level-0);\n",
       "}\n",
       "\n",
       "#sk-container-id-1 div.sk-toggleable__content pre {\n",
       "  margin: 0.2em;\n",
       "  border-radius: 0.25em;\n",
       "  color: var(--sklearn-color-text);\n",
       "  /* unfitted */\n",
       "  background-color: var(--sklearn-color-unfitted-level-0);\n",
       "}\n",
       "\n",
       "#sk-container-id-1 div.sk-toggleable__content.fitted pre {\n",
       "  /* unfitted */\n",
       "  background-color: var(--sklearn-color-fitted-level-0);\n",
       "}\n",
       "\n",
       "#sk-container-id-1 input.sk-toggleable__control:checked~div.sk-toggleable__content {\n",
       "  /* Expand drop-down */\n",
       "  max-height: 200px;\n",
       "  max-width: 100%;\n",
       "  overflow: auto;\n",
       "}\n",
       "\n",
       "#sk-container-id-1 input.sk-toggleable__control:checked~label.sk-toggleable__label-arrow:before {\n",
       "  content: \"▾\";\n",
       "}\n",
       "\n",
       "/* Pipeline/ColumnTransformer-specific style */\n",
       "\n",
       "#sk-container-id-1 div.sk-label input.sk-toggleable__control:checked~label.sk-toggleable__label {\n",
       "  color: var(--sklearn-color-text);\n",
       "  background-color: var(--sklearn-color-unfitted-level-2);\n",
       "}\n",
       "\n",
       "#sk-container-id-1 div.sk-label.fitted input.sk-toggleable__control:checked~label.sk-toggleable__label {\n",
       "  background-color: var(--sklearn-color-fitted-level-2);\n",
       "}\n",
       "\n",
       "/* Estimator-specific style */\n",
       "\n",
       "/* Colorize estimator box */\n",
       "#sk-container-id-1 div.sk-estimator input.sk-toggleable__control:checked~label.sk-toggleable__label {\n",
       "  /* unfitted */\n",
       "  background-color: var(--sklearn-color-unfitted-level-2);\n",
       "}\n",
       "\n",
       "#sk-container-id-1 div.sk-estimator.fitted input.sk-toggleable__control:checked~label.sk-toggleable__label {\n",
       "  /* fitted */\n",
       "  background-color: var(--sklearn-color-fitted-level-2);\n",
       "}\n",
       "\n",
       "#sk-container-id-1 div.sk-label label.sk-toggleable__label,\n",
       "#sk-container-id-1 div.sk-label label {\n",
       "  /* The background is the default theme color */\n",
       "  color: var(--sklearn-color-text-on-default-background);\n",
       "}\n",
       "\n",
       "/* On hover, darken the color of the background */\n",
       "#sk-container-id-1 div.sk-label:hover label.sk-toggleable__label {\n",
       "  color: var(--sklearn-color-text);\n",
       "  background-color: var(--sklearn-color-unfitted-level-2);\n",
       "}\n",
       "\n",
       "/* Label box, darken color on hover, fitted */\n",
       "#sk-container-id-1 div.sk-label.fitted:hover label.sk-toggleable__label.fitted {\n",
       "  color: var(--sklearn-color-text);\n",
       "  background-color: var(--sklearn-color-fitted-level-2);\n",
       "}\n",
       "\n",
       "/* Estimator label */\n",
       "\n",
       "#sk-container-id-1 div.sk-label label {\n",
       "  font-family: monospace;\n",
       "  font-weight: bold;\n",
       "  display: inline-block;\n",
       "  line-height: 1.2em;\n",
       "}\n",
       "\n",
       "#sk-container-id-1 div.sk-label-container {\n",
       "  text-align: center;\n",
       "}\n",
       "\n",
       "/* Estimator-specific */\n",
       "#sk-container-id-1 div.sk-estimator {\n",
       "  font-family: monospace;\n",
       "  border: 1px dotted var(--sklearn-color-border-box);\n",
       "  border-radius: 0.25em;\n",
       "  box-sizing: border-box;\n",
       "  margin-bottom: 0.5em;\n",
       "  /* unfitted */\n",
       "  background-color: var(--sklearn-color-unfitted-level-0);\n",
       "}\n",
       "\n",
       "#sk-container-id-1 div.sk-estimator.fitted {\n",
       "  /* fitted */\n",
       "  background-color: var(--sklearn-color-fitted-level-0);\n",
       "}\n",
       "\n",
       "/* on hover */\n",
       "#sk-container-id-1 div.sk-estimator:hover {\n",
       "  /* unfitted */\n",
       "  background-color: var(--sklearn-color-unfitted-level-2);\n",
       "}\n",
       "\n",
       "#sk-container-id-1 div.sk-estimator.fitted:hover {\n",
       "  /* fitted */\n",
       "  background-color: var(--sklearn-color-fitted-level-2);\n",
       "}\n",
       "\n",
       "/* Specification for estimator info (e.g. \"i\" and \"?\") */\n",
       "\n",
       "/* Common style for \"i\" and \"?\" */\n",
       "\n",
       ".sk-estimator-doc-link,\n",
       "a:link.sk-estimator-doc-link,\n",
       "a:visited.sk-estimator-doc-link {\n",
       "  float: right;\n",
       "  font-size: smaller;\n",
       "  line-height: 1em;\n",
       "  font-family: monospace;\n",
       "  background-color: var(--sklearn-color-background);\n",
       "  border-radius: 1em;\n",
       "  height: 1em;\n",
       "  width: 1em;\n",
       "  text-decoration: none !important;\n",
       "  margin-left: 0.5em;\n",
       "  text-align: center;\n",
       "  /* unfitted */\n",
       "  border: var(--sklearn-color-unfitted-level-1) 1pt solid;\n",
       "  color: var(--sklearn-color-unfitted-level-1);\n",
       "}\n",
       "\n",
       ".sk-estimator-doc-link.fitted,\n",
       "a:link.sk-estimator-doc-link.fitted,\n",
       "a:visited.sk-estimator-doc-link.fitted {\n",
       "  /* fitted */\n",
       "  border: var(--sklearn-color-fitted-level-1) 1pt solid;\n",
       "  color: var(--sklearn-color-fitted-level-1);\n",
       "}\n",
       "\n",
       "/* On hover */\n",
       "div.sk-estimator:hover .sk-estimator-doc-link:hover,\n",
       ".sk-estimator-doc-link:hover,\n",
       "div.sk-label-container:hover .sk-estimator-doc-link:hover,\n",
       ".sk-estimator-doc-link:hover {\n",
       "  /* unfitted */\n",
       "  background-color: var(--sklearn-color-unfitted-level-3);\n",
       "  color: var(--sklearn-color-background);\n",
       "  text-decoration: none;\n",
       "}\n",
       "\n",
       "div.sk-estimator.fitted:hover .sk-estimator-doc-link.fitted:hover,\n",
       ".sk-estimator-doc-link.fitted:hover,\n",
       "div.sk-label-container:hover .sk-estimator-doc-link.fitted:hover,\n",
       ".sk-estimator-doc-link.fitted:hover {\n",
       "  /* fitted */\n",
       "  background-color: var(--sklearn-color-fitted-level-3);\n",
       "  color: var(--sklearn-color-background);\n",
       "  text-decoration: none;\n",
       "}\n",
       "\n",
       "/* Span, style for the box shown on hovering the info icon */\n",
       ".sk-estimator-doc-link span {\n",
       "  display: none;\n",
       "  z-index: 9999;\n",
       "  position: relative;\n",
       "  font-weight: normal;\n",
       "  right: .2ex;\n",
       "  padding: .5ex;\n",
       "  margin: .5ex;\n",
       "  width: min-content;\n",
       "  min-width: 20ex;\n",
       "  max-width: 50ex;\n",
       "  color: var(--sklearn-color-text);\n",
       "  box-shadow: 2pt 2pt 4pt #999;\n",
       "  /* unfitted */\n",
       "  background: var(--sklearn-color-unfitted-level-0);\n",
       "  border: .5pt solid var(--sklearn-color-unfitted-level-3);\n",
       "}\n",
       "\n",
       ".sk-estimator-doc-link.fitted span {\n",
       "  /* fitted */\n",
       "  background: var(--sklearn-color-fitted-level-0);\n",
       "  border: var(--sklearn-color-fitted-level-3);\n",
       "}\n",
       "\n",
       ".sk-estimator-doc-link:hover span {\n",
       "  display: block;\n",
       "}\n",
       "\n",
       "/* \"?\"-specific style due to the `<a>` HTML tag */\n",
       "\n",
       "#sk-container-id-1 a.estimator_doc_link {\n",
       "  float: right;\n",
       "  font-size: 1rem;\n",
       "  line-height: 1em;\n",
       "  font-family: monospace;\n",
       "  background-color: var(--sklearn-color-background);\n",
       "  border-radius: 1rem;\n",
       "  height: 1rem;\n",
       "  width: 1rem;\n",
       "  text-decoration: none;\n",
       "  /* unfitted */\n",
       "  color: var(--sklearn-color-unfitted-level-1);\n",
       "  border: var(--sklearn-color-unfitted-level-1) 1pt solid;\n",
       "}\n",
       "\n",
       "#sk-container-id-1 a.estimator_doc_link.fitted {\n",
       "  /* fitted */\n",
       "  border: var(--sklearn-color-fitted-level-1) 1pt solid;\n",
       "  color: var(--sklearn-color-fitted-level-1);\n",
       "}\n",
       "\n",
       "/* On hover */\n",
       "#sk-container-id-1 a.estimator_doc_link:hover {\n",
       "  /* unfitted */\n",
       "  background-color: var(--sklearn-color-unfitted-level-3);\n",
       "  color: var(--sklearn-color-background);\n",
       "  text-decoration: none;\n",
       "}\n",
       "\n",
       "#sk-container-id-1 a.estimator_doc_link.fitted:hover {\n",
       "  /* fitted */\n",
       "  background-color: var(--sklearn-color-fitted-level-3);\n",
       "}\n",
       "</style><div id=\"sk-container-id-1\" class=\"sk-top-container\"><div class=\"sk-text-repr-fallback\"><pre>DecisionTreeClassifier()</pre><b>In a Jupyter environment, please rerun this cell to show the HTML representation or trust the notebook. <br />On GitHub, the HTML representation is unable to render, please try loading this page with nbviewer.org.</b></div><div class=\"sk-container\" hidden><div class=\"sk-item\"><div class=\"sk-estimator fitted sk-toggleable\"><input class=\"sk-toggleable__control sk-hidden--visually\" id=\"sk-estimator-id-1\" type=\"checkbox\" checked><label for=\"sk-estimator-id-1\" class=\"sk-toggleable__label fitted sk-toggleable__label-arrow\"><div><div>DecisionTreeClassifier</div></div><div><a class=\"sk-estimator-doc-link fitted\" rel=\"noreferrer\" target=\"_blank\" href=\"https://scikit-learn.org/1.6/modules/generated/sklearn.tree.DecisionTreeClassifier.html\">?<span>Documentation for DecisionTreeClassifier</span></a><span class=\"sk-estimator-doc-link fitted\">i<span>Fitted</span></span></div></label><div class=\"sk-toggleable__content fitted\"><pre>DecisionTreeClassifier()</pre></div> </div></div></div></div>"
      ],
      "text/plain": [
       "DecisionTreeClassifier()"
      ]
     },
     "execution_count": 56,
     "metadata": {},
     "output_type": "execute_result"
    }
   ],
   "source": [
    "from sklearn import tree\n",
    "\n",
    "decision_tree_classifier = tree.DecisionTreeClassifier()\n",
    "\n",
    "decision_tree_classifier.fit(X_train, Y_train)\n"
   ]
  },
  {
   "cell_type": "code",
   "execution_count": null,
   "metadata": {},
   "outputs": [],
   "source": [
    "decision_tree_classifier.predict()"
   ]
  },
  {
   "cell_type": "markdown",
   "metadata": {},
   "source": [
    "#TODO: Produce two types of model evaluation using test dataset and validation dataset"
   ]
  },
  {
   "cell_type": "markdown",
   "metadata": {},
   "source": [
    "SVM"
   ]
  },
  {
   "cell_type": "code",
   "execution_count": null,
   "metadata": {},
   "outputs": [],
   "source": []
  },
  {
   "cell_type": "markdown",
   "metadata": {},
   "source": [
    "Random Forest"
   ]
  },
  {
   "cell_type": "code",
   "execution_count": null,
   "metadata": {},
   "outputs": [],
   "source": []
  },
  {
   "cell_type": "markdown",
   "metadata": {},
   "source": [
    "# Model Evaluation"
   ]
  },
  {
   "cell_type": "markdown",
   "metadata": {},
   "source": [
    "* Evaluate the models using appropriate classification metrics (accuracy, precision, recall, F1-score, etc.).\n",
    "* Visualize the model performance using ROC curves and confusion matrices.\n",
    "* Compare the models and justify your choice of the best-performing model."
   ]
  },
  {
   "cell_type": "code",
   "execution_count": null,
   "metadata": {},
   "outputs": [],
   "source": []
  },
  {
   "cell_type": "markdown",
   "metadata": {},
   "source": [
    "# Recommendation and Action Plan"
   ]
  },
  {
   "cell_type": "code",
   "execution_count": null,
   "metadata": {},
   "outputs": [],
   "source": []
  },
  {
   "cell_type": "markdown",
   "metadata": {},
   "source": [
    "# Conclusion"
   ]
  },
  {
   "cell_type": "code",
   "execution_count": null,
   "metadata": {},
   "outputs": [],
   "source": []
  },
  {
   "cell_type": "markdown",
   "metadata": {},
   "source": [
    "# Reference"
   ]
  },
  {
   "cell_type": "markdown",
   "metadata": {},
   "source": []
  }
 ],
 "metadata": {
  "kernelspec": {
   "display_name": "Python 3",
   "language": "python",
   "name": "python3"
  },
  "language_info": {
   "codemirror_mode": {
    "name": "ipython",
    "version": 3
   },
   "file_extension": ".py",
   "mimetype": "text/x-python",
   "name": "python",
   "nbconvert_exporter": "python",
   "pygments_lexer": "ipython3",
   "version": "3.12.6"
  }
 },
 "nbformat": 4,
 "nbformat_minor": 2
}
