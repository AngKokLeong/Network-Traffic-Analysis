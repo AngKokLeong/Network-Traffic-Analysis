{
 "cells": [
  {
   "cell_type": "markdown",
   "metadata": {},
   "source": [
    "# Network Traffic Classification using Machine Learning Techniques"
   ]
  },
  {
   "cell_type": "markdown",
   "metadata": {},
   "source": [
    "# Overview\n",
    "\n",
    "Develop classification models using Python programming to analyze a network-related dataset. \n",
    "\n",
    "The primary goal is to explore the dataset, preprocess it, create and evaluate different classification models, and report your findings. \n",
    "\n",
    "This assignment will enhance your understanding of machine learning techniques, data preprocessing, and model evaluation while applying them to a practical problem related to network security."
   ]
  },
  {
   "cell_type": "markdown",
   "metadata": {},
   "source": [
    "# Dataset"
   ]
  },
  {
   "cell_type": "markdown",
   "metadata": {},
   "source": [
    "This is a real-world dataset created by collecting network data from Universidad Del Cauca, Popayn, Colombia over six days (April 26, 27, 28 and May 9, 11 and 15) of 2017 using multiple packet capturing tools and data extracting tools. \n",
    "\n",
    "This dataset is consisting of 3,577,296 instances and 87 features and originally designed for application classification. Each row represents a traffic flow from a source to a destination and each column represents features of the traffic data.\n",
    "\n",
    "This dataset is downloaded from Kaggle \"IP Network Traffic Flows, Labeled with 75 Apps.\""
   ]
  },
  {
   "cell_type": "markdown",
   "metadata": {},
   "source": [
    "# Reference data\n"
   ]
  },
  {
   "cell_type": "markdown",
   "metadata": {},
   "source": [
    "https://www.rfc-editor.org/"
   ]
  },
  {
   "cell_type": "markdown",
   "metadata": {},
   "source": [
    "# Purpose"
   ]
  },
  {
   "cell_type": "markdown",
   "metadata": {},
   "source": [
    "This test attempts to test on the dataset to determine which application does the configuration belongs to based on the prediction.\n"
   ]
  },
  {
   "cell_type": "markdown",
   "metadata": {},
   "source": [
    "# Literature Review"
   ]
  },
  {
   "cell_type": "markdown",
   "metadata": {},
   "source": [
    "The current dataset from Kaggle is presented similar to a Session data.\n",
    "\n",
    "According to the book \"The Tao of Network Security Monitoring\" by Richard Bejtlich in Chapter 7. Session Data, the chapter describes Session Data as a summary of conversation between two parties.\n",
    "\n",
    "The basic elements of Session Data consists of:\n",
    "- Source IP\n",
    "- Source Port\n",
    "- Destination IP\n",
    "- Destination Port\n",
    "- Timestamp\n",
    "- Measure of the amount of information exchanged during the session\n",
    "\n",
    "The reason why Session Data is used in the analysis is because Session Data ability to track down intruder activities in content-neutral way. \n",
    "\n"
   ]
  },
  {
   "cell_type": "markdown",
   "metadata": {},
   "source": [
    "# Assumption Made"
   ]
  },
  {
   "cell_type": "markdown",
   "metadata": {},
   "source": []
  },
  {
   "cell_type": "markdown",
   "metadata": {},
   "source": [
    "# Origin of CICFlowMeter"
   ]
  },
  {
   "cell_type": "markdown",
   "metadata": {},
   "source": [
    "https://www.unb.ca/cic/research/applications.html#CICFlowMeter\n",
    "\n",
    "https://www.kaggle.com/datasets/jsrojas/ip-network-traffic-flows-labeled-with-87-apps \n",
    "\n",
    "https://www.ntop.org/products/traffic-analysis/ntop/"
   ]
  },
  {
   "cell_type": "markdown",
   "metadata": {},
   "source": [
    "# Environment Setup"
   ]
  },
  {
   "cell_type": "code",
   "execution_count": 1,
   "metadata": {},
   "outputs": [
    {
     "name": "stdout",
     "output_type": "stream",
     "text": [
      "Requirement already satisfied: pip in c:\\users\\angko\\desktop\\network-analysis-project\\.conda\\lib\\site-packages (24.3.1)\n",
      "Note: you may need to restart the kernel to use updated packages.\n",
      "Requirement already satisfied: setuptools in c:\\users\\angko\\desktop\\network-analysis-project\\.conda\\lib\\site-packages (75.6.0)\n",
      "Note: you may need to restart the kernel to use updated packages.\n",
      "Requirement already satisfied: pandas in c:\\users\\angko\\desktop\\network-analysis-project\\.conda\\lib\\site-packages (2.2.3)\n",
      "Requirement already satisfied: numpy>=1.23.2 in c:\\users\\angko\\desktop\\network-analysis-project\\.conda\\lib\\site-packages (from pandas) (2.0.2)\n",
      "Requirement already satisfied: python-dateutil>=2.8.2 in c:\\users\\angko\\desktop\\network-analysis-project\\.conda\\lib\\site-packages (from pandas) (2.9.0.post0)\n",
      "Requirement already satisfied: pytz>=2020.1 in c:\\users\\angko\\desktop\\network-analysis-project\\.conda\\lib\\site-packages (from pandas) (2024.2)\n",
      "Requirement already satisfied: tzdata>=2022.7 in c:\\users\\angko\\desktop\\network-analysis-project\\.conda\\lib\\site-packages (from pandas) (2024.2)\n",
      "Requirement already satisfied: six>=1.5 in c:\\users\\angko\\desktop\\network-analysis-project\\.conda\\lib\\site-packages (from python-dateutil>=2.8.2->pandas) (1.17.0)\n",
      "Note: you may need to restart the kernel to use updated packages.\n",
      "Requirement already satisfied: scikit-learn in c:\\users\\angko\\desktop\\network-analysis-project\\.conda\\lib\\site-packages (1.6.0)\n",
      "Requirement already satisfied: numpy>=1.19.5 in c:\\users\\angko\\desktop\\network-analysis-project\\.conda\\lib\\site-packages (from scikit-learn) (2.0.2)\n",
      "Requirement already satisfied: scipy>=1.6.0 in c:\\users\\angko\\desktop\\network-analysis-project\\.conda\\lib\\site-packages (from scikit-learn) (1.14.1)\n",
      "Requirement already satisfied: joblib>=1.2.0 in c:\\users\\angko\\desktop\\network-analysis-project\\.conda\\lib\\site-packages (from scikit-learn) (1.4.2)\n",
      "Requirement already satisfied: threadpoolctl>=3.1.0 in c:\\users\\angko\\desktop\\network-analysis-project\\.conda\\lib\\site-packages (from scikit-learn) (3.5.0)\n",
      "Note: you may need to restart the kernel to use updated packages.\n",
      "Requirement already satisfied: kagglehub in c:\\users\\angko\\desktop\\network-analysis-project\\.conda\\lib\\site-packages (0.3.6)\n",
      "Requirement already satisfied: packaging in c:\\users\\angko\\desktop\\network-analysis-project\\.conda\\lib\\site-packages (from kagglehub) (24.2)\n",
      "Requirement already satisfied: requests in c:\\users\\angko\\desktop\\network-analysis-project\\.conda\\lib\\site-packages (from kagglehub) (2.32.3)\n",
      "Requirement already satisfied: tqdm in c:\\users\\angko\\desktop\\network-analysis-project\\.conda\\lib\\site-packages (from kagglehub) (4.67.1)\n",
      "Requirement already satisfied: charset-normalizer<4,>=2 in c:\\users\\angko\\desktop\\network-analysis-project\\.conda\\lib\\site-packages (from requests->kagglehub) (3.4.1)\n",
      "Requirement already satisfied: idna<4,>=2.5 in c:\\users\\angko\\desktop\\network-analysis-project\\.conda\\lib\\site-packages (from requests->kagglehub) (3.10)\n",
      "Requirement already satisfied: urllib3<3,>=1.21.1 in c:\\users\\angko\\desktop\\network-analysis-project\\.conda\\lib\\site-packages (from requests->kagglehub) (2.3.0)\n",
      "Requirement already satisfied: certifi>=2017.4.17 in c:\\users\\angko\\desktop\\network-analysis-project\\.conda\\lib\\site-packages (from requests->kagglehub) (2024.12.14)\n",
      "Requirement already satisfied: colorama in c:\\users\\angko\\desktop\\network-analysis-project\\.conda\\lib\\site-packages (from tqdm->kagglehub) (0.4.6)\n",
      "Note: you may need to restart the kernel to use updated packages.\n",
      "Requirement already satisfied: matplotlib in c:\\users\\angko\\desktop\\network-analysis-project\\.conda\\lib\\site-packages (3.10.0)\n",
      "Requirement already satisfied: contourpy>=1.0.1 in c:\\users\\angko\\desktop\\network-analysis-project\\.conda\\lib\\site-packages (from matplotlib) (1.3.1)\n",
      "Requirement already satisfied: cycler>=0.10 in c:\\users\\angko\\desktop\\network-analysis-project\\.conda\\lib\\site-packages (from matplotlib) (0.12.1)\n",
      "Requirement already satisfied: fonttools>=4.22.0 in c:\\users\\angko\\desktop\\network-analysis-project\\.conda\\lib\\site-packages (from matplotlib) (4.55.3)\n",
      "Requirement already satisfied: kiwisolver>=1.3.1 in c:\\users\\angko\\desktop\\network-analysis-project\\.conda\\lib\\site-packages (from matplotlib) (1.4.8)\n",
      "Requirement already satisfied: numpy>=1.23 in c:\\users\\angko\\desktop\\network-analysis-project\\.conda\\lib\\site-packages (from matplotlib) (2.0.2)\n",
      "Requirement already satisfied: packaging>=20.0 in c:\\users\\angko\\desktop\\network-analysis-project\\.conda\\lib\\site-packages (from matplotlib) (24.2)\n",
      "Requirement already satisfied: pillow>=8 in c:\\users\\angko\\desktop\\network-analysis-project\\.conda\\lib\\site-packages (from matplotlib) (11.0.0)\n",
      "Requirement already satisfied: pyparsing>=2.3.1 in c:\\users\\angko\\desktop\\network-analysis-project\\.conda\\lib\\site-packages (from matplotlib) (3.2.0)\n",
      "Requirement already satisfied: python-dateutil>=2.7 in c:\\users\\angko\\desktop\\network-analysis-project\\.conda\\lib\\site-packages (from matplotlib) (2.9.0.post0)\n",
      "Requirement already satisfied: six>=1.5 in c:\\users\\angko\\desktop\\network-analysis-project\\.conda\\lib\\site-packages (from python-dateutil>=2.7->matplotlib) (1.17.0)\n",
      "Note: you may need to restart the kernel to use updated packages.\n",
      "Requirement already satisfied: seaborn in c:\\users\\angko\\desktop\\network-analysis-project\\.conda\\lib\\site-packages (0.13.2)\n",
      "Requirement already satisfied: numpy!=1.24.0,>=1.20 in c:\\users\\angko\\desktop\\network-analysis-project\\.conda\\lib\\site-packages (from seaborn) (2.0.2)\n",
      "Requirement already satisfied: pandas>=1.2 in c:\\users\\angko\\desktop\\network-analysis-project\\.conda\\lib\\site-packages (from seaborn) (2.2.3)\n",
      "Requirement already satisfied: matplotlib!=3.6.1,>=3.4 in c:\\users\\angko\\desktop\\network-analysis-project\\.conda\\lib\\site-packages (from seaborn) (3.10.0)\n",
      "Requirement already satisfied: contourpy>=1.0.1 in c:\\users\\angko\\desktop\\network-analysis-project\\.conda\\lib\\site-packages (from matplotlib!=3.6.1,>=3.4->seaborn) (1.3.1)\n",
      "Requirement already satisfied: cycler>=0.10 in c:\\users\\angko\\desktop\\network-analysis-project\\.conda\\lib\\site-packages (from matplotlib!=3.6.1,>=3.4->seaborn) (0.12.1)\n",
      "Requirement already satisfied: fonttools>=4.22.0 in c:\\users\\angko\\desktop\\network-analysis-project\\.conda\\lib\\site-packages (from matplotlib!=3.6.1,>=3.4->seaborn) (4.55.3)\n",
      "Requirement already satisfied: kiwisolver>=1.3.1 in c:\\users\\angko\\desktop\\network-analysis-project\\.conda\\lib\\site-packages (from matplotlib!=3.6.1,>=3.4->seaborn) (1.4.8)\n",
      "Requirement already satisfied: packaging>=20.0 in c:\\users\\angko\\desktop\\network-analysis-project\\.conda\\lib\\site-packages (from matplotlib!=3.6.1,>=3.4->seaborn) (24.2)\n",
      "Requirement already satisfied: pillow>=8 in c:\\users\\angko\\desktop\\network-analysis-project\\.conda\\lib\\site-packages (from matplotlib!=3.6.1,>=3.4->seaborn) (11.0.0)\n",
      "Requirement already satisfied: pyparsing>=2.3.1 in c:\\users\\angko\\desktop\\network-analysis-project\\.conda\\lib\\site-packages (from matplotlib!=3.6.1,>=3.4->seaborn) (3.2.0)\n",
      "Requirement already satisfied: python-dateutil>=2.7 in c:\\users\\angko\\desktop\\network-analysis-project\\.conda\\lib\\site-packages (from matplotlib!=3.6.1,>=3.4->seaborn) (2.9.0.post0)\n",
      "Requirement already satisfied: pytz>=2020.1 in c:\\users\\angko\\desktop\\network-analysis-project\\.conda\\lib\\site-packages (from pandas>=1.2->seaborn) (2024.2)\n",
      "Requirement already satisfied: tzdata>=2022.7 in c:\\users\\angko\\desktop\\network-analysis-project\\.conda\\lib\\site-packages (from pandas>=1.2->seaborn) (2024.2)\n",
      "Requirement already satisfied: six>=1.5 in c:\\users\\angko\\desktop\\network-analysis-project\\.conda\\lib\\site-packages (from python-dateutil>=2.7->matplotlib!=3.6.1,>=3.4->seaborn) (1.17.0)\n",
      "Note: you may need to restart the kernel to use updated packages.\n",
      "Requirement already satisfied: tensorflow in c:\\users\\angko\\desktop\\network-analysis-project\\.conda\\lib\\site-packages (2.18.0)\n",
      "Requirement already satisfied: tensorflow-intel==2.18.0 in c:\\users\\angko\\desktop\\network-analysis-project\\.conda\\lib\\site-packages (from tensorflow) (2.18.0)\n",
      "Requirement already satisfied: absl-py>=1.0.0 in c:\\users\\angko\\desktop\\network-analysis-project\\.conda\\lib\\site-packages (from tensorflow-intel==2.18.0->tensorflow) (2.1.0)\n",
      "Requirement already satisfied: astunparse>=1.6.0 in c:\\users\\angko\\desktop\\network-analysis-project\\.conda\\lib\\site-packages (from tensorflow-intel==2.18.0->tensorflow) (1.6.3)\n",
      "Requirement already satisfied: flatbuffers>=24.3.25 in c:\\users\\angko\\desktop\\network-analysis-project\\.conda\\lib\\site-packages (from tensorflow-intel==2.18.0->tensorflow) (24.12.23)\n",
      "Requirement already satisfied: gast!=0.5.0,!=0.5.1,!=0.5.2,>=0.2.1 in c:\\users\\angko\\desktop\\network-analysis-project\\.conda\\lib\\site-packages (from tensorflow-intel==2.18.0->tensorflow) (0.6.0)\n",
      "Requirement already satisfied: google-pasta>=0.1.1 in c:\\users\\angko\\desktop\\network-analysis-project\\.conda\\lib\\site-packages (from tensorflow-intel==2.18.0->tensorflow) (0.2.0)\n",
      "Requirement already satisfied: libclang>=13.0.0 in c:\\users\\angko\\desktop\\network-analysis-project\\.conda\\lib\\site-packages (from tensorflow-intel==2.18.0->tensorflow) (18.1.1)\n",
      "Requirement already satisfied: opt-einsum>=2.3.2 in c:\\users\\angko\\desktop\\network-analysis-project\\.conda\\lib\\site-packages (from tensorflow-intel==2.18.0->tensorflow) (3.4.0)\n",
      "Requirement already satisfied: packaging in c:\\users\\angko\\desktop\\network-analysis-project\\.conda\\lib\\site-packages (from tensorflow-intel==2.18.0->tensorflow) (24.2)\n",
      "Requirement already satisfied: protobuf!=4.21.0,!=4.21.1,!=4.21.2,!=4.21.3,!=4.21.4,!=4.21.5,<6.0.0dev,>=3.20.3 in c:\\users\\angko\\desktop\\network-analysis-project\\.conda\\lib\\site-packages (from tensorflow-intel==2.18.0->tensorflow) (5.29.2)\n",
      "Requirement already satisfied: requests<3,>=2.21.0 in c:\\users\\angko\\desktop\\network-analysis-project\\.conda\\lib\\site-packages (from tensorflow-intel==2.18.0->tensorflow) (2.32.3)\n",
      "Requirement already satisfied: setuptools in c:\\users\\angko\\desktop\\network-analysis-project\\.conda\\lib\\site-packages (from tensorflow-intel==2.18.0->tensorflow) (75.6.0)\n",
      "Requirement already satisfied: six>=1.12.0 in c:\\users\\angko\\desktop\\network-analysis-project\\.conda\\lib\\site-packages (from tensorflow-intel==2.18.0->tensorflow) (1.17.0)\n",
      "Requirement already satisfied: termcolor>=1.1.0 in c:\\users\\angko\\desktop\\network-analysis-project\\.conda\\lib\\site-packages (from tensorflow-intel==2.18.0->tensorflow) (2.5.0)\n",
      "Requirement already satisfied: typing-extensions>=3.6.6 in c:\\users\\angko\\desktop\\network-analysis-project\\.conda\\lib\\site-packages (from tensorflow-intel==2.18.0->tensorflow) (4.12.2)\n",
      "Requirement already satisfied: wrapt>=1.11.0 in c:\\users\\angko\\desktop\\network-analysis-project\\.conda\\lib\\site-packages (from tensorflow-intel==2.18.0->tensorflow) (1.17.0)\n",
      "Requirement already satisfied: grpcio<2.0,>=1.24.3 in c:\\users\\angko\\desktop\\network-analysis-project\\.conda\\lib\\site-packages (from tensorflow-intel==2.18.0->tensorflow) (1.68.1)\n",
      "Requirement already satisfied: tensorboard<2.19,>=2.18 in c:\\users\\angko\\desktop\\network-analysis-project\\.conda\\lib\\site-packages (from tensorflow-intel==2.18.0->tensorflow) (2.18.0)\n",
      "Requirement already satisfied: keras>=3.5.0 in c:\\users\\angko\\desktop\\network-analysis-project\\.conda\\lib\\site-packages (from tensorflow-intel==2.18.0->tensorflow) (3.7.0)\n",
      "Requirement already satisfied: numpy<2.1.0,>=1.26.0 in c:\\users\\angko\\desktop\\network-analysis-project\\.conda\\lib\\site-packages (from tensorflow-intel==2.18.0->tensorflow) (2.0.2)\n",
      "Requirement already satisfied: h5py>=3.11.0 in c:\\users\\angko\\desktop\\network-analysis-project\\.conda\\lib\\site-packages (from tensorflow-intel==2.18.0->tensorflow) (3.12.1)\n",
      "Requirement already satisfied: ml-dtypes<0.5.0,>=0.4.0 in c:\\users\\angko\\desktop\\network-analysis-project\\.conda\\lib\\site-packages (from tensorflow-intel==2.18.0->tensorflow) (0.4.1)\n",
      "Requirement already satisfied: tensorflow-io-gcs-filesystem>=0.23.1 in c:\\users\\angko\\desktop\\network-analysis-project\\.conda\\lib\\site-packages (from tensorflow-intel==2.18.0->tensorflow) (0.31.0)\n",
      "Requirement already satisfied: wheel<1.0,>=0.23.0 in c:\\users\\angko\\desktop\\network-analysis-project\\.conda\\lib\\site-packages (from astunparse>=1.6.0->tensorflow-intel==2.18.0->tensorflow) (0.45.1)\n",
      "Requirement already satisfied: rich in c:\\users\\angko\\desktop\\network-analysis-project\\.conda\\lib\\site-packages (from keras>=3.5.0->tensorflow-intel==2.18.0->tensorflow) (13.9.4)\n",
      "Requirement already satisfied: namex in c:\\users\\angko\\desktop\\network-analysis-project\\.conda\\lib\\site-packages (from keras>=3.5.0->tensorflow-intel==2.18.0->tensorflow) (0.0.8)\n",
      "Requirement already satisfied: optree in c:\\users\\angko\\desktop\\network-analysis-project\\.conda\\lib\\site-packages (from keras>=3.5.0->tensorflow-intel==2.18.0->tensorflow) (0.13.1)\n",
      "Requirement already satisfied: charset-normalizer<4,>=2 in c:\\users\\angko\\desktop\\network-analysis-project\\.conda\\lib\\site-packages (from requests<3,>=2.21.0->tensorflow-intel==2.18.0->tensorflow) (3.4.1)\n",
      "Requirement already satisfied: idna<4,>=2.5 in c:\\users\\angko\\desktop\\network-analysis-project\\.conda\\lib\\site-packages (from requests<3,>=2.21.0->tensorflow-intel==2.18.0->tensorflow) (3.10)\n",
      "Requirement already satisfied: urllib3<3,>=1.21.1 in c:\\users\\angko\\desktop\\network-analysis-project\\.conda\\lib\\site-packages (from requests<3,>=2.21.0->tensorflow-intel==2.18.0->tensorflow) (2.3.0)\n",
      "Requirement already satisfied: certifi>=2017.4.17 in c:\\users\\angko\\desktop\\network-analysis-project\\.conda\\lib\\site-packages (from requests<3,>=2.21.0->tensorflow-intel==2.18.0->tensorflow) (2024.12.14)\n",
      "Requirement already satisfied: markdown>=2.6.8 in c:\\users\\angko\\desktop\\network-analysis-project\\.conda\\lib\\site-packages (from tensorboard<2.19,>=2.18->tensorflow-intel==2.18.0->tensorflow) (3.7)\n",
      "Requirement already satisfied: tensorboard-data-server<0.8.0,>=0.7.0 in c:\\users\\angko\\desktop\\network-analysis-project\\.conda\\lib\\site-packages (from tensorboard<2.19,>=2.18->tensorflow-intel==2.18.0->tensorflow) (0.7.2)\n",
      "Requirement already satisfied: werkzeug>=1.0.1 in c:\\users\\angko\\desktop\\network-analysis-project\\.conda\\lib\\site-packages (from tensorboard<2.19,>=2.18->tensorflow-intel==2.18.0->tensorflow) (3.1.3)\n",
      "Requirement already satisfied: MarkupSafe>=2.1.1 in c:\\users\\angko\\desktop\\network-analysis-project\\.conda\\lib\\site-packages (from werkzeug>=1.0.1->tensorboard<2.19,>=2.18->tensorflow-intel==2.18.0->tensorflow) (3.0.2)\n",
      "Requirement already satisfied: markdown-it-py>=2.2.0 in c:\\users\\angko\\desktop\\network-analysis-project\\.conda\\lib\\site-packages (from rich->keras>=3.5.0->tensorflow-intel==2.18.0->tensorflow) (3.0.0)\n",
      "Requirement already satisfied: pygments<3.0.0,>=2.13.0 in c:\\users\\angko\\desktop\\network-analysis-project\\.conda\\lib\\site-packages (from rich->keras>=3.5.0->tensorflow-intel==2.18.0->tensorflow) (2.18.0)\n",
      "Requirement already satisfied: mdurl~=0.1 in c:\\users\\angko\\desktop\\network-analysis-project\\.conda\\lib\\site-packages (from markdown-it-py>=2.2.0->rich->keras>=3.5.0->tensorflow-intel==2.18.0->tensorflow) (0.1.2)\n",
      "Note: you may need to restart the kernel to use updated packages.\n",
      "Requirement already satisfied: keras in c:\\users\\angko\\desktop\\network-analysis-project\\.conda\\lib\\site-packages (3.7.0)\n",
      "Requirement already satisfied: absl-py in c:\\users\\angko\\desktop\\network-analysis-project\\.conda\\lib\\site-packages (from keras) (2.1.0)\n",
      "Requirement already satisfied: numpy in c:\\users\\angko\\desktop\\network-analysis-project\\.conda\\lib\\site-packages (from keras) (2.0.2)\n",
      "Requirement already satisfied: rich in c:\\users\\angko\\desktop\\network-analysis-project\\.conda\\lib\\site-packages (from keras) (13.9.4)\n",
      "Requirement already satisfied: namex in c:\\users\\angko\\desktop\\network-analysis-project\\.conda\\lib\\site-packages (from keras) (0.0.8)\n",
      "Requirement already satisfied: h5py in c:\\users\\angko\\desktop\\network-analysis-project\\.conda\\lib\\site-packages (from keras) (3.12.1)\n",
      "Requirement already satisfied: optree in c:\\users\\angko\\desktop\\network-analysis-project\\.conda\\lib\\site-packages (from keras) (0.13.1)\n",
      "Requirement already satisfied: ml-dtypes in c:\\users\\angko\\desktop\\network-analysis-project\\.conda\\lib\\site-packages (from keras) (0.4.1)\n",
      "Requirement already satisfied: packaging in c:\\users\\angko\\desktop\\network-analysis-project\\.conda\\lib\\site-packages (from keras) (24.2)\n",
      "Requirement already satisfied: typing-extensions>=4.5.0 in c:\\users\\angko\\desktop\\network-analysis-project\\.conda\\lib\\site-packages (from optree->keras) (4.12.2)\n",
      "Requirement already satisfied: markdown-it-py>=2.2.0 in c:\\users\\angko\\desktop\\network-analysis-project\\.conda\\lib\\site-packages (from rich->keras) (3.0.0)\n",
      "Requirement already satisfied: pygments<3.0.0,>=2.13.0 in c:\\users\\angko\\desktop\\network-analysis-project\\.conda\\lib\\site-packages (from rich->keras) (2.18.0)\n",
      "Requirement already satisfied: mdurl~=0.1 in c:\\users\\angko\\desktop\\network-analysis-project\\.conda\\lib\\site-packages (from markdown-it-py>=2.2.0->rich->keras) (0.1.2)\n",
      "Note: you may need to restart the kernel to use updated packages.\n",
      "Requirement already satisfied: polars in c:\\users\\angko\\desktop\\network-analysis-project\\.conda\\lib\\site-packages (1.18.0)\n",
      "Note: you may need to restart the kernel to use updated packages.\n"
     ]
    }
   ],
   "source": [
    "%pip install --upgrade pip\n",
    "%pip install setuptools -U\n",
    "%pip install pandas -U\n",
    "%pip install -U scikit-learn\n",
    "%pip install kagglehub -U\n",
    "\n",
    "%pip install matplotlib -U\n",
    "%pip install seaborn -U\n",
    "%pip install tensorflow -U\n",
    "%pip install --upgrade keras\n",
    "%pip install polars\n"
   ]
  },
  {
   "cell_type": "code",
   "execution_count": 2,
   "metadata": {},
   "outputs": [
    {
     "name": "stdout",
     "output_type": "stream",
     "text": [
      "Requirement already satisfied: ipywidgets in c:\\users\\angko\\desktop\\network-analysis-project\\.conda\\lib\\site-packages (8.1.5)\n",
      "Requirement already satisfied: comm>=0.1.3 in c:\\users\\angko\\desktop\\network-analysis-project\\.conda\\lib\\site-packages (from ipywidgets) (0.2.2)\n",
      "Requirement already satisfied: ipython>=6.1.0 in c:\\users\\angko\\desktop\\network-analysis-project\\.conda\\lib\\site-packages (from ipywidgets) (8.31.0)\n",
      "Requirement already satisfied: traitlets>=4.3.1 in c:\\users\\angko\\desktop\\network-analysis-project\\.conda\\lib\\site-packages (from ipywidgets) (5.14.3)\n",
      "Requirement already satisfied: widgetsnbextension~=4.0.12 in c:\\users\\angko\\desktop\\network-analysis-project\\.conda\\lib\\site-packages (from ipywidgets) (4.0.13)\n",
      "Requirement already satisfied: jupyterlab-widgets~=3.0.12 in c:\\users\\angko\\desktop\\network-analysis-project\\.conda\\lib\\site-packages (from ipywidgets) (3.0.13)\n",
      "Requirement already satisfied: colorama in c:\\users\\angko\\desktop\\network-analysis-project\\.conda\\lib\\site-packages (from ipython>=6.1.0->ipywidgets) (0.4.6)\n",
      "Requirement already satisfied: decorator in c:\\users\\angko\\desktop\\network-analysis-project\\.conda\\lib\\site-packages (from ipython>=6.1.0->ipywidgets) (5.1.1)\n",
      "Requirement already satisfied: jedi>=0.16 in c:\\users\\angko\\desktop\\network-analysis-project\\.conda\\lib\\site-packages (from ipython>=6.1.0->ipywidgets) (0.19.2)\n",
      "Requirement already satisfied: matplotlib-inline in c:\\users\\angko\\desktop\\network-analysis-project\\.conda\\lib\\site-packages (from ipython>=6.1.0->ipywidgets) (0.1.7)\n",
      "Requirement already satisfied: prompt_toolkit<3.1.0,>=3.0.41 in c:\\users\\angko\\desktop\\network-analysis-project\\.conda\\lib\\site-packages (from ipython>=6.1.0->ipywidgets) (3.0.48)\n",
      "Requirement already satisfied: pygments>=2.4.0 in c:\\users\\angko\\desktop\\network-analysis-project\\.conda\\lib\\site-packages (from ipython>=6.1.0->ipywidgets) (2.18.0)\n",
      "Requirement already satisfied: stack_data in c:\\users\\angko\\desktop\\network-analysis-project\\.conda\\lib\\site-packages (from ipython>=6.1.0->ipywidgets) (0.6.3)\n",
      "Requirement already satisfied: typing_extensions>=4.6 in c:\\users\\angko\\desktop\\network-analysis-project\\.conda\\lib\\site-packages (from ipython>=6.1.0->ipywidgets) (4.12.2)\n",
      "Requirement already satisfied: parso<0.9.0,>=0.8.4 in c:\\users\\angko\\desktop\\network-analysis-project\\.conda\\lib\\site-packages (from jedi>=0.16->ipython>=6.1.0->ipywidgets) (0.8.4)\n",
      "Requirement already satisfied: wcwidth in c:\\users\\angko\\desktop\\network-analysis-project\\.conda\\lib\\site-packages (from prompt_toolkit<3.1.0,>=3.0.41->ipython>=6.1.0->ipywidgets) (0.2.13)\n",
      "Requirement already satisfied: executing>=1.2.0 in c:\\users\\angko\\desktop\\network-analysis-project\\.conda\\lib\\site-packages (from stack_data->ipython>=6.1.0->ipywidgets) (2.1.0)\n",
      "Requirement already satisfied: asttokens>=2.1.0 in c:\\users\\angko\\desktop\\network-analysis-project\\.conda\\lib\\site-packages (from stack_data->ipython>=6.1.0->ipywidgets) (3.0.0)\n",
      "Requirement already satisfied: pure_eval in c:\\users\\angko\\desktop\\network-analysis-project\\.conda\\lib\\site-packages (from stack_data->ipython>=6.1.0->ipywidgets) (0.2.3)\n",
      "Note: you may need to restart the kernel to use updated packages.\n"
     ]
    }
   ],
   "source": [
    "%pip install ipywidgets -U"
   ]
  },
  {
   "cell_type": "code",
   "execution_count": 17,
   "metadata": {},
   "outputs": [],
   "source": [
    "# setup automl"
   ]
  },
  {
   "cell_type": "code",
   "execution_count": 20,
   "metadata": {},
   "outputs": [],
   "source": [
    "import kagglehub\n",
    "\n",
    "import numpy\n",
    "import matplotlib\n",
    "import seaborn\n",
    "import tensorflow\n",
    "import keras\n",
    "\n",
    "import os\n",
    "import shutil\n",
    "\n",
    "import polars"
   ]
  },
  {
   "cell_type": "markdown",
   "metadata": {},
   "source": [
    "# Data Retrieval"
   ]
  },
  {
   "cell_type": "markdown",
   "metadata": {},
   "source": [
    "Retrieving data using kagglehub package to simplify the data retrieval process"
   ]
  },
  {
   "cell_type": "code",
   "execution_count": 4,
   "metadata": {},
   "outputs": [],
   "source": [
    "path = kagglehub.dataset_download(\"jsrojas/ip-network-traffic-flows-labeled-with-87-apps\")"
   ]
  },
  {
   "cell_type": "code",
   "execution_count": 5,
   "metadata": {},
   "outputs": [
    {
     "name": "stdout",
     "output_type": "stream",
     "text": [
      "C:\\Users\\angko\\.cache\\kagglehub\\datasets\\jsrojas\\ip-network-traffic-flows-labeled-with-87-apps\\versions\\1\n"
     ]
    }
   ],
   "source": [
    "print(path)"
   ]
  },
  {
   "cell_type": "markdown",
   "metadata": {},
   "source": [
    "### List all files under the folder kagglehub has downloaded to"
   ]
  },
  {
   "cell_type": "code",
   "execution_count": 14,
   "metadata": {},
   "outputs": [],
   "source": [
    "csv_file = os.listdir(path)"
   ]
  },
  {
   "cell_type": "code",
   "execution_count": 15,
   "metadata": {},
   "outputs": [
    {
     "data": {
      "text/plain": [
       "['Dataset-Unicauca-Version2-87Atts.csv']"
      ]
     },
     "execution_count": 15,
     "metadata": {},
     "output_type": "execute_result"
    }
   ],
   "source": [
    "csv_file"
   ]
  },
  {
   "cell_type": "markdown",
   "metadata": {},
   "source": [
    "### Move the file to the current project folder"
   ]
  },
  {
   "cell_type": "code",
   "execution_count": 7,
   "metadata": {},
   "outputs": [],
   "source": [
    "# https://www.freecodecamp.org/news/python-get-current-directory/\n",
    "\n",
    "current_project_folder: str = os.getcwd()"
   ]
  },
  {
   "cell_type": "code",
   "execution_count": 17,
   "metadata": {},
   "outputs": [
    {
     "data": {
      "text/plain": [
       "'C:\\\\Users\\\\angko\\\\.cache\\\\kagglehub\\\\datasets\\\\jsrojas\\\\ip-network-traffic-flows-labeled-with-87-apps\\\\versions\\\\1\\\\Dataset-Unicauca-Version2-87Atts.csv'"
      ]
     },
     "execution_count": 17,
     "metadata": {},
     "output_type": "execute_result"
    }
   ],
   "source": [
    "source_file_path: str = os.path.join(path, csv_file[0])\n",
    "source_file_path"
   ]
  },
  {
   "cell_type": "code",
   "execution_count": 18,
   "metadata": {},
   "outputs": [
    {
     "data": {
      "text/plain": [
       "'c:\\\\Users\\\\angko\\\\Desktop\\\\Network-Analysis-Project\\\\Dataset-Unicauca-Version2-87Atts.csv'"
      ]
     },
     "execution_count": 18,
     "metadata": {},
     "output_type": "execute_result"
    }
   ],
   "source": [
    "shutil.move(source_file_path, current_project_folder)"
   ]
  },
  {
   "cell_type": "markdown",
   "metadata": {},
   "source": [
    "# Data Loading into DataFrame"
   ]
  },
  {
   "cell_type": "markdown",
   "metadata": {},
   "source": [
    "* Load and explore the dataset."
   ]
  },
  {
   "cell_type": "markdown",
   "metadata": {},
   "source": [
    "Attempting to load the data into pandas dataframe for the data exploration"
   ]
  },
  {
   "cell_type": "code",
   "execution_count": 22,
   "metadata": {},
   "outputs": [
    {
     "ename": "ComputeError",
     "evalue": "could not parse `325090.5` as dtype `i64` at column 'Active.Mean' (column number 77)\n\nThe current offset in the file is 1746894 bytes.\n\nYou might want to try:\n- increasing `infer_schema_length` (e.g. `infer_schema_length=10000`),\n- specifying correct dtype with the `schema_overrides` argument\n- setting `ignore_errors` to `True`,\n- adding `325090.5` to the `null_values` list.\n\nOriginal error: ```remaining bytes non-empty```",
     "output_type": "error",
     "traceback": [
      "\u001b[1;31m---------------------------------------------------------------------------\u001b[0m",
      "\u001b[1;31mComputeError\u001b[0m                              Traceback (most recent call last)",
      "Cell \u001b[1;32mIn[22], line 1\u001b[0m\n\u001b[1;32m----> 1\u001b[0m network_traffic_analysis_dataframe: polars\u001b[38;5;241m.\u001b[39mDataFrame \u001b[38;5;241m=\u001b[39m \u001b[43mpolars\u001b[49m\u001b[38;5;241;43m.\u001b[39;49m\u001b[43mread_csv\u001b[49m\u001b[43m(\u001b[49m\u001b[38;5;124;43m\"\u001b[39;49m\u001b[38;5;124;43mDataset-Unicauca-Version2-87Atts.csv\u001b[39;49m\u001b[38;5;124;43m\"\u001b[39;49m\u001b[43m)\u001b[49m\n",
      "File \u001b[1;32mc:\\Users\\angko\\Desktop\\Network-Analysis-Project\\.conda\\Lib\\site-packages\\polars\\_utils\\deprecation.py:92\u001b[0m, in \u001b[0;36mdeprecate_renamed_parameter.<locals>.decorate.<locals>.wrapper\u001b[1;34m(*args, **kwargs)\u001b[0m\n\u001b[0;32m     87\u001b[0m \u001b[38;5;129m@wraps\u001b[39m(function)\n\u001b[0;32m     88\u001b[0m \u001b[38;5;28;01mdef\u001b[39;00m \u001b[38;5;21mwrapper\u001b[39m(\u001b[38;5;241m*\u001b[39margs: P\u001b[38;5;241m.\u001b[39margs, \u001b[38;5;241m*\u001b[39m\u001b[38;5;241m*\u001b[39mkwargs: P\u001b[38;5;241m.\u001b[39mkwargs) \u001b[38;5;241m-\u001b[39m\u001b[38;5;241m>\u001b[39m T:\n\u001b[0;32m     89\u001b[0m     _rename_keyword_argument(\n\u001b[0;32m     90\u001b[0m         old_name, new_name, kwargs, function\u001b[38;5;241m.\u001b[39m\u001b[38;5;18m__qualname__\u001b[39m, version\n\u001b[0;32m     91\u001b[0m     )\n\u001b[1;32m---> 92\u001b[0m     \u001b[38;5;28;01mreturn\u001b[39;00m \u001b[43mfunction\u001b[49m\u001b[43m(\u001b[49m\u001b[38;5;241;43m*\u001b[39;49m\u001b[43margs\u001b[49m\u001b[43m,\u001b[49m\u001b[43m \u001b[49m\u001b[38;5;241;43m*\u001b[39;49m\u001b[38;5;241;43m*\u001b[39;49m\u001b[43mkwargs\u001b[49m\u001b[43m)\u001b[49m\n",
      "File \u001b[1;32mc:\\Users\\angko\\Desktop\\Network-Analysis-Project\\.conda\\Lib\\site-packages\\polars\\_utils\\deprecation.py:92\u001b[0m, in \u001b[0;36mdeprecate_renamed_parameter.<locals>.decorate.<locals>.wrapper\u001b[1;34m(*args, **kwargs)\u001b[0m\n\u001b[0;32m     87\u001b[0m \u001b[38;5;129m@wraps\u001b[39m(function)\n\u001b[0;32m     88\u001b[0m \u001b[38;5;28;01mdef\u001b[39;00m \u001b[38;5;21mwrapper\u001b[39m(\u001b[38;5;241m*\u001b[39margs: P\u001b[38;5;241m.\u001b[39margs, \u001b[38;5;241m*\u001b[39m\u001b[38;5;241m*\u001b[39mkwargs: P\u001b[38;5;241m.\u001b[39mkwargs) \u001b[38;5;241m-\u001b[39m\u001b[38;5;241m>\u001b[39m T:\n\u001b[0;32m     89\u001b[0m     _rename_keyword_argument(\n\u001b[0;32m     90\u001b[0m         old_name, new_name, kwargs, function\u001b[38;5;241m.\u001b[39m\u001b[38;5;18m__qualname__\u001b[39m, version\n\u001b[0;32m     91\u001b[0m     )\n\u001b[1;32m---> 92\u001b[0m     \u001b[38;5;28;01mreturn\u001b[39;00m \u001b[43mfunction\u001b[49m\u001b[43m(\u001b[49m\u001b[38;5;241;43m*\u001b[39;49m\u001b[43margs\u001b[49m\u001b[43m,\u001b[49m\u001b[43m \u001b[49m\u001b[38;5;241;43m*\u001b[39;49m\u001b[38;5;241;43m*\u001b[39;49m\u001b[43mkwargs\u001b[49m\u001b[43m)\u001b[49m\n",
      "File \u001b[1;32mc:\\Users\\angko\\Desktop\\Network-Analysis-Project\\.conda\\Lib\\site-packages\\polars\\_utils\\deprecation.py:92\u001b[0m, in \u001b[0;36mdeprecate_renamed_parameter.<locals>.decorate.<locals>.wrapper\u001b[1;34m(*args, **kwargs)\u001b[0m\n\u001b[0;32m     87\u001b[0m \u001b[38;5;129m@wraps\u001b[39m(function)\n\u001b[0;32m     88\u001b[0m \u001b[38;5;28;01mdef\u001b[39;00m \u001b[38;5;21mwrapper\u001b[39m(\u001b[38;5;241m*\u001b[39margs: P\u001b[38;5;241m.\u001b[39margs, \u001b[38;5;241m*\u001b[39m\u001b[38;5;241m*\u001b[39mkwargs: P\u001b[38;5;241m.\u001b[39mkwargs) \u001b[38;5;241m-\u001b[39m\u001b[38;5;241m>\u001b[39m T:\n\u001b[0;32m     89\u001b[0m     _rename_keyword_argument(\n\u001b[0;32m     90\u001b[0m         old_name, new_name, kwargs, function\u001b[38;5;241m.\u001b[39m\u001b[38;5;18m__qualname__\u001b[39m, version\n\u001b[0;32m     91\u001b[0m     )\n\u001b[1;32m---> 92\u001b[0m     \u001b[38;5;28;01mreturn\u001b[39;00m \u001b[43mfunction\u001b[49m\u001b[43m(\u001b[49m\u001b[38;5;241;43m*\u001b[39;49m\u001b[43margs\u001b[49m\u001b[43m,\u001b[49m\u001b[43m \u001b[49m\u001b[38;5;241;43m*\u001b[39;49m\u001b[38;5;241;43m*\u001b[39;49m\u001b[43mkwargs\u001b[49m\u001b[43m)\u001b[49m\n",
      "File \u001b[1;32mc:\\Users\\angko\\Desktop\\Network-Analysis-Project\\.conda\\Lib\\site-packages\\polars\\io\\csv\\functions.py:534\u001b[0m, in \u001b[0;36mread_csv\u001b[1;34m(source, has_header, columns, new_columns, separator, comment_prefix, quote_char, skip_rows, skip_lines, schema, schema_overrides, null_values, missing_utf8_is_empty_string, ignore_errors, try_parse_dates, n_threads, infer_schema, infer_schema_length, batch_size, n_rows, encoding, low_memory, rechunk, use_pyarrow, storage_options, skip_rows_after_header, row_index_name, row_index_offset, sample_size, eol_char, raise_if_empty, truncate_ragged_lines, decimal_comma, glob)\u001b[0m\n\u001b[0;32m    526\u001b[0m \u001b[38;5;28;01melse\u001b[39;00m:\n\u001b[0;32m    527\u001b[0m     \u001b[38;5;28;01mwith\u001b[39;00m prepare_file_arg(\n\u001b[0;32m    528\u001b[0m         source,\n\u001b[0;32m    529\u001b[0m         encoding\u001b[38;5;241m=\u001b[39mencoding,\n\u001b[1;32m   (...)\u001b[0m\n\u001b[0;32m    532\u001b[0m         storage_options\u001b[38;5;241m=\u001b[39mstorage_options,\n\u001b[0;32m    533\u001b[0m     ) \u001b[38;5;28;01mas\u001b[39;00m data:\n\u001b[1;32m--> 534\u001b[0m         df \u001b[38;5;241m=\u001b[39m \u001b[43m_read_csv_impl\u001b[49m\u001b[43m(\u001b[49m\n\u001b[0;32m    535\u001b[0m \u001b[43m            \u001b[49m\u001b[43mdata\u001b[49m\u001b[43m,\u001b[49m\n\u001b[0;32m    536\u001b[0m \u001b[43m            \u001b[49m\u001b[43mhas_header\u001b[49m\u001b[38;5;241;43m=\u001b[39;49m\u001b[43mhas_header\u001b[49m\u001b[43m,\u001b[49m\n\u001b[0;32m    537\u001b[0m \u001b[43m            \u001b[49m\u001b[43mcolumns\u001b[49m\u001b[38;5;241;43m=\u001b[39;49m\u001b[43mcolumns\u001b[49m\u001b[43m \u001b[49m\u001b[38;5;28;43;01mif\u001b[39;49;00m\u001b[43m \u001b[49m\u001b[43mcolumns\u001b[49m\u001b[43m \u001b[49m\u001b[38;5;28;43;01melse\u001b[39;49;00m\u001b[43m \u001b[49m\u001b[43mprojection\u001b[49m\u001b[43m,\u001b[49m\n\u001b[0;32m    538\u001b[0m \u001b[43m            \u001b[49m\u001b[43mseparator\u001b[49m\u001b[38;5;241;43m=\u001b[39;49m\u001b[43mseparator\u001b[49m\u001b[43m,\u001b[49m\n\u001b[0;32m    539\u001b[0m \u001b[43m            \u001b[49m\u001b[43mcomment_prefix\u001b[49m\u001b[38;5;241;43m=\u001b[39;49m\u001b[43mcomment_prefix\u001b[49m\u001b[43m,\u001b[49m\n\u001b[0;32m    540\u001b[0m \u001b[43m            \u001b[49m\u001b[43mquote_char\u001b[49m\u001b[38;5;241;43m=\u001b[39;49m\u001b[43mquote_char\u001b[49m\u001b[43m,\u001b[49m\n\u001b[0;32m    541\u001b[0m \u001b[43m            \u001b[49m\u001b[43mskip_rows\u001b[49m\u001b[38;5;241;43m=\u001b[39;49m\u001b[43mskip_rows\u001b[49m\u001b[43m,\u001b[49m\n\u001b[0;32m    542\u001b[0m \u001b[43m            \u001b[49m\u001b[43mskip_lines\u001b[49m\u001b[38;5;241;43m=\u001b[39;49m\u001b[43mskip_lines\u001b[49m\u001b[43m,\u001b[49m\n\u001b[0;32m    543\u001b[0m \u001b[43m            \u001b[49m\u001b[43mschema_overrides\u001b[49m\u001b[38;5;241;43m=\u001b[39;49m\u001b[43mschema_overrides\u001b[49m\u001b[43m,\u001b[49m\n\u001b[0;32m    544\u001b[0m \u001b[43m            \u001b[49m\u001b[43mschema\u001b[49m\u001b[38;5;241;43m=\u001b[39;49m\u001b[43mschema\u001b[49m\u001b[43m,\u001b[49m\n\u001b[0;32m    545\u001b[0m \u001b[43m            \u001b[49m\u001b[43mnull_values\u001b[49m\u001b[38;5;241;43m=\u001b[39;49m\u001b[43mnull_values\u001b[49m\u001b[43m,\u001b[49m\n\u001b[0;32m    546\u001b[0m \u001b[43m            \u001b[49m\u001b[43mmissing_utf8_is_empty_string\u001b[49m\u001b[38;5;241;43m=\u001b[39;49m\u001b[43mmissing_utf8_is_empty_string\u001b[49m\u001b[43m,\u001b[49m\n\u001b[0;32m    547\u001b[0m \u001b[43m            \u001b[49m\u001b[43mignore_errors\u001b[49m\u001b[38;5;241;43m=\u001b[39;49m\u001b[43mignore_errors\u001b[49m\u001b[43m,\u001b[49m\n\u001b[0;32m    548\u001b[0m \u001b[43m            \u001b[49m\u001b[43mtry_parse_dates\u001b[49m\u001b[38;5;241;43m=\u001b[39;49m\u001b[43mtry_parse_dates\u001b[49m\u001b[43m,\u001b[49m\n\u001b[0;32m    549\u001b[0m \u001b[43m            \u001b[49m\u001b[43mn_threads\u001b[49m\u001b[38;5;241;43m=\u001b[39;49m\u001b[43mn_threads\u001b[49m\u001b[43m,\u001b[49m\n\u001b[0;32m    550\u001b[0m \u001b[43m            \u001b[49m\u001b[43minfer_schema_length\u001b[49m\u001b[38;5;241;43m=\u001b[39;49m\u001b[43minfer_schema_length\u001b[49m\u001b[43m,\u001b[49m\n\u001b[0;32m    551\u001b[0m \u001b[43m            \u001b[49m\u001b[43mbatch_size\u001b[49m\u001b[38;5;241;43m=\u001b[39;49m\u001b[43mbatch_size\u001b[49m\u001b[43m,\u001b[49m\n\u001b[0;32m    552\u001b[0m \u001b[43m            \u001b[49m\u001b[43mn_rows\u001b[49m\u001b[38;5;241;43m=\u001b[39;49m\u001b[43mn_rows\u001b[49m\u001b[43m,\u001b[49m\n\u001b[0;32m    553\u001b[0m \u001b[43m            \u001b[49m\u001b[43mencoding\u001b[49m\u001b[38;5;241;43m=\u001b[39;49m\u001b[43mencoding\u001b[49m\u001b[43m \u001b[49m\u001b[38;5;28;43;01mif\u001b[39;49;00m\u001b[43m \u001b[49m\u001b[43mencoding\u001b[49m\u001b[43m \u001b[49m\u001b[38;5;241;43m==\u001b[39;49m\u001b[43m \u001b[49m\u001b[38;5;124;43m\"\u001b[39;49m\u001b[38;5;124;43mutf8-lossy\u001b[39;49m\u001b[38;5;124;43m\"\u001b[39;49m\u001b[43m \u001b[49m\u001b[38;5;28;43;01melse\u001b[39;49;00m\u001b[43m \u001b[49m\u001b[38;5;124;43m\"\u001b[39;49m\u001b[38;5;124;43mutf8\u001b[39;49m\u001b[38;5;124;43m\"\u001b[39;49m\u001b[43m,\u001b[49m\n\u001b[0;32m    554\u001b[0m \u001b[43m            \u001b[49m\u001b[43mlow_memory\u001b[49m\u001b[38;5;241;43m=\u001b[39;49m\u001b[43mlow_memory\u001b[49m\u001b[43m,\u001b[49m\n\u001b[0;32m    555\u001b[0m \u001b[43m            \u001b[49m\u001b[43mrechunk\u001b[49m\u001b[38;5;241;43m=\u001b[39;49m\u001b[43mrechunk\u001b[49m\u001b[43m,\u001b[49m\n\u001b[0;32m    556\u001b[0m \u001b[43m            \u001b[49m\u001b[43mskip_rows_after_header\u001b[49m\u001b[38;5;241;43m=\u001b[39;49m\u001b[43mskip_rows_after_header\u001b[49m\u001b[43m,\u001b[49m\n\u001b[0;32m    557\u001b[0m \u001b[43m            \u001b[49m\u001b[43mrow_index_name\u001b[49m\u001b[38;5;241;43m=\u001b[39;49m\u001b[43mrow_index_name\u001b[49m\u001b[43m,\u001b[49m\n\u001b[0;32m    558\u001b[0m \u001b[43m            \u001b[49m\u001b[43mrow_index_offset\u001b[49m\u001b[38;5;241;43m=\u001b[39;49m\u001b[43mrow_index_offset\u001b[49m\u001b[43m,\u001b[49m\n\u001b[0;32m    559\u001b[0m \u001b[43m            \u001b[49m\u001b[43meol_char\u001b[49m\u001b[38;5;241;43m=\u001b[39;49m\u001b[43meol_char\u001b[49m\u001b[43m,\u001b[49m\n\u001b[0;32m    560\u001b[0m \u001b[43m            \u001b[49m\u001b[43mraise_if_empty\u001b[49m\u001b[38;5;241;43m=\u001b[39;49m\u001b[43mraise_if_empty\u001b[49m\u001b[43m,\u001b[49m\n\u001b[0;32m    561\u001b[0m \u001b[43m            \u001b[49m\u001b[43mtruncate_ragged_lines\u001b[49m\u001b[38;5;241;43m=\u001b[39;49m\u001b[43mtruncate_ragged_lines\u001b[49m\u001b[43m,\u001b[49m\n\u001b[0;32m    562\u001b[0m \u001b[43m            \u001b[49m\u001b[43mdecimal_comma\u001b[49m\u001b[38;5;241;43m=\u001b[39;49m\u001b[43mdecimal_comma\u001b[49m\u001b[43m,\u001b[49m\n\u001b[0;32m    563\u001b[0m \u001b[43m            \u001b[49m\u001b[43mglob\u001b[49m\u001b[38;5;241;43m=\u001b[39;49m\u001b[43mglob\u001b[49m\u001b[43m,\u001b[49m\n\u001b[0;32m    564\u001b[0m \u001b[43m        \u001b[49m\u001b[43m)\u001b[49m\n\u001b[0;32m    566\u001b[0m \u001b[38;5;28;01mif\u001b[39;00m new_columns:\n\u001b[0;32m    567\u001b[0m     \u001b[38;5;28;01mreturn\u001b[39;00m _update_columns(df, new_columns)\n",
      "File \u001b[1;32mc:\\Users\\angko\\Desktop\\Network-Analysis-Project\\.conda\\Lib\\site-packages\\polars\\io\\csv\\functions.py:682\u001b[0m, in \u001b[0;36m_read_csv_impl\u001b[1;34m(source, has_header, columns, separator, comment_prefix, quote_char, skip_rows, skip_lines, schema, schema_overrides, null_values, missing_utf8_is_empty_string, ignore_errors, try_parse_dates, n_threads, infer_schema_length, batch_size, n_rows, encoding, low_memory, rechunk, skip_rows_after_header, row_index_name, row_index_offset, sample_size, eol_char, raise_if_empty, truncate_ragged_lines, decimal_comma, glob)\u001b[0m\n\u001b[0;32m    678\u001b[0m         \u001b[38;5;28;01mraise\u001b[39;00m \u001b[38;5;167;01mValueError\u001b[39;00m(msg)\n\u001b[0;32m    680\u001b[0m projection, columns \u001b[38;5;241m=\u001b[39m parse_columns_arg(columns)\n\u001b[1;32m--> 682\u001b[0m pydf \u001b[38;5;241m=\u001b[39m \u001b[43mPyDataFrame\u001b[49m\u001b[38;5;241;43m.\u001b[39;49m\u001b[43mread_csv\u001b[49m\u001b[43m(\u001b[49m\n\u001b[0;32m    683\u001b[0m \u001b[43m    \u001b[49m\u001b[43msource\u001b[49m\u001b[43m,\u001b[49m\n\u001b[0;32m    684\u001b[0m \u001b[43m    \u001b[49m\u001b[43minfer_schema_length\u001b[49m\u001b[43m,\u001b[49m\n\u001b[0;32m    685\u001b[0m \u001b[43m    \u001b[49m\u001b[43mbatch_size\u001b[49m\u001b[43m,\u001b[49m\n\u001b[0;32m    686\u001b[0m \u001b[43m    \u001b[49m\u001b[43mhas_header\u001b[49m\u001b[43m,\u001b[49m\n\u001b[0;32m    687\u001b[0m \u001b[43m    \u001b[49m\u001b[43mignore_errors\u001b[49m\u001b[43m,\u001b[49m\n\u001b[0;32m    688\u001b[0m \u001b[43m    \u001b[49m\u001b[43mn_rows\u001b[49m\u001b[43m,\u001b[49m\n\u001b[0;32m    689\u001b[0m \u001b[43m    \u001b[49m\u001b[43mskip_rows\u001b[49m\u001b[43m,\u001b[49m\n\u001b[0;32m    690\u001b[0m \u001b[43m    \u001b[49m\u001b[43mskip_lines\u001b[49m\u001b[43m,\u001b[49m\n\u001b[0;32m    691\u001b[0m \u001b[43m    \u001b[49m\u001b[43mprojection\u001b[49m\u001b[43m,\u001b[49m\n\u001b[0;32m    692\u001b[0m \u001b[43m    \u001b[49m\u001b[43mseparator\u001b[49m\u001b[43m,\u001b[49m\n\u001b[0;32m    693\u001b[0m \u001b[43m    \u001b[49m\u001b[43mrechunk\u001b[49m\u001b[43m,\u001b[49m\n\u001b[0;32m    694\u001b[0m \u001b[43m    \u001b[49m\u001b[43mcolumns\u001b[49m\u001b[43m,\u001b[49m\n\u001b[0;32m    695\u001b[0m \u001b[43m    \u001b[49m\u001b[43mencoding\u001b[49m\u001b[43m,\u001b[49m\n\u001b[0;32m    696\u001b[0m \u001b[43m    \u001b[49m\u001b[43mn_threads\u001b[49m\u001b[43m,\u001b[49m\n\u001b[0;32m    697\u001b[0m \u001b[43m    \u001b[49m\u001b[43mpath\u001b[49m\u001b[43m,\u001b[49m\n\u001b[0;32m    698\u001b[0m \u001b[43m    \u001b[49m\u001b[43mdtype_list\u001b[49m\u001b[43m,\u001b[49m\n\u001b[0;32m    699\u001b[0m \u001b[43m    \u001b[49m\u001b[43mdtype_slice\u001b[49m\u001b[43m,\u001b[49m\n\u001b[0;32m    700\u001b[0m \u001b[43m    \u001b[49m\u001b[43mlow_memory\u001b[49m\u001b[43m,\u001b[49m\n\u001b[0;32m    701\u001b[0m \u001b[43m    \u001b[49m\u001b[43mcomment_prefix\u001b[49m\u001b[43m,\u001b[49m\n\u001b[0;32m    702\u001b[0m \u001b[43m    \u001b[49m\u001b[43mquote_char\u001b[49m\u001b[43m,\u001b[49m\n\u001b[0;32m    703\u001b[0m \u001b[43m    \u001b[49m\u001b[43mprocessed_null_values\u001b[49m\u001b[43m,\u001b[49m\n\u001b[0;32m    704\u001b[0m \u001b[43m    \u001b[49m\u001b[43mmissing_utf8_is_empty_string\u001b[49m\u001b[43m,\u001b[49m\n\u001b[0;32m    705\u001b[0m \u001b[43m    \u001b[49m\u001b[43mtry_parse_dates\u001b[49m\u001b[43m,\u001b[49m\n\u001b[0;32m    706\u001b[0m \u001b[43m    \u001b[49m\u001b[43mskip_rows_after_header\u001b[49m\u001b[43m,\u001b[49m\n\u001b[0;32m    707\u001b[0m \u001b[43m    \u001b[49m\u001b[43mparse_row_index_args\u001b[49m\u001b[43m(\u001b[49m\u001b[43mrow_index_name\u001b[49m\u001b[43m,\u001b[49m\u001b[43m \u001b[49m\u001b[43mrow_index_offset\u001b[49m\u001b[43m)\u001b[49m\u001b[43m,\u001b[49m\n\u001b[0;32m    708\u001b[0m \u001b[43m    \u001b[49m\u001b[43meol_char\u001b[49m\u001b[38;5;241;43m=\u001b[39;49m\u001b[43meol_char\u001b[49m\u001b[43m,\u001b[49m\n\u001b[0;32m    709\u001b[0m \u001b[43m    \u001b[49m\u001b[43mraise_if_empty\u001b[49m\u001b[38;5;241;43m=\u001b[39;49m\u001b[43mraise_if_empty\u001b[49m\u001b[43m,\u001b[49m\n\u001b[0;32m    710\u001b[0m \u001b[43m    \u001b[49m\u001b[43mtruncate_ragged_lines\u001b[49m\u001b[38;5;241;43m=\u001b[39;49m\u001b[43mtruncate_ragged_lines\u001b[49m\u001b[43m,\u001b[49m\n\u001b[0;32m    711\u001b[0m \u001b[43m    \u001b[49m\u001b[43mdecimal_comma\u001b[49m\u001b[38;5;241;43m=\u001b[39;49m\u001b[43mdecimal_comma\u001b[49m\u001b[43m,\u001b[49m\n\u001b[0;32m    712\u001b[0m \u001b[43m    \u001b[49m\u001b[43mschema\u001b[49m\u001b[38;5;241;43m=\u001b[39;49m\u001b[43mschema\u001b[49m\u001b[43m,\u001b[49m\n\u001b[0;32m    713\u001b[0m \u001b[43m\u001b[49m\u001b[43m)\u001b[49m\n\u001b[0;32m    714\u001b[0m \u001b[38;5;28;01mreturn\u001b[39;00m wrap_df(pydf)\n",
      "\u001b[1;31mComputeError\u001b[0m: could not parse `325090.5` as dtype `i64` at column 'Active.Mean' (column number 77)\n\nThe current offset in the file is 1746894 bytes.\n\nYou might want to try:\n- increasing `infer_schema_length` (e.g. `infer_schema_length=10000`),\n- specifying correct dtype with the `schema_overrides` argument\n- setting `ignore_errors` to `True`,\n- adding `325090.5` to the `null_values` list.\n\nOriginal error: ```remaining bytes non-empty```"
     ]
    }
   ],
   "source": [
    "network_traffic_analysis_dataframe: polars.DataFrame = polars.read_csv(\"Dataset-Unicauca-Version2-87Atts.csv\")"
   ]
  },
  {
   "cell_type": "code",
   "execution_count": 22,
   "metadata": {},
   "outputs": [
    {
     "data": {
      "text/html": [
       "<div>\n",
       "<style scoped>\n",
       "    .dataframe tbody tr th:only-of-type {\n",
       "        vertical-align: middle;\n",
       "    }\n",
       "\n",
       "    .dataframe tbody tr th {\n",
       "        vertical-align: top;\n",
       "    }\n",
       "\n",
       "    .dataframe thead th {\n",
       "        text-align: right;\n",
       "    }\n",
       "</style>\n",
       "<table border=\"1\" class=\"dataframe\">\n",
       "  <thead>\n",
       "    <tr style=\"text-align: right;\">\n",
       "      <th></th>\n",
       "      <th>Flow.ID</th>\n",
       "      <th>Source.IP</th>\n",
       "      <th>Source.Port</th>\n",
       "      <th>Destination.IP</th>\n",
       "      <th>Destination.Port</th>\n",
       "      <th>Protocol</th>\n",
       "      <th>Timestamp</th>\n",
       "      <th>Flow.Duration</th>\n",
       "      <th>Total.Fwd.Packets</th>\n",
       "      <th>Total.Backward.Packets</th>\n",
       "      <th>...</th>\n",
       "      <th>Active.Std</th>\n",
       "      <th>Active.Max</th>\n",
       "      <th>Active.Min</th>\n",
       "      <th>Idle.Mean</th>\n",
       "      <th>Idle.Std</th>\n",
       "      <th>Idle.Max</th>\n",
       "      <th>Idle.Min</th>\n",
       "      <th>Label</th>\n",
       "      <th>L7Protocol</th>\n",
       "      <th>ProtocolName</th>\n",
       "    </tr>\n",
       "  </thead>\n",
       "  <tbody>\n",
       "    <tr>\n",
       "      <th>0</th>\n",
       "      <td>172.19.1.46-10.200.7.7-52422-3128-6</td>\n",
       "      <td>172.19.1.46</td>\n",
       "      <td>52422</td>\n",
       "      <td>10.200.7.7</td>\n",
       "      <td>3128</td>\n",
       "      <td>6</td>\n",
       "      <td>26/04/201711:11:17</td>\n",
       "      <td>45523</td>\n",
       "      <td>22</td>\n",
       "      <td>55</td>\n",
       "      <td>...</td>\n",
       "      <td>0.0</td>\n",
       "      <td>0.0</td>\n",
       "      <td>0.0</td>\n",
       "      <td>0.0</td>\n",
       "      <td>0.0</td>\n",
       "      <td>0.0</td>\n",
       "      <td>0.0</td>\n",
       "      <td>BENIGN</td>\n",
       "      <td>131</td>\n",
       "      <td>HTTP_PROXY</td>\n",
       "    </tr>\n",
       "    <tr>\n",
       "      <th>1</th>\n",
       "      <td>172.19.1.46-10.200.7.7-52422-3128-6</td>\n",
       "      <td>10.200.7.7</td>\n",
       "      <td>3128</td>\n",
       "      <td>172.19.1.46</td>\n",
       "      <td>52422</td>\n",
       "      <td>6</td>\n",
       "      <td>26/04/201711:11:17</td>\n",
       "      <td>1</td>\n",
       "      <td>2</td>\n",
       "      <td>0</td>\n",
       "      <td>...</td>\n",
       "      <td>0.0</td>\n",
       "      <td>0.0</td>\n",
       "      <td>0.0</td>\n",
       "      <td>0.0</td>\n",
       "      <td>0.0</td>\n",
       "      <td>0.0</td>\n",
       "      <td>0.0</td>\n",
       "      <td>BENIGN</td>\n",
       "      <td>131</td>\n",
       "      <td>HTTP_PROXY</td>\n",
       "    </tr>\n",
       "    <tr>\n",
       "      <th>2</th>\n",
       "      <td>10.200.7.217-50.31.185.39-38848-80-6</td>\n",
       "      <td>50.31.185.39</td>\n",
       "      <td>80</td>\n",
       "      <td>10.200.7.217</td>\n",
       "      <td>38848</td>\n",
       "      <td>6</td>\n",
       "      <td>26/04/201711:11:17</td>\n",
       "      <td>1</td>\n",
       "      <td>3</td>\n",
       "      <td>0</td>\n",
       "      <td>...</td>\n",
       "      <td>0.0</td>\n",
       "      <td>0.0</td>\n",
       "      <td>0.0</td>\n",
       "      <td>0.0</td>\n",
       "      <td>0.0</td>\n",
       "      <td>0.0</td>\n",
       "      <td>0.0</td>\n",
       "      <td>BENIGN</td>\n",
       "      <td>7</td>\n",
       "      <td>HTTP</td>\n",
       "    </tr>\n",
       "    <tr>\n",
       "      <th>3</th>\n",
       "      <td>10.200.7.217-50.31.185.39-38848-80-6</td>\n",
       "      <td>50.31.185.39</td>\n",
       "      <td>80</td>\n",
       "      <td>10.200.7.217</td>\n",
       "      <td>38848</td>\n",
       "      <td>6</td>\n",
       "      <td>26/04/201711:11:17</td>\n",
       "      <td>217</td>\n",
       "      <td>1</td>\n",
       "      <td>3</td>\n",
       "      <td>...</td>\n",
       "      <td>0.0</td>\n",
       "      <td>0.0</td>\n",
       "      <td>0.0</td>\n",
       "      <td>0.0</td>\n",
       "      <td>0.0</td>\n",
       "      <td>0.0</td>\n",
       "      <td>0.0</td>\n",
       "      <td>BENIGN</td>\n",
       "      <td>7</td>\n",
       "      <td>HTTP</td>\n",
       "    </tr>\n",
       "    <tr>\n",
       "      <th>4</th>\n",
       "      <td>192.168.72.43-10.200.7.7-55961-3128-6</td>\n",
       "      <td>192.168.72.43</td>\n",
       "      <td>55961</td>\n",
       "      <td>10.200.7.7</td>\n",
       "      <td>3128</td>\n",
       "      <td>6</td>\n",
       "      <td>26/04/201711:11:17</td>\n",
       "      <td>78068</td>\n",
       "      <td>5</td>\n",
       "      <td>0</td>\n",
       "      <td>...</td>\n",
       "      <td>0.0</td>\n",
       "      <td>0.0</td>\n",
       "      <td>0.0</td>\n",
       "      <td>0.0</td>\n",
       "      <td>0.0</td>\n",
       "      <td>0.0</td>\n",
       "      <td>0.0</td>\n",
       "      <td>BENIGN</td>\n",
       "      <td>131</td>\n",
       "      <td>HTTP_PROXY</td>\n",
       "    </tr>\n",
       "    <tr>\n",
       "      <th>...</th>\n",
       "      <td>...</td>\n",
       "      <td>...</td>\n",
       "      <td>...</td>\n",
       "      <td>...</td>\n",
       "      <td>...</td>\n",
       "      <td>...</td>\n",
       "      <td>...</td>\n",
       "      <td>...</td>\n",
       "      <td>...</td>\n",
       "      <td>...</td>\n",
       "      <td>...</td>\n",
       "      <td>...</td>\n",
       "      <td>...</td>\n",
       "      <td>...</td>\n",
       "      <td>...</td>\n",
       "      <td>...</td>\n",
       "      <td>...</td>\n",
       "      <td>...</td>\n",
       "      <td>...</td>\n",
       "      <td>...</td>\n",
       "      <td>...</td>\n",
       "    </tr>\n",
       "    <tr>\n",
       "      <th>3577291</th>\n",
       "      <td>10.200.7.199-98.138.79.73-42135-443-6</td>\n",
       "      <td>98.138.79.73</td>\n",
       "      <td>443</td>\n",
       "      <td>10.200.7.199</td>\n",
       "      <td>42135</td>\n",
       "      <td>6</td>\n",
       "      <td>15/05/201705:43:40</td>\n",
       "      <td>2290821</td>\n",
       "      <td>5</td>\n",
       "      <td>4</td>\n",
       "      <td>...</td>\n",
       "      <td>0.0</td>\n",
       "      <td>0.0</td>\n",
       "      <td>0.0</td>\n",
       "      <td>0.0</td>\n",
       "      <td>0.0</td>\n",
       "      <td>0.0</td>\n",
       "      <td>0.0</td>\n",
       "      <td>BENIGN</td>\n",
       "      <td>91</td>\n",
       "      <td>SSL</td>\n",
       "    </tr>\n",
       "    <tr>\n",
       "      <th>3577292</th>\n",
       "      <td>10.200.7.217-98.138.79.73-51546-443-6</td>\n",
       "      <td>98.138.79.73</td>\n",
       "      <td>443</td>\n",
       "      <td>10.200.7.217</td>\n",
       "      <td>51546</td>\n",
       "      <td>6</td>\n",
       "      <td>15/05/201705:46:10</td>\n",
       "      <td>24</td>\n",
       "      <td>5</td>\n",
       "      <td>0</td>\n",
       "      <td>...</td>\n",
       "      <td>0.0</td>\n",
       "      <td>0.0</td>\n",
       "      <td>0.0</td>\n",
       "      <td>0.0</td>\n",
       "      <td>0.0</td>\n",
       "      <td>0.0</td>\n",
       "      <td>0.0</td>\n",
       "      <td>BENIGN</td>\n",
       "      <td>91</td>\n",
       "      <td>SSL</td>\n",
       "    </tr>\n",
       "    <tr>\n",
       "      <th>3577293</th>\n",
       "      <td>10.200.7.218-98.138.79.73-44366-443-6</td>\n",
       "      <td>98.138.79.73</td>\n",
       "      <td>443</td>\n",
       "      <td>10.200.7.218</td>\n",
       "      <td>44366</td>\n",
       "      <td>6</td>\n",
       "      <td>15/05/201705:45:39</td>\n",
       "      <td>2591653</td>\n",
       "      <td>6</td>\n",
       "      <td>5</td>\n",
       "      <td>...</td>\n",
       "      <td>0.0</td>\n",
       "      <td>0.0</td>\n",
       "      <td>0.0</td>\n",
       "      <td>0.0</td>\n",
       "      <td>0.0</td>\n",
       "      <td>0.0</td>\n",
       "      <td>0.0</td>\n",
       "      <td>BENIGN</td>\n",
       "      <td>91</td>\n",
       "      <td>SSL</td>\n",
       "    </tr>\n",
       "    <tr>\n",
       "      <th>3577294</th>\n",
       "      <td>10.200.7.195-98.138.79.73-52341-443-6</td>\n",
       "      <td>98.138.79.73</td>\n",
       "      <td>443</td>\n",
       "      <td>10.200.7.195</td>\n",
       "      <td>52341</td>\n",
       "      <td>6</td>\n",
       "      <td>15/05/201705:45:59</td>\n",
       "      <td>2622421</td>\n",
       "      <td>4</td>\n",
       "      <td>3</td>\n",
       "      <td>...</td>\n",
       "      <td>0.0</td>\n",
       "      <td>0.0</td>\n",
       "      <td>0.0</td>\n",
       "      <td>0.0</td>\n",
       "      <td>0.0</td>\n",
       "      <td>0.0</td>\n",
       "      <td>0.0</td>\n",
       "      <td>BENIGN</td>\n",
       "      <td>91</td>\n",
       "      <td>SSL</td>\n",
       "    </tr>\n",
       "    <tr>\n",
       "      <th>3577295</th>\n",
       "      <td>10.200.7.196-98.138.79.73-34188-443-6</td>\n",
       "      <td>98.138.79.73</td>\n",
       "      <td>443</td>\n",
       "      <td>10.200.7.196</td>\n",
       "      <td>34188</td>\n",
       "      <td>6</td>\n",
       "      <td>15/05/201705:46:05</td>\n",
       "      <td>2009138</td>\n",
       "      <td>3</td>\n",
       "      <td>2</td>\n",
       "      <td>...</td>\n",
       "      <td>0.0</td>\n",
       "      <td>0.0</td>\n",
       "      <td>0.0</td>\n",
       "      <td>0.0</td>\n",
       "      <td>0.0</td>\n",
       "      <td>0.0</td>\n",
       "      <td>0.0</td>\n",
       "      <td>BENIGN</td>\n",
       "      <td>91</td>\n",
       "      <td>SSL</td>\n",
       "    </tr>\n",
       "  </tbody>\n",
       "</table>\n",
       "<p>3577296 rows x 87 columns</p>\n",
       "</div>"
      ]
     },
     "metadata": {},
     "output_type": "display_data"
    }
   ],
   "source": [
    "network_traffic_analysis_dataframe"
   ]
  },
  {
   "cell_type": "code",
   "execution_count": 23,
   "metadata": {},
   "outputs": [
    {
     "data": {
      "text/plain": [
       "Index(['Flow.ID', 'Source.IP', 'Source.Port', 'Destination.IP',\n",
       "       'Destination.Port', 'Protocol', 'Timestamp', 'Flow.Duration',\n",
       "       'Total.Fwd.Packets', 'Total.Backward.Packets',\n",
       "       'Total.Length.of.Fwd.Packets', 'Total.Length.of.Bwd.Packets',\n",
       "       'Fwd.Packet.Length.Max', 'Fwd.Packet.Length.Min',\n",
       "       'Fwd.Packet.Length.Mean', 'Fwd.Packet.Length.Std',\n",
       "       'Bwd.Packet.Length.Max', 'Bwd.Packet.Length.Min',\n",
       "       'Bwd.Packet.Length.Mean', 'Bwd.Packet.Length.Std', 'Flow.Bytes.s',\n",
       "       'Flow.Packets.s', 'Flow.IAT.Mean', 'Flow.IAT.Std', 'Flow.IAT.Max',\n",
       "       'Flow.IAT.Min', 'Fwd.IAT.Total', 'Fwd.IAT.Mean', 'Fwd.IAT.Std',\n",
       "       'Fwd.IAT.Max', 'Fwd.IAT.Min', 'Bwd.IAT.Total', 'Bwd.IAT.Mean',\n",
       "       'Bwd.IAT.Std', 'Bwd.IAT.Max', 'Bwd.IAT.Min', 'Fwd.PSH.Flags',\n",
       "       'Bwd.PSH.Flags', 'Fwd.URG.Flags', 'Bwd.URG.Flags', 'Fwd.Header.Length',\n",
       "       'Bwd.Header.Length', 'Fwd.Packets.s', 'Bwd.Packets.s',\n",
       "       'Min.Packet.Length', 'Max.Packet.Length', 'Packet.Length.Mean',\n",
       "       'Packet.Length.Std', 'Packet.Length.Variance', 'FIN.Flag.Count',\n",
       "       'SYN.Flag.Count', 'RST.Flag.Count', 'PSH.Flag.Count', 'ACK.Flag.Count',\n",
       "       'URG.Flag.Count', 'CWE.Flag.Count', 'ECE.Flag.Count', 'Down.Up.Ratio',\n",
       "       'Average.Packet.Size', 'Avg.Fwd.Segment.Size', 'Avg.Bwd.Segment.Size',\n",
       "       'Fwd.Header.Length.1', 'Fwd.Avg.Bytes.Bulk', 'Fwd.Avg.Packets.Bulk',\n",
       "       'Fwd.Avg.Bulk.Rate', 'Bwd.Avg.Bytes.Bulk', 'Bwd.Avg.Packets.Bulk',\n",
       "       'Bwd.Avg.Bulk.Rate', 'Subflow.Fwd.Packets', 'Subflow.Fwd.Bytes',\n",
       "       'Subflow.Bwd.Packets', 'Subflow.Bwd.Bytes', 'Init_Win_bytes_forward',\n",
       "       'Init_Win_bytes_backward', 'act_data_pkt_fwd', 'min_seg_size_forward',\n",
       "       'Active.Mean', 'Active.Std', 'Active.Max', 'Active.Min', 'Idle.Mean',\n",
       "       'Idle.Std', 'Idle.Max', 'Idle.Min', 'Label', 'L7Protocol',\n",
       "       'ProtocolName'],\n",
       "      dtype='object')"
      ]
     },
     "execution_count": 23,
     "metadata": {},
     "output_type": "execute_result"
    }
   ],
   "source": [
    "network_traffic_analysis_dataframe.columns"
   ]
  },
  {
   "cell_type": "code",
   "execution_count": 24,
   "metadata": {},
   "outputs": [
    {
     "data": {
      "text/plain": [
       "array(['BENIGN'], dtype=object)"
      ]
     },
     "execution_count": 24,
     "metadata": {},
     "output_type": "execute_result"
    }
   ],
   "source": [
    "network_traffic_analysis_dataframe[\"Label\"].unique()"
   ]
  },
  {
   "cell_type": "markdown",
   "metadata": {},
   "source": [
    "# Basic Data Exploration"
   ]
  },
  {
   "cell_type": "markdown",
   "metadata": {},
   "source": [
    "\n",
    "* Handle missing data and outliers.\n",
    "* Perform data visualization to gain insights into the dataset."
   ]
  },
  {
   "cell_type": "markdown",
   "metadata": {},
   "source": [
    "### Feature and its description"
   ]
  },
  {
   "cell_type": "markdown",
   "metadata": {},
   "source": [
    "- Flow duration\t\t\n",
    "    - Duration of the flow in Microsecond\n",
    "- total Fwd Packet\t\t\n",
    "    - Total packets in the forward direction\n",
    "- total Bwd packets\t\t\n",
    "    - Total packets in the backward direction\n",
    "- total Length of Fwd Packet\t\n",
    "    - Total size of packet in forward direction\n",
    "- total Length of Bwd Packet\t\n",
    "    - Total size of packet in backward direction\n",
    "- Fwd Packet Length Min \t\t\n",
    "    - Minimum size of packet in forward direction\n",
    "- Fwd Packet Length Max \t\t\n",
    "    - Maximum size of packet in forward direction\n",
    "- Fwd Packet Length Mean\t\t\n",
    "    - Mean size of packet in forward direction\n",
    "- Fwd Packet Length Std\t\t\n",
    "    - Standard deviation size of packet in forward direction\n",
    "- Bwd Packet Length Min\t\t\n",
    "    - Minimum size of packet in backward direction\n",
    "- Bwd Packet Length Max\t\t\n",
    "    - Maximum size of packet in backward direction\n",
    "- Bwd Packet Length Mean\t\t\n",
    "    - Mean size of packet in backward direction\n",
    "- Bwd Packet Length Std\t\t\n",
    "    - Standard deviation size of packet in backward direction\n",
    "- Flow Byte/s\t\t\t\n",
    "    - Number of flow packets per second\n",
    "- Flow Packets/s\t\t\t\n",
    "    - Number of flow bytes per second \n",
    "- Flow IAT Mean\t\t\t\n",
    "    - Mean time between two packets sent in the flow\n",
    "- Flow IAT Std\t\t\t\n",
    "    - Standard deviation time between two packets sent in the flow\n",
    "- Flow IAT Max\t\t\t\n",
    "    - Maximum time between two packets sent in the flow\n",
    "- Flow IAT Min\t\t\t\n",
    "    - Minimum time between two packets sent in the flow\n",
    "- Fwd IAT Min\t\t\t\n",
    "    - Minimum time between two packets sent in the forward direction\n",
    "- Fwd IAT Max\t\t\t\n",
    "    - Maximum time between two packets sent in the forward direction\n",
    "- Fwd IAT Mean\t\t\t\n",
    "    - Mean time between two packets sent in the forward direction\n",
    "- Fwd IAT Std\t\t\t\n",
    "    - Standard deviation time between two packets sent in the forward direction\n",
    "- Fwd IAT Total   \t\t\n",
    "    - Total time between two packets sent in the forward direction\n",
    "- Bwd IAT Min\t\t\t\n",
    "    - Minimum time between two packets sent in the backward direction\n",
    "- Bwd IAT Max\t\t\t\n",
    "    - Maximum time between two packets sent in the backward direction\n",
    "- Bwd IAT Mean\t\t\t\n",
    "    - Mean time between two packets sent in the backward direction\n",
    "- Bwd IAT Std\t\t\t\n",
    "    - Standard deviation time between two packets sent in the backward direction\n",
    "- Bwd IAT Total\t\t\t\n",
    "    - Total time between two packets sent in the backward direction\n",
    "- Fwd PSH flag\t\t\t\n",
    "    - Number of times the PSH flag was set in packets travelling in the forward direction (0 for UDP)\n",
    "- Bwd PSH Flag\t\t\t\n",
    "    - Number of times the PSH flag was set in packets travelling in the backward direction (0 for UDP)\n",
    "- Fwd URG Flag\t\t\t\n",
    "    - Number of times the URG flag was set in packets travelling in the forward direction (0 for UDP)\n",
    "- Bwd URG Flag\t\t\t\n",
    "    - Number of times the URG flag was set in packets travelling in the backward direction (0 for UDP)\n",
    "- Fwd Header Length\t\t\n",
    "    - Total bytes used for headers in the forward direction\n",
    "- Bwd Header Length\t\t\n",
    "    - Total bytes used for headers in the backward direction\n",
    "- FWD Packets/s\t\t\t\n",
    "    - Number of forward packets per second\n",
    "- Bwd Packets/s\t\t\t\n",
    "    - Number of backward packets per second\n",
    "- Min Packet Length \t\t\n",
    "    - Minimum length of a packet\n",
    "- Max Packet Length \t\t\n",
    "    - Maximum length of a packet\n",
    "- Packet Length Mean \t\t\n",
    "    - Mean length of a packet\n",
    "- Packet Length Std\t\t\n",
    "    - Standard deviation length of a packet\n",
    "- Packet Length Variance  \t\n",
    "    - Variance length of a packet\n",
    "- FIN Flag Count \t\t\t\n",
    "    - Number of packets with FIN\n",
    "- SYN Flag Count \t\t\t\n",
    "    - Number of packets with SYN\n",
    "- RST Flag Count \t\t\t\n",
    "    - Number of packets with RST\n",
    "- PSH Flag Count \t\t\t\n",
    "    - Number of packets with PUSH\n",
    "- ACK Flag Count \t\t\t\n",
    "    - Number of packets with ACK\n",
    "- URG Flag Count \t\t\t\n",
    "    - Number of packets with URG\n",
    "- CWR Flag Count \t\t\t\n",
    "    - Number of packets with CWE\n",
    "- ECE Flag Count \t\t\t\n",
    "    - Number of packets with ECE\n",
    "- down/Up Ratio\t\t\t\n",
    "    - Download and upload ratio\n",
    "- Average Packet Size \t\t\n",
    "    - Average size of packet\n",
    "- Avg Fwd Segment Size \t\t\n",
    "    - Average size observed in the forward direction\n",
    "- AVG Bwd Segment Size \t\t\n",
    "    - Average number of bytes bulk rate in the backward direction\n",
    "- Fwd Header Length\t\t\n",
    "    - Length of the forward packet header\n",
    "- Fwd Avg Bytes/Bulk\t\t\n",
    "    - Average number of bytes bulk rate in the forward direction\n",
    "- Fwd AVG Packet/Bulk \t\t\n",
    "    - Average number of packets bulk rate in the forward direction\n",
    "- Fwd AVG Bulk Rate \t\t\n",
    "    - Average number of bulk rate in the forward direction\n",
    "- Bwd Avg Bytes/Bulk\t\t\n",
    "    - Average number of bytes bulk rate in the backward direction\n",
    "- Bwd AVG Packet/Bulk \t\t\n",
    "    - Average number of packets bulk rate in the backward direction\n",
    "- Bwd AVG Bulk Rate \t\t\n",
    "    - Average number of bulk rate in the backward direction\n",
    "- Subflow Fwd Packets\t\t\n",
    "    - The average number of packets in a sub flow in the forward direction\n",
    "- Subflow Fwd Bytes\t\t\n",
    "    - The average number of bytes in a sub flow in the forward direction\n",
    "- Subflow Bwd Packets\t\t\n",
    "    - The average number of packets in a sub flow in the backward direction\n",
    "- Subflow Bwd Bytes\t\t\n",
    "    - The average number of bytes in a sub flow in the backward direction\n",
    "- Init_Win_bytes_forward\t\t\n",
    "    - The total number of bytes sent in initial window in the forward direction\n",
    "- Init_Win_bytes_backward\t\t\n",
    "    - The total number of bytes sent in initial window in the backward direction\n",
    "- Act_data_pkt_forward\t\t\n",
    "    - Count of packets with at least 1 byte of TCP data payload in the forward direction\n",
    "- min_seg_size_forward\t\t\n",
    "    - Minimum segment size observed in the forward direction\n",
    "- Active Min\t\t\t\n",
    "    - Minimum time a flow was active before becoming idle\n",
    "- Active Mean\t\t\t\n",
    "    - Mean time a flow was active before becoming idle\n",
    "- Active Max\t\t\t\n",
    "    - Maximum time a flow was active before becoming idle\n",
    "- Active Std\t\t\t\n",
    "    - Standard deviation time a flow was active before becoming idle\n",
    "- Idle Min\t\t\t\n",
    "    - Minimum time a flow was idle before becoming active\n",
    "- Idle Mean\t\t\t\n",
    "    - Mean time a flow was idle before becoming active\n",
    "- Idle Max\t\t\t\n",
    "    - Maximum time a flow was idle before becoming active\n",
    "- Idle Std\t\t\t\n",
    "    - Standard deviation time a flow was idle before becoming active"
   ]
  },
  {
   "cell_type": "markdown",
   "metadata": {},
   "source": [
    "### Data Type for all columns in the dataset"
   ]
  },
  {
   "cell_type": "code",
   "execution_count": 25,
   "metadata": {},
   "outputs": [
    {
     "name": "stdout",
     "output_type": "stream",
     "text": [
      "Flow.ID                         object\n",
      "Source.IP                       object\n",
      "Source.Port                      int64\n",
      "Destination.IP                  object\n",
      "Destination.Port                 int64\n",
      "Protocol                         int64\n",
      "Timestamp                       object\n",
      "Flow.Duration                    int64\n",
      "Total.Fwd.Packets                int64\n",
      "Total.Backward.Packets           int64\n",
      "Total.Length.of.Fwd.Packets      int64\n",
      "Total.Length.of.Bwd.Packets    float64\n",
      "Fwd.Packet.Length.Max            int64\n",
      "Fwd.Packet.Length.Min            int64\n",
      "Fwd.Packet.Length.Mean         float64\n",
      "Fwd.Packet.Length.Std          float64\n",
      "Bwd.Packet.Length.Max            int64\n",
      "Bwd.Packet.Length.Min            int64\n",
      "Bwd.Packet.Length.Mean         float64\n",
      "Bwd.Packet.Length.Std          float64\n",
      "dtype: object\n"
     ]
    }
   ],
   "source": [
    "print(network_traffic_analysis_dataframe.dtypes[:20])"
   ]
  },
  {
   "cell_type": "code",
   "execution_count": 26,
   "metadata": {},
   "outputs": [
    {
     "name": "stdout",
     "output_type": "stream",
     "text": [
      "Flow.Packets.s    float64\n",
      "Flow.IAT.Mean     float64\n",
      "Flow.IAT.Std      float64\n",
      "Flow.IAT.Max      float64\n",
      "Flow.IAT.Min        int64\n",
      "Fwd.IAT.Total     float64\n",
      "Fwd.IAT.Mean      float64\n",
      "Fwd.IAT.Std       float64\n",
      "Fwd.IAT.Max       float64\n",
      "Fwd.IAT.Min       float64\n",
      "Bwd.IAT.Total     float64\n",
      "Bwd.IAT.Mean      float64\n",
      "Bwd.IAT.Std       float64\n",
      "Bwd.IAT.Max       float64\n",
      "Bwd.IAT.Min       float64\n",
      "Fwd.PSH.Flags       int64\n",
      "Bwd.PSH.Flags       int64\n",
      "Fwd.URG.Flags       int64\n",
      "Bwd.URG.Flags       int64\n",
      "dtype: object\n"
     ]
    }
   ],
   "source": [
    "print(network_traffic_analysis_dataframe.dtypes[21:40])"
   ]
  },
  {
   "cell_type": "code",
   "execution_count": 27,
   "metadata": {},
   "outputs": [
    {
     "name": "stdout",
     "output_type": "stream",
     "text": [
      "Bwd.Header.Length           int64\n",
      "Fwd.Packets.s             float64\n",
      "Bwd.Packets.s             float64\n",
      "Min.Packet.Length           int64\n",
      "Max.Packet.Length           int64\n",
      "Packet.Length.Mean        float64\n",
      "Packet.Length.Std         float64\n",
      "Packet.Length.Variance    float64\n",
      "FIN.Flag.Count              int64\n",
      "SYN.Flag.Count              int64\n",
      "RST.Flag.Count              int64\n",
      "PSH.Flag.Count              int64\n",
      "ACK.Flag.Count              int64\n",
      "URG.Flag.Count              int64\n",
      "CWE.Flag.Count              int64\n",
      "ECE.Flag.Count              int64\n",
      "Down.Up.Ratio               int64\n",
      "Average.Packet.Size       float64\n",
      "Avg.Fwd.Segment.Size      float64\n",
      "dtype: object\n"
     ]
    }
   ],
   "source": [
    "print(network_traffic_analysis_dataframe.dtypes[41:60])"
   ]
  },
  {
   "cell_type": "code",
   "execution_count": 28,
   "metadata": {},
   "outputs": [
    {
     "name": "stdout",
     "output_type": "stream",
     "text": [
      "Subflow.Bwd.Bytes            int64\n",
      "Init_Win_bytes_forward       int64\n",
      "Init_Win_bytes_backward      int64\n",
      "act_data_pkt_fwd             int64\n",
      "min_seg_size_forward         int64\n",
      "Active.Mean                float64\n",
      "Active.Std                 float64\n",
      "Active.Max                 float64\n",
      "Active.Min                 float64\n",
      "Idle.Mean                  float64\n",
      "Idle.Std                   float64\n",
      "Idle.Max                   float64\n",
      "Idle.Min                   float64\n",
      "Label                       object\n",
      "L7Protocol                   int64\n",
      "ProtocolName                object\n",
      "dtype: object\n"
     ]
    }
   ],
   "source": [
    "print(network_traffic_analysis_dataframe.dtypes[71:])"
   ]
  },
  {
   "cell_type": "markdown",
   "metadata": {},
   "source": [
    "### Dataset Information"
   ]
  },
  {
   "cell_type": "code",
   "execution_count": 29,
   "metadata": {},
   "outputs": [
    {
     "name": "stdout",
     "output_type": "stream",
     "text": [
      "<class 'pandas.core.frame.DataFrame'>\n",
      "RangeIndex: 3577296 entries, 0 to 3577295\n",
      "Data columns (total 87 columns):\n",
      " #   Column                       Dtype  \n",
      "---  ------                       -----  \n",
      " 0   Flow.ID                      object \n",
      " 1   Source.IP                    object \n",
      " 2   Source.Port                  int64  \n",
      " 3   Destination.IP               object \n",
      " 4   Destination.Port             int64  \n",
      " 5   Protocol                     int64  \n",
      " 6   Timestamp                    object \n",
      " 7   Flow.Duration                int64  \n",
      " 8   Total.Fwd.Packets            int64  \n",
      " 9   Total.Backward.Packets       int64  \n",
      " 10  Total.Length.of.Fwd.Packets  int64  \n",
      " 11  Total.Length.of.Bwd.Packets  float64\n",
      " 12  Fwd.Packet.Length.Max        int64  \n",
      " 13  Fwd.Packet.Length.Min        int64  \n",
      " 14  Fwd.Packet.Length.Mean       float64\n",
      " 15  Fwd.Packet.Length.Std        float64\n",
      " 16  Bwd.Packet.Length.Max        int64  \n",
      " 17  Bwd.Packet.Length.Min        int64  \n",
      " 18  Bwd.Packet.Length.Mean       float64\n",
      " 19  Bwd.Packet.Length.Std        float64\n",
      " 20  Flow.Bytes.s                 float64\n",
      " 21  Flow.Packets.s               float64\n",
      " 22  Flow.IAT.Mean                float64\n",
      " 23  Flow.IAT.Std                 float64\n",
      " 24  Flow.IAT.Max                 float64\n",
      " 25  Flow.IAT.Min                 int64  \n",
      " 26  Fwd.IAT.Total                float64\n",
      " 27  Fwd.IAT.Mean                 float64\n",
      " 28  Fwd.IAT.Std                  float64\n",
      " 29  Fwd.IAT.Max                  float64\n",
      " 30  Fwd.IAT.Min                  float64\n",
      " 31  Bwd.IAT.Total                float64\n",
      " 32  Bwd.IAT.Mean                 float64\n",
      " 33  Bwd.IAT.Std                  float64\n",
      " 34  Bwd.IAT.Max                  float64\n",
      " 35  Bwd.IAT.Min                  float64\n",
      " 36  Fwd.PSH.Flags                int64  \n",
      " 37  Bwd.PSH.Flags                int64  \n",
      " 38  Fwd.URG.Flags                int64  \n",
      " 39  Bwd.URG.Flags                int64  \n",
      " 40  Fwd.Header.Length            int64  \n",
      " 41  Bwd.Header.Length            int64  \n",
      " 42  Fwd.Packets.s                float64\n",
      " 43  Bwd.Packets.s                float64\n",
      " 44  Min.Packet.Length            int64  \n",
      " 45  Max.Packet.Length            int64  \n",
      " 46  Packet.Length.Mean           float64\n",
      " 47  Packet.Length.Std            float64\n",
      " 48  Packet.Length.Variance       float64\n",
      " 49  FIN.Flag.Count               int64  \n",
      " 50  SYN.Flag.Count               int64  \n",
      " 51  RST.Flag.Count               int64  \n",
      " 52  PSH.Flag.Count               int64  \n",
      " 53  ACK.Flag.Count               int64  \n",
      " 54  URG.Flag.Count               int64  \n",
      " 55  CWE.Flag.Count               int64  \n",
      " 56  ECE.Flag.Count               int64  \n",
      " 57  Down.Up.Ratio                int64  \n",
      " 58  Average.Packet.Size          float64\n",
      " 59  Avg.Fwd.Segment.Size         float64\n",
      " 60  Avg.Bwd.Segment.Size         float64\n",
      " 61  Fwd.Header.Length.1          int64  \n",
      " 62  Fwd.Avg.Bytes.Bulk           int64  \n",
      " 63  Fwd.Avg.Packets.Bulk         int64  \n",
      " 64  Fwd.Avg.Bulk.Rate            int64  \n",
      " 65  Bwd.Avg.Bytes.Bulk           int64  \n",
      " 66  Bwd.Avg.Packets.Bulk         int64  \n",
      " 67  Bwd.Avg.Bulk.Rate            int64  \n",
      " 68  Subflow.Fwd.Packets          int64  \n",
      " 69  Subflow.Fwd.Bytes            int64  \n",
      " 70  Subflow.Bwd.Packets          int64  \n",
      " 71  Subflow.Bwd.Bytes            int64  \n",
      " 72  Init_Win_bytes_forward       int64  \n",
      " 73  Init_Win_bytes_backward      int64  \n",
      " 74  act_data_pkt_fwd             int64  \n",
      " 75  min_seg_size_forward         int64  \n",
      " 76  Active.Mean                  float64\n",
      " 77  Active.Std                   float64\n",
      " 78  Active.Max                   float64\n",
      " 79  Active.Min                   float64\n",
      " 80  Idle.Mean                    float64\n",
      " 81  Idle.Std                     float64\n",
      " 82  Idle.Max                     float64\n",
      " 83  Idle.Min                     float64\n",
      " 84  Label                        object \n",
      " 85  L7Protocol                   int64  \n",
      " 86  ProtocolName                 object \n",
      "dtypes: float64(36), int64(45), object(6)\n",
      "memory usage: 2.3+ GB\n"
     ]
    }
   ],
   "source": [
    "network_traffic_analysis_dataframe.info()"
   ]
  },
  {
   "cell_type": "markdown",
   "metadata": {},
   "source": [
    "### Describe the dataset"
   ]
  },
  {
   "cell_type": "code",
   "execution_count": 30,
   "metadata": {},
   "outputs": [
    {
     "data": {
      "text/html": [
       "<div>\n",
       "<style scoped>\n",
       "    .dataframe tbody tr th:only-of-type {\n",
       "        vertical-align: middle;\n",
       "    }\n",
       "\n",
       "    .dataframe tbody tr th {\n",
       "        vertical-align: top;\n",
       "    }\n",
       "\n",
       "    .dataframe thead th {\n",
       "        text-align: right;\n",
       "    }\n",
       "</style>\n",
       "<table border=\"1\" class=\"dataframe\">\n",
       "  <thead>\n",
       "    <tr style=\"text-align: right;\">\n",
       "      <th></th>\n",
       "      <th>Source.Port</th>\n",
       "      <th>Destination.Port</th>\n",
       "      <th>Protocol</th>\n",
       "      <th>Flow.Duration</th>\n",
       "      <th>Total.Fwd.Packets</th>\n",
       "      <th>Total.Backward.Packets</th>\n",
       "    </tr>\n",
       "  </thead>\n",
       "  <tbody>\n",
       "    <tr>\n",
       "      <th>count</th>\n",
       "      <td>3.577296e+06</td>\n",
       "      <td>3.577296e+06</td>\n",
       "      <td>3.577296e+06</td>\n",
       "      <td>3.577296e+06</td>\n",
       "      <td>3.577296e+06</td>\n",
       "      <td>3.577296e+06</td>\n",
       "    </tr>\n",
       "    <tr>\n",
       "      <th>mean</th>\n",
       "      <td>3.799938e+04</td>\n",
       "      <td>1.204246e+04</td>\n",
       "      <td>6.005508e+00</td>\n",
       "      <td>2.544247e+07</td>\n",
       "      <td>6.237799e+01</td>\n",
       "      <td>6.534083e+01</td>\n",
       "    </tr>\n",
       "    <tr>\n",
       "      <th>std</th>\n",
       "      <td>2.201713e+04</td>\n",
       "      <td>2.044916e+04</td>\n",
       "      <td>3.274574e-01</td>\n",
       "      <td>4.014430e+07</td>\n",
       "      <td>1.094086e+03</td>\n",
       "      <td>1.108092e+03</td>\n",
       "    </tr>\n",
       "    <tr>\n",
       "      <th>min</th>\n",
       "      <td>0.000000e+00</td>\n",
       "      <td>0.000000e+00</td>\n",
       "      <td>0.000000e+00</td>\n",
       "      <td>1.000000e+00</td>\n",
       "      <td>1.000000e+00</td>\n",
       "      <td>0.000000e+00</td>\n",
       "    </tr>\n",
       "    <tr>\n",
       "      <th>25%</th>\n",
       "      <td>3.697000e+03</td>\n",
       "      <td>4.430000e+02</td>\n",
       "      <td>6.000000e+00</td>\n",
       "      <td>6.280000e+02</td>\n",
       "      <td>2.000000e+00</td>\n",
       "      <td>1.000000e+00</td>\n",
       "    </tr>\n",
       "    <tr>\n",
       "      <th>50%</th>\n",
       "      <td>4.937700e+04</td>\n",
       "      <td>3.128000e+03</td>\n",
       "      <td>6.000000e+00</td>\n",
       "      <td>5.847295e+05</td>\n",
       "      <td>6.000000e+00</td>\n",
       "      <td>5.000000e+00</td>\n",
       "    </tr>\n",
       "    <tr>\n",
       "      <th>75%</th>\n",
       "      <td>5.379900e+04</td>\n",
       "      <td>3.128000e+03</td>\n",
       "      <td>6.000000e+00</td>\n",
       "      <td>4.500153e+07</td>\n",
       "      <td>1.500000e+01</td>\n",
       "      <td>1.500000e+01</td>\n",
       "    </tr>\n",
       "    <tr>\n",
       "      <th>max</th>\n",
       "      <td>6.553400e+04</td>\n",
       "      <td>6.553400e+04</td>\n",
       "      <td>1.700000e+01</td>\n",
       "      <td>1.200000e+08</td>\n",
       "      <td>4.531900e+05</td>\n",
       "      <td>5.421960e+05</td>\n",
       "    </tr>\n",
       "  </tbody>\n",
       "</table>\n",
       "</div>"
      ]
     },
     "metadata": {},
     "output_type": "display_data"
    }
   ],
   "source": [
    "network_traffic_analysis_dataframe.iloc[:,:10].describe()"
   ]
  },
  {
   "cell_type": "code",
   "execution_count": 31,
   "metadata": {},
   "outputs": [
    {
     "data": {
      "text/html": [
       "<div>\n",
       "<style scoped>\n",
       "    .dataframe tbody tr th:only-of-type {\n",
       "        vertical-align: middle;\n",
       "    }\n",
       "\n",
       "    .dataframe tbody tr th {\n",
       "        vertical-align: top;\n",
       "    }\n",
       "\n",
       "    .dataframe thead th {\n",
       "        text-align: right;\n",
       "    }\n",
       "</style>\n",
       "<table border=\"1\" class=\"dataframe\">\n",
       "  <thead>\n",
       "    <tr style=\"text-align: right;\">\n",
       "      <th></th>\n",
       "      <th>Total.Length.of.Bwd.Packets</th>\n",
       "      <th>Fwd.Packet.Length.Max</th>\n",
       "      <th>Fwd.Packet.Length.Min</th>\n",
       "      <th>Fwd.Packet.Length.Mean</th>\n",
       "      <th>Fwd.Packet.Length.Std</th>\n",
       "      <th>Bwd.Packet.Length.Max</th>\n",
       "      <th>Bwd.Packet.Length.Min</th>\n",
       "      <th>Bwd.Packet.Length.Mean</th>\n",
       "      <th>Bwd.Packet.Length.Std</th>\n",
       "    </tr>\n",
       "  </thead>\n",
       "  <tbody>\n",
       "    <tr>\n",
       "      <th>count</th>\n",
       "      <td>3.577296e+06</td>\n",
       "      <td>3.577296e+06</td>\n",
       "      <td>3.577296e+06</td>\n",
       "      <td>3.577296e+06</td>\n",
       "      <td>3.577296e+06</td>\n",
       "      <td>3.577296e+06</td>\n",
       "      <td>3.577296e+06</td>\n",
       "      <td>3.577296e+06</td>\n",
       "      <td>3.577296e+06</td>\n",
       "    </tr>\n",
       "    <tr>\n",
       "      <th>mean</th>\n",
       "      <td>8.445742e+04</td>\n",
       "      <td>5.123645e+02</td>\n",
       "      <td>9.340408e+00</td>\n",
       "      <td>1.149212e+02</td>\n",
       "      <td>1.520501e+02</td>\n",
       "      <td>1.103231e+03</td>\n",
       "      <td>1.113491e+01</td>\n",
       "      <td>2.547845e+02</td>\n",
       "      <td>2.898878e+02</td>\n",
       "    </tr>\n",
       "    <tr>\n",
       "      <th>std</th>\n",
       "      <td>2.124319e+06</td>\n",
       "      <td>1.039319e+03</td>\n",
       "      <td>8.299983e+01</td>\n",
       "      <td>2.464707e+02</td>\n",
       "      <td>2.404702e+02</td>\n",
       "      <td>2.352374e+03</td>\n",
       "      <td>1.055422e+02</td>\n",
       "      <td>5.060731e+02</td>\n",
       "      <td>4.853004e+02</td>\n",
       "    </tr>\n",
       "    <tr>\n",
       "      <th>min</th>\n",
       "      <td>0.000000e+00</td>\n",
       "      <td>0.000000e+00</td>\n",
       "      <td>0.000000e+00</td>\n",
       "      <td>0.000000e+00</td>\n",
       "      <td>0.000000e+00</td>\n",
       "      <td>0.000000e+00</td>\n",
       "      <td>0.000000e+00</td>\n",
       "      <td>0.000000e+00</td>\n",
       "      <td>0.000000e+00</td>\n",
       "    </tr>\n",
       "    <tr>\n",
       "      <th>25%</th>\n",
       "      <td>0.000000e+00</td>\n",
       "      <td>6.000000e+00</td>\n",
       "      <td>0.000000e+00</td>\n",
       "      <td>6.000000e+00</td>\n",
       "      <td>0.000000e+00</td>\n",
       "      <td>0.000000e+00</td>\n",
       "      <td>0.000000e+00</td>\n",
       "      <td>0.000000e+00</td>\n",
       "      <td>0.000000e+00</td>\n",
       "    </tr>\n",
       "    <tr>\n",
       "      <th>50%</th>\n",
       "      <td>2.080000e+02</td>\n",
       "      <td>2.060000e+02</td>\n",
       "      <td>0.000000e+00</td>\n",
       "      <td>4.657143e+01</td>\n",
       "      <td>7.421124e+01</td>\n",
       "      <td>8.100000e+01</td>\n",
       "      <td>0.000000e+00</td>\n",
       "      <td>3.014286e+01</td>\n",
       "      <td>3.242474e+01</td>\n",
       "    </tr>\n",
       "    <tr>\n",
       "      <th>75%</th>\n",
       "      <td>3.629000e+03</td>\n",
       "      <td>6.130000e+02</td>\n",
       "      <td>6.000000e+00</td>\n",
       "      <td>1.225000e+02</td>\n",
       "      <td>2.079035e+02</td>\n",
       "      <td>1.366000e+03</td>\n",
       "      <td>0.000000e+00</td>\n",
       "      <td>2.567500e+02</td>\n",
       "      <td>4.232105e+02</td>\n",
       "    </tr>\n",
       "    <tr>\n",
       "      <th>max</th>\n",
       "      <td>1.345796e+09</td>\n",
       "      <td>3.283200e+04</td>\n",
       "      <td>1.606000e+04</td>\n",
       "      <td>1.606000e+04</td>\n",
       "      <td>6.225487e+03</td>\n",
       "      <td>3.764800e+04</td>\n",
       "      <td>1.303200e+04</td>\n",
       "      <td>1.303200e+04</td>\n",
       "      <td>8.434804e+03</td>\n",
       "    </tr>\n",
       "  </tbody>\n",
       "</table>\n",
       "</div>"
      ]
     },
     "metadata": {},
     "output_type": "display_data"
    }
   ],
   "source": [
    "network_traffic_analysis_dataframe.iloc[:,11:20].describe()"
   ]
  },
  {
   "cell_type": "code",
   "execution_count": 32,
   "metadata": {},
   "outputs": [
    {
     "data": {
      "text/html": [
       "<div>\n",
       "<style scoped>\n",
       "    .dataframe tbody tr th:only-of-type {\n",
       "        vertical-align: middle;\n",
       "    }\n",
       "\n",
       "    .dataframe tbody tr th {\n",
       "        vertical-align: top;\n",
       "    }\n",
       "\n",
       "    .dataframe thead th {\n",
       "        text-align: right;\n",
       "    }\n",
       "</style>\n",
       "<table border=\"1\" class=\"dataframe\">\n",
       "  <thead>\n",
       "    <tr style=\"text-align: right;\">\n",
       "      <th></th>\n",
       "      <th>Flow.Packets.s</th>\n",
       "      <th>Flow.IAT.Mean</th>\n",
       "      <th>Flow.IAT.Std</th>\n",
       "      <th>Flow.IAT.Max</th>\n",
       "      <th>Flow.IAT.Min</th>\n",
       "      <th>Fwd.IAT.Total</th>\n",
       "      <th>Fwd.IAT.Mean</th>\n",
       "      <th>Fwd.IAT.Std</th>\n",
       "      <th>Fwd.IAT.Max</th>\n",
       "    </tr>\n",
       "  </thead>\n",
       "  <tbody>\n",
       "    <tr>\n",
       "      <th>count</th>\n",
       "      <td>3.577296e+06</td>\n",
       "      <td>3.577296e+06</td>\n",
       "      <td>3.577296e+06</td>\n",
       "      <td>3.577296e+06</td>\n",
       "      <td>3.577296e+06</td>\n",
       "      <td>3.577296e+06</td>\n",
       "      <td>3.577296e+06</td>\n",
       "      <td>3.577296e+06</td>\n",
       "      <td>3.577296e+06</td>\n",
       "    </tr>\n",
       "    <tr>\n",
       "      <th>mean</th>\n",
       "      <td>8.896338e+04</td>\n",
       "      <td>1.422201e+06</td>\n",
       "      <td>3.365395e+06</td>\n",
       "      <td>1.285020e+07</td>\n",
       "      <td>8.870201e+04</td>\n",
       "      <td>2.418796e+07</td>\n",
       "      <td>3.124467e+06</td>\n",
       "      <td>3.649620e+06</td>\n",
       "      <td>1.209624e+07</td>\n",
       "    </tr>\n",
       "    <tr>\n",
       "      <th>std</th>\n",
       "      <td>4.027620e+05</td>\n",
       "      <td>3.550414e+06</td>\n",
       "      <td>6.260959e+06</td>\n",
       "      <td>2.076518e+07</td>\n",
       "      <td>1.605272e+06</td>\n",
       "      <td>3.962563e+07</td>\n",
       "      <td>8.358652e+06</td>\n",
       "      <td>7.390979e+06</td>\n",
       "      <td>2.049180e+07</td>\n",
       "    </tr>\n",
       "    <tr>\n",
       "      <th>min</th>\n",
       "      <td>1.666667e-02</td>\n",
       "      <td>2.000000e-01</td>\n",
       "      <td>0.000000e+00</td>\n",
       "      <td>1.000000e+00</td>\n",
       "      <td>0.000000e+00</td>\n",
       "      <td>0.000000e+00</td>\n",
       "      <td>0.000000e+00</td>\n",
       "      <td>0.000000e+00</td>\n",
       "      <td>0.000000e+00</td>\n",
       "    </tr>\n",
       "    <tr>\n",
       "      <th>25%</th>\n",
       "      <td>1.128096e+00</td>\n",
       "      <td>4.150000e+02</td>\n",
       "      <td>8.485281e+00</td>\n",
       "      <td>5.700000e+02</td>\n",
       "      <td>0.000000e+00</td>\n",
       "      <td>7.000000e+00</td>\n",
       "      <td>5.000000e+00</td>\n",
       "      <td>0.000000e+00</td>\n",
       "      <td>6.000000e+00</td>\n",
       "    </tr>\n",
       "    <tr>\n",
       "      <th>50%</th>\n",
       "      <td>3.393752e+01</td>\n",
       "      <td>3.320238e+04</td>\n",
       "      <td>6.836444e+04</td>\n",
       "      <td>2.812395e+05</td>\n",
       "      <td>1.000000e+00</td>\n",
       "      <td>3.892645e+05</td>\n",
       "      <td>3.700679e+04</td>\n",
       "      <td>4.717596e+04</td>\n",
       "      <td>2.076290e+05</td>\n",
       "    </tr>\n",
       "    <tr>\n",
       "      <th>75%</th>\n",
       "      <td>4.214963e+03</td>\n",
       "      <td>9.366576e+05</td>\n",
       "      <td>3.980748e+06</td>\n",
       "      <td>2.391546e+07</td>\n",
       "      <td>3.300000e+01</td>\n",
       "      <td>4.001161e+07</td>\n",
       "      <td>1.549711e+06</td>\n",
       "      <td>2.932647e+06</td>\n",
       "      <td>1.926976e+07</td>\n",
       "    </tr>\n",
       "    <tr>\n",
       "      <th>max</th>\n",
       "      <td>6.000000e+06</td>\n",
       "      <td>1.200000e+08</td>\n",
       "      <td>8.485273e+07</td>\n",
       "      <td>1.200000e+08</td>\n",
       "      <td>1.200000e+08</td>\n",
       "      <td>1.200000e+08</td>\n",
       "      <td>1.200000e+08</td>\n",
       "      <td>8.485256e+07</td>\n",
       "      <td>1.200000e+08</td>\n",
       "    </tr>\n",
       "  </tbody>\n",
       "</table>\n",
       "</div>"
      ]
     },
     "metadata": {},
     "output_type": "display_data"
    }
   ],
   "source": [
    "network_traffic_analysis_dataframe.iloc[:,21:30].describe()"
   ]
  },
  {
   "cell_type": "code",
   "execution_count": 33,
   "metadata": {},
   "outputs": [
    {
     "data": {
      "text/html": [
       "<div>\n",
       "<style scoped>\n",
       "    .dataframe tbody tr th:only-of-type {\n",
       "        vertical-align: middle;\n",
       "    }\n",
       "\n",
       "    .dataframe tbody tr th {\n",
       "        vertical-align: top;\n",
       "    }\n",
       "\n",
       "    .dataframe thead th {\n",
       "        text-align: right;\n",
       "    }\n",
       "</style>\n",
       "<table border=\"1\" class=\"dataframe\">\n",
       "  <thead>\n",
       "    <tr style=\"text-align: right;\">\n",
       "      <th></th>\n",
       "      <th>Bwd.IAT.Total</th>\n",
       "      <th>Bwd.IAT.Mean</th>\n",
       "      <th>Bwd.IAT.Std</th>\n",
       "      <th>Bwd.IAT.Max</th>\n",
       "      <th>Bwd.IAT.Min</th>\n",
       "      <th>Fwd.PSH.Flags</th>\n",
       "      <th>Bwd.PSH.Flags</th>\n",
       "      <th>Fwd.URG.Flags</th>\n",
       "      <th>Bwd.URG.Flags</th>\n",
       "    </tr>\n",
       "  </thead>\n",
       "  <tbody>\n",
       "    <tr>\n",
       "      <th>count</th>\n",
       "      <td>3.577296e+06</td>\n",
       "      <td>3.577296e+06</td>\n",
       "      <td>3.577296e+06</td>\n",
       "      <td>3.577296e+06</td>\n",
       "      <td>3.577296e+06</td>\n",
       "      <td>3.577296e+06</td>\n",
       "      <td>3577296.0</td>\n",
       "      <td>3577296.0</td>\n",
       "      <td>3577296.0</td>\n",
       "    </tr>\n",
       "    <tr>\n",
       "      <th>mean</th>\n",
       "      <td>2.110451e+07</td>\n",
       "      <td>2.476877e+06</td>\n",
       "      <td>2.932460e+06</td>\n",
       "      <td>9.830803e+06</td>\n",
       "      <td>8.889991e+05</td>\n",
       "      <td>1.720414e-01</td>\n",
       "      <td>0.0</td>\n",
       "      <td>0.0</td>\n",
       "      <td>0.0</td>\n",
       "    </tr>\n",
       "    <tr>\n",
       "      <th>std</th>\n",
       "      <td>3.862634e+07</td>\n",
       "      <td>7.578111e+06</td>\n",
       "      <td>6.666650e+06</td>\n",
       "      <td>1.883521e+07</td>\n",
       "      <td>6.231082e+06</td>\n",
       "      <td>3.774165e-01</td>\n",
       "      <td>0.0</td>\n",
       "      <td>0.0</td>\n",
       "      <td>0.0</td>\n",
       "    </tr>\n",
       "    <tr>\n",
       "      <th>min</th>\n",
       "      <td>0.000000e+00</td>\n",
       "      <td>0.000000e+00</td>\n",
       "      <td>0.000000e+00</td>\n",
       "      <td>0.000000e+00</td>\n",
       "      <td>0.000000e+00</td>\n",
       "      <td>0.000000e+00</td>\n",
       "      <td>0.0</td>\n",
       "      <td>0.0</td>\n",
       "      <td>0.0</td>\n",
       "    </tr>\n",
       "    <tr>\n",
       "      <th>25%</th>\n",
       "      <td>0.000000e+00</td>\n",
       "      <td>0.000000e+00</td>\n",
       "      <td>0.000000e+00</td>\n",
       "      <td>0.000000e+00</td>\n",
       "      <td>0.000000e+00</td>\n",
       "      <td>0.000000e+00</td>\n",
       "      <td>0.0</td>\n",
       "      <td>0.0</td>\n",
       "      <td>0.0</td>\n",
       "    </tr>\n",
       "    <tr>\n",
       "      <th>50%</th>\n",
       "      <td>1.815625e+05</td>\n",
       "      <td>1.558765e+04</td>\n",
       "      <td>2.617595e+04</td>\n",
       "      <td>9.518150e+04</td>\n",
       "      <td>0.000000e+00</td>\n",
       "      <td>0.000000e+00</td>\n",
       "      <td>0.0</td>\n",
       "      <td>0.0</td>\n",
       "      <td>0.0</td>\n",
       "    </tr>\n",
       "    <tr>\n",
       "      <th>75%</th>\n",
       "      <td>1.497653e+07</td>\n",
       "      <td>3.342142e+05</td>\n",
       "      <td>7.526342e+05</td>\n",
       "      <td>7.508778e+06</td>\n",
       "      <td>1.000000e+00</td>\n",
       "      <td>0.000000e+00</td>\n",
       "      <td>0.0</td>\n",
       "      <td>0.0</td>\n",
       "      <td>0.0</td>\n",
       "    </tr>\n",
       "    <tr>\n",
       "      <th>max</th>\n",
       "      <td>1.200000e+08</td>\n",
       "      <td>1.199999e+08</td>\n",
       "      <td>8.485275e+07</td>\n",
       "      <td>1.199999e+08</td>\n",
       "      <td>1.199999e+08</td>\n",
       "      <td>1.000000e+00</td>\n",
       "      <td>0.0</td>\n",
       "      <td>0.0</td>\n",
       "      <td>0.0</td>\n",
       "    </tr>\n",
       "  </tbody>\n",
       "</table>\n",
       "</div>"
      ]
     },
     "metadata": {},
     "output_type": "display_data"
    }
   ],
   "source": [
    "network_traffic_analysis_dataframe.iloc[:,31:40].describe()"
   ]
  },
  {
   "cell_type": "code",
   "execution_count": 34,
   "metadata": {},
   "outputs": [
    {
     "data": {
      "text/html": [
       "<div>\n",
       "<style scoped>\n",
       "    .dataframe tbody tr th:only-of-type {\n",
       "        vertical-align: middle;\n",
       "    }\n",
       "\n",
       "    .dataframe tbody tr th {\n",
       "        vertical-align: top;\n",
       "    }\n",
       "\n",
       "    .dataframe thead th {\n",
       "        text-align: right;\n",
       "    }\n",
       "</style>\n",
       "<table border=\"1\" class=\"dataframe\">\n",
       "  <thead>\n",
       "    <tr style=\"text-align: right;\">\n",
       "      <th></th>\n",
       "      <th>Bwd.Header.Length</th>\n",
       "      <th>Fwd.Packets.s</th>\n",
       "      <th>Bwd.Packets.s</th>\n",
       "      <th>Min.Packet.Length</th>\n",
       "      <th>Max.Packet.Length</th>\n",
       "      <th>Packet.Length.Mean</th>\n",
       "      <th>Packet.Length.Std</th>\n",
       "      <th>Packet.Length.Variance</th>\n",
       "      <th>FIN.Flag.Count</th>\n",
       "    </tr>\n",
       "  </thead>\n",
       "  <tbody>\n",
       "    <tr>\n",
       "      <th>count</th>\n",
       "      <td>3.577296e+06</td>\n",
       "      <td>3.577296e+06</td>\n",
       "      <td>3.577296e+06</td>\n",
       "      <td>3.577296e+06</td>\n",
       "      <td>3.577296e+06</td>\n",
       "      <td>3.577296e+06</td>\n",
       "      <td>3.577296e+06</td>\n",
       "      <td>3.577296e+06</td>\n",
       "      <td>3.577296e+06</td>\n",
       "    </tr>\n",
       "    <tr>\n",
       "      <th>mean</th>\n",
       "      <td>1.743621e+03</td>\n",
       "      <td>7.705816e+04</td>\n",
       "      <td>1.190522e+04</td>\n",
       "      <td>3.043745e+00</td>\n",
       "      <td>1.333250e+03</td>\n",
       "      <td>1.988191e+02</td>\n",
       "      <td>3.035190e+02</td>\n",
       "      <td>2.792736e+05</td>\n",
       "      <td>7.037159e-03</td>\n",
       "    </tr>\n",
       "    <tr>\n",
       "      <th>std</th>\n",
       "      <td>3.039190e+04</td>\n",
       "      <td>3.683153e+05</td>\n",
       "      <td>1.080206e+05</td>\n",
       "      <td>4.145472e+01</td>\n",
       "      <td>2.453395e+03</td>\n",
       "      <td>3.327427e+02</td>\n",
       "      <td>4.326083e+02</td>\n",
       "      <td>7.258608e+05</td>\n",
       "      <td>8.359210e-02</td>\n",
       "    </tr>\n",
       "    <tr>\n",
       "      <th>min</th>\n",
       "      <td>0.000000e+00</td>\n",
       "      <td>8.333337e-03</td>\n",
       "      <td>0.000000e+00</td>\n",
       "      <td>0.000000e+00</td>\n",
       "      <td>0.000000e+00</td>\n",
       "      <td>0.000000e+00</td>\n",
       "      <td>0.000000e+00</td>\n",
       "      <td>0.000000e+00</td>\n",
       "      <td>0.000000e+00</td>\n",
       "    </tr>\n",
       "    <tr>\n",
       "      <th>25%</th>\n",
       "      <td>3.200000e+01</td>\n",
       "      <td>5.417242e-01</td>\n",
       "      <td>1.009873e-01</td>\n",
       "      <td>0.000000e+00</td>\n",
       "      <td>6.000000e+00</td>\n",
       "      <td>6.000000e+00</td>\n",
       "      <td>0.000000e+00</td>\n",
       "      <td>0.000000e+00</td>\n",
       "      <td>0.000000e+00</td>\n",
       "    </tr>\n",
       "    <tr>\n",
       "      <th>50%</th>\n",
       "      <td>1.360000e+02</td>\n",
       "      <td>1.563422e+01</td>\n",
       "      <td>2.951696e+00</td>\n",
       "      <td>0.000000e+00</td>\n",
       "      <td>3.550000e+02</td>\n",
       "      <td>6.283333e+01</td>\n",
       "      <td>1.069828e+02</td>\n",
       "      <td>1.144531e+04</td>\n",
       "      <td>0.000000e+00</td>\n",
       "    </tr>\n",
       "    <tr>\n",
       "      <th>75%</th>\n",
       "      <td>4.200000e+02</td>\n",
       "      <td>2.164502e+03</td>\n",
       "      <td>8.344459e+01</td>\n",
       "      <td>6.000000e+00</td>\n",
       "      <td>1.460000e+03</td>\n",
       "      <td>2.500000e+02</td>\n",
       "      <td>4.818125e+02</td>\n",
       "      <td>2.321432e+05</td>\n",
       "      <td>0.000000e+00</td>\n",
       "    </tr>\n",
       "    <tr>\n",
       "      <th>max</th>\n",
       "      <td>1.284440e+07</td>\n",
       "      <td>6.000000e+06</td>\n",
       "      <td>5.000000e+06</td>\n",
       "      <td>7.063000e+03</td>\n",
       "      <td>3.764800e+04</td>\n",
       "      <td>1.070867e+04</td>\n",
       "      <td>9.268781e+03</td>\n",
       "      <td>8.591031e+07</td>\n",
       "      <td>1.000000e+00</td>\n",
       "    </tr>\n",
       "  </tbody>\n",
       "</table>\n",
       "</div>"
      ]
     },
     "metadata": {},
     "output_type": "display_data"
    }
   ],
   "source": [
    "network_traffic_analysis_dataframe.iloc[:,41:50].describe()"
   ]
  },
  {
   "cell_type": "code",
   "execution_count": 35,
   "metadata": {},
   "outputs": [
    {
     "data": {
      "text/html": [
       "<div>\n",
       "<style scoped>\n",
       "    .dataframe tbody tr th:only-of-type {\n",
       "        vertical-align: middle;\n",
       "    }\n",
       "\n",
       "    .dataframe tbody tr th {\n",
       "        vertical-align: top;\n",
       "    }\n",
       "\n",
       "    .dataframe thead th {\n",
       "        text-align: right;\n",
       "    }\n",
       "</style>\n",
       "<table border=\"1\" class=\"dataframe\">\n",
       "  <thead>\n",
       "    <tr style=\"text-align: right;\">\n",
       "      <th></th>\n",
       "      <th>RST.Flag.Count</th>\n",
       "      <th>PSH.Flag.Count</th>\n",
       "      <th>ACK.Flag.Count</th>\n",
       "      <th>URG.Flag.Count</th>\n",
       "      <th>CWE.Flag.Count</th>\n",
       "      <th>ECE.Flag.Count</th>\n",
       "      <th>Down.Up.Ratio</th>\n",
       "      <th>Average.Packet.Size</th>\n",
       "      <th>Avg.Fwd.Segment.Size</th>\n",
       "    </tr>\n",
       "  </thead>\n",
       "  <tbody>\n",
       "    <tr>\n",
       "      <th>count</th>\n",
       "      <td>3.577296e+06</td>\n",
       "      <td>3.577296e+06</td>\n",
       "      <td>3.577296e+06</td>\n",
       "      <td>3.577296e+06</td>\n",
       "      <td>3577296.0</td>\n",
       "      <td>3.577296e+06</td>\n",
       "      <td>3.577296e+06</td>\n",
       "      <td>3.577296e+06</td>\n",
       "      <td>3.577296e+06</td>\n",
       "    </tr>\n",
       "    <tr>\n",
       "      <th>mean</th>\n",
       "      <td>6.655865e-04</td>\n",
       "      <td>4.058210e-01</td>\n",
       "      <td>5.995705e-01</td>\n",
       "      <td>2.773847e-01</td>\n",
       "      <td>0.0</td>\n",
       "      <td>6.566412e-04</td>\n",
       "      <td>9.085471e-01</td>\n",
       "      <td>2.075630e+02</td>\n",
       "      <td>1.149212e+02</td>\n",
       "    </tr>\n",
       "    <tr>\n",
       "      <th>std</th>\n",
       "      <td>2.579038e-02</td>\n",
       "      <td>4.910503e-01</td>\n",
       "      <td>4.899855e-01</td>\n",
       "      <td>4.477080e-01</td>\n",
       "      <td>0.0</td>\n",
       "      <td>2.561660e-02</td>\n",
       "      <td>1.269945e+00</td>\n",
       "      <td>3.432270e+02</td>\n",
       "      <td>2.464707e+02</td>\n",
       "    </tr>\n",
       "    <tr>\n",
       "      <th>min</th>\n",
       "      <td>0.000000e+00</td>\n",
       "      <td>0.000000e+00</td>\n",
       "      <td>0.000000e+00</td>\n",
       "      <td>0.000000e+00</td>\n",
       "      <td>0.0</td>\n",
       "      <td>0.000000e+00</td>\n",
       "      <td>0.000000e+00</td>\n",
       "      <td>0.000000e+00</td>\n",
       "      <td>0.000000e+00</td>\n",
       "    </tr>\n",
       "    <tr>\n",
       "      <th>25%</th>\n",
       "      <td>0.000000e+00</td>\n",
       "      <td>0.000000e+00</td>\n",
       "      <td>0.000000e+00</td>\n",
       "      <td>0.000000e+00</td>\n",
       "      <td>0.0</td>\n",
       "      <td>0.000000e+00</td>\n",
       "      <td>0.000000e+00</td>\n",
       "      <td>9.000000e+00</td>\n",
       "      <td>6.000000e+00</td>\n",
       "    </tr>\n",
       "    <tr>\n",
       "      <th>50%</th>\n",
       "      <td>0.000000e+00</td>\n",
       "      <td>0.000000e+00</td>\n",
       "      <td>1.000000e+00</td>\n",
       "      <td>0.000000e+00</td>\n",
       "      <td>0.0</td>\n",
       "      <td>0.000000e+00</td>\n",
       "      <td>1.000000e+00</td>\n",
       "      <td>6.650000e+01</td>\n",
       "      <td>4.657143e+01</td>\n",
       "    </tr>\n",
       "    <tr>\n",
       "      <th>75%</th>\n",
       "      <td>0.000000e+00</td>\n",
       "      <td>1.000000e+00</td>\n",
       "      <td>1.000000e+00</td>\n",
       "      <td>1.000000e+00</td>\n",
       "      <td>0.0</td>\n",
       "      <td>0.000000e+00</td>\n",
       "      <td>1.000000e+00</td>\n",
       "      <td>2.637184e+02</td>\n",
       "      <td>1.225000e+02</td>\n",
       "    </tr>\n",
       "    <tr>\n",
       "      <th>max</th>\n",
       "      <td>1.000000e+00</td>\n",
       "      <td>1.000000e+00</td>\n",
       "      <td>1.000000e+00</td>\n",
       "      <td>1.000000e+00</td>\n",
       "      <td>0.0</td>\n",
       "      <td>1.000000e+00</td>\n",
       "      <td>2.930000e+02</td>\n",
       "      <td>1.606300e+04</td>\n",
       "      <td>1.606000e+04</td>\n",
       "    </tr>\n",
       "  </tbody>\n",
       "</table>\n",
       "</div>"
      ]
     },
     "metadata": {},
     "output_type": "display_data"
    }
   ],
   "source": [
    "network_traffic_analysis_dataframe.iloc[:,51:60].describe()"
   ]
  },
  {
   "cell_type": "code",
   "execution_count": 36,
   "metadata": {},
   "outputs": [
    {
     "data": {
      "text/html": [
       "<div>\n",
       "<style scoped>\n",
       "    .dataframe tbody tr th:only-of-type {\n",
       "        vertical-align: middle;\n",
       "    }\n",
       "\n",
       "    .dataframe tbody tr th {\n",
       "        vertical-align: top;\n",
       "    }\n",
       "\n",
       "    .dataframe thead th {\n",
       "        text-align: right;\n",
       "    }\n",
       "</style>\n",
       "<table border=\"1\" class=\"dataframe\">\n",
       "  <thead>\n",
       "    <tr style=\"text-align: right;\">\n",
       "      <th></th>\n",
       "      <th>Fwd.Header.Length.1</th>\n",
       "      <th>Fwd.Avg.Bytes.Bulk</th>\n",
       "      <th>Fwd.Avg.Packets.Bulk</th>\n",
       "      <th>Fwd.Avg.Bulk.Rate</th>\n",
       "      <th>Bwd.Avg.Bytes.Bulk</th>\n",
       "      <th>Bwd.Avg.Packets.Bulk</th>\n",
       "      <th>Bwd.Avg.Bulk.Rate</th>\n",
       "      <th>Subflow.Fwd.Packets</th>\n",
       "      <th>Subflow.Fwd.Bytes</th>\n",
       "    </tr>\n",
       "  </thead>\n",
       "  <tbody>\n",
       "    <tr>\n",
       "      <th>count</th>\n",
       "      <td>3.577296e+06</td>\n",
       "      <td>3577296.0</td>\n",
       "      <td>3577296.0</td>\n",
       "      <td>3577296.0</td>\n",
       "      <td>3577296.0</td>\n",
       "      <td>3577296.0</td>\n",
       "      <td>3577296.0</td>\n",
       "      <td>3.577296e+06</td>\n",
       "      <td>3.577296e+06</td>\n",
       "    </tr>\n",
       "    <tr>\n",
       "      <th>mean</th>\n",
       "      <td>1.653339e+03</td>\n",
       "      <td>0.0</td>\n",
       "      <td>0.0</td>\n",
       "      <td>0.0</td>\n",
       "      <td>0.0</td>\n",
       "      <td>0.0</td>\n",
       "      <td>0.0</td>\n",
       "      <td>6.237799e+01</td>\n",
       "      <td>4.683323e+04</td>\n",
       "    </tr>\n",
       "    <tr>\n",
       "      <th>std</th>\n",
       "      <td>3.008890e+04</td>\n",
       "      <td>0.0</td>\n",
       "      <td>0.0</td>\n",
       "      <td>0.0</td>\n",
       "      <td>0.0</td>\n",
       "      <td>0.0</td>\n",
       "      <td>0.0</td>\n",
       "      <td>1.094086e+03</td>\n",
       "      <td>1.816196e+06</td>\n",
       "    </tr>\n",
       "    <tr>\n",
       "      <th>min</th>\n",
       "      <td>0.000000e+00</td>\n",
       "      <td>0.0</td>\n",
       "      <td>0.0</td>\n",
       "      <td>0.0</td>\n",
       "      <td>0.0</td>\n",
       "      <td>0.0</td>\n",
       "      <td>0.0</td>\n",
       "      <td>1.000000e+00</td>\n",
       "      <td>0.000000e+00</td>\n",
       "    </tr>\n",
       "    <tr>\n",
       "      <th>25%</th>\n",
       "      <td>4.000000e+01</td>\n",
       "      <td>0.0</td>\n",
       "      <td>0.0</td>\n",
       "      <td>0.0</td>\n",
       "      <td>0.0</td>\n",
       "      <td>0.0</td>\n",
       "      <td>0.0</td>\n",
       "      <td>2.000000e+00</td>\n",
       "      <td>1.200000e+01</td>\n",
       "    </tr>\n",
       "    <tr>\n",
       "      <th>50%</th>\n",
       "      <td>1.520000e+02</td>\n",
       "      <td>0.0</td>\n",
       "      <td>0.0</td>\n",
       "      <td>0.0</td>\n",
       "      <td>0.0</td>\n",
       "      <td>0.0</td>\n",
       "      <td>0.0</td>\n",
       "      <td>6.000000e+00</td>\n",
       "      <td>4.430000e+02</td>\n",
       "    </tr>\n",
       "    <tr>\n",
       "      <th>75%</th>\n",
       "      <td>3.920000e+02</td>\n",
       "      <td>0.0</td>\n",
       "      <td>0.0</td>\n",
       "      <td>0.0</td>\n",
       "      <td>0.0</td>\n",
       "      <td>0.0</td>\n",
       "      <td>0.0</td>\n",
       "      <td>1.500000e+01</td>\n",
       "      <td>1.769000e+03</td>\n",
       "    </tr>\n",
       "    <tr>\n",
       "      <th>max</th>\n",
       "      <td>1.543950e+07</td>\n",
       "      <td>0.0</td>\n",
       "      <td>0.0</td>\n",
       "      <td>0.0</td>\n",
       "      <td>0.0</td>\n",
       "      <td>0.0</td>\n",
       "      <td>0.0</td>\n",
       "      <td>4.531900e+05</td>\n",
       "      <td>6.780236e+08</td>\n",
       "    </tr>\n",
       "  </tbody>\n",
       "</table>\n",
       "</div>"
      ]
     },
     "metadata": {},
     "output_type": "display_data"
    }
   ],
   "source": [
    "network_traffic_analysis_dataframe.iloc[:,61:70].describe()"
   ]
  },
  {
   "cell_type": "code",
   "execution_count": 37,
   "metadata": {},
   "outputs": [
    {
     "data": {
      "text/html": [
       "<div>\n",
       "<style scoped>\n",
       "    .dataframe tbody tr th:only-of-type {\n",
       "        vertical-align: middle;\n",
       "    }\n",
       "\n",
       "    .dataframe tbody tr th {\n",
       "        vertical-align: top;\n",
       "    }\n",
       "\n",
       "    .dataframe thead th {\n",
       "        text-align: right;\n",
       "    }\n",
       "</style>\n",
       "<table border=\"1\" class=\"dataframe\">\n",
       "  <thead>\n",
       "    <tr style=\"text-align: right;\">\n",
       "      <th></th>\n",
       "      <th>Subflow.Bwd.Bytes</th>\n",
       "      <th>Init_Win_bytes_forward</th>\n",
       "      <th>Init_Win_bytes_backward</th>\n",
       "      <th>act_data_pkt_fwd</th>\n",
       "      <th>min_seg_size_forward</th>\n",
       "      <th>Active.Mean</th>\n",
       "      <th>Active.Std</th>\n",
       "      <th>Active.Max</th>\n",
       "      <th>Active.Min</th>\n",
       "    </tr>\n",
       "  </thead>\n",
       "  <tbody>\n",
       "    <tr>\n",
       "      <th>count</th>\n",
       "      <td>3.577296e+06</td>\n",
       "      <td>3.577296e+06</td>\n",
       "      <td>3.577296e+06</td>\n",
       "      <td>3.577296e+06</td>\n",
       "      <td>3.577296e+06</td>\n",
       "      <td>3.577296e+06</td>\n",
       "      <td>3.577296e+06</td>\n",
       "      <td>3.577296e+06</td>\n",
       "      <td>3.577296e+06</td>\n",
       "    </tr>\n",
       "    <tr>\n",
       "      <th>mean</th>\n",
       "      <td>8.445742e+04</td>\n",
       "      <td>8.984691e+03</td>\n",
       "      <td>2.123489e+03</td>\n",
       "      <td>4.503535e+01</td>\n",
       "      <td>2.569738e+01</td>\n",
       "      <td>2.981990e+05</td>\n",
       "      <td>1.836406e+05</td>\n",
       "      <td>5.229372e+05</td>\n",
       "      <td>1.676336e+05</td>\n",
       "    </tr>\n",
       "    <tr>\n",
       "      <th>std</th>\n",
       "      <td>2.124319e+06</td>\n",
       "      <td>1.410126e+04</td>\n",
       "      <td>7.704789e+03</td>\n",
       "      <td>9.748192e+02</td>\n",
       "      <td>6.025989e+00</td>\n",
       "      <td>2.349390e+06</td>\n",
       "      <td>1.325838e+06</td>\n",
       "      <td>3.266508e+06</td>\n",
       "      <td>2.064219e+06</td>\n",
       "    </tr>\n",
       "    <tr>\n",
       "      <th>min</th>\n",
       "      <td>0.000000e+00</td>\n",
       "      <td>-1.000000e+00</td>\n",
       "      <td>-1.000000e+00</td>\n",
       "      <td>0.000000e+00</td>\n",
       "      <td>-1.000000e+00</td>\n",
       "      <td>0.000000e+00</td>\n",
       "      <td>0.000000e+00</td>\n",
       "      <td>0.000000e+00</td>\n",
       "      <td>0.000000e+00</td>\n",
       "    </tr>\n",
       "    <tr>\n",
       "      <th>25%</th>\n",
       "      <td>0.000000e+00</td>\n",
       "      <td>4.110000e+02</td>\n",
       "      <td>1.800000e+01</td>\n",
       "      <td>0.000000e+00</td>\n",
       "      <td>2.000000e+01</td>\n",
       "      <td>0.000000e+00</td>\n",
       "      <td>0.000000e+00</td>\n",
       "      <td>0.000000e+00</td>\n",
       "      <td>0.000000e+00</td>\n",
       "    </tr>\n",
       "    <tr>\n",
       "      <th>50%</th>\n",
       "      <td>2.080000e+02</td>\n",
       "      <td>5.840000e+03</td>\n",
       "      <td>2.620000e+02</td>\n",
       "      <td>2.000000e+00</td>\n",
       "      <td>2.000000e+01</td>\n",
       "      <td>0.000000e+00</td>\n",
       "      <td>0.000000e+00</td>\n",
       "      <td>0.000000e+00</td>\n",
       "      <td>0.000000e+00</td>\n",
       "    </tr>\n",
       "    <tr>\n",
       "      <th>75%</th>\n",
       "      <td>3.629000e+03</td>\n",
       "      <td>1.460000e+04</td>\n",
       "      <td>6.600000e+02</td>\n",
       "      <td>9.000000e+00</td>\n",
       "      <td>3.200000e+01</td>\n",
       "      <td>4.500000e+01</td>\n",
       "      <td>0.000000e+00</td>\n",
       "      <td>5.700000e+01</td>\n",
       "      <td>2.000000e+00</td>\n",
       "    </tr>\n",
       "    <tr>\n",
       "      <th>max</th>\n",
       "      <td>1.345796e+09</td>\n",
       "      <td>6.553500e+04</td>\n",
       "      <td>6.553500e+04</td>\n",
       "      <td>3.286940e+05</td>\n",
       "      <td>5.230000e+02</td>\n",
       "      <td>1.146950e+08</td>\n",
       "      <td>7.297136e+07</td>\n",
       "      <td>1.146950e+08</td>\n",
       "      <td>1.146950e+08</td>\n",
       "    </tr>\n",
       "  </tbody>\n",
       "</table>\n",
       "</div>"
      ]
     },
     "metadata": {},
     "output_type": "display_data"
    }
   ],
   "source": [
    "network_traffic_analysis_dataframe.iloc[:,71:80].describe()"
   ]
  },
  {
   "cell_type": "code",
   "execution_count": 38,
   "metadata": {},
   "outputs": [
    {
     "data": {
      "text/html": [
       "<div>\n",
       "<style scoped>\n",
       "    .dataframe tbody tr th:only-of-type {\n",
       "        vertical-align: middle;\n",
       "    }\n",
       "\n",
       "    .dataframe tbody tr th {\n",
       "        vertical-align: top;\n",
       "    }\n",
       "\n",
       "    .dataframe thead th {\n",
       "        text-align: right;\n",
       "    }\n",
       "</style>\n",
       "<table border=\"1\" class=\"dataframe\">\n",
       "  <thead>\n",
       "    <tr style=\"text-align: right;\">\n",
       "      <th></th>\n",
       "      <th>Idle.Std</th>\n",
       "      <th>Idle.Max</th>\n",
       "      <th>Idle.Min</th>\n",
       "      <th>L7Protocol</th>\n",
       "    </tr>\n",
       "  </thead>\n",
       "  <tbody>\n",
       "    <tr>\n",
       "      <th>count</th>\n",
       "      <td>3.577296e+06</td>\n",
       "      <td>3.577296e+06</td>\n",
       "      <td>3.577296e+06</td>\n",
       "      <td>3.577296e+06</td>\n",
       "    </tr>\n",
       "    <tr>\n",
       "      <th>mean</th>\n",
       "      <td>1.370991e+06</td>\n",
       "      <td>9.743845e+06</td>\n",
       "      <td>7.252097e+06</td>\n",
       "      <td>1.029508e+02</td>\n",
       "    </tr>\n",
       "    <tr>\n",
       "      <th>std</th>\n",
       "      <td>4.814474e+06</td>\n",
       "      <td>1.888557e+07</td>\n",
       "      <td>1.600754e+07</td>\n",
       "      <td>5.129198e+01</td>\n",
       "    </tr>\n",
       "    <tr>\n",
       "      <th>min</th>\n",
       "      <td>0.000000e+00</td>\n",
       "      <td>0.000000e+00</td>\n",
       "      <td>0.000000e+00</td>\n",
       "      <td>1.000000e+00</td>\n",
       "    </tr>\n",
       "    <tr>\n",
       "      <th>25%</th>\n",
       "      <td>0.000000e+00</td>\n",
       "      <td>0.000000e+00</td>\n",
       "      <td>0.000000e+00</td>\n",
       "      <td>9.100000e+01</td>\n",
       "    </tr>\n",
       "    <tr>\n",
       "      <th>50%</th>\n",
       "      <td>0.000000e+00</td>\n",
       "      <td>0.000000e+00</td>\n",
       "      <td>0.000000e+00</td>\n",
       "      <td>1.260000e+02</td>\n",
       "    </tr>\n",
       "    <tr>\n",
       "      <th>75%</th>\n",
       "      <td>0.000000e+00</td>\n",
       "      <td>8.034389e+06</td>\n",
       "      <td>5.369712e+06</td>\n",
       "      <td>1.300000e+02</td>\n",
       "    </tr>\n",
       "    <tr>\n",
       "      <th>max</th>\n",
       "      <td>7.738746e+07</td>\n",
       "      <td>1.200000e+08</td>\n",
       "      <td>1.200000e+08</td>\n",
       "      <td>2.220000e+02</td>\n",
       "    </tr>\n",
       "  </tbody>\n",
       "</table>\n",
       "</div>"
      ]
     },
     "metadata": {},
     "output_type": "display_data"
    }
   ],
   "source": [
    "network_traffic_analysis_dataframe.iloc[:,81:].describe()"
   ]
  },
  {
   "cell_type": "markdown",
   "metadata": {},
   "source": [
    "# Data Preparation"
   ]
  },
  {
   "cell_type": "markdown",
   "metadata": {},
   "source": [
    "### Detect for any null values in the dataset"
   ]
  },
  {
   "cell_type": "code",
   "execution_count": 39,
   "metadata": {},
   "outputs": [
    {
     "data": {
      "text/plain": [
       "Flow.ID                        0\n",
       "Source.IP                      0\n",
       "Source.Port                    0\n",
       "Destination.IP                 0\n",
       "Destination.Port               0\n",
       "Protocol                       0\n",
       "Timestamp                      0\n",
       "Flow.Duration                  0\n",
       "Total.Fwd.Packets              0\n",
       "Total.Backward.Packets         0\n",
       "Total.Length.of.Fwd.Packets    0\n",
       "Total.Length.of.Bwd.Packets    0\n",
       "Fwd.Packet.Length.Max          0\n",
       "Fwd.Packet.Length.Min          0\n",
       "Fwd.Packet.Length.Mean         0\n",
       "Fwd.Packet.Length.Std          0\n",
       "Bwd.Packet.Length.Max          0\n",
       "Bwd.Packet.Length.Min          0\n",
       "Bwd.Packet.Length.Mean         0\n",
       "Bwd.Packet.Length.Std          0\n",
       "dtype: int64"
      ]
     },
     "execution_count": 39,
     "metadata": {},
     "output_type": "execute_result"
    }
   ],
   "source": [
    "network_traffic_analysis_dataframe.isnull().sum()[:20]"
   ]
  },
  {
   "cell_type": "code",
   "execution_count": 40,
   "metadata": {},
   "outputs": [
    {
     "data": {
      "text/plain": [
       "Flow.Packets.s    0\n",
       "Flow.IAT.Mean     0\n",
       "Flow.IAT.Std      0\n",
       "Flow.IAT.Max      0\n",
       "Flow.IAT.Min      0\n",
       "Fwd.IAT.Total     0\n",
       "Fwd.IAT.Mean      0\n",
       "Fwd.IAT.Std       0\n",
       "Fwd.IAT.Max       0\n",
       "Fwd.IAT.Min       0\n",
       "Bwd.IAT.Total     0\n",
       "Bwd.IAT.Mean      0\n",
       "Bwd.IAT.Std       0\n",
       "Bwd.IAT.Max       0\n",
       "Bwd.IAT.Min       0\n",
       "Fwd.PSH.Flags     0\n",
       "Bwd.PSH.Flags     0\n",
       "Fwd.URG.Flags     0\n",
       "Bwd.URG.Flags     0\n",
       "dtype: int64"
      ]
     },
     "execution_count": 40,
     "metadata": {},
     "output_type": "execute_result"
    }
   ],
   "source": [
    "network_traffic_analysis_dataframe.isnull().sum()[21:40]"
   ]
  },
  {
   "cell_type": "code",
   "execution_count": 41,
   "metadata": {},
   "outputs": [
    {
     "data": {
      "text/plain": [
       "Bwd.Header.Length         0\n",
       "Fwd.Packets.s             0\n",
       "Bwd.Packets.s             0\n",
       "Min.Packet.Length         0\n",
       "Max.Packet.Length         0\n",
       "Packet.Length.Mean        0\n",
       "Packet.Length.Std         0\n",
       "Packet.Length.Variance    0\n",
       "FIN.Flag.Count            0\n",
       "SYN.Flag.Count            0\n",
       "RST.Flag.Count            0\n",
       "PSH.Flag.Count            0\n",
       "ACK.Flag.Count            0\n",
       "URG.Flag.Count            0\n",
       "CWE.Flag.Count            0\n",
       "ECE.Flag.Count            0\n",
       "Down.Up.Ratio             0\n",
       "Average.Packet.Size       0\n",
       "Avg.Fwd.Segment.Size      0\n",
       "dtype: int64"
      ]
     },
     "execution_count": 41,
     "metadata": {},
     "output_type": "execute_result"
    }
   ],
   "source": [
    "network_traffic_analysis_dataframe.isnull().sum()[41:60]"
   ]
  },
  {
   "cell_type": "code",
   "execution_count": 42,
   "metadata": {},
   "outputs": [
    {
     "data": {
      "text/plain": [
       "Fwd.Header.Length.1        0\n",
       "Fwd.Avg.Bytes.Bulk         0\n",
       "Fwd.Avg.Packets.Bulk       0\n",
       "Fwd.Avg.Bulk.Rate          0\n",
       "Bwd.Avg.Bytes.Bulk         0\n",
       "Bwd.Avg.Packets.Bulk       0\n",
       "Bwd.Avg.Bulk.Rate          0\n",
       "Subflow.Fwd.Packets        0\n",
       "Subflow.Fwd.Bytes          0\n",
       "Subflow.Bwd.Packets        0\n",
       "Subflow.Bwd.Bytes          0\n",
       "Init_Win_bytes_forward     0\n",
       "Init_Win_bytes_backward    0\n",
       "act_data_pkt_fwd           0\n",
       "min_seg_size_forward       0\n",
       "Active.Mean                0\n",
       "Active.Std                 0\n",
       "Active.Max                 0\n",
       "Active.Min                 0\n",
       "dtype: int64"
      ]
     },
     "execution_count": 42,
     "metadata": {},
     "output_type": "execute_result"
    }
   ],
   "source": [
    "network_traffic_analysis_dataframe.isnull().sum()[61:80]"
   ]
  },
  {
   "cell_type": "code",
   "execution_count": 43,
   "metadata": {},
   "outputs": [
    {
     "data": {
      "text/plain": [
       "Idle.Std        0\n",
       "Idle.Max        0\n",
       "Idle.Min        0\n",
       "Label           0\n",
       "L7Protocol      0\n",
       "ProtocolName    0\n",
       "dtype: int64"
      ]
     },
     "execution_count": 43,
     "metadata": {},
     "output_type": "execute_result"
    }
   ],
   "source": [
    "network_traffic_analysis_dataframe.isnull().sum()[81:]"
   ]
  },
  {
   "cell_type": "markdown",
   "metadata": {},
   "source": [
    "### Detect for any na values in the dataset"
   ]
  },
  {
   "cell_type": "code",
   "execution_count": 44,
   "metadata": {},
   "outputs": [
    {
     "data": {
      "text/plain": [
       "Flow.ID                        0\n",
       "Source.IP                      0\n",
       "Source.Port                    0\n",
       "Destination.IP                 0\n",
       "Destination.Port               0\n",
       "Protocol                       0\n",
       "Timestamp                      0\n",
       "Flow.Duration                  0\n",
       "Total.Fwd.Packets              0\n",
       "Total.Backward.Packets         0\n",
       "Total.Length.of.Fwd.Packets    0\n",
       "Total.Length.of.Bwd.Packets    0\n",
       "Fwd.Packet.Length.Max          0\n",
       "Fwd.Packet.Length.Min          0\n",
       "Fwd.Packet.Length.Mean         0\n",
       "Fwd.Packet.Length.Std          0\n",
       "Bwd.Packet.Length.Max          0\n",
       "Bwd.Packet.Length.Min          0\n",
       "Bwd.Packet.Length.Mean         0\n",
       "Bwd.Packet.Length.Std          0\n",
       "dtype: int64"
      ]
     },
     "execution_count": 44,
     "metadata": {},
     "output_type": "execute_result"
    }
   ],
   "source": [
    "network_traffic_analysis_dataframe.isna().sum()[:20]"
   ]
  },
  {
   "cell_type": "code",
   "execution_count": 45,
   "metadata": {},
   "outputs": [
    {
     "data": {
      "text/plain": [
       "Flow.Packets.s    0\n",
       "Flow.IAT.Mean     0\n",
       "Flow.IAT.Std      0\n",
       "Flow.IAT.Max      0\n",
       "Flow.IAT.Min      0\n",
       "Fwd.IAT.Total     0\n",
       "Fwd.IAT.Mean      0\n",
       "Fwd.IAT.Std       0\n",
       "Fwd.IAT.Max       0\n",
       "Fwd.IAT.Min       0\n",
       "Bwd.IAT.Total     0\n",
       "Bwd.IAT.Mean      0\n",
       "Bwd.IAT.Std       0\n",
       "Bwd.IAT.Max       0\n",
       "Bwd.IAT.Min       0\n",
       "Fwd.PSH.Flags     0\n",
       "Bwd.PSH.Flags     0\n",
       "Fwd.URG.Flags     0\n",
       "Bwd.URG.Flags     0\n",
       "dtype: int64"
      ]
     },
     "execution_count": 45,
     "metadata": {},
     "output_type": "execute_result"
    }
   ],
   "source": [
    "network_traffic_analysis_dataframe.isna().sum()[21:40]"
   ]
  },
  {
   "cell_type": "code",
   "execution_count": 46,
   "metadata": {},
   "outputs": [
    {
     "data": {
      "text/plain": [
       "Bwd.Header.Length         0\n",
       "Fwd.Packets.s             0\n",
       "Bwd.Packets.s             0\n",
       "Min.Packet.Length         0\n",
       "Max.Packet.Length         0\n",
       "Packet.Length.Mean        0\n",
       "Packet.Length.Std         0\n",
       "Packet.Length.Variance    0\n",
       "FIN.Flag.Count            0\n",
       "SYN.Flag.Count            0\n",
       "RST.Flag.Count            0\n",
       "PSH.Flag.Count            0\n",
       "ACK.Flag.Count            0\n",
       "URG.Flag.Count            0\n",
       "CWE.Flag.Count            0\n",
       "ECE.Flag.Count            0\n",
       "Down.Up.Ratio             0\n",
       "Average.Packet.Size       0\n",
       "Avg.Fwd.Segment.Size      0\n",
       "dtype: int64"
      ]
     },
     "execution_count": 46,
     "metadata": {},
     "output_type": "execute_result"
    }
   ],
   "source": [
    "network_traffic_analysis_dataframe.isna().sum()[41:60]"
   ]
  },
  {
   "cell_type": "code",
   "execution_count": 47,
   "metadata": {},
   "outputs": [
    {
     "data": {
      "text/plain": [
       "Fwd.Header.Length.1        0\n",
       "Fwd.Avg.Bytes.Bulk         0\n",
       "Fwd.Avg.Packets.Bulk       0\n",
       "Fwd.Avg.Bulk.Rate          0\n",
       "Bwd.Avg.Bytes.Bulk         0\n",
       "Bwd.Avg.Packets.Bulk       0\n",
       "Bwd.Avg.Bulk.Rate          0\n",
       "Subflow.Fwd.Packets        0\n",
       "Subflow.Fwd.Bytes          0\n",
       "Subflow.Bwd.Packets        0\n",
       "Subflow.Bwd.Bytes          0\n",
       "Init_Win_bytes_forward     0\n",
       "Init_Win_bytes_backward    0\n",
       "act_data_pkt_fwd           0\n",
       "min_seg_size_forward       0\n",
       "Active.Mean                0\n",
       "Active.Std                 0\n",
       "Active.Max                 0\n",
       "Active.Min                 0\n",
       "dtype: int64"
      ]
     },
     "execution_count": 47,
     "metadata": {},
     "output_type": "execute_result"
    }
   ],
   "source": [
    "network_traffic_analysis_dataframe.isna().sum()[61:80]"
   ]
  },
  {
   "cell_type": "code",
   "execution_count": 48,
   "metadata": {},
   "outputs": [
    {
     "data": {
      "text/plain": [
       "Idle.Std        0\n",
       "Idle.Max        0\n",
       "Idle.Min        0\n",
       "Label           0\n",
       "L7Protocol      0\n",
       "ProtocolName    0\n",
       "dtype: int64"
      ]
     },
     "execution_count": 48,
     "metadata": {},
     "output_type": "execute_result"
    }
   ],
   "source": [
    "network_traffic_analysis_dataframe.isna().sum()[81:]"
   ]
  },
  {
   "cell_type": "markdown",
   "metadata": {},
   "source": [
    "### Determine the classes in data columns that are object data type"
   ]
  },
  {
   "cell_type": "code",
   "execution_count": 49,
   "metadata": {},
   "outputs": [
    {
     "data": {
      "text/plain": [
       "Index(['Flow.ID', 'Source.IP', 'Destination.IP', 'Timestamp', 'Label',\n",
       "       'ProtocolName'],\n",
       "      dtype='object')"
      ]
     },
     "execution_count": 49,
     "metadata": {},
     "output_type": "execute_result"
    }
   ],
   "source": [
    "network_traffic_analysis_dataframe.select_dtypes(\"object\").columns"
   ]
  },
  {
   "cell_type": "markdown",
   "metadata": {},
   "source": [
    "### Determine the classes in Label column"
   ]
  },
  {
   "cell_type": "code",
   "execution_count": 50,
   "metadata": {},
   "outputs": [
    {
     "data": {
      "text/plain": [
       "array(['BENIGN'], dtype=object)"
      ]
     },
     "execution_count": 50,
     "metadata": {},
     "output_type": "execute_result"
    }
   ],
   "source": [
    "network_traffic_analysis_dataframe[\"Label\"].unique()"
   ]
  },
  {
   "cell_type": "markdown",
   "metadata": {},
   "source": [
    "### Mapping of L7Protocol and ProtocolName"
   ]
  },
  {
   "cell_type": "code",
   "execution_count": 51,
   "metadata": {},
   "outputs": [],
   "source": [
    "# Create a dictionary based on\n",
    "\n",
    "protocol_name_list: list[str] = network_traffic_analysis_dataframe[\"ProtocolName\"].unique()\n",
    "\n",
    "number_of_data_to_iterate: int = len(network_traffic_analysis_dataframe[\"ProtocolName\"].unique())\n",
    "\n",
    "protocol_index_to_name_mapping: dict[int, str] = {}\n",
    "protocol_name_to_index_mapping: dict[str, int] = {}\n",
    "\n",
    "for index in range(number_of_data_to_iterate):\n",
    "    data = network_traffic_analysis_dataframe[network_traffic_analysis_dataframe[\"ProtocolName\"] == protocol_name_list[index]].head(1)[[\"L7Protocol\", \"ProtocolName\"]]\n",
    "\n",
    "    protocol_index_to_name_mapping[data[\"L7Protocol\"].values[0]] = data[\"ProtocolName\"].values[0]\n",
    "    protocol_name_to_index_mapping[data[\"ProtocolName\"].values[0]] = data[\"L7Protocol\"].values[0]\n",
    "\n",
    "\n"
   ]
  },
  {
   "cell_type": "code",
   "execution_count": 52,
   "metadata": {},
   "outputs": [
    {
     "data": {
      "text/plain": [
       "{np.int64(131): 'HTTP_PROXY',\n",
       " np.int64(7): 'HTTP',\n",
       " np.int64(130): 'HTTP_CONNECT',\n",
       " np.int64(91): 'SSL',\n",
       " np.int64(126): 'GOOGLE',\n",
       " np.int64(124): 'YOUTUBE',\n",
       " np.int64(119): 'FACEBOOK',\n",
       " np.int64(40): 'CONTENT_FLASH',\n",
       " np.int64(121): 'DROPBOX',\n",
       " np.int64(147): 'WINDOWS_UPDATE',\n",
       " np.int64(178): 'AMAZON',\n",
       " np.int64(212): 'MICROSOFT',\n",
       " np.int64(163): 'TOR',\n",
       " np.int64(122): 'GMAIL',\n",
       " np.int64(70): 'YAHOO',\n",
       " np.int64(68): 'MSN',\n",
       " np.int64(64): 'SSL_NO_CERT',\n",
       " np.int64(125): 'SKYPE',\n",
       " np.int64(221): 'MS_ONE_DRIVE',\n",
       " np.int64(114): 'MSSQL',\n",
       " np.int64(120): 'TWITTER',\n",
       " np.int64(143): 'APPLE_ICLOUD',\n",
       " np.int64(220): 'CLOUDFLARE',\n",
       " np.int64(169): 'UBUNTUONE',\n",
       " np.int64(219): 'OFFICE_365',\n",
       " np.int64(176): 'WIKIPEDIA',\n",
       " np.int64(201): 'OPENSIGNAL',\n",
       " np.int64(5): 'DNS',\n",
       " np.int64(60): 'HTTP_DOWNLOAD',\n",
       " np.int64(142): 'WHATSAPP',\n",
       " np.int64(145): 'APPLE_ITUNES',\n",
       " np.int64(175): 'FTP_DATA',\n",
       " np.int64(132): 'CITRIX',\n",
       " np.int64(140): 'APPLE',\n",
       " np.int64(222): 'MQTT',\n",
       " np.int64(211): 'INSTAGRAM',\n",
       " np.int64(179): 'EBAY',\n",
       " np.int64(123): 'GOOGLE_MAPS',\n",
       " np.int64(81): 'IP_ICMP',\n",
       " np.int64(9): 'NTP',\n",
       " np.int64(148): 'TEAMVIEWER',\n",
       " np.int64(156): 'SPOTIFY',\n",
       " np.int64(203): 'EASYTAXI',\n",
       " np.int64(51): 'MAIL_IMAPS',\n",
       " np.int64(195): 'TWITCH',\n",
       " np.int64(133): 'NETFLIX',\n",
       " np.int64(92): 'SSH',\n",
       " np.int64(200): 'SIMET',\n",
       " np.int64(67): 'UNENCRYPED_JABBER',\n",
       " np.int64(135): 'WAZE',\n",
       " np.int64(153): 'UPNP',\n",
       " np.int64(36): 'EDONKEY',\n",
       " np.int64(69): 'OSCAR',\n",
       " np.int64(167): 'ORACLE',\n",
       " np.int64(210): 'DEEZER',\n",
       " np.int64(159): 'OPENVPN',\n",
       " np.int64(170): 'WHOIS_DAS',\n",
       " np.int64(164): 'SKINNY',\n",
       " np.int64(213): 'STARCRAFT',\n",
       " np.int64(11): 'NFS',\n",
       " np.int64(174): 'RTMP',\n",
       " np.int64(162): 'TEAMSPEAK',\n",
       " np.int64(14): 'SNMP',\n",
       " np.int64(202): '99TAXI',\n",
       " np.int64(48): 'QQ',\n",
       " np.int64(185): 'TELEGRAM',\n",
       " np.int64(1): 'FTP_CONTROL',\n",
       " np.int64(150): 'LOTUS_NOTES',\n",
       " np.int64(158): 'H323',\n",
       " np.int64(139): 'CITRIX_ONLINE',\n",
       " np.int64(134): 'LASTFM',\n",
       " np.int64(85): 'IP_OSPF',\n",
       " np.int64(180): 'CNN',\n",
       " np.int64(13): 'BGP',\n",
       " np.int64(146): 'RADIUS',\n",
       " np.int64(172): 'SOCKS',\n",
       " np.int64(37): 'BITTORRENT',\n",
       " np.int64(191): 'TIMMEU'}"
      ]
     },
     "execution_count": 52,
     "metadata": {},
     "output_type": "execute_result"
    }
   ],
   "source": [
    "protocol_index_to_name_mapping"
   ]
  },
  {
   "cell_type": "markdown",
   "metadata": {},
   "source": [
    "### Mapping of Protocol and OSI Model"
   ]
  },
  {
   "cell_type": "code",
   "execution_count": 53,
   "metadata": {},
   "outputs": [
    {
     "data": {
      "text/plain": [
       "array([ 6, 17,  0])"
      ]
     },
     "execution_count": 53,
     "metadata": {},
     "output_type": "execute_result"
    }
   ],
   "source": [
    "# Create a mapping of the number in Protocol column and the OSI model\n",
    "network_traffic_analysis_dataframe[\"Protocol\"].unique()\n"
   ]
  },
  {
   "cell_type": "markdown",
   "metadata": {},
   "source": [
    "https://github.com/CanadianInstituteForCybersecurity/CICFlowMeter/blob/master/src/main/java/cic/cs/unb/ca/jnetpcap/PacketReader.java\n",
    "\n",
    "From Line 401 to 438\n",
    "\n",
    "The code implementation shows, if the protocol is TCP then the protocol number is set to 6\n",
    "If the protocol is UDP then the protocol is set to 17\n"
   ]
  },
  {
   "cell_type": "markdown",
   "metadata": {},
   "source": [
    "https://github.com/CanadianInstituteForCybersecurity/CICFlowMeter/blob/master/src/main/java/cic/cs/unb/ca/jnetpcap/FlowFeature.java\n",
    "\n",
    "From Line 188 to 206 also shows the same implemenatation\n",
    "\n",
    "TCP = 6 \n",
    "UDP = 17\n",
    "\n",
    "Others = 0"
   ]
  },
  {
   "cell_type": "markdown",
   "metadata": {},
   "source": [
    "https://github.com/CanadianInstituteForCybersecurity/CICFlowMeter/blob/master/src/main/java/cic/cs/unb/ca/jnetpcap/BasicFlow.java\n",
    "\n",
    "From line 788 to 795\n",
    "\n",
    "There is a mapping for protocol number to protocol str"
   ]
  },
  {
   "cell_type": "markdown",
   "metadata": {},
   "source": [
    "Therefore the mapping of Protocol to Code will be in this mapping.\n",
    "\n",
    "TCP = 6\n",
    "\n",
    "UDP = 17\n",
    "\n",
    "OTHERS = 0\n"
   ]
  },
  {
   "cell_type": "code",
   "execution_count": 54,
   "metadata": {},
   "outputs": [],
   "source": [
    "TCP: str = \"TCP\"\n",
    "UDP: str = \"UDP\"\n",
    "OTHERS: str = \"OTHERS\""
   ]
  },
  {
   "cell_type": "code",
   "execution_count": 55,
   "metadata": {},
   "outputs": [],
   "source": [
    "TCP_CODE: int = 6\n",
    "UDP_CODE: int = 17\n",
    "OTHER_CODE: int = 0"
   ]
  },
  {
   "cell_type": "code",
   "execution_count": 56,
   "metadata": {},
   "outputs": [],
   "source": [
    "protocol_to_code_mapping: dict = {\n",
    "    TCP: TCP_CODE,\n",
    "    UDP: UDP_CODE,\n",
    "    OTHERS: OTHER_CODE\n",
    "}"
   ]
  },
  {
   "cell_type": "markdown",
   "metadata": {},
   "source": [
    "### Split TimeStamp into 2 different columns (Date and Time)"
   ]
  },
  {
   "cell_type": "code",
   "execution_count": 57,
   "metadata": {},
   "outputs": [],
   "source": [
    "# https://regexr.com/\n",
    "network_traffic_analysis_dataframe[\"Date\"] = network_traffic_analysis_dataframe[\"Timestamp\"].str.extract(r\"(\\d{1,2}\\/\\d{1,2}\\/\\d{2,4})\")\n"
   ]
  },
  {
   "cell_type": "code",
   "execution_count": 58,
   "metadata": {},
   "outputs": [],
   "source": [
    "network_traffic_analysis_dataframe[\"Time\"] = network_traffic_analysis_dataframe[\"Timestamp\"].str.extract(r\"(\\d{1,2}\\:\\d{1,2}\\:\\d{1,2})\")"
   ]
  },
  {
   "cell_type": "code",
   "execution_count": 59,
   "metadata": {},
   "outputs": [
    {
     "data": {
      "text/plain": [
       "0          11:11:17\n",
       "1          11:11:17\n",
       "2          11:11:17\n",
       "3          11:11:17\n",
       "4          11:11:17\n",
       "             ...   \n",
       "3577291    05:43:40\n",
       "3577292    05:46:10\n",
       "3577293    05:45:39\n",
       "3577294    05:45:59\n",
       "3577295    05:46:05\n",
       "Name: Time, Length: 3577296, dtype: object"
      ]
     },
     "execution_count": 59,
     "metadata": {},
     "output_type": "execute_result"
    }
   ],
   "source": [
    "network_traffic_analysis_dataframe[\"Time\"]"
   ]
  },
  {
   "cell_type": "markdown",
   "metadata": {},
   "source": [
    "\n",
    "* Preprocess the data for modeling, including feature scaling and encoding categorical variables."
   ]
  },
  {
   "cell_type": "code",
   "execution_count": null,
   "metadata": {},
   "outputs": [],
   "source": []
  },
  {
   "cell_type": "markdown",
   "metadata": {},
   "source": [
    "# Further Data Exploration"
   ]
  },
  {
   "cell_type": "markdown",
   "metadata": {},
   "source": [
    "## Explore the distribution of Application used"
   ]
  },
  {
   "cell_type": "markdown",
   "metadata": {},
   "source": [
    "The L7Protocol and ProtocolName are related where L7Protocol is the unique numerical data that represents the ProtocolName and ProtocolName is the name of the application used to access the internet."
   ]
  },
  {
   "cell_type": "code",
   "execution_count": 60,
   "metadata": {},
   "outputs": [
    {
     "data": {
      "text/plain": [
       "ProtocolName\n",
       "GOOGLE            959110\n",
       "HTTP              683734\n",
       "HTTP_PROXY        623210\n",
       "SSL               404883\n",
       "HTTP_CONNECT      317526\n",
       "YOUTUBE           170781\n",
       "AMAZON             86875\n",
       "MICROSOFT          54710\n",
       "GMAIL              40260\n",
       "WINDOWS_UPDATE     34471\n",
       "SKYPE              30657\n",
       "FACEBOOK           29033\n",
       "DROPBOX            25102\n",
       "YAHOO              21268\n",
       "TWITTER            18259\n",
       "CLOUDFLARE         14737\n",
       "MSN                14478\n",
       "CONTENT_FLASH       8589\n",
       "APPLE               7615\n",
       "OFFICE_365          5941\n",
       "Name: count, dtype: int64"
      ]
     },
     "execution_count": 60,
     "metadata": {},
     "output_type": "execute_result"
    }
   ],
   "source": [
    "network_traffic_analysis_dataframe[\"ProtocolName\"].value_counts().head(20)"
   ]
  },
  {
   "cell_type": "markdown",
   "metadata": {},
   "source": [
    "## Analysis on TCP 3-way handshake in the dataset"
   ]
  },
  {
   "cell_type": "markdown",
   "metadata": {},
   "source": [
    "### Explore the SYN Flag Count distribution"
   ]
  },
  {
   "cell_type": "code",
   "execution_count": 61,
   "metadata": {},
   "outputs": [
    {
     "data": {
      "text/plain": [
       "SYN.Flag.Count\n",
       "0    2961853\n",
       "1     615443\n",
       "Name: count, dtype: int64"
      ]
     },
     "execution_count": 61,
     "metadata": {},
     "output_type": "execute_result"
    }
   ],
   "source": [
    "network_traffic_analysis_dataframe[\"SYN.Flag.Count\"].value_counts()"
   ]
  },
  {
   "cell_type": "code",
   "execution_count": 62,
   "metadata": {},
   "outputs": [
    {
     "data": {
      "text/plain": [
       "array([ 6, 17,  0])"
      ]
     },
     "execution_count": 62,
     "metadata": {},
     "output_type": "execute_result"
    }
   ],
   "source": [
    "network_traffic_analysis_dataframe[network_traffic_analysis_dataframe[\"SYN.Flag.Count\"] == 0][\"Protocol\"].unique()"
   ]
  },
  {
   "cell_type": "code",
   "execution_count": 63,
   "metadata": {},
   "outputs": [
    {
     "data": {
      "text/plain": [
       "np.int64(2957532)"
      ]
     },
     "execution_count": 63,
     "metadata": {},
     "output_type": "execute_result"
    }
   ],
   "source": [
    "network_traffic_analysis_dataframe[(network_traffic_analysis_dataframe[\"SYN.Flag.Count\"] == 0) & (network_traffic_analysis_dataframe[\"Protocol\"] == 6)][\"Protocol\"].count()"
   ]
  },
  {
   "cell_type": "code",
   "execution_count": 64,
   "metadata": {},
   "outputs": [
    {
     "data": {
      "text/plain": [
       "np.int64(4321)"
      ]
     },
     "execution_count": 64,
     "metadata": {},
     "output_type": "execute_result"
    }
   ],
   "source": [
    "network_traffic_analysis_dataframe[(network_traffic_analysis_dataframe[\"SYN.Flag.Count\"] == 0) & (network_traffic_analysis_dataframe[\"Protocol\"] != 6)][\"Protocol\"].count()"
   ]
  },
  {
   "cell_type": "code",
   "execution_count": 65,
   "metadata": {},
   "outputs": [
    {
     "data": {
      "text/plain": [
       "array([6])"
      ]
     },
     "execution_count": 65,
     "metadata": {},
     "output_type": "execute_result"
    }
   ],
   "source": [
    "network_traffic_analysis_dataframe[network_traffic_analysis_dataframe[\"SYN.Flag.Count\"] == 1][\"Protocol\"].unique()"
   ]
  },
  {
   "cell_type": "markdown",
   "metadata": {},
   "source": [
    "https://www.imperva.com/learn/ddos/syn-flood/ \n",
    "\n",
    "https://en.wikipedia.org/wiki/SYN_flood"
   ]
  },
  {
   "cell_type": "markdown",
   "metadata": {},
   "source": [
    "TCP connection is initiated with SYN packet and there are higher frequency of TCP flow without SYN packets"
   ]
  },
  {
   "cell_type": "code",
   "execution_count": 66,
   "metadata": {},
   "outputs": [
    {
     "data": {
      "text/plain": [
       "Index(['Flow.ID', 'Source.IP', 'Source.Port', 'Destination.IP',\n",
       "       'Destination.Port', 'Protocol', 'Timestamp', 'Flow.Duration',\n",
       "       'Total.Fwd.Packets', 'Total.Backward.Packets',\n",
       "       'Total.Length.of.Fwd.Packets', 'Total.Length.of.Bwd.Packets',\n",
       "       'Fwd.Packet.Length.Max', 'Fwd.Packet.Length.Min',\n",
       "       'Fwd.Packet.Length.Mean', 'Fwd.Packet.Length.Std',\n",
       "       'Bwd.Packet.Length.Max', 'Bwd.Packet.Length.Min',\n",
       "       'Bwd.Packet.Length.Mean', 'Bwd.Packet.Length.Std', 'Flow.Bytes.s',\n",
       "       'Flow.Packets.s', 'Flow.IAT.Mean', 'Flow.IAT.Std', 'Flow.IAT.Max',\n",
       "       'Flow.IAT.Min', 'Fwd.IAT.Total', 'Fwd.IAT.Mean', 'Fwd.IAT.Std',\n",
       "       'Fwd.IAT.Max', 'Fwd.IAT.Min', 'Bwd.IAT.Total', 'Bwd.IAT.Mean',\n",
       "       'Bwd.IAT.Std', 'Bwd.IAT.Max', 'Bwd.IAT.Min', 'Fwd.PSH.Flags',\n",
       "       'Bwd.PSH.Flags', 'Fwd.URG.Flags', 'Bwd.URG.Flags', 'Fwd.Header.Length',\n",
       "       'Bwd.Header.Length', 'Fwd.Packets.s', 'Bwd.Packets.s',\n",
       "       'Min.Packet.Length', 'Max.Packet.Length', 'Packet.Length.Mean',\n",
       "       'Packet.Length.Std', 'Packet.Length.Variance', 'FIN.Flag.Count',\n",
       "       'SYN.Flag.Count', 'RST.Flag.Count', 'PSH.Flag.Count', 'ACK.Flag.Count',\n",
       "       'URG.Flag.Count', 'CWE.Flag.Count', 'ECE.Flag.Count', 'Down.Up.Ratio',\n",
       "       'Average.Packet.Size', 'Avg.Fwd.Segment.Size', 'Avg.Bwd.Segment.Size',\n",
       "       'Fwd.Header.Length.1', 'Fwd.Avg.Bytes.Bulk', 'Fwd.Avg.Packets.Bulk',\n",
       "       'Fwd.Avg.Bulk.Rate', 'Bwd.Avg.Bytes.Bulk', 'Bwd.Avg.Packets.Bulk',\n",
       "       'Bwd.Avg.Bulk.Rate', 'Subflow.Fwd.Packets', 'Subflow.Fwd.Bytes',\n",
       "       'Subflow.Bwd.Packets', 'Subflow.Bwd.Bytes', 'Init_Win_bytes_forward',\n",
       "       'Init_Win_bytes_backward', 'act_data_pkt_fwd', 'min_seg_size_forward',\n",
       "       'Active.Mean', 'Active.Std', 'Active.Max', 'Active.Min', 'Idle.Mean',\n",
       "       'Idle.Std', 'Idle.Max', 'Idle.Min', 'Label', 'L7Protocol',\n",
       "       'ProtocolName', 'Date', 'Time'],\n",
       "      dtype='object')"
      ]
     },
     "execution_count": 66,
     "metadata": {},
     "output_type": "execute_result"
    }
   ],
   "source": [
    "network_traffic_analysis_dataframe.columns"
   ]
  },
  {
   "cell_type": "code",
   "execution_count": null,
   "metadata": {},
   "outputs": [],
   "source": []
  },
  {
   "cell_type": "markdown",
   "metadata": {},
   "source": [
    "### Explore RST Flag data distribution"
   ]
  },
  {
   "cell_type": "markdown",
   "metadata": {},
   "source": [
    "https://en.wikipedia.org/wiki/TCP_reset_attack \n",
    "\n",
    "https://www.extrahop.com/blog/tcp-resets-rst-prevent-command-and-control-dos-attacks\n",
    "\n",
    "https://www.rfc-editor.org/info/bcp60\n",
    "Inappropriate TCP resets considered harmful"
   ]
  },
  {
   "cell_type": "code",
   "execution_count": 67,
   "metadata": {},
   "outputs": [
    {
     "data": {
      "text/plain": [
       "RST.Flag.Count\n",
       "0    3574915\n",
       "1       2381\n",
       "Name: count, dtype: int64"
      ]
     },
     "execution_count": 67,
     "metadata": {},
     "output_type": "execute_result"
    }
   ],
   "source": [
    "network_traffic_analysis_dataframe[\"RST.Flag.Count\"].value_counts()"
   ]
  },
  {
   "cell_type": "code",
   "execution_count": 68,
   "metadata": {},
   "outputs": [
    {
     "data": {
      "text/plain": [
       "Protocol\n",
       "6    2381\n",
       "Name: count, dtype: int64"
      ]
     },
     "execution_count": 68,
     "metadata": {},
     "output_type": "execute_result"
    }
   ],
   "source": [
    "network_traffic_analysis_dataframe[network_traffic_analysis_dataframe[\"RST.Flag.Count\"] == 1][\"Protocol\"].value_counts()"
   ]
  },
  {
   "cell_type": "code",
   "execution_count": 69,
   "metadata": {},
   "outputs": [
    {
     "data": {
      "text/html": [
       "<div>\n",
       "<style scoped>\n",
       "    .dataframe tbody tr th:only-of-type {\n",
       "        vertical-align: middle;\n",
       "    }\n",
       "\n",
       "    .dataframe tbody tr th {\n",
       "        vertical-align: top;\n",
       "    }\n",
       "\n",
       "    .dataframe thead th {\n",
       "        text-align: right;\n",
       "    }\n",
       "</style>\n",
       "<table border=\"1\" class=\"dataframe\">\n",
       "  <thead>\n",
       "    <tr style=\"text-align: right;\">\n",
       "      <th></th>\n",
       "      <th>Flow.ID</th>\n",
       "      <th>Source.IP</th>\n",
       "      <th>Source.Port</th>\n",
       "      <th>Destination.IP</th>\n",
       "      <th>Destination.Port</th>\n",
       "      <th>Protocol</th>\n",
       "      <th>Timestamp</th>\n",
       "      <th>Flow.Duration</th>\n",
       "      <th>Total.Fwd.Packets</th>\n",
       "      <th>Total.Backward.Packets</th>\n",
       "      <th>...</th>\n",
       "      <th>Active.Min</th>\n",
       "      <th>Idle.Mean</th>\n",
       "      <th>Idle.Std</th>\n",
       "      <th>Idle.Max</th>\n",
       "      <th>Idle.Min</th>\n",
       "      <th>Label</th>\n",
       "      <th>L7Protocol</th>\n",
       "      <th>ProtocolName</th>\n",
       "      <th>Date</th>\n",
       "      <th>Time</th>\n",
       "    </tr>\n",
       "  </thead>\n",
       "  <tbody>\n",
       "    <tr>\n",
       "      <th>1900</th>\n",
       "      <td>192.168.32.3-10.200.7.8-50687-3128-6</td>\n",
       "      <td>192.168.32.3</td>\n",
       "      <td>50687</td>\n",
       "      <td>10.200.7.8</td>\n",
       "      <td>3128</td>\n",
       "      <td>6</td>\n",
       "      <td>26/04/201711:11:28</td>\n",
       "      <td>118867</td>\n",
       "      <td>8</td>\n",
       "      <td>14</td>\n",
       "      <td>...</td>\n",
       "      <td>0.0</td>\n",
       "      <td>0.000000e+00</td>\n",
       "      <td>0.000000e+00</td>\n",
       "      <td>0.0</td>\n",
       "      <td>0.0</td>\n",
       "      <td>BENIGN</td>\n",
       "      <td>131</td>\n",
       "      <td>HTTP_PROXY</td>\n",
       "      <td>26/04/2017</td>\n",
       "      <td>11:11:28</td>\n",
       "    </tr>\n",
       "    <tr>\n",
       "      <th>1943</th>\n",
       "      <td>192.168.32.3-10.200.7.8-50688-3128-6</td>\n",
       "      <td>192.168.32.3</td>\n",
       "      <td>50688</td>\n",
       "      <td>10.200.7.8</td>\n",
       "      <td>3128</td>\n",
       "      <td>6</td>\n",
       "      <td>26/04/201711:11:28</td>\n",
       "      <td>194774</td>\n",
       "      <td>8</td>\n",
       "      <td>15</td>\n",
       "      <td>...</td>\n",
       "      <td>0.0</td>\n",
       "      <td>0.000000e+00</td>\n",
       "      <td>0.000000e+00</td>\n",
       "      <td>0.0</td>\n",
       "      <td>0.0</td>\n",
       "      <td>BENIGN</td>\n",
       "      <td>131</td>\n",
       "      <td>HTTP_PROXY</td>\n",
       "      <td>26/04/2017</td>\n",
       "      <td>11:11:28</td>\n",
       "    </tr>\n",
       "    <tr>\n",
       "      <th>2356</th>\n",
       "      <td>192.168.32.3-10.200.7.8-50699-3128-6</td>\n",
       "      <td>192.168.32.3</td>\n",
       "      <td>50699</td>\n",
       "      <td>10.200.7.8</td>\n",
       "      <td>3128</td>\n",
       "      <td>6</td>\n",
       "      <td>26/04/201711:11:29</td>\n",
       "      <td>445551</td>\n",
       "      <td>10</td>\n",
       "      <td>20</td>\n",
       "      <td>...</td>\n",
       "      <td>0.0</td>\n",
       "      <td>0.000000e+00</td>\n",
       "      <td>0.000000e+00</td>\n",
       "      <td>0.0</td>\n",
       "      <td>0.0</td>\n",
       "      <td>BENIGN</td>\n",
       "      <td>131</td>\n",
       "      <td>HTTP_PROXY</td>\n",
       "      <td>26/04/2017</td>\n",
       "      <td>11:11:29</td>\n",
       "    </tr>\n",
       "    <tr>\n",
       "      <th>2858</th>\n",
       "      <td>192.168.32.3-10.200.7.8-50704-3128-6</td>\n",
       "      <td>192.168.32.3</td>\n",
       "      <td>50704</td>\n",
       "      <td>10.200.7.8</td>\n",
       "      <td>3128</td>\n",
       "      <td>6</td>\n",
       "      <td>26/04/201711:11:31</td>\n",
       "      <td>245917</td>\n",
       "      <td>8</td>\n",
       "      <td>14</td>\n",
       "      <td>...</td>\n",
       "      <td>0.0</td>\n",
       "      <td>0.000000e+00</td>\n",
       "      <td>0.000000e+00</td>\n",
       "      <td>0.0</td>\n",
       "      <td>0.0</td>\n",
       "      <td>BENIGN</td>\n",
       "      <td>131</td>\n",
       "      <td>HTTP_PROXY</td>\n",
       "      <td>26/04/2017</td>\n",
       "      <td>11:11:31</td>\n",
       "    </tr>\n",
       "    <tr>\n",
       "      <th>3579</th>\n",
       "      <td>192.168.32.3-10.200.7.8-50703-3128-6</td>\n",
       "      <td>192.168.32.3</td>\n",
       "      <td>50703</td>\n",
       "      <td>10.200.7.8</td>\n",
       "      <td>3128</td>\n",
       "      <td>6</td>\n",
       "      <td>26/04/201711:11:31</td>\n",
       "      <td>3466473</td>\n",
       "      <td>16</td>\n",
       "      <td>33</td>\n",
       "      <td>...</td>\n",
       "      <td>0.0</td>\n",
       "      <td>0.000000e+00</td>\n",
       "      <td>0.000000e+00</td>\n",
       "      <td>0.0</td>\n",
       "      <td>0.0</td>\n",
       "      <td>BENIGN</td>\n",
       "      <td>130</td>\n",
       "      <td>HTTP_CONNECT</td>\n",
       "      <td>26/04/2017</td>\n",
       "      <td>11:11:31</td>\n",
       "    </tr>\n",
       "    <tr>\n",
       "      <th>...</th>\n",
       "      <td>...</td>\n",
       "      <td>...</td>\n",
       "      <td>...</td>\n",
       "      <td>...</td>\n",
       "      <td>...</td>\n",
       "      <td>...</td>\n",
       "      <td>...</td>\n",
       "      <td>...</td>\n",
       "      <td>...</td>\n",
       "      <td>...</td>\n",
       "      <td>...</td>\n",
       "      <td>...</td>\n",
       "      <td>...</td>\n",
       "      <td>...</td>\n",
       "      <td>...</td>\n",
       "      <td>...</td>\n",
       "      <td>...</td>\n",
       "      <td>...</td>\n",
       "      <td>...</td>\n",
       "      <td>...</td>\n",
       "      <td>...</td>\n",
       "    </tr>\n",
       "    <tr>\n",
       "      <th>3549053</th>\n",
       "      <td>192.168.32.93-10.200.7.9-51666-3128-6</td>\n",
       "      <td>192.168.32.93</td>\n",
       "      <td>51666</td>\n",
       "      <td>10.200.7.9</td>\n",
       "      <td>3128</td>\n",
       "      <td>6</td>\n",
       "      <td>15/05/201705:21:22</td>\n",
       "      <td>431352</td>\n",
       "      <td>14</td>\n",
       "      <td>13</td>\n",
       "      <td>...</td>\n",
       "      <td>0.0</td>\n",
       "      <td>0.000000e+00</td>\n",
       "      <td>0.000000e+00</td>\n",
       "      <td>0.0</td>\n",
       "      <td>0.0</td>\n",
       "      <td>BENIGN</td>\n",
       "      <td>140</td>\n",
       "      <td>APPLE</td>\n",
       "      <td>15/05/2017</td>\n",
       "      <td>05:21:22</td>\n",
       "    </tr>\n",
       "    <tr>\n",
       "      <th>3549054</th>\n",
       "      <td>192.168.32.93-10.200.7.8-51642-3128-6</td>\n",
       "      <td>192.168.32.93</td>\n",
       "      <td>51642</td>\n",
       "      <td>10.200.7.8</td>\n",
       "      <td>3128</td>\n",
       "      <td>6</td>\n",
       "      <td>15/05/201705:19:19</td>\n",
       "      <td>90338973</td>\n",
       "      <td>29</td>\n",
       "      <td>30</td>\n",
       "      <td>...</td>\n",
       "      <td>80.0</td>\n",
       "      <td>4.514784e+07</td>\n",
       "      <td>6.746577e+04</td>\n",
       "      <td>45195545.0</td>\n",
       "      <td>45100134.0</td>\n",
       "      <td>BENIGN</td>\n",
       "      <td>126</td>\n",
       "      <td>GOOGLE</td>\n",
       "      <td>15/05/2017</td>\n",
       "      <td>05:19:19</td>\n",
       "    </tr>\n",
       "    <tr>\n",
       "      <th>3549061</th>\n",
       "      <td>192.168.32.93-10.200.7.8-51645-3128-6</td>\n",
       "      <td>192.168.32.93</td>\n",
       "      <td>51645</td>\n",
       "      <td>10.200.7.8</td>\n",
       "      <td>3128</td>\n",
       "      <td>6</td>\n",
       "      <td>15/05/201705:19:24</td>\n",
       "      <td>90812319</td>\n",
       "      <td>42</td>\n",
       "      <td>29</td>\n",
       "      <td>...</td>\n",
       "      <td>175.0</td>\n",
       "      <td>4.531954e+07</td>\n",
       "      <td>3.367999e+05</td>\n",
       "      <td>45557693.0</td>\n",
       "      <td>45081386.0</td>\n",
       "      <td>BENIGN</td>\n",
       "      <td>126</td>\n",
       "      <td>GOOGLE</td>\n",
       "      <td>15/05/2017</td>\n",
       "      <td>05:19:24</td>\n",
       "    </tr>\n",
       "    <tr>\n",
       "      <th>3549080</th>\n",
       "      <td>192.168.32.93-10.200.7.8-51665-3128-6</td>\n",
       "      <td>192.168.32.93</td>\n",
       "      <td>51665</td>\n",
       "      <td>10.200.7.8</td>\n",
       "      <td>3128</td>\n",
       "      <td>6</td>\n",
       "      <td>15/05/201705:21:11</td>\n",
       "      <td>315796</td>\n",
       "      <td>42</td>\n",
       "      <td>26</td>\n",
       "      <td>...</td>\n",
       "      <td>0.0</td>\n",
       "      <td>0.000000e+00</td>\n",
       "      <td>0.000000e+00</td>\n",
       "      <td>0.0</td>\n",
       "      <td>0.0</td>\n",
       "      <td>BENIGN</td>\n",
       "      <td>126</td>\n",
       "      <td>GOOGLE</td>\n",
       "      <td>15/05/2017</td>\n",
       "      <td>05:21:11</td>\n",
       "    </tr>\n",
       "    <tr>\n",
       "      <th>3574573</th>\n",
       "      <td>192.168.150.5-10.200.7.7-47915-3128-6</td>\n",
       "      <td>192.168.150.5</td>\n",
       "      <td>47915</td>\n",
       "      <td>10.200.7.7</td>\n",
       "      <td>3128</td>\n",
       "      <td>6</td>\n",
       "      <td>15/05/201705:34:32</td>\n",
       "      <td>43992080</td>\n",
       "      <td>116</td>\n",
       "      <td>101</td>\n",
       "      <td>...</td>\n",
       "      <td>365261.0</td>\n",
       "      <td>8.419988e+06</td>\n",
       "      <td>3.776933e+06</td>\n",
       "      <td>12701641.0</td>\n",
       "      <td>5560964.0</td>\n",
       "      <td>BENIGN</td>\n",
       "      <td>7</td>\n",
       "      <td>HTTP</td>\n",
       "      <td>15/05/2017</td>\n",
       "      <td>05:34:32</td>\n",
       "    </tr>\n",
       "  </tbody>\n",
       "</table>\n",
       "<p>2381 rows x 89 columns</p>\n",
       "</div>"
      ]
     },
     "metadata": {},
     "output_type": "display_data"
    }
   ],
   "source": [
    "network_traffic_analysis_dataframe[network_traffic_analysis_dataframe[\"RST.Flag.Count\"] == 1]"
   ]
  },
  {
   "cell_type": "code",
   "execution_count": 70,
   "metadata": {},
   "outputs": [
    {
     "data": {
      "text/plain": [
       "Protocol\n",
       "6     3570594\n",
       "17       2684\n",
       "0        1637\n",
       "Name: count, dtype: int64"
      ]
     },
     "execution_count": 70,
     "metadata": {},
     "output_type": "execute_result"
    }
   ],
   "source": [
    "network_traffic_analysis_dataframe[network_traffic_analysis_dataframe[\"RST.Flag.Count\"] == 0][\"Protocol\"].value_counts()"
   ]
  },
  {
   "cell_type": "markdown",
   "metadata": {},
   "source": [
    "### Explore the FIN Flag Count distribution"
   ]
  },
  {
   "cell_type": "markdown",
   "metadata": {},
   "source": [
    "Based on the documentation of the dataset, the FIN flag is set once the TCP connection ends."
   ]
  },
  {
   "cell_type": "code",
   "execution_count": 71,
   "metadata": {},
   "outputs": [
    {
     "data": {
      "text/plain": [
       "FIN.Flag.Count\n",
       "0    3552122\n",
       "1      25174\n",
       "Name: count, dtype: int64"
      ]
     },
     "execution_count": 71,
     "metadata": {},
     "output_type": "execute_result"
    }
   ],
   "source": [
    "network_traffic_analysis_dataframe[\"FIN.Flag.Count\"].value_counts()"
   ]
  },
  {
   "cell_type": "code",
   "execution_count": 72,
   "metadata": {},
   "outputs": [
    {
     "data": {
      "text/plain": [
       "array([ 6, 17,  0])"
      ]
     },
     "execution_count": 72,
     "metadata": {},
     "output_type": "execute_result"
    }
   ],
   "source": [
    "network_traffic_analysis_dataframe[network_traffic_analysis_dataframe[\"FIN.Flag.Count\"] == 0][\"Protocol\"].unique()"
   ]
  },
  {
   "cell_type": "markdown",
   "metadata": {},
   "source": [
    "According to the documentation of the tools that was used to generate this dataset [https://www.unb.ca/cic/research/applications.html#CICFlowMeter], the TCP flow are usually terminated when there is a connection teardown by the FIN packet.\n",
    "\n",
    "The UDP flows are terminated by flow timeout.\n",
    "\n",
    "The high number of absence FIN packet shows weird occurence and the TCP flow are without FIN packet are abnormally high.\n",
    "\n",
    "There is a mapping done in previous section of the notebook where the index 6 = TCP and 17 = UDP and 0 = other protocol.\n",
    "\n"
   ]
  },
  {
   "cell_type": "markdown",
   "metadata": {},
   "source": [
    "### Explore the Flow Timeout value data"
   ]
  },
  {
   "cell_type": "markdown",
   "metadata": {},
   "source": [
    "In the ReadMe.txt of the CICflowMeter [https://github.com/CanadianInstituteForCybersecurity/CICFlowMeter/blob/master/ReadMe.txt], the Flow duration column is measured in Microseconds."
   ]
  },
  {
   "cell_type": "code",
   "execution_count": 73,
   "metadata": {},
   "outputs": [
    {
     "data": {
      "text/plain": [
       "count    3.577296e+06\n",
       "mean     2.544247e+07\n",
       "std      4.014430e+07\n",
       "min      1.000000e+00\n",
       "25%      6.280000e+02\n",
       "50%      5.847295e+05\n",
       "75%      4.500153e+07\n",
       "max      1.200000e+08\n",
       "Name: Flow.Duration, dtype: float64"
      ]
     },
     "execution_count": 73,
     "metadata": {},
     "output_type": "execute_result"
    }
   ],
   "source": [
    "network_traffic_analysis_dataframe[\"Flow.Duration\"].describe()"
   ]
  },
  {
   "cell_type": "code",
   "execution_count": 74,
   "metadata": {},
   "outputs": [],
   "source": [
    "def transform_microseconds_to_seconds(data: int) -> float:\n",
    "    if data == 0:\n",
    "        return 0.0\n",
    "    \n",
    "    return data / 1000000.0\n"
   ]
  },
  {
   "cell_type": "code",
   "execution_count": 75,
   "metadata": {},
   "outputs": [
    {
     "data": {
      "text/plain": [
       "0          0.045523\n",
       "1          0.000001\n",
       "2          0.000001\n",
       "3          0.000217\n",
       "4          0.078068\n",
       "             ...   \n",
       "3577291    2.290821\n",
       "3577292    0.000024\n",
       "3577293    2.591653\n",
       "3577294    2.622421\n",
       "3577295    2.009138\n",
       "Name: Flow.Duration, Length: 3577296, dtype: float64"
      ]
     },
     "execution_count": 75,
     "metadata": {},
     "output_type": "execute_result"
    }
   ],
   "source": [
    "\n",
    "network_traffic_analysis_dataframe[\"Flow.Duration\"].apply(transform_microseconds_to_seconds)"
   ]
  },
  {
   "cell_type": "markdown",
   "metadata": {},
   "source": [
    "### Exploring the TCP PSH Packet Flag distribution"
   ]
  },
  {
   "cell_type": "markdown",
   "metadata": {},
   "source": [
    "The TCP PSH flag is used for real-time application such as voice and video streaming. The delay in data transmission can cause poor user experience."
   ]
  },
  {
   "cell_type": "code",
   "execution_count": 76,
   "metadata": {},
   "outputs": [
    {
     "data": {
      "text/plain": [
       "PSH.Flag.Count\n",
       "0    2125554\n",
       "1    1451742\n",
       "Name: count, dtype: int64"
      ]
     },
     "execution_count": 76,
     "metadata": {},
     "output_type": "execute_result"
    }
   ],
   "source": [
    "network_traffic_analysis_dataframe[\"PSH.Flag.Count\"].value_counts()"
   ]
  },
  {
   "cell_type": "code",
   "execution_count": 77,
   "metadata": {},
   "outputs": [
    {
     "data": {
      "text/plain": [
       "Protocol\n",
       "6     2121233\n",
       "17       2684\n",
       "0        1637\n",
       "Name: count, dtype: int64"
      ]
     },
     "execution_count": 77,
     "metadata": {},
     "output_type": "execute_result"
    }
   ],
   "source": [
    "network_traffic_analysis_dataframe[network_traffic_analysis_dataframe[\"PSH.Flag.Count\"] == 0][\"Protocol\"].value_counts()"
   ]
  },
  {
   "cell_type": "code",
   "execution_count": 78,
   "metadata": {},
   "outputs": [
    {
     "data": {
      "text/plain": [
       "Protocol\n",
       "6    1451742\n",
       "Name: count, dtype: int64"
      ]
     },
     "execution_count": 78,
     "metadata": {},
     "output_type": "execute_result"
    }
   ],
   "source": [
    "network_traffic_analysis_dataframe[network_traffic_analysis_dataframe[\"PSH.Flag.Count\"] == 1][\"Protocol\"].value_counts()"
   ]
  },
  {
   "cell_type": "code",
   "execution_count": 79,
   "metadata": {},
   "outputs": [
    {
     "data": {
      "text/plain": [
       "ProtocolName\n",
       "GOOGLE            407360\n",
       "HTTP_CONNECT      192516\n",
       "SSL               184339\n",
       "HTTP              173905\n",
       "HTTP_PROXY        167665\n",
       "YOUTUBE            95905\n",
       "AMAZON             52442\n",
       "MICROSOFT          36443\n",
       "WINDOWS_UPDATE     23998\n",
       "GMAIL              15260\n",
       "FACEBOOK           14978\n",
       "SKYPE              14957\n",
       "YAHOO              13503\n",
       "MSN                 9748\n",
       "TWITTER             9572\n",
       "CLOUDFLARE          7600\n",
       "CONTENT_FLASH       7213\n",
       "DROPBOX             5147\n",
       "APPLE               4016\n",
       "OFFICE_365          2514\n",
       "Name: count, dtype: int64"
      ]
     },
     "execution_count": 79,
     "metadata": {},
     "output_type": "execute_result"
    }
   ],
   "source": [
    "network_traffic_analysis_dataframe[network_traffic_analysis_dataframe[\"PSH.Flag.Count\"] == 1][\"ProtocolName\"].value_counts().head(20)"
   ]
  },
  {
   "cell_type": "markdown",
   "metadata": {},
   "source": [
    "https://orhanergun.net/understanding-tcp-psh-packet-flag"
   ]
  },
  {
   "cell_type": "markdown",
   "metadata": {},
   "source": [
    "### Exploring the TCP Ack Flag distribution"
   ]
  },
  {
   "cell_type": "code",
   "execution_count": 80,
   "metadata": {},
   "outputs": [
    {
     "data": {
      "text/plain": [
       "ACK.Flag.Count\n",
       "1    2144841\n",
       "0    1432455\n",
       "Name: count, dtype: int64"
      ]
     },
     "execution_count": 80,
     "metadata": {},
     "output_type": "execute_result"
    }
   ],
   "source": [
    "network_traffic_analysis_dataframe[\"ACK.Flag.Count\"].value_counts()"
   ]
  },
  {
   "cell_type": "code",
   "execution_count": 81,
   "metadata": {},
   "outputs": [
    {
     "data": {
      "text/plain": [
       "Protocol\n",
       "6     1428134\n",
       "17       2684\n",
       "0        1637\n",
       "Name: count, dtype: int64"
      ]
     },
     "execution_count": 81,
     "metadata": {},
     "output_type": "execute_result"
    }
   ],
   "source": [
    "network_traffic_analysis_dataframe[network_traffic_analysis_dataframe[\"ACK.Flag.Count\"] == 0][\"Protocol\"].value_counts()"
   ]
  },
  {
   "cell_type": "code",
   "execution_count": 82,
   "metadata": {},
   "outputs": [
    {
     "data": {
      "text/plain": [
       "Protocol\n",
       "6    2144841\n",
       "Name: count, dtype: int64"
      ]
     },
     "execution_count": 82,
     "metadata": {},
     "output_type": "execute_result"
    }
   ],
   "source": [
    "network_traffic_analysis_dataframe[network_traffic_analysis_dataframe[\"ACK.Flag.Count\"] == 1][\"Protocol\"].value_counts()"
   ]
  },
  {
   "cell_type": "markdown",
   "metadata": {},
   "source": [
    "### Exploring the TCP URG flag packet distribution"
   ]
  },
  {
   "cell_type": "markdown",
   "metadata": {},
   "source": [
    "In this blogpost about TCP PSH [https://orhanergun.net/tcp-psh-vs-urg-whats-the-difference], the URG flag in TCP is the Urgent Pointer field is valid in the packet. This URG flag highlights the portion of the data that requires immediate attention to the Receiver.\n",
    "\n",
    "The Receiver will priortise processing the urgent data first before other data.\n",
    "\n",
    "Typical use case of TCP PSH flag will be data containing control signals or error messages."
   ]
  },
  {
   "cell_type": "code",
   "execution_count": 83,
   "metadata": {},
   "outputs": [
    {
     "data": {
      "text/plain": [
       "URG.Flag.Count\n",
       "0    2585009\n",
       "1     992287\n",
       "Name: count, dtype: int64"
      ]
     },
     "execution_count": 83,
     "metadata": {},
     "output_type": "execute_result"
    }
   ],
   "source": [
    "network_traffic_analysis_dataframe[\"URG.Flag.Count\"].value_counts()"
   ]
  },
  {
   "cell_type": "code",
   "execution_count": 84,
   "metadata": {},
   "outputs": [
    {
     "data": {
      "text/plain": [
       "Protocol\n",
       "6     2580688\n",
       "17       2684\n",
       "0        1637\n",
       "Name: count, dtype: int64"
      ]
     },
     "execution_count": 84,
     "metadata": {},
     "output_type": "execute_result"
    }
   ],
   "source": [
    "network_traffic_analysis_dataframe[network_traffic_analysis_dataframe[\"URG.Flag.Count\"] == 0][\"Protocol\"].value_counts()"
   ]
  },
  {
   "cell_type": "code",
   "execution_count": 85,
   "metadata": {},
   "outputs": [
    {
     "data": {
      "text/plain": [
       "Protocol\n",
       "6    992287\n",
       "Name: count, dtype: int64"
      ]
     },
     "execution_count": 85,
     "metadata": {},
     "output_type": "execute_result"
    }
   ],
   "source": [
    "network_traffic_analysis_dataframe[network_traffic_analysis_dataframe[\"URG.Flag.Count\"] == 1][\"Protocol\"].value_counts()"
   ]
  },
  {
   "cell_type": "markdown",
   "metadata": {},
   "source": [
    "### Exploring the CWE Flag distribution"
   ]
  },
  {
   "cell_type": "markdown",
   "metadata": {},
   "source": [
    "https://kb.clavister.com/317180249/explicit-congestion-notification---ecn-ece-cwe-ns-ect-ce \n",
    "\n",
    "https://www.catchpoint.com/blog/ece-cwr-tcp"
   ]
  },
  {
   "cell_type": "code",
   "execution_count": 86,
   "metadata": {},
   "outputs": [
    {
     "data": {
      "text/plain": [
       "CWE.Flag.Count\n",
       "0    3577296\n",
       "Name: count, dtype: int64"
      ]
     },
     "execution_count": 86,
     "metadata": {},
     "output_type": "execute_result"
    }
   ],
   "source": [
    "network_traffic_analysis_dataframe[\"CWE.Flag.Count\"].value_counts()"
   ]
  },
  {
   "cell_type": "markdown",
   "metadata": {},
   "source": [
    "### Exploring on the ECE flat distribution"
   ]
  },
  {
   "cell_type": "code",
   "execution_count": 87,
   "metadata": {},
   "outputs": [
    {
     "data": {
      "text/plain": [
       "ECE.Flag.Count\n",
       "0    3574947\n",
       "1       2349\n",
       "Name: count, dtype: int64"
      ]
     },
     "execution_count": 87,
     "metadata": {},
     "output_type": "execute_result"
    }
   ],
   "source": [
    "network_traffic_analysis_dataframe[\"ECE.Flag.Count\"].value_counts()"
   ]
  },
  {
   "cell_type": "markdown",
   "metadata": {},
   "source": [
    "The ECN (Explicit Congestion Notification) is a mechanism in TCP/IP to allow Routers to signal if the Routers are almost overloaded.\n",
    "\n",
    "ECE (Echo of Congestion Encountered) is the mark where the receiver see the packet understanding that the sender informs the receiver that it almost experience traffic congestion.\n",
    "\n",
    "CWR (Congestion Window Reduced) "
   ]
  },
  {
   "cell_type": "markdown",
   "metadata": {},
   "source": []
  },
  {
   "cell_type": "code",
   "execution_count": 88,
   "metadata": {},
   "outputs": [
    {
     "data": {
      "text/plain": [
       "Index(['Flow.ID', 'Source.IP', 'Source.Port', 'Destination.IP',\n",
       "       'Destination.Port', 'Protocol', 'Timestamp', 'Flow.Duration',\n",
       "       'Total.Fwd.Packets', 'Total.Backward.Packets',\n",
       "       'Total.Length.of.Fwd.Packets', 'Total.Length.of.Bwd.Packets',\n",
       "       'Fwd.Packet.Length.Max', 'Fwd.Packet.Length.Min',\n",
       "       'Fwd.Packet.Length.Mean', 'Fwd.Packet.Length.Std',\n",
       "       'Bwd.Packet.Length.Max', 'Bwd.Packet.Length.Min',\n",
       "       'Bwd.Packet.Length.Mean', 'Bwd.Packet.Length.Std', 'Flow.Bytes.s',\n",
       "       'Flow.Packets.s', 'Flow.IAT.Mean', 'Flow.IAT.Std', 'Flow.IAT.Max',\n",
       "       'Flow.IAT.Min', 'Fwd.IAT.Total', 'Fwd.IAT.Mean', 'Fwd.IAT.Std',\n",
       "       'Fwd.IAT.Max', 'Fwd.IAT.Min', 'Bwd.IAT.Total', 'Bwd.IAT.Mean',\n",
       "       'Bwd.IAT.Std', 'Bwd.IAT.Max', 'Bwd.IAT.Min', 'Fwd.PSH.Flags',\n",
       "       'Bwd.PSH.Flags', 'Fwd.URG.Flags', 'Bwd.URG.Flags', 'Fwd.Header.Length',\n",
       "       'Bwd.Header.Length', 'Fwd.Packets.s', 'Bwd.Packets.s',\n",
       "       'Min.Packet.Length', 'Max.Packet.Length', 'Packet.Length.Mean',\n",
       "       'Packet.Length.Std', 'Packet.Length.Variance', 'FIN.Flag.Count',\n",
       "       'SYN.Flag.Count', 'RST.Flag.Count', 'PSH.Flag.Count', 'ACK.Flag.Count',\n",
       "       'URG.Flag.Count', 'CWE.Flag.Count', 'ECE.Flag.Count', 'Down.Up.Ratio',\n",
       "       'Average.Packet.Size', 'Avg.Fwd.Segment.Size', 'Avg.Bwd.Segment.Size',\n",
       "       'Fwd.Header.Length.1', 'Fwd.Avg.Bytes.Bulk', 'Fwd.Avg.Packets.Bulk',\n",
       "       'Fwd.Avg.Bulk.Rate', 'Bwd.Avg.Bytes.Bulk', 'Bwd.Avg.Packets.Bulk',\n",
       "       'Bwd.Avg.Bulk.Rate', 'Subflow.Fwd.Packets', 'Subflow.Fwd.Bytes',\n",
       "       'Subflow.Bwd.Packets', 'Subflow.Bwd.Bytes', 'Init_Win_bytes_forward',\n",
       "       'Init_Win_bytes_backward', 'act_data_pkt_fwd', 'min_seg_size_forward',\n",
       "       'Active.Mean', 'Active.Std', 'Active.Max', 'Active.Min', 'Idle.Mean',\n",
       "       'Idle.Std', 'Idle.Max', 'Idle.Min', 'Label', 'L7Protocol',\n",
       "       'ProtocolName', 'Date', 'Time'],\n",
       "      dtype='object')"
      ]
     },
     "execution_count": 88,
     "metadata": {},
     "output_type": "execute_result"
    }
   ],
   "source": [
    "network_traffic_analysis_dataframe.columns"
   ]
  },
  {
   "cell_type": "markdown",
   "metadata": {},
   "source": [
    "### Exploring Down Up Ratio distribution"
   ]
  },
  {
   "cell_type": "code",
   "execution_count": 89,
   "metadata": {},
   "outputs": [
    {
     "data": {
      "text/plain": [
       "Down.Up.Ratio\n",
       "0      1573265\n",
       "1      1410146\n",
       "2       305292\n",
       "3       111856\n",
       "4        72685\n",
       "5        61585\n",
       "6        25359\n",
       "7         8727\n",
       "8         3471\n",
       "11        1618\n",
       "9         1599\n",
       "10         797\n",
       "12         419\n",
       "16          94\n",
       "13          93\n",
       "14          78\n",
       "15          66\n",
       "17          28\n",
       "19          21\n",
       "20          17\n",
       "18          13\n",
       "21          12\n",
       "26           6\n",
       "22           6\n",
       "23           5\n",
       "24           5\n",
       "25           4\n",
       "29           4\n",
       "35           3\n",
       "40           2\n",
       "30           2\n",
       "31           2\n",
       "27           1\n",
       "57           1\n",
       "62           1\n",
       "95           1\n",
       "61           1\n",
       "106          1\n",
       "102          1\n",
       "38           1\n",
       "39           1\n",
       "43           1\n",
       "293          1\n",
       "194          1\n",
       "33           1\n",
       "221          1\n",
       "36           1\n",
       "32           1\n",
       "Name: count, dtype: int64"
      ]
     },
     "execution_count": 89,
     "metadata": {},
     "output_type": "execute_result"
    }
   ],
   "source": [
    "network_traffic_analysis_dataframe[\"Down.Up.Ratio\"].value_counts()"
   ]
  },
  {
   "cell_type": "code",
   "execution_count": null,
   "metadata": {},
   "outputs": [],
   "source": []
  },
  {
   "cell_type": "markdown",
   "metadata": {},
   "source": [
    "The purpose of using KDD 99 dataset is to provide reliable method to label the dataset to indicate if the record is malicious."
   ]
  },
  {
   "cell_type": "code",
   "execution_count": 90,
   "metadata": {},
   "outputs": [
    {
     "data": {
      "text/html": [
       "<div>\n",
       "<style scoped>\n",
       "    .dataframe tbody tr th:only-of-type {\n",
       "        vertical-align: middle;\n",
       "    }\n",
       "\n",
       "    .dataframe tbody tr th {\n",
       "        vertical-align: top;\n",
       "    }\n",
       "\n",
       "    .dataframe thead th {\n",
       "        text-align: right;\n",
       "    }\n",
       "</style>\n",
       "<table border=\"1\" class=\"dataframe\">\n",
       "  <thead>\n",
       "    <tr style=\"text-align: right;\">\n",
       "      <th></th>\n",
       "      <th>Flow.ID</th>\n",
       "      <th>Source.IP</th>\n",
       "      <th>Source.Port</th>\n",
       "      <th>Destination.IP</th>\n",
       "      <th>Destination.Port</th>\n",
       "      <th>Protocol</th>\n",
       "      <th>Timestamp</th>\n",
       "      <th>Flow.Duration</th>\n",
       "      <th>Total.Fwd.Packets</th>\n",
       "      <th>Total.Backward.Packets</th>\n",
       "      <th>...</th>\n",
       "      <th>Active.Min</th>\n",
       "      <th>Idle.Mean</th>\n",
       "      <th>Idle.Std</th>\n",
       "      <th>Idle.Max</th>\n",
       "      <th>Idle.Min</th>\n",
       "      <th>Label</th>\n",
       "      <th>L7Protocol</th>\n",
       "      <th>ProtocolName</th>\n",
       "      <th>Date</th>\n",
       "      <th>Time</th>\n",
       "    </tr>\n",
       "  </thead>\n",
       "  <tbody>\n",
       "    <tr>\n",
       "      <th>0</th>\n",
       "      <td>172.19.1.46-10.200.7.7-52422-3128-6</td>\n",
       "      <td>172.19.1.46</td>\n",
       "      <td>52422</td>\n",
       "      <td>10.200.7.7</td>\n",
       "      <td>3128</td>\n",
       "      <td>6</td>\n",
       "      <td>26/04/201711:11:17</td>\n",
       "      <td>45523</td>\n",
       "      <td>22</td>\n",
       "      <td>55</td>\n",
       "      <td>...</td>\n",
       "      <td>0.0</td>\n",
       "      <td>0.0</td>\n",
       "      <td>0.0</td>\n",
       "      <td>0.0</td>\n",
       "      <td>0.0</td>\n",
       "      <td>BENIGN</td>\n",
       "      <td>131</td>\n",
       "      <td>HTTP_PROXY</td>\n",
       "      <td>26/04/2017</td>\n",
       "      <td>11:11:17</td>\n",
       "    </tr>\n",
       "    <tr>\n",
       "      <th>1</th>\n",
       "      <td>172.19.1.46-10.200.7.7-52422-3128-6</td>\n",
       "      <td>10.200.7.7</td>\n",
       "      <td>3128</td>\n",
       "      <td>172.19.1.46</td>\n",
       "      <td>52422</td>\n",
       "      <td>6</td>\n",
       "      <td>26/04/201711:11:17</td>\n",
       "      <td>1</td>\n",
       "      <td>2</td>\n",
       "      <td>0</td>\n",
       "      <td>...</td>\n",
       "      <td>0.0</td>\n",
       "      <td>0.0</td>\n",
       "      <td>0.0</td>\n",
       "      <td>0.0</td>\n",
       "      <td>0.0</td>\n",
       "      <td>BENIGN</td>\n",
       "      <td>131</td>\n",
       "      <td>HTTP_PROXY</td>\n",
       "      <td>26/04/2017</td>\n",
       "      <td>11:11:17</td>\n",
       "    </tr>\n",
       "    <tr>\n",
       "      <th>2</th>\n",
       "      <td>10.200.7.217-50.31.185.39-38848-80-6</td>\n",
       "      <td>50.31.185.39</td>\n",
       "      <td>80</td>\n",
       "      <td>10.200.7.217</td>\n",
       "      <td>38848</td>\n",
       "      <td>6</td>\n",
       "      <td>26/04/201711:11:17</td>\n",
       "      <td>1</td>\n",
       "      <td>3</td>\n",
       "      <td>0</td>\n",
       "      <td>...</td>\n",
       "      <td>0.0</td>\n",
       "      <td>0.0</td>\n",
       "      <td>0.0</td>\n",
       "      <td>0.0</td>\n",
       "      <td>0.0</td>\n",
       "      <td>BENIGN</td>\n",
       "      <td>7</td>\n",
       "      <td>HTTP</td>\n",
       "      <td>26/04/2017</td>\n",
       "      <td>11:11:17</td>\n",
       "    </tr>\n",
       "    <tr>\n",
       "      <th>3</th>\n",
       "      <td>10.200.7.217-50.31.185.39-38848-80-6</td>\n",
       "      <td>50.31.185.39</td>\n",
       "      <td>80</td>\n",
       "      <td>10.200.7.217</td>\n",
       "      <td>38848</td>\n",
       "      <td>6</td>\n",
       "      <td>26/04/201711:11:17</td>\n",
       "      <td>217</td>\n",
       "      <td>1</td>\n",
       "      <td>3</td>\n",
       "      <td>...</td>\n",
       "      <td>0.0</td>\n",
       "      <td>0.0</td>\n",
       "      <td>0.0</td>\n",
       "      <td>0.0</td>\n",
       "      <td>0.0</td>\n",
       "      <td>BENIGN</td>\n",
       "      <td>7</td>\n",
       "      <td>HTTP</td>\n",
       "      <td>26/04/2017</td>\n",
       "      <td>11:11:17</td>\n",
       "    </tr>\n",
       "    <tr>\n",
       "      <th>4</th>\n",
       "      <td>192.168.72.43-10.200.7.7-55961-3128-6</td>\n",
       "      <td>192.168.72.43</td>\n",
       "      <td>55961</td>\n",
       "      <td>10.200.7.7</td>\n",
       "      <td>3128</td>\n",
       "      <td>6</td>\n",
       "      <td>26/04/201711:11:17</td>\n",
       "      <td>78068</td>\n",
       "      <td>5</td>\n",
       "      <td>0</td>\n",
       "      <td>...</td>\n",
       "      <td>0.0</td>\n",
       "      <td>0.0</td>\n",
       "      <td>0.0</td>\n",
       "      <td>0.0</td>\n",
       "      <td>0.0</td>\n",
       "      <td>BENIGN</td>\n",
       "      <td>131</td>\n",
       "      <td>HTTP_PROXY</td>\n",
       "      <td>26/04/2017</td>\n",
       "      <td>11:11:17</td>\n",
       "    </tr>\n",
       "    <tr>\n",
       "      <th>...</th>\n",
       "      <td>...</td>\n",
       "      <td>...</td>\n",
       "      <td>...</td>\n",
       "      <td>...</td>\n",
       "      <td>...</td>\n",
       "      <td>...</td>\n",
       "      <td>...</td>\n",
       "      <td>...</td>\n",
       "      <td>...</td>\n",
       "      <td>...</td>\n",
       "      <td>...</td>\n",
       "      <td>...</td>\n",
       "      <td>...</td>\n",
       "      <td>...</td>\n",
       "      <td>...</td>\n",
       "      <td>...</td>\n",
       "      <td>...</td>\n",
       "      <td>...</td>\n",
       "      <td>...</td>\n",
       "      <td>...</td>\n",
       "      <td>...</td>\n",
       "    </tr>\n",
       "    <tr>\n",
       "      <th>3577291</th>\n",
       "      <td>10.200.7.199-98.138.79.73-42135-443-6</td>\n",
       "      <td>98.138.79.73</td>\n",
       "      <td>443</td>\n",
       "      <td>10.200.7.199</td>\n",
       "      <td>42135</td>\n",
       "      <td>6</td>\n",
       "      <td>15/05/201705:43:40</td>\n",
       "      <td>2290821</td>\n",
       "      <td>5</td>\n",
       "      <td>4</td>\n",
       "      <td>...</td>\n",
       "      <td>0.0</td>\n",
       "      <td>0.0</td>\n",
       "      <td>0.0</td>\n",
       "      <td>0.0</td>\n",
       "      <td>0.0</td>\n",
       "      <td>BENIGN</td>\n",
       "      <td>91</td>\n",
       "      <td>SSL</td>\n",
       "      <td>15/05/2017</td>\n",
       "      <td>05:43:40</td>\n",
       "    </tr>\n",
       "    <tr>\n",
       "      <th>3577292</th>\n",
       "      <td>10.200.7.217-98.138.79.73-51546-443-6</td>\n",
       "      <td>98.138.79.73</td>\n",
       "      <td>443</td>\n",
       "      <td>10.200.7.217</td>\n",
       "      <td>51546</td>\n",
       "      <td>6</td>\n",
       "      <td>15/05/201705:46:10</td>\n",
       "      <td>24</td>\n",
       "      <td>5</td>\n",
       "      <td>0</td>\n",
       "      <td>...</td>\n",
       "      <td>0.0</td>\n",
       "      <td>0.0</td>\n",
       "      <td>0.0</td>\n",
       "      <td>0.0</td>\n",
       "      <td>0.0</td>\n",
       "      <td>BENIGN</td>\n",
       "      <td>91</td>\n",
       "      <td>SSL</td>\n",
       "      <td>15/05/2017</td>\n",
       "      <td>05:46:10</td>\n",
       "    </tr>\n",
       "    <tr>\n",
       "      <th>3577293</th>\n",
       "      <td>10.200.7.218-98.138.79.73-44366-443-6</td>\n",
       "      <td>98.138.79.73</td>\n",
       "      <td>443</td>\n",
       "      <td>10.200.7.218</td>\n",
       "      <td>44366</td>\n",
       "      <td>6</td>\n",
       "      <td>15/05/201705:45:39</td>\n",
       "      <td>2591653</td>\n",
       "      <td>6</td>\n",
       "      <td>5</td>\n",
       "      <td>...</td>\n",
       "      <td>0.0</td>\n",
       "      <td>0.0</td>\n",
       "      <td>0.0</td>\n",
       "      <td>0.0</td>\n",
       "      <td>0.0</td>\n",
       "      <td>BENIGN</td>\n",
       "      <td>91</td>\n",
       "      <td>SSL</td>\n",
       "      <td>15/05/2017</td>\n",
       "      <td>05:45:39</td>\n",
       "    </tr>\n",
       "    <tr>\n",
       "      <th>3577294</th>\n",
       "      <td>10.200.7.195-98.138.79.73-52341-443-6</td>\n",
       "      <td>98.138.79.73</td>\n",
       "      <td>443</td>\n",
       "      <td>10.200.7.195</td>\n",
       "      <td>52341</td>\n",
       "      <td>6</td>\n",
       "      <td>15/05/201705:45:59</td>\n",
       "      <td>2622421</td>\n",
       "      <td>4</td>\n",
       "      <td>3</td>\n",
       "      <td>...</td>\n",
       "      <td>0.0</td>\n",
       "      <td>0.0</td>\n",
       "      <td>0.0</td>\n",
       "      <td>0.0</td>\n",
       "      <td>0.0</td>\n",
       "      <td>BENIGN</td>\n",
       "      <td>91</td>\n",
       "      <td>SSL</td>\n",
       "      <td>15/05/2017</td>\n",
       "      <td>05:45:59</td>\n",
       "    </tr>\n",
       "    <tr>\n",
       "      <th>3577295</th>\n",
       "      <td>10.200.7.196-98.138.79.73-34188-443-6</td>\n",
       "      <td>98.138.79.73</td>\n",
       "      <td>443</td>\n",
       "      <td>10.200.7.196</td>\n",
       "      <td>34188</td>\n",
       "      <td>6</td>\n",
       "      <td>15/05/201705:46:05</td>\n",
       "      <td>2009138</td>\n",
       "      <td>3</td>\n",
       "      <td>2</td>\n",
       "      <td>...</td>\n",
       "      <td>0.0</td>\n",
       "      <td>0.0</td>\n",
       "      <td>0.0</td>\n",
       "      <td>0.0</td>\n",
       "      <td>0.0</td>\n",
       "      <td>BENIGN</td>\n",
       "      <td>91</td>\n",
       "      <td>SSL</td>\n",
       "      <td>15/05/2017</td>\n",
       "      <td>05:46:05</td>\n",
       "    </tr>\n",
       "  </tbody>\n",
       "</table>\n",
       "<p>3577296 rows x 89 columns</p>\n",
       "</div>"
      ]
     },
     "metadata": {},
     "output_type": "display_data"
    }
   ],
   "source": [
    "network_traffic_analysis_dataframe"
   ]
  },
  {
   "cell_type": "markdown",
   "metadata": {},
   "source": [
    "# Data Columns Removal"
   ]
  },
  {
   "cell_type": "markdown",
   "metadata": {},
   "source": [
    "### Remove Label"
   ]
  },
  {
   "cell_type": "code",
   "execution_count": 91,
   "metadata": {},
   "outputs": [],
   "source": [
    "network_traffic_analysis_dataframe.drop(labels=\"Label\", axis=1, inplace=True)"
   ]
  },
  {
   "cell_type": "markdown",
   "metadata": {},
   "source": [
    "### Remove Timestamp"
   ]
  },
  {
   "cell_type": "code",
   "execution_count": 92,
   "metadata": {},
   "outputs": [],
   "source": [
    "network_traffic_analysis_dataframe.drop(labels=\"Timestamp\", axis=1, inplace=True)"
   ]
  },
  {
   "cell_type": "markdown",
   "metadata": {},
   "source": [
    "### Remove date and time"
   ]
  },
  {
   "cell_type": "code",
   "execution_count": 93,
   "metadata": {},
   "outputs": [],
   "source": [
    "network_traffic_analysis_dataframe.drop(labels=\"Date\", axis=1, inplace=True)"
   ]
  },
  {
   "cell_type": "code",
   "execution_count": 94,
   "metadata": {},
   "outputs": [],
   "source": [
    "network_traffic_analysis_dataframe.drop(labels=\"Time\", axis=1,inplace=True)"
   ]
  },
  {
   "cell_type": "markdown",
   "metadata": {},
   "source": [
    "### Remove ProtocolName"
   ]
  },
  {
   "cell_type": "markdown",
   "metadata": {},
   "source": [
    "The protocol name is the application type that is related to the data record."
   ]
  },
  {
   "cell_type": "code",
   "execution_count": 95,
   "metadata": {},
   "outputs": [],
   "source": [
    "network_traffic_analysis_dataframe.drop(labels=\"ProtocolName\", axis=1, inplace=True)"
   ]
  },
  {
   "cell_type": "markdown",
   "metadata": {},
   "source": [
    "### Remove Flow.ID column"
   ]
  },
  {
   "cell_type": "markdown",
   "metadata": {},
   "source": [
    "This is because this column Flow.ID is an identifier for each row. There is no meaning in the data therefore it should be removed."
   ]
  },
  {
   "cell_type": "code",
   "execution_count": 96,
   "metadata": {},
   "outputs": [],
   "source": [
    "network_traffic_analysis_dataframe.drop(labels=\"Flow.ID\", axis=1, inplace=True)"
   ]
  },
  {
   "cell_type": "markdown",
   "metadata": {},
   "source": [
    "### Remove Source.IP and Destination.IP"
   ]
  },
  {
   "cell_type": "code",
   "execution_count": 97,
   "metadata": {},
   "outputs": [],
   "source": [
    "network_traffic_analysis_dataframe.drop(labels=\"Source.IP\", axis=1, inplace=True)"
   ]
  },
  {
   "cell_type": "code",
   "execution_count": 98,
   "metadata": {},
   "outputs": [],
   "source": [
    "network_traffic_analysis_dataframe.drop(labels=\"Destination.IP\", axis=1, inplace=True)"
   ]
  },
  {
   "cell_type": "code",
   "execution_count": 99,
   "metadata": {},
   "outputs": [
    {
     "data": {
      "text/html": [
       "<div>\n",
       "<style scoped>\n",
       "    .dataframe tbody tr th:only-of-type {\n",
       "        vertical-align: middle;\n",
       "    }\n",
       "\n",
       "    .dataframe tbody tr th {\n",
       "        vertical-align: top;\n",
       "    }\n",
       "\n",
       "    .dataframe thead th {\n",
       "        text-align: right;\n",
       "    }\n",
       "</style>\n",
       "<table border=\"1\" class=\"dataframe\">\n",
       "  <thead>\n",
       "    <tr style=\"text-align: right;\">\n",
       "      <th></th>\n",
       "    </tr>\n",
       "  </thead>\n",
       "  <tbody>\n",
       "    <tr>\n",
       "      <th>0</th>\n",
       "    </tr>\n",
       "    <tr>\n",
       "      <th>1</th>\n",
       "    </tr>\n",
       "    <tr>\n",
       "      <th>2</th>\n",
       "    </tr>\n",
       "    <tr>\n",
       "      <th>3</th>\n",
       "    </tr>\n",
       "    <tr>\n",
       "      <th>4</th>\n",
       "    </tr>\n",
       "    <tr>\n",
       "      <th>...</th>\n",
       "    </tr>\n",
       "    <tr>\n",
       "      <th>3577291</th>\n",
       "    </tr>\n",
       "    <tr>\n",
       "      <th>3577292</th>\n",
       "    </tr>\n",
       "    <tr>\n",
       "      <th>3577293</th>\n",
       "    </tr>\n",
       "    <tr>\n",
       "      <th>3577294</th>\n",
       "    </tr>\n",
       "    <tr>\n",
       "      <th>3577295</th>\n",
       "    </tr>\n",
       "  </tbody>\n",
       "</table>\n",
       "<p>3577296 rows × 0 columns</p>\n",
       "</div>"
      ]
     },
     "metadata": {},
     "output_type": "display_data"
    }
   ],
   "source": [
    "network_traffic_analysis_dataframe.select_dtypes([\"object\"])"
   ]
  },
  {
   "cell_type": "code",
   "execution_count": 51,
   "metadata": {},
   "outputs": [
    {
     "data": {
      "text/plain": [
       "array([52422,  3128,    80, ...,  6507, 10192, 10182])"
      ]
     },
     "execution_count": 51,
     "metadata": {},
     "output_type": "execute_result"
    }
   ],
   "source": [
    "#What are the top 20 Source Ports in this dataset?\n",
    "\n",
    "network_traffic_analysis_dataframe[\"Source.Port\"].unique()"
   ]
  },
  {
   "cell_type": "markdown",
   "metadata": {},
   "source": [
    "# Label the current dataset using Autoencoder"
   ]
  },
  {
   "cell_type": "code",
   "execution_count": null,
   "metadata": {},
   "outputs": [],
   "source": [
    "#https://www.kaggle.com/datasets/chethuhn/network-intrusion-dataset?select=Thursday-WorkingHours-Afternoon-Infilteration.pcap_ISCX.csv\n",
    "\n",
    "# use the dataset to place a label in the main dataset"
   ]
  },
  {
   "cell_type": "code",
   "execution_count": 100,
   "metadata": {},
   "outputs": [
    {
     "name": "stdout",
     "output_type": "stream",
     "text": [
      "Defaulting to user installation because normal site-packages is not writeable\n",
      "Collecting tensorflow\n",
      "  Using cached tensorflow-2.18.0-cp312-cp312-manylinux_2_17_x86_64.manylinux2014_x86_64.whl.metadata (4.1 kB)\n",
      "Requirement already satisfied: absl-py>=1.0.0 in /home/vscode/.local/lib/python3.12/site-packages (from tensorflow) (2.1.0)\n",
      "Requirement already satisfied: astunparse>=1.6.0 in /home/vscode/.local/lib/python3.12/site-packages (from tensorflow) (1.6.3)\n",
      "Requirement already satisfied: flatbuffers>=24.3.25 in /home/vscode/.local/lib/python3.12/site-packages (from tensorflow) (24.3.25)\n",
      "Requirement already satisfied: gast!=0.5.0,!=0.5.1,!=0.5.2,>=0.2.1 in /home/vscode/.local/lib/python3.12/site-packages (from tensorflow) (0.6.0)\n",
      "Requirement already satisfied: google-pasta>=0.1.1 in /home/vscode/.local/lib/python3.12/site-packages (from tensorflow) (0.2.0)\n",
      "Requirement already satisfied: libclang>=13.0.0 in /home/vscode/.local/lib/python3.12/site-packages (from tensorflow) (18.1.1)\n",
      "Requirement already satisfied: opt-einsum>=2.3.2 in /home/vscode/.local/lib/python3.12/site-packages (from tensorflow) (3.4.0)\n",
      "Requirement already satisfied: packaging in /home/vscode/.local/lib/python3.12/site-packages (from tensorflow) (24.2)\n",
      "Requirement already satisfied: protobuf!=4.21.0,!=4.21.1,!=4.21.2,!=4.21.3,!=4.21.4,!=4.21.5,<6.0.0dev,>=3.20.3 in /home/vscode/.local/lib/python3.12/site-packages (from tensorflow) (5.29.2)\n",
      "Requirement already satisfied: requests<3,>=2.21.0 in /home/vscode/.local/lib/python3.12/site-packages (from tensorflow) (2.32.3)\n",
      "Requirement already satisfied: setuptools in /home/vscode/.local/lib/python3.12/site-packages (from tensorflow) (75.6.0)\n",
      "Requirement already satisfied: six>=1.12.0 in /home/vscode/.local/lib/python3.12/site-packages (from tensorflow) (1.17.0)\n",
      "Requirement already satisfied: termcolor>=1.1.0 in /home/vscode/.local/lib/python3.12/site-packages (from tensorflow) (2.5.0)\n",
      "Requirement already satisfied: typing-extensions>=3.6.6 in /home/vscode/.local/lib/python3.12/site-packages (from tensorflow) (4.12.2)\n",
      "Requirement already satisfied: wrapt>=1.11.0 in /home/vscode/.local/lib/python3.12/site-packages (from tensorflow) (1.17.0)\n",
      "Requirement already satisfied: grpcio<2.0,>=1.24.3 in /home/vscode/.local/lib/python3.12/site-packages (from tensorflow) (1.68.1)\n",
      "Requirement already satisfied: tensorboard<2.19,>=2.18 in /home/vscode/.local/lib/python3.12/site-packages (from tensorflow) (2.18.0)\n",
      "Requirement already satisfied: keras>=3.5.0 in /home/vscode/.local/lib/python3.12/site-packages (from tensorflow) (3.7.0)\n",
      "Requirement already satisfied: numpy<2.1.0,>=1.26.0 in /home/vscode/.local/lib/python3.12/site-packages (from tensorflow) (2.0.2)\n",
      "Requirement already satisfied: h5py>=3.11.0 in /home/vscode/.local/lib/python3.12/site-packages (from tensorflow) (3.12.1)\n",
      "Requirement already satisfied: ml-dtypes<0.5.0,>=0.4.0 in /home/vscode/.local/lib/python3.12/site-packages (from tensorflow) (0.4.1)\n",
      "Requirement already satisfied: wheel<1.0,>=0.23.0 in /home/vscode/.local/lib/python3.12/site-packages (from astunparse>=1.6.0->tensorflow) (0.45.1)\n",
      "Requirement already satisfied: rich in /home/vscode/.local/lib/python3.12/site-packages (from keras>=3.5.0->tensorflow) (13.9.4)\n",
      "Requirement already satisfied: namex in /home/vscode/.local/lib/python3.12/site-packages (from keras>=3.5.0->tensorflow) (0.0.8)\n",
      "Requirement already satisfied: optree in /home/vscode/.local/lib/python3.12/site-packages (from keras>=3.5.0->tensorflow) (0.13.1)\n",
      "Requirement already satisfied: charset-normalizer<4,>=2 in /home/vscode/.local/lib/python3.12/site-packages (from requests<3,>=2.21.0->tensorflow) (3.4.0)\n",
      "Requirement already satisfied: idna<4,>=2.5 in /home/vscode/.local/lib/python3.12/site-packages (from requests<3,>=2.21.0->tensorflow) (3.10)\n",
      "Requirement already satisfied: urllib3<3,>=1.21.1 in /home/vscode/.local/lib/python3.12/site-packages (from requests<3,>=2.21.0->tensorflow) (2.3.0)\n",
      "Requirement already satisfied: certifi>=2017.4.17 in /home/vscode/.local/lib/python3.12/site-packages (from requests<3,>=2.21.0->tensorflow) (2024.12.14)\n",
      "Requirement already satisfied: markdown>=2.6.8 in /home/vscode/.local/lib/python3.12/site-packages (from tensorboard<2.19,>=2.18->tensorflow) (3.7)\n",
      "Requirement already satisfied: tensorboard-data-server<0.8.0,>=0.7.0 in /home/vscode/.local/lib/python3.12/site-packages (from tensorboard<2.19,>=2.18->tensorflow) (0.7.2)\n",
      "Requirement already satisfied: werkzeug>=1.0.1 in /home/vscode/.local/lib/python3.12/site-packages (from tensorboard<2.19,>=2.18->tensorflow) (3.1.3)\n",
      "Requirement already satisfied: MarkupSafe>=2.1.1 in /home/vscode/.local/lib/python3.12/site-packages (from werkzeug>=1.0.1->tensorboard<2.19,>=2.18->tensorflow) (3.0.2)\n",
      "Requirement already satisfied: markdown-it-py>=2.2.0 in /home/vscode/.local/lib/python3.12/site-packages (from rich->keras>=3.5.0->tensorflow) (3.0.0)\n",
      "Requirement already satisfied: pygments<3.0.0,>=2.13.0 in /home/vscode/.local/lib/python3.12/site-packages (from rich->keras>=3.5.0->tensorflow) (2.18.0)\n",
      "Requirement already satisfied: mdurl~=0.1 in /home/vscode/.local/lib/python3.12/site-packages (from markdown-it-py>=2.2.0->rich->keras>=3.5.0->tensorflow) (0.1.2)\n",
      "Using cached tensorflow-2.18.0-cp312-cp312-manylinux_2_17_x86_64.manylinux2014_x86_64.whl (615.5 MB)\n",
      "Installing collected packages: tensorflow\n",
      "\u001b[31mERROR: Could not install packages due to an OSError: [Errno 28] No space left on device: '/home/vscode/.local/lib/python3.12/site-packages/tensorflow/include/tensorflow/compiler/mlir/tensorflow/ir/host_runtime'\n",
      "\u001b[0m\u001b[31m\n",
      "\u001b[0mNote: you may need to restart the kernel to use updated packages.\n"
     ]
    }
   ],
   "source": [
    "%pip install tensorflow"
   ]
  },
  {
   "cell_type": "code",
   "execution_count": 1,
   "metadata": {},
   "outputs": [
    {
     "ename": "ModuleNotFoundError",
     "evalue": "No module named 'tensorflow.python'",
     "output_type": "error",
     "traceback": [
      "\u001b[0;31m---------------------------------------------------------------------------\u001b[0m",
      "\u001b[0;31mModuleNotFoundError\u001b[0m                       Traceback (most recent call last)",
      "Cell \u001b[0;32mIn[1], line 2\u001b[0m\n\u001b[1;32m      1\u001b[0m \u001b[38;5;28;01mimport\u001b[39;00m \u001b[38;5;21;01mnumpy\u001b[39;00m \u001b[38;5;28;01mas\u001b[39;00m \u001b[38;5;21;01mnp\u001b[39;00m\n\u001b[0;32m----> 2\u001b[0m \u001b[38;5;28;01mimport\u001b[39;00m \u001b[38;5;21;01mtensorflow\u001b[39;00m \u001b[38;5;28;01mas\u001b[39;00m \u001b[38;5;21;01mtf\u001b[39;00m\n\u001b[1;32m      3\u001b[0m \u001b[38;5;28;01mfrom\u001b[39;00m \u001b[38;5;21;01mtensorflow\u001b[39;00m\u001b[38;5;21;01m.\u001b[39;00m\u001b[38;5;21;01mkeras\u001b[39;00m \u001b[38;5;28;01mimport\u001b[39;00m layers, models\n\u001b[1;32m      4\u001b[0m \u001b[38;5;28;01mfrom\u001b[39;00m \u001b[38;5;21;01mtensorflow\u001b[39;00m\u001b[38;5;21;01m.\u001b[39;00m\u001b[38;5;21;01mkeras\u001b[39;00m\u001b[38;5;21;01m.\u001b[39;00m\u001b[38;5;21;01moptimizers\u001b[39;00m \u001b[38;5;28;01mimport\u001b[39;00m Adam\n",
      "File \u001b[0;32m~/.local/lib/python3.12/site-packages/tensorflow/__init__.py:40\u001b[0m\n\u001b[1;32m     37\u001b[0m _os\u001b[38;5;241m.\u001b[39menviron\u001b[38;5;241m.\u001b[39msetdefault(\u001b[38;5;124m\"\u001b[39m\u001b[38;5;124mENABLE_RUNTIME_UPTIME_TELEMETRY\u001b[39m\u001b[38;5;124m\"\u001b[39m, \u001b[38;5;124m\"\u001b[39m\u001b[38;5;124m1\u001b[39m\u001b[38;5;124m\"\u001b[39m)\n\u001b[1;32m     39\u001b[0m \u001b[38;5;66;03m# Do not remove this line; See https://github.com/tensorflow/tensorflow/issues/42596\u001b[39;00m\n\u001b[0;32m---> 40\u001b[0m \u001b[38;5;28;01mfrom\u001b[39;00m \u001b[38;5;21;01mtensorflow\u001b[39;00m\u001b[38;5;21;01m.\u001b[39;00m\u001b[38;5;21;01mpython\u001b[39;00m \u001b[38;5;28;01mimport\u001b[39;00m pywrap_tensorflow \u001b[38;5;28;01mas\u001b[39;00m _pywrap_tensorflow  \u001b[38;5;66;03m# pylint: disable=unused-import\u001b[39;00m\n\u001b[1;32m     41\u001b[0m \u001b[38;5;28;01mfrom\u001b[39;00m \u001b[38;5;21;01mtensorflow\u001b[39;00m\u001b[38;5;21;01m.\u001b[39;00m\u001b[38;5;21;01mpython\u001b[39;00m\u001b[38;5;21;01m.\u001b[39;00m\u001b[38;5;21;01mtools\u001b[39;00m \u001b[38;5;28;01mimport\u001b[39;00m module_util \u001b[38;5;28;01mas\u001b[39;00m _module_util\n\u001b[1;32m     42\u001b[0m \u001b[38;5;28;01mfrom\u001b[39;00m \u001b[38;5;21;01mtensorflow\u001b[39;00m\u001b[38;5;21;01m.\u001b[39;00m\u001b[38;5;21;01mpython\u001b[39;00m\u001b[38;5;21;01m.\u001b[39;00m\u001b[38;5;21;01mutil\u001b[39;00m\u001b[38;5;21;01m.\u001b[39;00m\u001b[38;5;21;01mlazy_loader\u001b[39;00m \u001b[38;5;28;01mimport\u001b[39;00m KerasLazyLoader \u001b[38;5;28;01mas\u001b[39;00m _KerasLazyLoader\n",
      "\u001b[0;31mModuleNotFoundError\u001b[0m: No module named 'tensorflow.python'"
     ]
    }
   ],
   "source": [
    "import numpy as np\n",
    "import tensorflow as tf\n",
    "from tensorflow.keras import layers, models\n",
    "from tensorflow.keras.optimizers import Adam\n",
    "from sklearn.preprocessing import StandardScaler\n",
    "from sklearn.model_selection import train_test_split"
   ]
  },
  {
   "cell_type": "code",
   "execution_count": null,
   "metadata": {},
   "outputs": [],
   "source": [
    "\n",
    "\n",
    "# Simulating an unlabeled network packet dataset (replace with real data)\n",
    "# Example: Network packet features like size, flags, times, etc.\n",
    "# Let's assume 1000 samples with 50 features each (e.g., network traffic metrics)\n",
    "X = np.random.rand(1000, 50)  # 1000 network packets, each with 50 features\n",
    "\n",
    "# Split into train/test sets\n",
    "X_train, X_test = train_test_split(network_traffic_analysis_dataframe, test_size=0.2, random_state=42)\n",
    "\n",
    "# Normalize the data (network data should generally be normalized)\n",
    "scaler = StandardScaler()\n",
    "X_train = scaler.fit_transform(X_train)\n",
    "X_test = scaler.transform(X_test)\n",
    "\n",
    "# Add noise to the input data (simulating real-world noisy packets)\n",
    "def add_noise(x, noise_factor=0.5):\n",
    "    noisy_x = x + noise_factor * np.random.normal(loc=0.0, scale=1.0, size=x.shape)\n",
    "    noisy_x = np.clip(noisy_x, 0., 1.)  # Ensure values are within [0, 1]\n",
    "    return noisy_x\n",
    "\n",
    "X_train_noisy = add_noise(X_train)\n",
    "X_test_noisy = add_noise(X_test)\n",
    "\n",
    "# Build the Stacked Denoising Autoencoder (SDAE) model\n",
    "def build_autoencoder(input_shape):\n",
    "    input_layer = layers.Input(shape=input_shape)\n",
    "    \n",
    "    # Encoder part\n",
    "    encoded = layers.Dense(256, activation='relu')(input_layer)\n",
    "    encoded = layers.Dense(128, activation='relu')(encoded)\n",
    "    encoded = layers.Dense(64, activation='relu')(encoded)\n",
    "    \n",
    "    # Decoder part\n",
    "    decoded = layers.Dense(128, activation='relu')(encoded)\n",
    "    decoded = layers.Dense(256, activation='relu')(decoded)\n",
    "    decoded = layers.Dense(input_shape[0], activation='sigmoid')(decoded)\n",
    "    \n",
    "    # Autoencoder model (including both encoder and decoder)\n",
    "    autoencoder = models.Model(input_layer, decoded)\n",
    "    encoder = models.Model(input_layer, encoded)  # Encoder model for feature extraction\n",
    "    \n",
    "    return autoencoder, encoder\n",
    "\n",
    "# Pre-train the autoencoders layer by layer\n",
    "def pretrain_autoencoders(input_shape, num_layers=3):\n",
    "    encoders = []\n",
    "    for i in range(num_layers):\n",
    "        # Build a new autoencoder for each layer\n",
    "        autoencoder, encoder = build_autoencoder(input_shape)\n",
    "        autoencoder.compile(optimizer=Adam(), loss='binary_crossentropy')\n",
    "        \n",
    "        # Train the autoencoder on the noisy data\n",
    "        autoencoder.fit(X_train_noisy, X_train, epochs=10, batch_size=128, shuffle=True, validation_data=(X_test_noisy, X_test))\n",
    "        \n",
    "        # Freeze the encoder (do not train it in future layers)\n",
    "        encoder.trainable = False\n",
    "        \n",
    "        # Store the encoder for stacking\n",
    "        encoders.append(encoder)\n",
    "        \n",
    "        # Update the input shape for the next layer's encoder\n",
    "        input_shape = encoder.output_shape[1:]  # The output shape of the encoder becomes the new input shape\n",
    "    \n",
    "    return encoders\n",
    "\n",
    "# Pre-train the autoencoders\n",
    "encoders = pretrain_autoencoders((X_train.shape[1],), num_layers=3)\n",
    "\n",
    "# Stack the encoders to form a full model\n",
    "def build_stacked_autoencoder(encoders):\n",
    "    input_layer = layers.Input(shape=(X_train.shape[1],))\n",
    "    x = input_layer\n",
    "    \n",
    "    # Pass the input through each encoder sequentially\n",
    "    for encoder in encoders:\n",
    "        x = encoder(x)\n",
    "    \n",
    "    # Output layer (same dimension as input for reconstruction)\n",
    "    classification = layers.Dense(1, activation='sigmoid')(x)\n",
    "    \n",
    "    stacked_autoencoder = models.Model(input_layer, classification)\n",
    "    return stacked_autoencoder\n",
    "\n",
    "# Build the stacked autoencoder with classification output\n",
    "stacked_autoencoder = build_stacked_autoencoder(encoders)\n",
    "\n",
    "# Compile the model\n",
    "stacked_autoencoder.compile(optimizer=Adam(), loss='binary_crossentropy', metrics=['accuracy'])\n",
    "\n",
    "# Train the stacked autoencoder for classification (can be fine-tuned)\n",
    "stacked_autoencoder.fit(X_train_noisy, X_train, epochs=20, batch_size=128, validation_data=(X_test_noisy, X_test))\n",
    "\n",
    "# Evaluate the model on the test set\n",
    "test_loss, test_accuracy = stacked_autoencoder.evaluate(X_test_noisy, X_test)\n",
    "print(f\"Test Loss: {test_loss}\")\n",
    "print(f\"Test Accuracy: {test_accuracy}\")\n",
    "\n",
    "# Make predictions on the test set\n",
    "predictions = stacked_autoencoder.predict(X_test_noisy)\n",
    "predictions = (predictions > 0.5).astype(int)  # Convert probability to binary (0 or 1)\n",
    "\n",
    "print(\"Predictions on test set:\")\n",
    "print(predictions)"
   ]
  },
  {
   "cell_type": "markdown",
   "metadata": {},
   "source": [
    "# Model Building"
   ]
  },
  {
   "cell_type": "markdown",
   "metadata": {},
   "source": [
    "* Split the dataset into training and testing sets.\n",
    "* Implement at least three different classification models (e.g., Decision Tree, Random Forest, SVM, etc.).\n",
    "* Train and fine-tune each model using appropriate techniques.\n",
    "* Discuss the choice of hyperparameters and the reasoning behind it"
   ]
  },
  {
   "cell_type": "code",
   "execution_count": 52,
   "metadata": {},
   "outputs": [],
   "source": [
    "sample_dataframe: pandas.DataFrame = network_traffic_analysis_dataframe"
   ]
  },
  {
   "cell_type": "code",
   "execution_count": 53,
   "metadata": {},
   "outputs": [
    {
     "data": {
      "text/plain": [
       "Index(['Source.Port', 'Destination.Port', 'Protocol', 'Flow.Duration',\n",
       "       'Total.Fwd.Packets', 'Total.Backward.Packets',\n",
       "       'Total.Length.of.Fwd.Packets', 'Total.Length.of.Bwd.Packets',\n",
       "       'Fwd.Packet.Length.Max', 'Fwd.Packet.Length.Min',\n",
       "       'Fwd.Packet.Length.Mean', 'Fwd.Packet.Length.Std',\n",
       "       'Bwd.Packet.Length.Max', 'Bwd.Packet.Length.Min',\n",
       "       'Bwd.Packet.Length.Mean', 'Bwd.Packet.Length.Std', 'Flow.Bytes.s',\n",
       "       'Flow.Packets.s', 'Flow.IAT.Mean', 'Flow.IAT.Std', 'Flow.IAT.Max',\n",
       "       'Flow.IAT.Min', 'Fwd.IAT.Total', 'Fwd.IAT.Mean', 'Fwd.IAT.Std',\n",
       "       'Fwd.IAT.Max', 'Fwd.IAT.Min', 'Bwd.IAT.Total', 'Bwd.IAT.Mean',\n",
       "       'Bwd.IAT.Std', 'Bwd.IAT.Max', 'Bwd.IAT.Min', 'Fwd.PSH.Flags',\n",
       "       'Bwd.PSH.Flags', 'Fwd.URG.Flags', 'Bwd.URG.Flags', 'Fwd.Header.Length',\n",
       "       'Bwd.Header.Length', 'Fwd.Packets.s', 'Bwd.Packets.s',\n",
       "       'Min.Packet.Length', 'Max.Packet.Length', 'Packet.Length.Mean',\n",
       "       'Packet.Length.Std', 'Packet.Length.Variance', 'FIN.Flag.Count',\n",
       "       'SYN.Flag.Count', 'RST.Flag.Count', 'PSH.Flag.Count', 'ACK.Flag.Count',\n",
       "       'URG.Flag.Count', 'CWE.Flag.Count', 'ECE.Flag.Count', 'Down.Up.Ratio',\n",
       "       'Average.Packet.Size', 'Avg.Fwd.Segment.Size', 'Avg.Bwd.Segment.Size',\n",
       "       'Fwd.Header.Length.1', 'Fwd.Avg.Bytes.Bulk', 'Fwd.Avg.Packets.Bulk',\n",
       "       'Fwd.Avg.Bulk.Rate', 'Bwd.Avg.Bytes.Bulk', 'Bwd.Avg.Packets.Bulk',\n",
       "       'Bwd.Avg.Bulk.Rate', 'Subflow.Fwd.Packets', 'Subflow.Fwd.Bytes',\n",
       "       'Subflow.Bwd.Packets', 'Subflow.Bwd.Bytes', 'Init_Win_bytes_forward',\n",
       "       'Init_Win_bytes_backward', 'act_data_pkt_fwd', 'min_seg_size_forward',\n",
       "       'Active.Mean', 'Active.Std', 'Active.Max', 'Active.Min', 'Idle.Mean',\n",
       "       'Idle.Std', 'Idle.Max', 'Idle.Min', 'L7Protocol'],\n",
       "      dtype='object')"
      ]
     },
     "execution_count": 53,
     "metadata": {},
     "output_type": "execute_result"
    }
   ],
   "source": [
    "sample_dataframe.columns"
   ]
  },
  {
   "cell_type": "markdown",
   "metadata": {},
   "source": [
    "## Using KNN to produce the grouping in the dataset "
   ]
  },
  {
   "cell_type": "code",
   "execution_count": 54,
   "metadata": {},
   "outputs": [
    {
     "data": {
      "text/html": [
       "<div>\n",
       "<style scoped>\n",
       "    .dataframe tbody tr th:only-of-type {\n",
       "        vertical-align: middle;\n",
       "    }\n",
       "\n",
       "    .dataframe tbody tr th {\n",
       "        vertical-align: top;\n",
       "    }\n",
       "\n",
       "    .dataframe thead th {\n",
       "        text-align: right;\n",
       "    }\n",
       "</style>\n",
       "<table border=\"1\" class=\"dataframe\">\n",
       "  <thead>\n",
       "    <tr style=\"text-align: right;\">\n",
       "      <th></th>\n",
       "      <th>Source.Port</th>\n",
       "      <th>Destination.Port</th>\n",
       "      <th>Protocol</th>\n",
       "      <th>Flow.Duration</th>\n",
       "      <th>Total.Fwd.Packets</th>\n",
       "      <th>Total.Backward.Packets</th>\n",
       "      <th>Total.Length.of.Fwd.Packets</th>\n",
       "      <th>Total.Length.of.Bwd.Packets</th>\n",
       "      <th>Fwd.Packet.Length.Max</th>\n",
       "      <th>Fwd.Packet.Length.Min</th>\n",
       "      <th>...</th>\n",
       "      <th>min_seg_size_forward</th>\n",
       "      <th>Active.Mean</th>\n",
       "      <th>Active.Std</th>\n",
       "      <th>Active.Max</th>\n",
       "      <th>Active.Min</th>\n",
       "      <th>Idle.Mean</th>\n",
       "      <th>Idle.Std</th>\n",
       "      <th>Idle.Max</th>\n",
       "      <th>Idle.Min</th>\n",
       "      <th>L7Protocol</th>\n",
       "    </tr>\n",
       "  </thead>\n",
       "  <tbody>\n",
       "    <tr>\n",
       "      <th>0</th>\n",
       "      <td>52422</td>\n",
       "      <td>3128</td>\n",
       "      <td>6</td>\n",
       "      <td>45523</td>\n",
       "      <td>22</td>\n",
       "      <td>55</td>\n",
       "      <td>132</td>\n",
       "      <td>110414.0</td>\n",
       "      <td>6</td>\n",
       "      <td>6</td>\n",
       "      <td>...</td>\n",
       "      <td>20</td>\n",
       "      <td>0.0</td>\n",
       "      <td>0.0</td>\n",
       "      <td>0.0</td>\n",
       "      <td>0.0</td>\n",
       "      <td>0.0</td>\n",
       "      <td>0.0</td>\n",
       "      <td>0.0</td>\n",
       "      <td>0.0</td>\n",
       "      <td>131</td>\n",
       "    </tr>\n",
       "    <tr>\n",
       "      <th>1</th>\n",
       "      <td>3128</td>\n",
       "      <td>52422</td>\n",
       "      <td>6</td>\n",
       "      <td>1</td>\n",
       "      <td>2</td>\n",
       "      <td>0</td>\n",
       "      <td>12</td>\n",
       "      <td>0.0</td>\n",
       "      <td>6</td>\n",
       "      <td>6</td>\n",
       "      <td>...</td>\n",
       "      <td>20</td>\n",
       "      <td>0.0</td>\n",
       "      <td>0.0</td>\n",
       "      <td>0.0</td>\n",
       "      <td>0.0</td>\n",
       "      <td>0.0</td>\n",
       "      <td>0.0</td>\n",
       "      <td>0.0</td>\n",
       "      <td>0.0</td>\n",
       "      <td>131</td>\n",
       "    </tr>\n",
       "    <tr>\n",
       "      <th>2</th>\n",
       "      <td>80</td>\n",
       "      <td>38848</td>\n",
       "      <td>6</td>\n",
       "      <td>1</td>\n",
       "      <td>3</td>\n",
       "      <td>0</td>\n",
       "      <td>674</td>\n",
       "      <td>0.0</td>\n",
       "      <td>337</td>\n",
       "      <td>0</td>\n",
       "      <td>...</td>\n",
       "      <td>32</td>\n",
       "      <td>0.0</td>\n",
       "      <td>0.0</td>\n",
       "      <td>0.0</td>\n",
       "      <td>0.0</td>\n",
       "      <td>0.0</td>\n",
       "      <td>0.0</td>\n",
       "      <td>0.0</td>\n",
       "      <td>0.0</td>\n",
       "      <td>7</td>\n",
       "    </tr>\n",
       "    <tr>\n",
       "      <th>3</th>\n",
       "      <td>80</td>\n",
       "      <td>38848</td>\n",
       "      <td>6</td>\n",
       "      <td>217</td>\n",
       "      <td>1</td>\n",
       "      <td>3</td>\n",
       "      <td>0</td>\n",
       "      <td>0.0</td>\n",
       "      <td>0</td>\n",
       "      <td>0</td>\n",
       "      <td>...</td>\n",
       "      <td>32</td>\n",
       "      <td>0.0</td>\n",
       "      <td>0.0</td>\n",
       "      <td>0.0</td>\n",
       "      <td>0.0</td>\n",
       "      <td>0.0</td>\n",
       "      <td>0.0</td>\n",
       "      <td>0.0</td>\n",
       "      <td>0.0</td>\n",
       "      <td>7</td>\n",
       "    </tr>\n",
       "    <tr>\n",
       "      <th>4</th>\n",
       "      <td>55961</td>\n",
       "      <td>3128</td>\n",
       "      <td>6</td>\n",
       "      <td>78068</td>\n",
       "      <td>5</td>\n",
       "      <td>0</td>\n",
       "      <td>1076</td>\n",
       "      <td>0.0</td>\n",
       "      <td>529</td>\n",
       "      <td>6</td>\n",
       "      <td>...</td>\n",
       "      <td>20</td>\n",
       "      <td>0.0</td>\n",
       "      <td>0.0</td>\n",
       "      <td>0.0</td>\n",
       "      <td>0.0</td>\n",
       "      <td>0.0</td>\n",
       "      <td>0.0</td>\n",
       "      <td>0.0</td>\n",
       "      <td>0.0</td>\n",
       "      <td>131</td>\n",
       "    </tr>\n",
       "    <tr>\n",
       "      <th>...</th>\n",
       "      <td>...</td>\n",
       "      <td>...</td>\n",
       "      <td>...</td>\n",
       "      <td>...</td>\n",
       "      <td>...</td>\n",
       "      <td>...</td>\n",
       "      <td>...</td>\n",
       "      <td>...</td>\n",
       "      <td>...</td>\n",
       "      <td>...</td>\n",
       "      <td>...</td>\n",
       "      <td>...</td>\n",
       "      <td>...</td>\n",
       "      <td>...</td>\n",
       "      <td>...</td>\n",
       "      <td>...</td>\n",
       "      <td>...</td>\n",
       "      <td>...</td>\n",
       "      <td>...</td>\n",
       "      <td>...</td>\n",
       "      <td>...</td>\n",
       "    </tr>\n",
       "    <tr>\n",
       "      <th>3577291</th>\n",
       "      <td>443</td>\n",
       "      <td>42135</td>\n",
       "      <td>6</td>\n",
       "      <td>2290821</td>\n",
       "      <td>5</td>\n",
       "      <td>4</td>\n",
       "      <td>599</td>\n",
       "      <td>2159.0</td>\n",
       "      <td>599</td>\n",
       "      <td>0</td>\n",
       "      <td>...</td>\n",
       "      <td>32</td>\n",
       "      <td>0.0</td>\n",
       "      <td>0.0</td>\n",
       "      <td>0.0</td>\n",
       "      <td>0.0</td>\n",
       "      <td>0.0</td>\n",
       "      <td>0.0</td>\n",
       "      <td>0.0</td>\n",
       "      <td>0.0</td>\n",
       "      <td>91</td>\n",
       "    </tr>\n",
       "    <tr>\n",
       "      <th>3577292</th>\n",
       "      <td>443</td>\n",
       "      <td>51546</td>\n",
       "      <td>6</td>\n",
       "      <td>24</td>\n",
       "      <td>5</td>\n",
       "      <td>0</td>\n",
       "      <td>1448</td>\n",
       "      <td>0.0</td>\n",
       "      <td>1448</td>\n",
       "      <td>0</td>\n",
       "      <td>...</td>\n",
       "      <td>32</td>\n",
       "      <td>0.0</td>\n",
       "      <td>0.0</td>\n",
       "      <td>0.0</td>\n",
       "      <td>0.0</td>\n",
       "      <td>0.0</td>\n",
       "      <td>0.0</td>\n",
       "      <td>0.0</td>\n",
       "      <td>0.0</td>\n",
       "      <td>91</td>\n",
       "    </tr>\n",
       "    <tr>\n",
       "      <th>3577293</th>\n",
       "      <td>443</td>\n",
       "      <td>44366</td>\n",
       "      <td>6</td>\n",
       "      <td>2591653</td>\n",
       "      <td>6</td>\n",
       "      <td>5</td>\n",
       "      <td>1202</td>\n",
       "      <td>4184.0</td>\n",
       "      <td>601</td>\n",
       "      <td>0</td>\n",
       "      <td>...</td>\n",
       "      <td>32</td>\n",
       "      <td>0.0</td>\n",
       "      <td>0.0</td>\n",
       "      <td>0.0</td>\n",
       "      <td>0.0</td>\n",
       "      <td>0.0</td>\n",
       "      <td>0.0</td>\n",
       "      <td>0.0</td>\n",
       "      <td>0.0</td>\n",
       "      <td>91</td>\n",
       "    </tr>\n",
       "    <tr>\n",
       "      <th>3577294</th>\n",
       "      <td>443</td>\n",
       "      <td>52341</td>\n",
       "      <td>6</td>\n",
       "      <td>2622421</td>\n",
       "      <td>4</td>\n",
       "      <td>3</td>\n",
       "      <td>632</td>\n",
       "      <td>2352.0</td>\n",
       "      <td>352</td>\n",
       "      <td>0</td>\n",
       "      <td>...</td>\n",
       "      <td>32</td>\n",
       "      <td>0.0</td>\n",
       "      <td>0.0</td>\n",
       "      <td>0.0</td>\n",
       "      <td>0.0</td>\n",
       "      <td>0.0</td>\n",
       "      <td>0.0</td>\n",
       "      <td>0.0</td>\n",
       "      <td>0.0</td>\n",
       "      <td>91</td>\n",
       "    </tr>\n",
       "    <tr>\n",
       "      <th>3577295</th>\n",
       "      <td>443</td>\n",
       "      <td>34188</td>\n",
       "      <td>6</td>\n",
       "      <td>2009138</td>\n",
       "      <td>3</td>\n",
       "      <td>2</td>\n",
       "      <td>597</td>\n",
       "      <td>2076.0</td>\n",
       "      <td>597</td>\n",
       "      <td>0</td>\n",
       "      <td>...</td>\n",
       "      <td>32</td>\n",
       "      <td>0.0</td>\n",
       "      <td>0.0</td>\n",
       "      <td>0.0</td>\n",
       "      <td>0.0</td>\n",
       "      <td>0.0</td>\n",
       "      <td>0.0</td>\n",
       "      <td>0.0</td>\n",
       "      <td>0.0</td>\n",
       "      <td>91</td>\n",
       "    </tr>\n",
       "  </tbody>\n",
       "</table>\n",
       "<p>3577296 rows × 81 columns</p>\n",
       "</div>"
      ]
     },
     "metadata": {},
     "output_type": "display_data"
    }
   ],
   "source": []
  },
  {
   "cell_type": "markdown",
   "metadata": {},
   "source": [
    "## Creating target column"
   ]
  },
  {
   "cell_type": "code",
   "execution_count": 87,
   "metadata": {},
   "outputs": [],
   "source": [
    "target = sample_dataframe[\"L7Protocol\"]"
   ]
  },
  {
   "cell_type": "code",
   "execution_count": 88,
   "metadata": {},
   "outputs": [],
   "source": [
    "train = sample_dataframe.drop(labels=\"L7Protocol\", axis=1)"
   ]
  },
  {
   "cell_type": "markdown",
   "metadata": {},
   "source": [
    "## Prepare Training dataset and Testing dataset"
   ]
  },
  {
   "cell_type": "code",
   "execution_count": 81,
   "metadata": {},
   "outputs": [],
   "source": [
    "from sklearn.model_selection import train_test_split\n",
    "\n",
    "# Training dataset: 80%\n",
    "# Test Dataset: 20%\n",
    "\n",
    "X_train, X_test, Y_train, Y_test = train_test_split(train, target, test_size=0.20, train_size=0.80, random_state=11, shuffle=True)"
   ]
  },
  {
   "cell_type": "markdown",
   "metadata": {},
   "source": [
    "## Create Validation Dataset from training dataset"
   ]
  },
  {
   "cell_type": "code",
   "execution_count": 82,
   "metadata": {},
   "outputs": [],
   "source": [
    "# Training dataset: 60%\n",
    "# Validation Dataset: 20% (0.25 Current test size to obtain validation dataset * 0.80 Percentage of Train data from original dataset)\n",
    "# Test Dataset: 20%\n",
    "\n",
    "X_train, X_validate, Y_train, Y_validate = train_test_split(X_train, Y_train, test_size=0.25, train_size=0.75, random_state=11, shuffle=True)\n"
   ]
  },
  {
   "cell_type": "markdown",
   "metadata": {},
   "source": [
    "## Decision Tree"
   ]
  },
  {
   "cell_type": "code",
   "execution_count": 83,
   "metadata": {},
   "outputs": [
    {
     "data": {
      "text/html": [
       "<style>#sk-container-id-2 {\n",
       "  /* Definition of color scheme common for light and dark mode */\n",
       "  --sklearn-color-text: #000;\n",
       "  --sklearn-color-text-muted: #666;\n",
       "  --sklearn-color-line: gray;\n",
       "  /* Definition of color scheme for unfitted estimators */\n",
       "  --sklearn-color-unfitted-level-0: #fff5e6;\n",
       "  --sklearn-color-unfitted-level-1: #f6e4d2;\n",
       "  --sklearn-color-unfitted-level-2: #ffe0b3;\n",
       "  --sklearn-color-unfitted-level-3: chocolate;\n",
       "  /* Definition of color scheme for fitted estimators */\n",
       "  --sklearn-color-fitted-level-0: #f0f8ff;\n",
       "  --sklearn-color-fitted-level-1: #d4ebff;\n",
       "  --sklearn-color-fitted-level-2: #b3dbfd;\n",
       "  --sklearn-color-fitted-level-3: cornflowerblue;\n",
       "\n",
       "  /* Specific color for light theme */\n",
       "  --sklearn-color-text-on-default-background: var(--sg-text-color, var(--theme-code-foreground, var(--jp-content-font-color1, black)));\n",
       "  --sklearn-color-background: var(--sg-background-color, var(--theme-background, var(--jp-layout-color0, white)));\n",
       "  --sklearn-color-border-box: var(--sg-text-color, var(--theme-code-foreground, var(--jp-content-font-color1, black)));\n",
       "  --sklearn-color-icon: #696969;\n",
       "\n",
       "  @media (prefers-color-scheme: dark) {\n",
       "    /* Redefinition of color scheme for dark theme */\n",
       "    --sklearn-color-text-on-default-background: var(--sg-text-color, var(--theme-code-foreground, var(--jp-content-font-color1, white)));\n",
       "    --sklearn-color-background: var(--sg-background-color, var(--theme-background, var(--jp-layout-color0, #111)));\n",
       "    --sklearn-color-border-box: var(--sg-text-color, var(--theme-code-foreground, var(--jp-content-font-color1, white)));\n",
       "    --sklearn-color-icon: #878787;\n",
       "  }\n",
       "}\n",
       "\n",
       "#sk-container-id-2 {\n",
       "  color: var(--sklearn-color-text);\n",
       "}\n",
       "\n",
       "#sk-container-id-2 pre {\n",
       "  padding: 0;\n",
       "}\n",
       "\n",
       "#sk-container-id-2 input.sk-hidden--visually {\n",
       "  border: 0;\n",
       "  clip: rect(1px 1px 1px 1px);\n",
       "  clip: rect(1px, 1px, 1px, 1px);\n",
       "  height: 1px;\n",
       "  margin: -1px;\n",
       "  overflow: hidden;\n",
       "  padding: 0;\n",
       "  position: absolute;\n",
       "  width: 1px;\n",
       "}\n",
       "\n",
       "#sk-container-id-2 div.sk-dashed-wrapped {\n",
       "  border: 1px dashed var(--sklearn-color-line);\n",
       "  margin: 0 0.4em 0.5em 0.4em;\n",
       "  box-sizing: border-box;\n",
       "  padding-bottom: 0.4em;\n",
       "  background-color: var(--sklearn-color-background);\n",
       "}\n",
       "\n",
       "#sk-container-id-2 div.sk-container {\n",
       "  /* jupyter's `normalize.less` sets `[hidden] { display: none; }`\n",
       "     but bootstrap.min.css set `[hidden] { display: none !important; }`\n",
       "     so we also need the `!important` here to be able to override the\n",
       "     default hidden behavior on the sphinx rendered scikit-learn.org.\n",
       "     See: https://github.com/scikit-learn/scikit-learn/issues/21755 */\n",
       "  display: inline-block !important;\n",
       "  position: relative;\n",
       "}\n",
       "\n",
       "#sk-container-id-2 div.sk-text-repr-fallback {\n",
       "  display: none;\n",
       "}\n",
       "\n",
       "div.sk-parallel-item,\n",
       "div.sk-serial,\n",
       "div.sk-item {\n",
       "  /* draw centered vertical line to link estimators */\n",
       "  background-image: linear-gradient(var(--sklearn-color-text-on-default-background), var(--sklearn-color-text-on-default-background));\n",
       "  background-size: 2px 100%;\n",
       "  background-repeat: no-repeat;\n",
       "  background-position: center center;\n",
       "}\n",
       "\n",
       "/* Parallel-specific style estimator block */\n",
       "\n",
       "#sk-container-id-2 div.sk-parallel-item::after {\n",
       "  content: \"\";\n",
       "  width: 100%;\n",
       "  border-bottom: 2px solid var(--sklearn-color-text-on-default-background);\n",
       "  flex-grow: 1;\n",
       "}\n",
       "\n",
       "#sk-container-id-2 div.sk-parallel {\n",
       "  display: flex;\n",
       "  align-items: stretch;\n",
       "  justify-content: center;\n",
       "  background-color: var(--sklearn-color-background);\n",
       "  position: relative;\n",
       "}\n",
       "\n",
       "#sk-container-id-2 div.sk-parallel-item {\n",
       "  display: flex;\n",
       "  flex-direction: column;\n",
       "}\n",
       "\n",
       "#sk-container-id-2 div.sk-parallel-item:first-child::after {\n",
       "  align-self: flex-end;\n",
       "  width: 50%;\n",
       "}\n",
       "\n",
       "#sk-container-id-2 div.sk-parallel-item:last-child::after {\n",
       "  align-self: flex-start;\n",
       "  width: 50%;\n",
       "}\n",
       "\n",
       "#sk-container-id-2 div.sk-parallel-item:only-child::after {\n",
       "  width: 0;\n",
       "}\n",
       "\n",
       "/* Serial-specific style estimator block */\n",
       "\n",
       "#sk-container-id-2 div.sk-serial {\n",
       "  display: flex;\n",
       "  flex-direction: column;\n",
       "  align-items: center;\n",
       "  background-color: var(--sklearn-color-background);\n",
       "  padding-right: 1em;\n",
       "  padding-left: 1em;\n",
       "}\n",
       "\n",
       "\n",
       "/* Toggleable style: style used for estimator/Pipeline/ColumnTransformer box that is\n",
       "clickable and can be expanded/collapsed.\n",
       "- Pipeline and ColumnTransformer use this feature and define the default style\n",
       "- Estimators will overwrite some part of the style using the `sk-estimator` class\n",
       "*/\n",
       "\n",
       "/* Pipeline and ColumnTransformer style (default) */\n",
       "\n",
       "#sk-container-id-2 div.sk-toggleable {\n",
       "  /* Default theme specific background. It is overwritten whether we have a\n",
       "  specific estimator or a Pipeline/ColumnTransformer */\n",
       "  background-color: var(--sklearn-color-background);\n",
       "}\n",
       "\n",
       "/* Toggleable label */\n",
       "#sk-container-id-2 label.sk-toggleable__label {\n",
       "  cursor: pointer;\n",
       "  display: flex;\n",
       "  width: 100%;\n",
       "  margin-bottom: 0;\n",
       "  padding: 0.5em;\n",
       "  box-sizing: border-box;\n",
       "  text-align: center;\n",
       "  align-items: start;\n",
       "  justify-content: space-between;\n",
       "  gap: 0.5em;\n",
       "}\n",
       "\n",
       "#sk-container-id-2 label.sk-toggleable__label .caption {\n",
       "  font-size: 0.6rem;\n",
       "  font-weight: lighter;\n",
       "  color: var(--sklearn-color-text-muted);\n",
       "}\n",
       "\n",
       "#sk-container-id-2 label.sk-toggleable__label-arrow:before {\n",
       "  /* Arrow on the left of the label */\n",
       "  content: \"▸\";\n",
       "  float: left;\n",
       "  margin-right: 0.25em;\n",
       "  color: var(--sklearn-color-icon);\n",
       "}\n",
       "\n",
       "#sk-container-id-2 label.sk-toggleable__label-arrow:hover:before {\n",
       "  color: var(--sklearn-color-text);\n",
       "}\n",
       "\n",
       "/* Toggleable content - dropdown */\n",
       "\n",
       "#sk-container-id-2 div.sk-toggleable__content {\n",
       "  max-height: 0;\n",
       "  max-width: 0;\n",
       "  overflow: hidden;\n",
       "  text-align: left;\n",
       "  /* unfitted */\n",
       "  background-color: var(--sklearn-color-unfitted-level-0);\n",
       "}\n",
       "\n",
       "#sk-container-id-2 div.sk-toggleable__content.fitted {\n",
       "  /* fitted */\n",
       "  background-color: var(--sklearn-color-fitted-level-0);\n",
       "}\n",
       "\n",
       "#sk-container-id-2 div.sk-toggleable__content pre {\n",
       "  margin: 0.2em;\n",
       "  border-radius: 0.25em;\n",
       "  color: var(--sklearn-color-text);\n",
       "  /* unfitted */\n",
       "  background-color: var(--sklearn-color-unfitted-level-0);\n",
       "}\n",
       "\n",
       "#sk-container-id-2 div.sk-toggleable__content.fitted pre {\n",
       "  /* unfitted */\n",
       "  background-color: var(--sklearn-color-fitted-level-0);\n",
       "}\n",
       "\n",
       "#sk-container-id-2 input.sk-toggleable__control:checked~div.sk-toggleable__content {\n",
       "  /* Expand drop-down */\n",
       "  max-height: 200px;\n",
       "  max-width: 100%;\n",
       "  overflow: auto;\n",
       "}\n",
       "\n",
       "#sk-container-id-2 input.sk-toggleable__control:checked~label.sk-toggleable__label-arrow:before {\n",
       "  content: \"▾\";\n",
       "}\n",
       "\n",
       "/* Pipeline/ColumnTransformer-specific style */\n",
       "\n",
       "#sk-container-id-2 div.sk-label input.sk-toggleable__control:checked~label.sk-toggleable__label {\n",
       "  color: var(--sklearn-color-text);\n",
       "  background-color: var(--sklearn-color-unfitted-level-2);\n",
       "}\n",
       "\n",
       "#sk-container-id-2 div.sk-label.fitted input.sk-toggleable__control:checked~label.sk-toggleable__label {\n",
       "  background-color: var(--sklearn-color-fitted-level-2);\n",
       "}\n",
       "\n",
       "/* Estimator-specific style */\n",
       "\n",
       "/* Colorize estimator box */\n",
       "#sk-container-id-2 div.sk-estimator input.sk-toggleable__control:checked~label.sk-toggleable__label {\n",
       "  /* unfitted */\n",
       "  background-color: var(--sklearn-color-unfitted-level-2);\n",
       "}\n",
       "\n",
       "#sk-container-id-2 div.sk-estimator.fitted input.sk-toggleable__control:checked~label.sk-toggleable__label {\n",
       "  /* fitted */\n",
       "  background-color: var(--sklearn-color-fitted-level-2);\n",
       "}\n",
       "\n",
       "#sk-container-id-2 div.sk-label label.sk-toggleable__label,\n",
       "#sk-container-id-2 div.sk-label label {\n",
       "  /* The background is the default theme color */\n",
       "  color: var(--sklearn-color-text-on-default-background);\n",
       "}\n",
       "\n",
       "/* On hover, darken the color of the background */\n",
       "#sk-container-id-2 div.sk-label:hover label.sk-toggleable__label {\n",
       "  color: var(--sklearn-color-text);\n",
       "  background-color: var(--sklearn-color-unfitted-level-2);\n",
       "}\n",
       "\n",
       "/* Label box, darken color on hover, fitted */\n",
       "#sk-container-id-2 div.sk-label.fitted:hover label.sk-toggleable__label.fitted {\n",
       "  color: var(--sklearn-color-text);\n",
       "  background-color: var(--sklearn-color-fitted-level-2);\n",
       "}\n",
       "\n",
       "/* Estimator label */\n",
       "\n",
       "#sk-container-id-2 div.sk-label label {\n",
       "  font-family: monospace;\n",
       "  font-weight: bold;\n",
       "  display: inline-block;\n",
       "  line-height: 1.2em;\n",
       "}\n",
       "\n",
       "#sk-container-id-2 div.sk-label-container {\n",
       "  text-align: center;\n",
       "}\n",
       "\n",
       "/* Estimator-specific */\n",
       "#sk-container-id-2 div.sk-estimator {\n",
       "  font-family: monospace;\n",
       "  border: 1px dotted var(--sklearn-color-border-box);\n",
       "  border-radius: 0.25em;\n",
       "  box-sizing: border-box;\n",
       "  margin-bottom: 0.5em;\n",
       "  /* unfitted */\n",
       "  background-color: var(--sklearn-color-unfitted-level-0);\n",
       "}\n",
       "\n",
       "#sk-container-id-2 div.sk-estimator.fitted {\n",
       "  /* fitted */\n",
       "  background-color: var(--sklearn-color-fitted-level-0);\n",
       "}\n",
       "\n",
       "/* on hover */\n",
       "#sk-container-id-2 div.sk-estimator:hover {\n",
       "  /* unfitted */\n",
       "  background-color: var(--sklearn-color-unfitted-level-2);\n",
       "}\n",
       "\n",
       "#sk-container-id-2 div.sk-estimator.fitted:hover {\n",
       "  /* fitted */\n",
       "  background-color: var(--sklearn-color-fitted-level-2);\n",
       "}\n",
       "\n",
       "/* Specification for estimator info (e.g. \"i\" and \"?\") */\n",
       "\n",
       "/* Common style for \"i\" and \"?\" */\n",
       "\n",
       ".sk-estimator-doc-link,\n",
       "a:link.sk-estimator-doc-link,\n",
       "a:visited.sk-estimator-doc-link {\n",
       "  float: right;\n",
       "  font-size: smaller;\n",
       "  line-height: 1em;\n",
       "  font-family: monospace;\n",
       "  background-color: var(--sklearn-color-background);\n",
       "  border-radius: 1em;\n",
       "  height: 1em;\n",
       "  width: 1em;\n",
       "  text-decoration: none !important;\n",
       "  margin-left: 0.5em;\n",
       "  text-align: center;\n",
       "  /* unfitted */\n",
       "  border: var(--sklearn-color-unfitted-level-1) 1pt solid;\n",
       "  color: var(--sklearn-color-unfitted-level-1);\n",
       "}\n",
       "\n",
       ".sk-estimator-doc-link.fitted,\n",
       "a:link.sk-estimator-doc-link.fitted,\n",
       "a:visited.sk-estimator-doc-link.fitted {\n",
       "  /* fitted */\n",
       "  border: var(--sklearn-color-fitted-level-1) 1pt solid;\n",
       "  color: var(--sklearn-color-fitted-level-1);\n",
       "}\n",
       "\n",
       "/* On hover */\n",
       "div.sk-estimator:hover .sk-estimator-doc-link:hover,\n",
       ".sk-estimator-doc-link:hover,\n",
       "div.sk-label-container:hover .sk-estimator-doc-link:hover,\n",
       ".sk-estimator-doc-link:hover {\n",
       "  /* unfitted */\n",
       "  background-color: var(--sklearn-color-unfitted-level-3);\n",
       "  color: var(--sklearn-color-background);\n",
       "  text-decoration: none;\n",
       "}\n",
       "\n",
       "div.sk-estimator.fitted:hover .sk-estimator-doc-link.fitted:hover,\n",
       ".sk-estimator-doc-link.fitted:hover,\n",
       "div.sk-label-container:hover .sk-estimator-doc-link.fitted:hover,\n",
       ".sk-estimator-doc-link.fitted:hover {\n",
       "  /* fitted */\n",
       "  background-color: var(--sklearn-color-fitted-level-3);\n",
       "  color: var(--sklearn-color-background);\n",
       "  text-decoration: none;\n",
       "}\n",
       "\n",
       "/* Span, style for the box shown on hovering the info icon */\n",
       ".sk-estimator-doc-link span {\n",
       "  display: none;\n",
       "  z-index: 9999;\n",
       "  position: relative;\n",
       "  font-weight: normal;\n",
       "  right: .2ex;\n",
       "  padding: .5ex;\n",
       "  margin: .5ex;\n",
       "  width: min-content;\n",
       "  min-width: 20ex;\n",
       "  max-width: 50ex;\n",
       "  color: var(--sklearn-color-text);\n",
       "  box-shadow: 2pt 2pt 4pt #999;\n",
       "  /* unfitted */\n",
       "  background: var(--sklearn-color-unfitted-level-0);\n",
       "  border: .5pt solid var(--sklearn-color-unfitted-level-3);\n",
       "}\n",
       "\n",
       ".sk-estimator-doc-link.fitted span {\n",
       "  /* fitted */\n",
       "  background: var(--sklearn-color-fitted-level-0);\n",
       "  border: var(--sklearn-color-fitted-level-3);\n",
       "}\n",
       "\n",
       ".sk-estimator-doc-link:hover span {\n",
       "  display: block;\n",
       "}\n",
       "\n",
       "/* \"?\"-specific style due to the `<a>` HTML tag */\n",
       "\n",
       "#sk-container-id-2 a.estimator_doc_link {\n",
       "  float: right;\n",
       "  font-size: 1rem;\n",
       "  line-height: 1em;\n",
       "  font-family: monospace;\n",
       "  background-color: var(--sklearn-color-background);\n",
       "  border-radius: 1rem;\n",
       "  height: 1rem;\n",
       "  width: 1rem;\n",
       "  text-decoration: none;\n",
       "  /* unfitted */\n",
       "  color: var(--sklearn-color-unfitted-level-1);\n",
       "  border: var(--sklearn-color-unfitted-level-1) 1pt solid;\n",
       "}\n",
       "\n",
       "#sk-container-id-2 a.estimator_doc_link.fitted {\n",
       "  /* fitted */\n",
       "  border: var(--sklearn-color-fitted-level-1) 1pt solid;\n",
       "  color: var(--sklearn-color-fitted-level-1);\n",
       "}\n",
       "\n",
       "/* On hover */\n",
       "#sk-container-id-2 a.estimator_doc_link:hover {\n",
       "  /* unfitted */\n",
       "  background-color: var(--sklearn-color-unfitted-level-3);\n",
       "  color: var(--sklearn-color-background);\n",
       "  text-decoration: none;\n",
       "}\n",
       "\n",
       "#sk-container-id-2 a.estimator_doc_link.fitted:hover {\n",
       "  /* fitted */\n",
       "  background-color: var(--sklearn-color-fitted-level-3);\n",
       "}\n",
       "</style><div id=\"sk-container-id-2\" class=\"sk-top-container\"><div class=\"sk-text-repr-fallback\"><pre>DecisionTreeClassifier()</pre><b>In a Jupyter environment, please rerun this cell to show the HTML representation or trust the notebook. <br />On GitHub, the HTML representation is unable to render, please try loading this page with nbviewer.org.</b></div><div class=\"sk-container\" hidden><div class=\"sk-item\"><div class=\"sk-estimator fitted sk-toggleable\"><input class=\"sk-toggleable__control sk-hidden--visually\" id=\"sk-estimator-id-2\" type=\"checkbox\" checked><label for=\"sk-estimator-id-2\" class=\"sk-toggleable__label fitted sk-toggleable__label-arrow\"><div><div>DecisionTreeClassifier</div></div><div><a class=\"sk-estimator-doc-link fitted\" rel=\"noreferrer\" target=\"_blank\" href=\"https://scikit-learn.org/1.6/modules/generated/sklearn.tree.DecisionTreeClassifier.html\">?<span>Documentation for DecisionTreeClassifier</span></a><span class=\"sk-estimator-doc-link fitted\">i<span>Fitted</span></span></div></label><div class=\"sk-toggleable__content fitted\"><pre>DecisionTreeClassifier()</pre></div> </div></div></div></div>"
      ],
      "text/plain": [
       "DecisionTreeClassifier()"
      ]
     },
     "execution_count": 83,
     "metadata": {},
     "output_type": "execute_result"
    }
   ],
   "source": [
    "from sklearn import tree\n",
    "\n",
    "decision_tree_classifier = tree.DecisionTreeClassifier()\n",
    "\n",
    "decision_tree_classifier.fit(X_train, Y_train)\n"
   ]
  },
  {
   "cell_type": "code",
   "execution_count": 84,
   "metadata": {},
   "outputs": [],
   "source": [
    "y_predict_from_x_test = decision_tree_classifier.predict(X_test)"
   ]
  },
  {
   "cell_type": "code",
   "execution_count": 85,
   "metadata": {},
   "outputs": [
    {
     "data": {
      "text/plain": [
       "0.7235498839907193"
      ]
     },
     "execution_count": 85,
     "metadata": {},
     "output_type": "execute_result"
    }
   ],
   "source": [
    "decision_tree_classifier.score(X_test, Y_test)"
   ]
  },
  {
   "cell_type": "code",
   "execution_count": 86,
   "metadata": {},
   "outputs": [
    {
     "name": "stdout",
     "output_type": "stream",
     "text": [
      "              precision    recall  f1-score   support\n",
      "\n",
      "           1       0.86      1.00      0.92         6\n",
      "           5       0.73      0.65      0.68       353\n",
      "           7       0.82      0.82      0.82    136949\n",
      "           9       1.00      1.00      1.00        28\n",
      "          11       0.00      0.00      0.00         0\n",
      "          13       0.00      0.00      0.00         3\n",
      "          36       0.35      0.38      0.36        16\n",
      "          37       0.60      1.00      0.75         3\n",
      "          40       0.89      0.90      0.90      1719\n",
      "          48       0.00      0.00      0.00         1\n",
      "          51       1.00      0.33      0.50         3\n",
      "          60       0.40      0.37      0.38       100\n",
      "          64       0.23      0.28      0.25       170\n",
      "          67       0.57      1.00      0.73         8\n",
      "          68       0.46      0.47      0.46      2915\n",
      "          69       0.00      0.00      0.00         3\n",
      "          70       0.33      0.36      0.35      4162\n",
      "          81       1.00      1.00      1.00       334\n",
      "          85       0.00      0.00      0.00         1\n",
      "          91       0.76      0.76      0.76     80883\n",
      "          92       0.87      0.76      0.81        17\n",
      "         114       0.50      0.67      0.57         3\n",
      "         119       0.83      0.85      0.84      5753\n",
      "         120       0.34      0.35      0.35      3673\n",
      "         121       0.78      0.78      0.78      5052\n",
      "         122       0.23      0.25      0.24      8046\n",
      "         123       0.04      0.06      0.05       138\n",
      "         124       0.50      0.52      0.51     34117\n",
      "         125       0.51      0.51      0.51      6096\n",
      "         126       0.74      0.74      0.74    191682\n",
      "         130       0.71      0.71      0.71     63713\n",
      "         131       0.74      0.73      0.74    124860\n",
      "         132       0.00      0.00      0.00         3\n",
      "         133       0.27      0.27      0.27       324\n",
      "         134       0.00      0.00      0.00         2\n",
      "         135       0.38      0.46      0.41        13\n",
      "         139       0.67      0.44      0.53         9\n",
      "         140       0.56      0.59      0.57      1485\n",
      "         142       0.38      0.42      0.40       904\n",
      "         143       0.30      0.31      0.30       239\n",
      "         145       0.28      0.34      0.31       236\n",
      "         146       0.00      0.00      0.00         2\n",
      "         147       0.83      0.82      0.83      6988\n",
      "         148       0.78      0.77      0.78       121\n",
      "         150       0.00      0.00      0.00         1\n",
      "         153       0.10      0.20      0.13         5\n",
      "         156       0.32      0.34      0.33       244\n",
      "         158       0.20      0.20      0.20         5\n",
      "         159       0.00      0.00      0.00         2\n",
      "         162       0.00      0.00      0.00         3\n",
      "         163       0.11      0.15      0.13        46\n",
      "         164       0.00      0.00      0.00         3\n",
      "         167       0.00      0.00      0.00         3\n",
      "         169       0.48      0.55      0.51        40\n",
      "         170       0.20      0.50      0.29         2\n",
      "         174       0.00      0.00      0.00         1\n",
      "         175       0.06      0.08      0.07        50\n",
      "         176       0.29      0.31      0.30       398\n",
      "         178       0.64      0.65      0.65     17311\n",
      "         179       0.11      0.13      0.12       230\n",
      "         180       0.00      0.00      0.00         2\n",
      "         185       0.00      0.00      0.00         2\n",
      "         191       0.25      0.20      0.22        10\n",
      "         195       0.33      0.12      0.18         8\n",
      "         200       0.00      0.00      0.00         1\n",
      "         201       1.00      0.50      0.67         2\n",
      "         202       0.00      0.00      0.00         0\n",
      "         203       0.29      0.33      0.31       144\n",
      "         210       0.00      0.00      0.00         8\n",
      "         211       0.60      0.63      0.62       416\n",
      "         212       0.54      0.56      0.55     10875\n",
      "         213       0.00      0.00      0.00         0\n",
      "         219       0.73      0.76      0.74      1146\n",
      "         220       0.59      0.60      0.59      2928\n",
      "         221       0.34      0.34      0.34       385\n",
      "         222       0.32      0.43      0.36        56\n",
      "\n",
      "    accuracy                           0.72    715460\n",
      "   macro avg       0.38      0.38      0.37    715460\n",
      "weighted avg       0.73      0.72      0.72    715460\n",
      "\n"
     ]
    },
    {
     "name": "stderr",
     "output_type": "stream",
     "text": [
      "/home/vscode/.local/lib/python3.12/site-packages/sklearn/metrics/_classification.py:1565: UndefinedMetricWarning: Precision is ill-defined and being set to 0.0 in labels with no predicted samples. Use `zero_division` parameter to control this behavior.\n",
      "  _warn_prf(average, modifier, f\"{metric.capitalize()} is\", len(result))\n",
      "/home/vscode/.local/lib/python3.12/site-packages/sklearn/metrics/_classification.py:1565: UndefinedMetricWarning: Recall is ill-defined and being set to 0.0 in labels with no true samples. Use `zero_division` parameter to control this behavior.\n",
      "  _warn_prf(average, modifier, f\"{metric.capitalize()} is\", len(result))\n",
      "/home/vscode/.local/lib/python3.12/site-packages/sklearn/metrics/_classification.py:1565: UndefinedMetricWarning: Precision is ill-defined and being set to 0.0 in labels with no predicted samples. Use `zero_division` parameter to control this behavior.\n",
      "  _warn_prf(average, modifier, f\"{metric.capitalize()} is\", len(result))\n",
      "/home/vscode/.local/lib/python3.12/site-packages/sklearn/metrics/_classification.py:1565: UndefinedMetricWarning: Recall is ill-defined and being set to 0.0 in labels with no true samples. Use `zero_division` parameter to control this behavior.\n",
      "  _warn_prf(average, modifier, f\"{metric.capitalize()} is\", len(result))\n",
      "/home/vscode/.local/lib/python3.12/site-packages/sklearn/metrics/_classification.py:1565: UndefinedMetricWarning: Precision is ill-defined and being set to 0.0 in labels with no predicted samples. Use `zero_division` parameter to control this behavior.\n",
      "  _warn_prf(average, modifier, f\"{metric.capitalize()} is\", len(result))\n",
      "/home/vscode/.local/lib/python3.12/site-packages/sklearn/metrics/_classification.py:1565: UndefinedMetricWarning: Recall is ill-defined and being set to 0.0 in labels with no true samples. Use `zero_division` parameter to control this behavior.\n",
      "  _warn_prf(average, modifier, f\"{metric.capitalize()} is\", len(result))\n"
     ]
    }
   ],
   "source": [
    "from sklearn.metrics import classification_report\n",
    "\n",
    "print(classification_report(Y_test, y_predict_from_x_test))"
   ]
  },
  {
   "cell_type": "markdown",
   "metadata": {},
   "source": [
    "#TODO: Produce two types of model evaluation using test dataset and validation dataset"
   ]
  },
  {
   "cell_type": "markdown",
   "metadata": {},
   "source": [
    "SVM"
   ]
  },
  {
   "cell_type": "code",
   "execution_count": null,
   "metadata": {},
   "outputs": [],
   "source": []
  },
  {
   "cell_type": "markdown",
   "metadata": {},
   "source": [
    "Random Forest"
   ]
  },
  {
   "cell_type": "code",
   "execution_count": null,
   "metadata": {},
   "outputs": [],
   "source": []
  },
  {
   "cell_type": "markdown",
   "metadata": {},
   "source": [
    "# Model Evaluation"
   ]
  },
  {
   "cell_type": "markdown",
   "metadata": {},
   "source": [
    "* Evaluate the models using appropriate classification metrics (accuracy, precision, recall, F1-score, etc.).\n",
    "* Visualize the model performance using ROC curves and confusion matrices.\n",
    "* Compare the models and justify your choice of the best-performing model."
   ]
  },
  {
   "cell_type": "code",
   "execution_count": null,
   "metadata": {},
   "outputs": [],
   "source": []
  },
  {
   "cell_type": "code",
   "execution_count": null,
   "metadata": {},
   "outputs": [],
   "source": []
  },
  {
   "cell_type": "markdown",
   "metadata": {},
   "source": [
    "# Conclusion"
   ]
  },
  {
   "cell_type": "code",
   "execution_count": null,
   "metadata": {},
   "outputs": [],
   "source": []
  },
  {
   "cell_type": "markdown",
   "metadata": {},
   "source": [
    "# Reference"
   ]
  },
  {
   "cell_type": "markdown",
   "metadata": {},
   "source": []
  }
 ],
 "metadata": {
  "kernelspec": {
   "display_name": "Python 3",
   "language": "python",
   "name": "python3"
  },
  "language_info": {
   "codemirror_mode": {
    "name": "ipython",
    "version": 3
   },
   "file_extension": ".py",
   "mimetype": "text/x-python",
   "name": "python",
   "nbconvert_exporter": "python",
   "pygments_lexer": "ipython3",
   "version": "3.11.11"
  }
 },
 "nbformat": 4,
 "nbformat_minor": 2
}
